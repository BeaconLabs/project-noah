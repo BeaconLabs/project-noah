{
 "cells": [
  {
   "cell_type": "markdown",
   "metadata": {
    "collapsed": true
   },
   "source": [
    "# GIS disasters maps\n",
    "\n",
    "author: guillaume@bayes.org\n",
    "\n",
    "GIS is a service to find collaborative maps. By querying it and looking at recent map, we could find maps that:\n",
    "\n",
    "* Talk about disasters\n",
    "* Were viewed numerous times\n",
    "* Were modified recently"
   ]
  },
  {
   "cell_type": "code",
   "execution_count": null,
   "metadata": {
    "collapsed": true
   },
   "outputs": [],
   "source": [
    "# Imports.\n",
    "\n",
    "import datetime, time\n",
    "import arcgis\n",
    "from arcgis.gis import GIS\n",
    "from IPython.display import display\n",
    "\n",
    "# create a Web GIS object\n",
    "gis = GIS()"
   ]
  },
  {
   "cell_type": "code",
   "execution_count": null,
   "metadata": {
    "collapsed": false
   },
   "outputs": [],
   "source": [
    "results = gis.content.search(query=\"disaster\", item_type='Web Map',\n",
    "                             sort_field=\"numViews\", sort_order=\"desc\",\n",
    "                             max_items = 1000, outside_org=True)\n",
    "print (str(len(results)) + ' results')\n",
    "\n",
    "nb_days_ago = 10\n",
    "\n",
    "min_timestamp = 1000 *(time.time() - 3600 * 24 * nb_days_ago)"
   ]
  },
  {
   "cell_type": "code",
   "execution_count": null,
   "metadata": {
    "collapsed": false
   },
   "outputs": [],
   "source": [
    "earlier = 0\n",
    "content_id = ''\n",
    "recent_results =  [elem for elem in results if elem.modified > min_timestamp]"
   ]
  },
  {
   "cell_type": "code",
   "execution_count": null,
   "metadata": {
    "collapsed": false
   },
   "outputs": [],
   "source": [
    "from IPython.display import display\n",
    "for item in recent_results:\n",
    "    display(item)"
   ]
  },
  {
   "cell_type": "markdown",
   "metadata": {},
   "source": [
    "Let's look at the data:"
   ]
  },
  {
   "cell_type": "code",
   "execution_count": null,
   "metadata": {
    "collapsed": false
   },
   "outputs": [],
   "source": [
    "item = recent_results[0]\n",
    "item.get_data()"
   ]
  },
  {
   "cell_type": "markdown",
   "metadata": {
    "collapsed": true
   },
   "source": [
    "# Conclusion\n",
    "\n",
    "Unfortunately there is no global US map that has all the disasters that we want, we'll have to stick with the official ones :)"
   ]
  }
 ],
 "metadata": {
  "kernelspec": {
   "display_name": "Python 3",
   "language": "python",
   "name": "python3"
  },
  "language_info": {
   "codemirror_mode": {
    "name": "ipython",
    "version": 3
   },
   "file_extension": ".py",
   "mimetype": "text/x-python",
   "name": "python",
   "nbconvert_exporter": "python",
   "pygments_lexer": "ipython3",
   "version": "3.5.2"
  }
 },
 "nbformat": 4,
 "nbformat_minor": 2
}
