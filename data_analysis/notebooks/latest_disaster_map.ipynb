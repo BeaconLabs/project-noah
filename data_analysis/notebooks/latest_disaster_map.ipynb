{
 "cells": [
  {
   "cell_type": "markdown",
   "metadata": {
    "collapsed": true
   },
   "source": [
    "# Latest disaster map\n",
    "\n",
    "author: guillaume@bayes.org\n",
    "\n",
    "We have official disaster data in https://drive.google.com/file/d/0B4qjio_turGRMnlDMVZ6WVp5SGM/view.\n",
    "However, ArcGIS could contain maps that already contain all of this data combined, and/or additional useful disaster data.\n",
    "\n",
    "So we are going to look at both combinations of disasters, and additional sources that could be used."
   ]
  },
  {
   "cell_type": "code",
   "execution_count": 1,
   "metadata": {
    "collapsed": true
   },
   "outputs": [],
   "source": [
    "import datetime, time\n",
    "import arcgis\n",
    "from arcgis.gis import GIS\n",
    "from IPython.display import display\n",
    "\n",
    "gis = GIS()"
   ]
  },
  {
   "cell_type": "markdown",
   "metadata": {},
   "source": [
    "Let's query the GIS service for maps that:\n",
    "\n",
    "* Contains disasters.\n",
    "* Were updated in the previous N days (e.g., N=10).\n",
    "* Were most viewed."
   ]
  },
  {
   "cell_type": "code",
   "execution_count": 2,
   "metadata": {
    "collapsed": false
   },
   "outputs": [],
   "source": [
    "def get_recent_maps_about(query, num_days_ago=10):\n",
    "    results = gis.content.search(query=query, item_type='Web Map',\n",
    "                             sort_field=\"numViews\", sort_order=\"desc\",\n",
    "                             max_items = 1000, outside_org=True)\n",
    "    min_timestamp = 1000 *(time.time() - 3600 * 24 * num_days_ago)\n",
    "    recent_results =  [elem for elem in results if elem.modified > min_timestamp]\n",
    "    for item in recent_results:\n",
    "        display(item)"
   ]
  },
  {
   "cell_type": "markdown",
   "metadata": {},
   "source": [
    "Let's look at all disasters:\n",
    "\n",
    "## Disasters"
   ]
  },
  {
   "cell_type": "code",
   "execution_count": 3,
   "metadata": {
    "collapsed": false,
    "scrolled": true
   },
   "outputs": [
    {
     "data": {
      "text/html": [
       "<div class=\"item_container\" style=\"height: auto; overflow: hidden; border: 1px solid #cfcfcf; border-radius: 2px; background: #f6fafa; line-height: 1.21429em; padding: 10px;\">\n",
       "                    <div class=\"item_left\" style=\"width: 210px; float: left;\">\n",
       "                       <a href='http://www.arcgis.com/home/item.html?id=26f7674a2ad744f3806af0c426531951' target='_blank'>\n",
       "                        <img src='http://www.arcgis.com/sharing/rest//content/items/26f7674a2ad744f3806af0c426531951/info/thumbnail/SDEmergency_portal_Link_toAGO.png' class=\"itemThumbnail\">\n",
       "                       </a>\n",
       "                    </div>\n",
       "\n",
       "                    <div class=\"item_right\"     style=\"float: none; width: auto; overflow: hidden;\">\n",
       "                        <a href='http://www.arcgis.com/home/item.html?id=26f7674a2ad744f3806af0c426531951' target='_blank'><b>County of San Diego Emergency Map (Live)</b>\n",
       "                        </a>\n",
       "                        <br/>Public feed from the County of San Diego Office of Emergency Services and other emergency-related feeds.<img src='http://www.arcgis.com/home/js/jsapi/esri/css/images/item_type_icons/maps16.png' style=\"vertical-align:middle;\">Web Map by oes_services\n",
       "                        <br/>Last Modified: February 28, 2017\n",
       "                        <br/>11 comments, 3,426,389 views\n",
       "                    </div>\n",
       "                </div>\n",
       "                "
      ],
      "text/plain": [
       "<Item title:\"County of San Diego Emergency Map (Live)\" type:Web Map owner:oes_services>"
      ]
     },
     "metadata": {},
     "output_type": "display_data"
    },
    {
     "data": {
      "text/html": [
       "<div class=\"item_container\" style=\"height: auto; overflow: hidden; border: 1px solid #cfcfcf; border-radius: 2px; background: #f6fafa; line-height: 1.21429em; padding: 10px;\">\n",
       "                    <div class=\"item_left\" style=\"width: 210px; float: left;\">\n",
       "                       <a href='http://www.arcgis.com/home/item.html?id=ea7c670e655e42468d78aaac2c78fb28' target='_blank'>\n",
       "                        <img src='http://www.arcgis.com/sharing/rest//content/items/ea7c670e655e42468d78aaac2c78fb28/info/thumbnail/emerge.jpg' class=\"itemThumbnail\">\n",
       "                       </a>\n",
       "                    </div>\n",
       "\n",
       "                    <div class=\"item_right\"     style=\"float: none; width: auto; overflow: hidden;\">\n",
       "                        <a href='http://www.arcgis.com/home/item.html?id=ea7c670e655e42468d78aaac2c78fb28' target='_blank'><b>CSJ EMERGE MAP</b>\n",
       "                        </a>\n",
       "                        <br/>San Jose Emerge Map<img src='http://www.arcgis.com/home/js/jsapi/esri/css/images/item_type_icons/maps16.png' style=\"vertical-align:middle;\">Web Map by joel.clark_csjdotgis\n",
       "                        <br/>Last Modified: February 28, 2017\n",
       "                        <br/>0 comments, 57,872 views\n",
       "                    </div>\n",
       "                </div>\n",
       "                "
      ],
      "text/plain": [
       "<Item title:\"CSJ EMERGE MAP\" type:Web Map owner:joel.clark_csjdotgis>"
      ]
     },
     "metadata": {},
     "output_type": "display_data"
    },
    {
     "data": {
      "text/html": [
       "<div class=\"item_container\" style=\"height: auto; overflow: hidden; border: 1px solid #cfcfcf; border-radius: 2px; background: #f6fafa; line-height: 1.21429em; padding: 10px;\">\n",
       "                    <div class=\"item_left\" style=\"width: 210px; float: left;\">\n",
       "                       <a href='http://www.arcgis.com/home/item.html?id=9fdaa819584b46888e25107901988a79' target='_blank'>\n",
       "                        <img src='http://www.arcgis.com/sharing/rest//content/items/9fdaa819584b46888e25107901988a79/info/thumbnail/Fiji_Hurricane_Map.JPG' class=\"itemThumbnail\">\n",
       "                       </a>\n",
       "                    </div>\n",
       "\n",
       "                    <div class=\"item_right\"     style=\"float: none; width: auto; overflow: hidden;\">\n",
       "                        <a href='http://www.arcgis.com/home/item.html?id=9fdaa819584b46888e25107901988a79' target='_blank'><b>Direct Relief's Hurricane Prep Program</b>\n",
       "                        </a>\n",
       "                        <br/>The interactive map was created to display the latest hurricane activity and show where participating partners are located for Direct Relief's Hurricane Preparedness Program.<img src='http://www.arcgis.com/home/js/jsapi/esri/css/images/item_type_icons/maps16.png' style=\"vertical-align:middle;\">Web Map by jwhite_DirectRelief\n",
       "                        <br/>Last Modified: February 22, 2017\n",
       "                        <br/>0 comments, 27,578 views\n",
       "                    </div>\n",
       "                </div>\n",
       "                "
      ],
      "text/plain": [
       "<Item title:\"Direct Relief's Hurricane Prep Program\" type:Web Map owner:jwhite_DirectRelief>"
      ]
     },
     "metadata": {},
     "output_type": "display_data"
    },
    {
     "data": {
      "text/html": [
       "<div class=\"item_container\" style=\"height: auto; overflow: hidden; border: 1px solid #cfcfcf; border-radius: 2px; background: #f6fafa; line-height: 1.21429em; padding: 10px;\">\n",
       "                    <div class=\"item_left\" style=\"width: 210px; float: left;\">\n",
       "                       <a href='http://www.arcgis.com/home/item.html?id=7d230bdb5966457b9b489d7a4b33f107' target='_blank'>\n",
       "                        <img src='http://www.arcgis.com/sharing/rest//content/items/7d230bdb5966457b9b489d7a4b33f107/info/thumbnail/ago_downloaded.png' class=\"itemThumbnail\">\n",
       "                       </a>\n",
       "                    </div>\n",
       "\n",
       "                    <div class=\"item_right\"     style=\"float: none; width: auto; overflow: hidden;\">\n",
       "                        <a href='http://www.arcgis.com/home/item.html?id=7d230bdb5966457b9b489d7a4b33f107' target='_blank'><b>ECY Island County 2015 Preliminary Flood Hazard Areas</b>\n",
       "                        </a>\n",
       "                        <br/>2015 Island Co. Preliminary Flood Hazard Areas as developed by the Federal Emergency Management Agency.<img src='http://www.arcgis.com/home/js/jsapi/esri/css/images/item_type_icons/maps16.png' style=\"vertical-align:middle;\">Web Map by jfra461@ecy.wa.gov\n",
       "                        <br/>Last Modified: February 22, 2017\n",
       "                        <br/>0 comments, 4,669 views\n",
       "                    </div>\n",
       "                </div>\n",
       "                "
      ],
      "text/plain": [
       "<Item title:\"ECY Island County 2015 Preliminary Flood Hazard Areas\" type:Web Map owner:jfra461@ecy.wa.gov>"
      ]
     },
     "metadata": {},
     "output_type": "display_data"
    },
    {
     "data": {
      "text/html": [
       "<div class=\"item_container\" style=\"height: auto; overflow: hidden; border: 1px solid #cfcfcf; border-radius: 2px; background: #f6fafa; line-height: 1.21429em; padding: 10px;\">\n",
       "                    <div class=\"item_left\" style=\"width: 210px; float: left;\">\n",
       "                       <a href='http://www.arcgis.com/home/item.html?id=e94639d62b30427894e69c0783b3f298' target='_blank'>\n",
       "                        <img src='http://www.arcgis.com/sharing/rest//content/items/e94639d62b30427894e69c0783b3f298/info/thumbnail/ago_downloaded.png' class=\"itemThumbnail\">\n",
       "                       </a>\n",
       "                    </div>\n",
       "\n",
       "                    <div class=\"item_right\"     style=\"float: none; width: auto; overflow: hidden;\">\n",
       "                        <a href='http://www.arcgis.com/home/item.html?id=e94639d62b30427894e69c0783b3f298' target='_blank'><b>ECY Grays Harbor Co. 2017 Effective FEMA Flood Hazard Areas</b>\n",
       "                        </a>\n",
       "                        <br/>Grays Harbor County 2017 Effective FEMA Flood Hazard Areas<img src='http://www.arcgis.com/home/js/jsapi/esri/css/images/item_type_icons/maps16.png' style=\"vertical-align:middle;\">Web Map by jfra461@ecy.wa.gov\n",
       "                        <br/>Last Modified: February 22, 2017\n",
       "                        <br/>0 comments, 1,231 views\n",
       "                    </div>\n",
       "                </div>\n",
       "                "
      ],
      "text/plain": [
       "<Item title:\"ECY Grays Harbor Co. 2017 Effective FEMA Flood Hazard Areas\" type:Web Map owner:jfra461@ecy.wa.gov>"
      ]
     },
     "metadata": {},
     "output_type": "display_data"
    },
    {
     "data": {
      "text/html": [
       "<div class=\"item_container\" style=\"height: auto; overflow: hidden; border: 1px solid #cfcfcf; border-radius: 2px; background: #f6fafa; line-height: 1.21429em; padding: 10px;\">\n",
       "                    <div class=\"item_left\" style=\"width: 210px; float: left;\">\n",
       "                       <a href='http://www.arcgis.com/home/item.html?id=ba22de60460f4042a5514874db3f0a51' target='_blank'>\n",
       "                        <img src='http://www.arcgis.com/sharing/rest//content/items/ba22de60460f4042a5514874db3f0a51/info/thumbnail/ago_downloaded.png' class=\"itemThumbnail\">\n",
       "                       </a>\n",
       "                    </div>\n",
       "\n",
       "                    <div class=\"item_right\"     style=\"float: none; width: auto; overflow: hidden;\">\n",
       "                        <a href='http://www.arcgis.com/home/item.html?id=ba22de60460f4042a5514874db3f0a51' target='_blank'><b>Livermore Community Map</b>\n",
       "                        </a>\n",
       "                        <br/>Map for Livermore, Maine with local facilities and potential private resources during disasters.<img src='http://www.arcgis.com/home/js/jsapi/esri/css/images/item_type_icons/maps16.png' style=\"vertical-align:middle;\">Web Map by AndroEMA\n",
       "                        <br/>Last Modified: February 21, 2017\n",
       "                        <br/>0 comments, 973 views\n",
       "                    </div>\n",
       "                </div>\n",
       "                "
      ],
      "text/plain": [
       "<Item title:\"Livermore Community Map\" type:Web Map owner:AndroEMA>"
      ]
     },
     "metadata": {},
     "output_type": "display_data"
    },
    {
     "data": {
      "text/html": [
       "<div class=\"item_container\" style=\"height: auto; overflow: hidden; border: 1px solid #cfcfcf; border-radius: 2px; background: #f6fafa; line-height: 1.21429em; padding: 10px;\">\n",
       "                    <div class=\"item_left\" style=\"width: 210px; float: left;\">\n",
       "                       <a href='http://www.arcgis.com/home/item.html?id=9706cde9e67549be94011bc5f593b89d' target='_blank'>\n",
       "                        <img src='http://www.arcgis.com/sharing/rest//content/items/9706cde9e67549be94011bc5f593b89d/info/thumbnail/ago_downloaded.png' class=\"itemThumbnail\">\n",
       "                       </a>\n",
       "                    </div>\n",
       "\n",
       "                    <div class=\"item_right\"     style=\"float: none; width: auto; overflow: hidden;\">\n",
       "                        <a href='http://www.arcgis.com/home/item.html?id=9706cde9e67549be94011bc5f593b89d' target='_blank'><b>PrepareSeminole</b>\n",
       "                        </a>\n",
       "                        <br/>Prepare Seminole<img src='http://www.arcgis.com/home/js/jsapi/esri/css/images/item_type_icons/maps16.png' style=\"vertical-align:middle;\">Web Map by SeminoleCountyGIS\n",
       "                        <br/>Last Modified: February 23, 2017\n",
       "                        <br/>0 comments, 959 views\n",
       "                    </div>\n",
       "                </div>\n",
       "                "
      ],
      "text/plain": [
       "<Item title:\"PrepareSeminole\" type:Web Map owner:SeminoleCountyGIS>"
      ]
     },
     "metadata": {},
     "output_type": "display_data"
    },
    {
     "data": {
      "text/html": [
       "<div class=\"item_container\" style=\"height: auto; overflow: hidden; border: 1px solid #cfcfcf; border-radius: 2px; background: #f6fafa; line-height: 1.21429em; padding: 10px;\">\n",
       "                    <div class=\"item_left\" style=\"width: 210px; float: left;\">\n",
       "                       <a href='http://www.arcgis.com/home/item.html?id=a867399ba9b94895954ec19728ca3bfa' target='_blank'>\n",
       "                        <img src='http://www.arcgis.com/sharing/rest//content/items/a867399ba9b94895954ec19728ca3bfa/info/thumbnail/ago_downloaded.png' class=\"itemThumbnail\">\n",
       "                       </a>\n",
       "                    </div>\n",
       "\n",
       "                    <div class=\"item_right\"     style=\"float: none; width: auto; overflow: hidden;\">\n",
       "                        <a href='http://www.arcgis.com/home/item.html?id=a867399ba9b94895954ec19728ca3bfa' target='_blank'><b>Seismic events: Natural Hazard or Natural Disaster</b>\n",
       "                        </a>\n",
       "                        <br/>Natural Hazards for 4th grade science and social studies GeoInquiries<img src='http://www.arcgis.com/home/js/jsapi/esri/css/images/item_type_icons/maps16.png' style=\"vertical-align:middle;\">Web Map by Esri_GeoInquiry_Grade4\n",
       "                        <br/>Last Modified: February 22, 2017\n",
       "                        <br/>0 comments, 659 views\n",
       "                    </div>\n",
       "                </div>\n",
       "                "
      ],
      "text/plain": [
       "<Item title:\"Seismic events: Natural Hazard or Natural Disaster\" type:Web Map owner:Esri_GeoInquiry_Grade4>"
      ]
     },
     "metadata": {},
     "output_type": "display_data"
    },
    {
     "data": {
      "text/html": [
       "<div class=\"item_container\" style=\"height: auto; overflow: hidden; border: 1px solid #cfcfcf; border-radius: 2px; background: #f6fafa; line-height: 1.21429em; padding: 10px;\">\n",
       "                    <div class=\"item_left\" style=\"width: 210px; float: left;\">\n",
       "                       <a href='http://www.arcgis.com/home/item.html?id=24ddca65e51648e0bb0812f6e8e1610a' target='_blank'>\n",
       "                        <img src='http://www.arcgis.com/sharing/rest//content/items/24ddca65e51648e0bb0812f6e8e1610a/info/thumbnail/ago_downloaded.png' class=\"itemThumbnail\">\n",
       "                       </a>\n",
       "                    </div>\n",
       "\n",
       "                    <div class=\"item_right\"     style=\"float: none; width: auto; overflow: hidden;\">\n",
       "                        <a href='http://www.arcgis.com/home/item.html?id=24ddca65e51648e0bb0812f6e8e1610a' target='_blank'><b>ECY_Mason_2016_Preliminary_FEMA_Floodplains</b>\n",
       "                        </a>\n",
       "                        <br/>2016 Mason County Preliminary FEMA Flood Hazard Areas<img src='http://www.arcgis.com/home/js/jsapi/esri/css/images/item_type_icons/maps16.png' style=\"vertical-align:middle;\">Web Map by jfra461@ecy.wa.gov\n",
       "                        <br/>Last Modified: February 28, 2017\n",
       "                        <br/>0 comments, 474 views\n",
       "                    </div>\n",
       "                </div>\n",
       "                "
      ],
      "text/plain": [
       "<Item title:\"ECY_Mason_2016_Preliminary_FEMA_Floodplains\" type:Web Map owner:jfra461@ecy.wa.gov>"
      ]
     },
     "metadata": {},
     "output_type": "display_data"
    },
    {
     "data": {
      "text/html": [
       "<div class=\"item_container\" style=\"height: auto; overflow: hidden; border: 1px solid #cfcfcf; border-radius: 2px; background: #f6fafa; line-height: 1.21429em; padding: 10px;\">\n",
       "                    <div class=\"item_left\" style=\"width: 210px; float: left;\">\n",
       "                       <a href='http://www.arcgis.com/home/item.html?id=834c5404367b4509a0a1d30282a8fca5' target='_blank'>\n",
       "                        <img src='http://www.arcgis.com/sharing/rest//content/items/834c5404367b4509a0a1d30282a8fca5/info/thumbnail/ago_downloaded.png' class=\"itemThumbnail\">\n",
       "                       </a>\n",
       "                    </div>\n",
       "\n",
       "                    <div class=\"item_right\"     style=\"float: none; width: auto; overflow: hidden;\">\n",
       "                        <a href='http://www.arcgis.com/home/item.html?id=834c5404367b4509a0a1d30282a8fca5' target='_blank'><b>zki_sos_002</b>\n",
       "                        </a>\n",
       "                        <br/>On February 15, 2017, tropical cyclone DINEO struck Mozambique in the afternoon. According to the information supplied by the Global Disaster Alert and Coordination System (GDACS), the point of landfall was north of the City of Inhambane. The cyclone caused heavy rain and destroyed houses and infrastructure<img src='http://www.arcgis.com/home/js/jsapi/esri/css/images/item_type_icons/maps16.png' style=\"vertical-align:middle;\">Web Map by boec_mt\n",
       "                        <br/>Last Modified: February 24, 2017\n",
       "                        <br/>0 comments, 440 views\n",
       "                    </div>\n",
       "                </div>\n",
       "                "
      ],
      "text/plain": [
       "<Item title:\"zki_sos_002\" type:Web Map owner:boec_mt>"
      ]
     },
     "metadata": {},
     "output_type": "display_data"
    },
    {
     "data": {
      "text/html": [
       "<div class=\"item_container\" style=\"height: auto; overflow: hidden; border: 1px solid #cfcfcf; border-radius: 2px; background: #f6fafa; line-height: 1.21429em; padding: 10px;\">\n",
       "                    <div class=\"item_left\" style=\"width: 210px; float: left;\">\n",
       "                       <a href='http://www.arcgis.com/home/item.html?id=8ce515a507244660ad9f7a89bae3d38d' target='_blank'>\n",
       "                        <img src='http://www.arcgis.com/sharing/rest//content/items/8ce515a507244660ad9f7a89bae3d38d/info/thumbnail/ago_downloaded.png' class=\"itemThumbnail\">\n",
       "                       </a>\n",
       "                    </div>\n",
       "\n",
       "                    <div class=\"item_right\"     style=\"float: none; width: auto; overflow: hidden;\">\n",
       "                        <a href='http://www.arcgis.com/home/item.html?id=8ce515a507244660ad9f7a89bae3d38d' target='_blank'><b>Community Recovery Activation Area Map</b>\n",
       "                        </a>\n",
       "                        <br/>This map displays the all current Community Recovery activation areas during a disaster<img src='http://www.arcgis.com/home/js/jsapi/esri/css/images/item_type_icons/maps16.png' style=\"vertical-align:middle;\">Web Map by CommArcGISOL\n",
       "                        <br/>Last Modified: February 20, 2017\n",
       "                        <br/>0 comments, 222 views\n",
       "                    </div>\n",
       "                </div>\n",
       "                "
      ],
      "text/plain": [
       "<Item title:\"Community Recovery Activation Area Map\" type:Web Map owner:CommArcGISOL>"
      ]
     },
     "metadata": {},
     "output_type": "display_data"
    },
    {
     "data": {
      "text/html": [
       "<div class=\"item_container\" style=\"height: auto; overflow: hidden; border: 1px solid #cfcfcf; border-radius: 2px; background: #f6fafa; line-height: 1.21429em; padding: 10px;\">\n",
       "                    <div class=\"item_left\" style=\"width: 210px; float: left;\">\n",
       "                       <a href='http://www.arcgis.com/home/item.html?id=372838ecd491446dbef26813a9591f0c' target='_blank'>\n",
       "                        <img src='http://www.arcgis.com/sharing/rest//content/items/372838ecd491446dbef26813a9591f0c/info/thumbnail/ago_downloaded.png' class=\"itemThumbnail\">\n",
       "                       </a>\n",
       "                    </div>\n",
       "\n",
       "                    <div class=\"item_right\"     style=\"float: none; width: auto; overflow: hidden;\">\n",
       "                        <a href='http://www.arcgis.com/home/item.html?id=372838ecd491446dbef26813a9591f0c' target='_blank'><b>Disasters (PREVIEW) copy</b>\n",
       "                        </a>\n",
       "                        <br/>Disasters (PREVIEW)<img src='http://www.arcgis.com/home/js/jsapi/esri/css/images/item_type_icons/maps16.png' style=\"vertical-align:middle;\">Web Map by uneplive_team\n",
       "                        <br/>Last Modified: February 21, 2017\n",
       "                        <br/>0 comments, 147 views\n",
       "                    </div>\n",
       "                </div>\n",
       "                "
      ],
      "text/plain": [
       "<Item title:\"Disasters (PREVIEW) copy\" type:Web Map owner:uneplive_team>"
      ]
     },
     "metadata": {},
     "output_type": "display_data"
    },
    {
     "data": {
      "text/html": [
       "<div class=\"item_container\" style=\"height: auto; overflow: hidden; border: 1px solid #cfcfcf; border-radius: 2px; background: #f6fafa; line-height: 1.21429em; padding: 10px;\">\n",
       "                    <div class=\"item_left\" style=\"width: 210px; float: left;\">\n",
       "                       <a href='http://www.arcgis.com/home/item.html?id=f8350c70e150491eac3fb6667e86b9b2' target='_blank'>\n",
       "                        <img src='http://www.arcgis.com/sharing/rest//content/items/f8350c70e150491eac3fb6667e86b9b2/info/thumbnail/ago_downloaded.png' class=\"itemThumbnail\">\n",
       "                       </a>\n",
       "                    </div>\n",
       "\n",
       "                    <div class=\"item_right\"     style=\"float: none; width: auto; overflow: hidden;\">\n",
       "                        <a href='http://www.arcgis.com/home/item.html?id=f8350c70e150491eac3fb6667e86b9b2' target='_blank'><b>Damage Assessment Map</b>\n",
       "                        </a>\n",
       "                        <br/><img src='http://www.arcgis.com/home/js/jsapi/esri/css/images/item_type_icons/maps16.png' style=\"vertical-align:middle;\">Web Map by EatonCounty_GIS\n",
       "                        <br/>Last Modified: March 01, 2017\n",
       "                        <br/>0 comments, 138 views\n",
       "                    </div>\n",
       "                </div>\n",
       "                "
      ],
      "text/plain": [
       "<Item title:\"Damage Assessment Map\" type:Web Map owner:EatonCounty_GIS>"
      ]
     },
     "metadata": {},
     "output_type": "display_data"
    },
    {
     "data": {
      "text/html": [
       "<div class=\"item_container\" style=\"height: auto; overflow: hidden; border: 1px solid #cfcfcf; border-radius: 2px; background: #f6fafa; line-height: 1.21429em; padding: 10px;\">\n",
       "                    <div class=\"item_left\" style=\"width: 210px; float: left;\">\n",
       "                       <a href='http://www.arcgis.com/home/item.html?id=82adae7fdc8b4d8bbe55f707d6cd9921' target='_blank'>\n",
       "                        <img src='http://www.arcgis.com/sharing/rest//content/items/82adae7fdc8b4d8bbe55f707d6cd9921/info/thumbnail/ago_downloaded.png' class=\"itemThumbnail\">\n",
       "                       </a>\n",
       "                    </div>\n",
       "\n",
       "                    <div class=\"item_right\"     style=\"float: none; width: auto; overflow: hidden;\">\n",
       "                        <a href='http://www.arcgis.com/home/item.html?id=82adae7fdc8b4d8bbe55f707d6cd9921' target='_blank'><b>Florida - Hurricane Evacuation Considerations</b>\n",
       "                        </a>\n",
       "                        <br/>Florida road congestion, major airport location, dense populated places to consider of evacuation route bottlenecks.  Six year historical hurricane tracks of the coast of Florida.  Training Map<img src='http://www.arcgis.com/home/js/jsapi/esri/css/images/item_type_icons/maps16.png' style=\"vertical-align:middle;\">Web Map by cht765_Harvard_CGA\n",
       "                        <br/>Last Modified: March 01, 2017\n",
       "                        <br/>0 comments, 137 views\n",
       "                    </div>\n",
       "                </div>\n",
       "                "
      ],
      "text/plain": [
       "<Item title:\"Florida - Hurricane Evacuation Considerations\" type:Web Map owner:cht765_Harvard_CGA>"
      ]
     },
     "metadata": {},
     "output_type": "display_data"
    },
    {
     "data": {
      "text/html": [
       "<div class=\"item_container\" style=\"height: auto; overflow: hidden; border: 1px solid #cfcfcf; border-radius: 2px; background: #f6fafa; line-height: 1.21429em; padding: 10px;\">\n",
       "                    <div class=\"item_left\" style=\"width: 210px; float: left;\">\n",
       "                       <a href='http://www.arcgis.com/home/item.html?id=b7960c88e9ac47f5a7c121b5fb70d519' target='_blank'>\n",
       "                        <img src='http://static.arcgis.com/images/desktopapp.png' class=\"itemThumbnail\">\n",
       "                       </a>\n",
       "                    </div>\n",
       "\n",
       "                    <div class=\"item_right\"     style=\"float: none; width: auto; overflow: hidden;\">\n",
       "                        <a href='http://www.arcgis.com/home/item.html?id=b7960c88e9ac47f5a7c121b5fb70d519' target='_blank'><b>Disasters (PREVIEW)-Countries</b>\n",
       "                        </a>\n",
       "                        <br/>Disasters (PREVIEW)<img src='http://www.arcgis.com/home/js/jsapi/esri/css/images/item_type_icons/maps16.png' style=\"vertical-align:middle;\">Web Map by uneplive_team\n",
       "                        <br/>Last Modified: February 21, 2017\n",
       "                        <br/>0 comments, 134 views\n",
       "                    </div>\n",
       "                </div>\n",
       "                "
      ],
      "text/plain": [
       "<Item title:\"Disasters (PREVIEW)-Countries\" type:Web Map owner:uneplive_team>"
      ]
     },
     "metadata": {},
     "output_type": "display_data"
    },
    {
     "data": {
      "text/html": [
       "<div class=\"item_container\" style=\"height: auto; overflow: hidden; border: 1px solid #cfcfcf; border-radius: 2px; background: #f6fafa; line-height: 1.21429em; padding: 10px;\">\n",
       "                    <div class=\"item_left\" style=\"width: 210px; float: left;\">\n",
       "                       <a href='http://www.arcgis.com/home/item.html?id=067137b3575b41edb6516a9b999590f8' target='_blank'>\n",
       "                        <img src='http://www.arcgis.com/sharing/rest//content/items/067137b3575b41edb6516a9b999590f8/info/thumbnail/ago_downloaded.png' class=\"itemThumbnail\">\n",
       "                       </a>\n",
       "                    </div>\n",
       "\n",
       "                    <div class=\"item_right\"     style=\"float: none; width: auto; overflow: hidden;\">\n",
       "                        <a href='http://www.arcgis.com/home/item.html?id=067137b3575b41edb6516a9b999590f8' target='_blank'><b>NMRGR Annex D - Site - Isleta Amphitheater</b>\n",
       "                        </a>\n",
       "                        <br/>Annex D Overview - Isleta Amphitheater<img src='http://www.arcgis.com/home/js/jsapi/esri/css/images/item_type_icons/maps16.png' style=\"vertical-align:middle;\">Web Map by frank.ireland_FEMA\n",
       "                        <br/>Last Modified: February 20, 2017\n",
       "                        <br/>0 comments, 133 views\n",
       "                    </div>\n",
       "                </div>\n",
       "                "
      ],
      "text/plain": [
       "<Item title:\"NMRGR Annex D - Site - Isleta Amphitheater\" type:Web Map owner:frank.ireland_FEMA>"
      ]
     },
     "metadata": {},
     "output_type": "display_data"
    },
    {
     "data": {
      "text/html": [
       "<div class=\"item_container\" style=\"height: auto; overflow: hidden; border: 1px solid #cfcfcf; border-radius: 2px; background: #f6fafa; line-height: 1.21429em; padding: 10px;\">\n",
       "                    <div class=\"item_left\" style=\"width: 210px; float: left;\">\n",
       "                       <a href='http://www.arcgis.com/home/item.html?id=e11ea56446884468b876b049ac76171e' target='_blank'>\n",
       "                        <img src='http://www.arcgis.com/sharing/rest//content/items/e11ea56446884468b876b049ac76171e/info/thumbnail/ago_downloaded.png' class=\"itemThumbnail\">\n",
       "                       </a>\n",
       "                    </div>\n",
       "\n",
       "                    <div class=\"item_right\"     style=\"float: none; width: auto; overflow: hidden;\">\n",
       "                        <a href='http://www.arcgis.com/home/item.html?id=e11ea56446884468b876b049ac76171e' target='_blank'><b>NMRGR Annex D - Overview - South New Mexico</b>\n",
       "                        </a>\n",
       "                        <br/>New Mexico Rio Grande Rift Response Plan Annex D Overview<img src='http://www.arcgis.com/home/js/jsapi/esri/css/images/item_type_icons/maps16.png' style=\"vertical-align:middle;\">Web Map by frank.ireland_FEMA\n",
       "                        <br/>Last Modified: February 20, 2017\n",
       "                        <br/>0 comments, 133 views\n",
       "                    </div>\n",
       "                </div>\n",
       "                "
      ],
      "text/plain": [
       "<Item title:\"NMRGR Annex D - Overview - South New Mexico\" type:Web Map owner:frank.ireland_FEMA>"
      ]
     },
     "metadata": {},
     "output_type": "display_data"
    },
    {
     "data": {
      "text/html": [
       "<div class=\"item_container\" style=\"height: auto; overflow: hidden; border: 1px solid #cfcfcf; border-radius: 2px; background: #f6fafa; line-height: 1.21429em; padding: 10px;\">\n",
       "                    <div class=\"item_left\" style=\"width: 210px; float: left;\">\n",
       "                       <a href='http://www.arcgis.com/home/item.html?id=cf9aecfacf5542be808d8122c95da07c' target='_blank'>\n",
       "                        <img src='http://www.arcgis.com/sharing/rest//content/items/cf9aecfacf5542be808d8122c95da07c/info/thumbnail/ago_downloaded.png' class=\"itemThumbnail\">\n",
       "                       </a>\n",
       "                    </div>\n",
       "\n",
       "                    <div class=\"item_right\"     style=\"float: none; width: auto; overflow: hidden;\">\n",
       "                        <a href='http://www.arcgis.com/home/item.html?id=cf9aecfacf5542be808d8122c95da07c' target='_blank'><b>NMRGR Annex D - Site - Roswell Int Air Center</b>\n",
       "                        </a>\n",
       "                        <br/>Annex D Overview - Roswell Int Air Center<img src='http://www.arcgis.com/home/js/jsapi/esri/css/images/item_type_icons/maps16.png' style=\"vertical-align:middle;\">Web Map by frank.ireland_FEMA\n",
       "                        <br/>Last Modified: February 20, 2017\n",
       "                        <br/>0 comments, 127 views\n",
       "                    </div>\n",
       "                </div>\n",
       "                "
      ],
      "text/plain": [
       "<Item title:\"NMRGR Annex D - Site - Roswell Int Air Center\" type:Web Map owner:frank.ireland_FEMA>"
      ]
     },
     "metadata": {},
     "output_type": "display_data"
    },
    {
     "data": {
      "text/html": [
       "<div class=\"item_container\" style=\"height: auto; overflow: hidden; border: 1px solid #cfcfcf; border-radius: 2px; background: #f6fafa; line-height: 1.21429em; padding: 10px;\">\n",
       "                    <div class=\"item_left\" style=\"width: 210px; float: left;\">\n",
       "                       <a href='http://www.arcgis.com/home/item.html?id=650367db56074c668b70e736f2029b2c' target='_blank'>\n",
       "                        <img src='http://www.arcgis.com/sharing/rest//content/items/650367db56074c668b70e736f2029b2c/info/thumbnail/ago_downloaded.png' class=\"itemThumbnail\">\n",
       "                       </a>\n",
       "                    </div>\n",
       "\n",
       "                    <div class=\"item_right\"     style=\"float: none; width: auto; overflow: hidden;\">\n",
       "                        <a href='http://www.arcgis.com/home/item.html?id=650367db56074c668b70e736f2029b2c' target='_blank'><b>NMRGR Annex D - Site - FLETC Artesia</b>\n",
       "                        </a>\n",
       "                        <br/>Annex D Overview - FLETC Artesia<img src='http://www.arcgis.com/home/js/jsapi/esri/css/images/item_type_icons/maps16.png' style=\"vertical-align:middle;\">Web Map by frank.ireland_FEMA\n",
       "                        <br/>Last Modified: February 20, 2017\n",
       "                        <br/>0 comments, 127 views\n",
       "                    </div>\n",
       "                </div>\n",
       "                "
      ],
      "text/plain": [
       "<Item title:\"NMRGR Annex D - Site - FLETC Artesia\" type:Web Map owner:frank.ireland_FEMA>"
      ]
     },
     "metadata": {},
     "output_type": "display_data"
    },
    {
     "data": {
      "text/html": [
       "<div class=\"item_container\" style=\"height: auto; overflow: hidden; border: 1px solid #cfcfcf; border-radius: 2px; background: #f6fafa; line-height: 1.21429em; padding: 10px;\">\n",
       "                    <div class=\"item_left\" style=\"width: 210px; float: left;\">\n",
       "                       <a href='http://www.arcgis.com/home/item.html?id=93a650ff82de42ba9e997eb3311ca5c2' target='_blank'>\n",
       "                        <img src='http://www.arcgis.com/sharing/rest//content/items/93a650ff82de42ba9e997eb3311ca5c2/info/thumbnail/ago_downloaded.png' class=\"itemThumbnail\">\n",
       "                       </a>\n",
       "                    </div>\n",
       "\n",
       "                    <div class=\"item_right\"     style=\"float: none; width: auto; overflow: hidden;\">\n",
       "                        <a href='http://www.arcgis.com/home/item.html?id=93a650ff82de42ba9e997eb3311ca5c2' target='_blank'><b>NMRGR Annex D - Site - Double Eagle Airport</b>\n",
       "                        </a>\n",
       "                        <br/>Annex D Overview - Double Eagle Airport<img src='http://www.arcgis.com/home/js/jsapi/esri/css/images/item_type_icons/maps16.png' style=\"vertical-align:middle;\">Web Map by frank.ireland_FEMA\n",
       "                        <br/>Last Modified: February 20, 2017\n",
       "                        <br/>0 comments, 122 views\n",
       "                    </div>\n",
       "                </div>\n",
       "                "
      ],
      "text/plain": [
       "<Item title:\"NMRGR Annex D - Site - Double Eagle Airport\" type:Web Map owner:frank.ireland_FEMA>"
      ]
     },
     "metadata": {},
     "output_type": "display_data"
    }
   ],
   "source": [
    "get_recent_maps_about('disaster', num_days_ago=10)"
   ]
  },
  {
   "cell_type": "markdown",
   "metadata": {},
   "source": [
    "# Fires"
   ]
  },
  {
   "cell_type": "code",
   "execution_count": 4,
   "metadata": {
    "collapsed": false
   },
   "outputs": [
    {
     "data": {
      "text/html": [
       "<div class=\"item_container\" style=\"height: auto; overflow: hidden; border: 1px solid #cfcfcf; border-radius: 2px; background: #f6fafa; line-height: 1.21429em; padding: 10px;\">\n",
       "                    <div class=\"item_left\" style=\"width: 210px; float: left;\">\n",
       "                       <a href='http://www.arcgis.com/home/item.html?id=11487c248b3a407cb6fd446ce8ef73d8' target='_blank'>\n",
       "                        <img src='http://www.arcgis.com/sharing/rest//content/items/11487c248b3a407cb6fd446ce8ef73d8/info/thumbnail/current_US_wildfires3.png' class=\"itemThumbnail\">\n",
       "                       </a>\n",
       "                    </div>\n",
       "\n",
       "                    <div class=\"item_right\"     style=\"float: none; width: auto; overflow: hidden;\">\n",
       "                        <a href='http://www.arcgis.com/home/item.html?id=11487c248b3a407cb6fd446ce8ef73d8' target='_blank'><b>WildlandFire.com Current U.S. Wildland Fires</b>\n",
       "                        </a>\n",
       "                        <br/>Wildlandfire.com welcomes you to view and interact with a continuously updated map of US wildfire locations, fire potential areas, meteorological observations and radar imagery.<img src='http://www.arcgis.com/home/js/jsapi/esri/css/images/item_type_icons/maps16.png' style=\"vertical-align:middle;\">Web Map by FireWhat\n",
       "                        <br/>Last Modified: February 23, 2017\n",
       "                        <br/>1 comments, 6,042,818 views\n",
       "                    </div>\n",
       "                </div>\n",
       "                "
      ],
      "text/plain": [
       "<Item title:\"WildlandFire.com Current U.S. Wildland Fires\" type:Web Map owner:FireWhat>"
      ]
     },
     "metadata": {},
     "output_type": "display_data"
    },
    {
     "data": {
      "text/html": [
       "<div class=\"item_container\" style=\"height: auto; overflow: hidden; border: 1px solid #cfcfcf; border-radius: 2px; background: #f6fafa; line-height: 1.21429em; padding: 10px;\">\n",
       "                    <div class=\"item_left\" style=\"width: 210px; float: left;\">\n",
       "                       <a href='http://www.arcgis.com/home/item.html?id=26f7674a2ad744f3806af0c426531951' target='_blank'>\n",
       "                        <img src='http://www.arcgis.com/sharing/rest//content/items/26f7674a2ad744f3806af0c426531951/info/thumbnail/SDEmergency_portal_Link_toAGO.png' class=\"itemThumbnail\">\n",
       "                       </a>\n",
       "                    </div>\n",
       "\n",
       "                    <div class=\"item_right\"     style=\"float: none; width: auto; overflow: hidden;\">\n",
       "                        <a href='http://www.arcgis.com/home/item.html?id=26f7674a2ad744f3806af0c426531951' target='_blank'><b>County of San Diego Emergency Map (Live)</b>\n",
       "                        </a>\n",
       "                        <br/>Public feed from the County of San Diego Office of Emergency Services and other emergency-related feeds.<img src='http://www.arcgis.com/home/js/jsapi/esri/css/images/item_type_icons/maps16.png' style=\"vertical-align:middle;\">Web Map by oes_services\n",
       "                        <br/>Last Modified: February 28, 2017\n",
       "                        <br/>11 comments, 3,426,389 views\n",
       "                    </div>\n",
       "                </div>\n",
       "                "
      ],
      "text/plain": [
       "<Item title:\"County of San Diego Emergency Map (Live)\" type:Web Map owner:oes_services>"
      ]
     },
     "metadata": {},
     "output_type": "display_data"
    },
    {
     "data": {
      "text/html": [
       "<div class=\"item_container\" style=\"height: auto; overflow: hidden; border: 1px solid #cfcfcf; border-radius: 2px; background: #f6fafa; line-height: 1.21429em; padding: 10px;\">\n",
       "                    <div class=\"item_left\" style=\"width: 210px; float: left;\">\n",
       "                       <a href='http://www.arcgis.com/home/item.html?id=ed0a7dad32fe4848b20c6f91c74c79ea' target='_blank'>\n",
       "                        <img src='http://www.arcgis.com/sharing/rest//content/items/ed0a7dad32fe4848b20c6f91c74c79ea/info/thumbnail/Interactive_Map2.PNG' class=\"itemThumbnail\">\n",
       "                       </a>\n",
       "                    </div>\n",
       "\n",
       "                    <div class=\"item_right\"     style=\"float: none; width: auto; overflow: hidden;\">\n",
       "                        <a href='http://www.arcgis.com/home/item.html?id=ed0a7dad32fe4848b20c6f91c74c79ea' target='_blank'><b>Northwest Large Fire Interactive Map</b>\n",
       "                        </a>\n",
       "                        <br/>The Northwest Interagency Coordination Center (NWCC) welcomes you to view and interact with a continuously updated map of large wildfire locations and perimeters, MODIS thermal imagery, and other layers.<img src='http://www.arcgis.com/home/js/jsapi/esri/css/images/item_type_icons/maps16.png' style=\"vertical-align:middle;\">Web Map by NWCC_GIS\n",
       "                        <br/>Last Modified: February 19, 2017\n",
       "                        <br/>1 comments, 1,515,961 views\n",
       "                    </div>\n",
       "                </div>\n",
       "                "
      ],
      "text/plain": [
       "<Item title:\"Northwest Large Fire Interactive Map\" type:Web Map owner:NWCC_GIS>"
      ]
     },
     "metadata": {},
     "output_type": "display_data"
    },
    {
     "data": {
      "text/html": [
       "<div class=\"item_container\" style=\"height: auto; overflow: hidden; border: 1px solid #cfcfcf; border-radius: 2px; background: #f6fafa; line-height: 1.21429em; padding: 10px;\">\n",
       "                    <div class=\"item_left\" style=\"width: 210px; float: left;\">\n",
       "                       <a href='http://www.arcgis.com/home/item.html?id=92653a777a3f44a682174db3d8051c7b' target='_blank'>\n",
       "                        <img src='http://www.arcgis.com/sharing/rest//content/items/92653a777a3f44a682174db3d8051c7b/info/thumbnail/ago_downloaded.png' class=\"itemThumbnail\">\n",
       "                       </a>\n",
       "                    </div>\n",
       "\n",
       "                    <div class=\"item_right\"     style=\"float: none; width: auto; overflow: hidden;\">\n",
       "                        <a href='http://www.arcgis.com/home/item.html?id=92653a777a3f44a682174db3d8051c7b' target='_blank'><b>County Emergency Managers -- Utah</b>\n",
       "                        </a>\n",
       "                        <br/>A clickable map to find the contact information for Utah's county emergency managers.<img src='http://www.arcgis.com/home/js/jsapi/esri/css/images/item_type_icons/maps16.png' style=\"vertical-align:middle;\">Web Map by joedougherty\n",
       "                        <br/>Last Modified: February 22, 2017\n",
       "                        <br/>0 comments, 127,492 views\n",
       "                    </div>\n",
       "                </div>\n",
       "                "
      ],
      "text/plain": [
       "<Item title:\"County Emergency Managers -- Utah\" type:Web Map owner:joedougherty>"
      ]
     },
     "metadata": {},
     "output_type": "display_data"
    },
    {
     "data": {
      "text/html": [
       "<div class=\"item_container\" style=\"height: auto; overflow: hidden; border: 1px solid #cfcfcf; border-radius: 2px; background: #f6fafa; line-height: 1.21429em; padding: 10px;\">\n",
       "                    <div class=\"item_left\" style=\"width: 210px; float: left;\">\n",
       "                       <a href='http://www.arcgis.com/home/item.html?id=420a5cebc6df4c208fe03740ffeea72a' target='_blank'>\n",
       "                        <img src='http://www.arcgis.com/sharing/rest//content/items/420a5cebc6df4c208fe03740ffeea72a/info/thumbnail/ago_downloaded.png' class=\"itemThumbnail\">\n",
       "                       </a>\n",
       "                    </div>\n",
       "\n",
       "                    <div class=\"item_right\"     style=\"float: none; width: auto; overflow: hidden;\">\n",
       "                        <a href='http://www.arcgis.com/home/item.html?id=420a5cebc6df4c208fe03740ffeea72a' target='_blank'><b>Port Hills Fire and Restricted Area PUBLIC VIEW</b>\n",
       "                        </a>\n",
       "                        <br/>Port Hills Fire and Restricted Area PUBLIC VIEW<img src='http://www.arcgis.com/home/js/jsapi/esri/css/images/item_type_icons/maps16.png' style=\"vertical-align:middle;\">Web Map by ecangisteam\n",
       "                        <br/>Last Modified: February 26, 2017\n",
       "                        <br/>0 comments, 54,539 views\n",
       "                    </div>\n",
       "                </div>\n",
       "                "
      ],
      "text/plain": [
       "<Item title:\"Port Hills Fire and Restricted Area PUBLIC VIEW\" type:Web Map owner:ecangisteam>"
      ]
     },
     "metadata": {},
     "output_type": "display_data"
    },
    {
     "data": {
      "text/html": [
       "<div class=\"item_container\" style=\"height: auto; overflow: hidden; border: 1px solid #cfcfcf; border-radius: 2px; background: #f6fafa; line-height: 1.21429em; padding: 10px;\">\n",
       "                    <div class=\"item_left\" style=\"width: 210px; float: left;\">\n",
       "                       <a href='http://www.arcgis.com/home/item.html?id=00bf399af99a47ceac859526ecd57055' target='_blank'>\n",
       "                        <img src='http://www.arcgis.com/sharing/rest//content/items/00bf399af99a47ceac859526ecd57055/info/thumbnail/11949849751056341160traffic_light_dan_gerhar_01_svg_med.png' class=\"itemThumbnail\">\n",
       "                       </a>\n",
       "                    </div>\n",
       "\n",
       "                    <div class=\"item_right\"     style=\"float: none; width: auto; overflow: hidden;\">\n",
       "                        <a href='http://www.arcgis.com/home/item.html?id=00bf399af99a47ceac859526ecd57055' target='_blank'><b>St. Clair, Political Maps</b>\n",
       "                        </a>\n",
       "                        <br/>This map has all political maps for St. Clair County Alabama<img src='http://www.arcgis.com/home/js/jsapi/esri/css/images/item_type_icons/maps16.png' style=\"vertical-align:middle;\">Web Map by bryanprice1\n",
       "                        <br/>Last Modified: February 27, 2017\n",
       "                        <br/>0 comments, 28,551 views\n",
       "                    </div>\n",
       "                </div>\n",
       "                "
      ],
      "text/plain": [
       "<Item title:\"St. Clair, Political Maps\" type:Web Map owner:bryanprice1>"
      ]
     },
     "metadata": {},
     "output_type": "display_data"
    },
    {
     "data": {
      "text/html": [
       "<div class=\"item_container\" style=\"height: auto; overflow: hidden; border: 1px solid #cfcfcf; border-radius: 2px; background: #f6fafa; line-height: 1.21429em; padding: 10px;\">\n",
       "                    <div class=\"item_left\" style=\"width: 210px; float: left;\">\n",
       "                       <a href='http://www.arcgis.com/home/item.html?id=281e5e3e6320428780f3fbbd45eb93e1' target='_blank'>\n",
       "                        <img src='http://www.arcgis.com/sharing/rest//content/items/281e5e3e6320428780f3fbbd45eb93e1/info/thumbnail/VolFire.png' class=\"itemThumbnail\">\n",
       "                       </a>\n",
       "                    </div>\n",
       "\n",
       "                    <div class=\"item_right\"     style=\"float: none; width: auto; overflow: hidden;\">\n",
       "                        <a href='http://www.arcgis.com/home/item.html?id=281e5e3e6320428780f3fbbd45eb93e1' target='_blank'><b>Fire</b>\n",
       "                        </a>\n",
       "                        <br/>Displays Fire Districts, Hydrants & Fire Stations<img src='http://www.arcgis.com/home/js/jsapi/esri/css/images/item_type_icons/maps16.png' style=\"vertical-align:middle;\">Web Map by bryanprice1\n",
       "                        <br/>Last Modified: February 21, 2017\n",
       "                        <br/>0 comments, 26,775 views\n",
       "                    </div>\n",
       "                </div>\n",
       "                "
      ],
      "text/plain": [
       "<Item title:\"Fire\" type:Web Map owner:bryanprice1>"
      ]
     },
     "metadata": {},
     "output_type": "display_data"
    },
    {
     "data": {
      "text/html": [
       "<div class=\"item_container\" style=\"height: auto; overflow: hidden; border: 1px solid #cfcfcf; border-radius: 2px; background: #f6fafa; line-height: 1.21429em; padding: 10px;\">\n",
       "                    <div class=\"item_left\" style=\"width: 210px; float: left;\">\n",
       "                       <a href='http://www.arcgis.com/home/item.html?id=ecfb33eaf2b440b3b19bd234e339ccfa' target='_blank'>\n",
       "                        <img src='http://www.arcgis.com/sharing/rest//content/items/ecfb33eaf2b440b3b19bd234e339ccfa/info/thumbnail/TransmissionOfWildfire.jpg' class=\"itemThumbnail\">\n",
       "                       </a>\n",
       "                    </div>\n",
       "\n",
       "                    <div class=\"item_right\"     style=\"float: none; width: auto; overflow: hidden;\">\n",
       "                        <a href='http://www.arcgis.com/home/item.html?id=ecfb33eaf2b440b3b19bd234e339ccfa' target='_blank'><b>Transmission of Wildfire Exposure from National Forests to the Wildland Urban Interface</b>\n",
       "                        </a>\n",
       "                        <br/>A map displaying the transmission of wildfire exposure from national forests to the wildland urban interface in the Pacific Northwest Region (Region 6) of the US Forest Service.<img src='http://www.arcgis.com/home/js/jsapi/esri/css/images/item_type_icons/maps16.png' style=\"vertical-align:middle;\">Web Map by jegower\n",
       "                        <br/>Last Modified: February 24, 2017\n",
       "                        <br/>0 comments, 10,513 views\n",
       "                    </div>\n",
       "                </div>\n",
       "                "
      ],
      "text/plain": [
       "<Item title:\"Transmission of Wildfire Exposure from National Forests to the Wildland Urban Interface\" type:Web Map owner:jegower>"
      ]
     },
     "metadata": {},
     "output_type": "display_data"
    },
    {
     "data": {
      "text/html": [
       "<div class=\"item_container\" style=\"height: auto; overflow: hidden; border: 1px solid #cfcfcf; border-radius: 2px; background: #f6fafa; line-height: 1.21429em; padding: 10px;\">\n",
       "                    <div class=\"item_left\" style=\"width: 210px; float: left;\">\n",
       "                       <a href='http://www.arcgis.com/home/item.html?id=4eb9390511774e23b7d212a294d38255' target='_blank'>\n",
       "                        <img src='http://www.arcgis.com/sharing/rest//content/items/4eb9390511774e23b7d212a294d38255/info/thumbnail/WatershedCondition.jpg' class=\"itemThumbnail\">\n",
       "                       </a>\n",
       "                    </div>\n",
       "\n",
       "                    <div class=\"item_right\"     style=\"float: none; width: auto; overflow: hidden;\">\n",
       "                        <a href='http://www.arcgis.com/home/item.html?id=4eb9390511774e23b7d212a294d38255' target='_blank'><b>Watershed Condition of National Forest Lands</b>\n",
       "                        </a>\n",
       "                        <br/>A map displaying the watershed condition classification in the Pacific Northwest Region (Region 6) of the US Forest Service.<img src='http://www.arcgis.com/home/js/jsapi/esri/css/images/item_type_icons/maps16.png' style=\"vertical-align:middle;\">Web Map by jegower\n",
       "                        <br/>Last Modified: February 20, 2017\n",
       "                        <br/>0 comments, 8,636 views\n",
       "                    </div>\n",
       "                </div>\n",
       "                "
      ],
      "text/plain": [
       "<Item title:\"Watershed Condition of National Forest Lands\" type:Web Map owner:jegower>"
      ]
     },
     "metadata": {},
     "output_type": "display_data"
    },
    {
     "data": {
      "text/html": [
       "<div class=\"item_container\" style=\"height: auto; overflow: hidden; border: 1px solid #cfcfcf; border-radius: 2px; background: #f6fafa; line-height: 1.21429em; padding: 10px;\">\n",
       "                    <div class=\"item_left\" style=\"width: 210px; float: left;\">\n",
       "                       <a href='http://www.arcgis.com/home/item.html?id=02d011e818324dc8a27c161b8b22f3b2' target='_blank'>\n",
       "                        <img src='http://www.arcgis.com/sharing/rest//content/items/02d011e818324dc8a27c161b8b22f3b2/info/thumbnail/ago_downloaded.png' class=\"itemThumbnail\">\n",
       "                       </a>\n",
       "                    </div>\n",
       "\n",
       "                    <div class=\"item_right\"     style=\"float: none; width: auto; overflow: hidden;\">\n",
       "                        <a href='http://www.arcgis.com/home/item.html?id=02d011e818324dc8a27c161b8b22f3b2' target='_blank'><b>Earthquakes, Fire, Flood Hazards from ESRI</b>\n",
       "                        </a>\n",
       "                        <br/>Hazards for Northern California<img src='http://www.arcgis.com/home/js/jsapi/esri/css/images/item_type_icons/maps16.png' style=\"vertical-align:middle;\">Web Map by chinmayalewis\n",
       "                        <br/>Last Modified: February 21, 2017\n",
       "                        <br/>0 comments, 7,940 views\n",
       "                    </div>\n",
       "                </div>\n",
       "                "
      ],
      "text/plain": [
       "<Item title:\"Earthquakes, Fire, Flood Hazards from ESRI\" type:Web Map owner:chinmayalewis>"
      ]
     },
     "metadata": {},
     "output_type": "display_data"
    },
    {
     "data": {
      "text/html": [
       "<div class=\"item_container\" style=\"height: auto; overflow: hidden; border: 1px solid #cfcfcf; border-radius: 2px; background: #f6fafa; line-height: 1.21429em; padding: 10px;\">\n",
       "                    <div class=\"item_left\" style=\"width: 210px; float: left;\">\n",
       "                       <a href='http://www.arcgis.com/home/item.html?id=76c0ea8674b045cc8c50d7615ce47c00' target='_blank'>\n",
       "                        <img src='http://www.arcgis.com/sharing/rest//content/items/76c0ea8674b045cc8c50d7615ce47c00/info/thumbnail/ago_downloaded.png' class=\"itemThumbnail\">\n",
       "                       </a>\n",
       "                    </div>\n",
       "\n",
       "                    <div class=\"item_right\"     style=\"float: none; width: auto; overflow: hidden;\">\n",
       "                        <a href='http://www.arcgis.com/home/item.html?id=76c0ea8674b045cc8c50d7615ce47c00' target='_blank'><b>Fire Map - Prod</b>\n",
       "                        </a>\n",
       "                        <br/>Web map for DNRC Interactive Wildland Fire App - Production Environment<img src='http://www.arcgis.com/home/js/jsapi/esri/css/images/item_type_icons/maps16.png' style=\"vertical-align:middle;\">Web Map by MontanaDNRC\n",
       "                        <br/>Last Modified: February 28, 2017\n",
       "                        <br/>0 comments, 7,381 views\n",
       "                    </div>\n",
       "                </div>\n",
       "                "
      ],
      "text/plain": [
       "<Item title:\"Fire Map - Prod\" type:Web Map owner:MontanaDNRC>"
      ]
     },
     "metadata": {},
     "output_type": "display_data"
    },
    {
     "data": {
      "text/html": [
       "<div class=\"item_container\" style=\"height: auto; overflow: hidden; border: 1px solid #cfcfcf; border-radius: 2px; background: #f6fafa; line-height: 1.21429em; padding: 10px;\">\n",
       "                    <div class=\"item_left\" style=\"width: 210px; float: left;\">\n",
       "                       <a href='http://www.arcgis.com/home/item.html?id=672c22d8d65e447a93df41fa2056fcaa' target='_blank'>\n",
       "                        <img src='http://www.arcgis.com/sharing/rest//content/items/672c22d8d65e447a93df41fa2056fcaa/info/thumbnail/ago_downloaded.png' class=\"itemThumbnail\">\n",
       "                       </a>\n",
       "                    </div>\n",
       "\n",
       "                    <div class=\"item_right\"     style=\"float: none; width: auto; overflow: hidden;\">\n",
       "                        <a href='http://www.arcgis.com/home/item.html?id=672c22d8d65e447a93df41fa2056fcaa' target='_blank'><b>FD Connections</b>\n",
       "                        </a>\n",
       "                        <br/>Fire Department Connections<img src='http://www.arcgis.com/home/js/jsapi/esri/css/images/item_type_icons/maps16.png' style=\"vertical-align:middle;\">Web Map by gbrown_newbraunfels\n",
       "                        <br/>Last Modified: February 27, 2017\n",
       "                        <br/>0 comments, 3,187 views\n",
       "                    </div>\n",
       "                </div>\n",
       "                "
      ],
      "text/plain": [
       "<Item title:\"FD Connections\" type:Web Map owner:gbrown_newbraunfels>"
      ]
     },
     "metadata": {},
     "output_type": "display_data"
    },
    {
     "data": {
      "text/html": [
       "<div class=\"item_container\" style=\"height: auto; overflow: hidden; border: 1px solid #cfcfcf; border-radius: 2px; background: #f6fafa; line-height: 1.21429em; padding: 10px;\">\n",
       "                    <div class=\"item_left\" style=\"width: 210px; float: left;\">\n",
       "                       <a href='http://www.arcgis.com/home/item.html?id=f419b375337d4bfcbb53155ed082d3a6' target='_blank'>\n",
       "                        <img src='http://www.arcgis.com/sharing/rest//content/items/f419b375337d4bfcbb53155ed082d3a6/info/thumbnail/ago_downloaded.png' class=\"itemThumbnail\">\n",
       "                       </a>\n",
       "                    </div>\n",
       "\n",
       "                    <div class=\"item_right\"     style=\"float: none; width: auto; overflow: hidden;\">\n",
       "                        <a href='http://www.arcgis.com/home/item.html?id=f419b375337d4bfcbb53155ed082d3a6' target='_blank'><b>Fire Areas</b>\n",
       "                        </a>\n",
       "                        <br/>Town of Mono Fire Areas<img src='http://www.arcgis.com/home/js/jsapi/esri/css/images/item_type_icons/maps16.png' style=\"vertical-align:middle;\">Web Map by MonoIT\n",
       "                        <br/>Last Modified: February 22, 2017\n",
       "                        <br/>0 comments, 2,927 views\n",
       "                    </div>\n",
       "                </div>\n",
       "                "
      ],
      "text/plain": [
       "<Item title:\"Fire Areas\" type:Web Map owner:MonoIT>"
      ]
     },
     "metadata": {},
     "output_type": "display_data"
    },
    {
     "data": {
      "text/html": [
       "<div class=\"item_container\" style=\"height: auto; overflow: hidden; border: 1px solid #cfcfcf; border-radius: 2px; background: #f6fafa; line-height: 1.21429em; padding: 10px;\">\n",
       "                    <div class=\"item_left\" style=\"width: 210px; float: left;\">\n",
       "                       <a href='http://www.arcgis.com/home/item.html?id=526f7490ee5d4950a1992b9be341c2cd' target='_blank'>\n",
       "                        <img src='http://www.arcgis.com/sharing/rest//content/items/526f7490ee5d4950a1992b9be341c2cd/info/thumbnail/ago_downloaded.png' class=\"itemThumbnail\">\n",
       "                       </a>\n",
       "                    </div>\n",
       "\n",
       "                    <div class=\"item_right\"     style=\"float: none; width: auto; overflow: hidden;\">\n",
       "                        <a href='http://www.arcgis.com/home/item.html?id=526f7490ee5d4950a1992b9be341c2cd' target='_blank'><b>Emergency Operations Dashboard_FireWx</b>\n",
       "                        </a>\n",
       "                        <br/>Situational Awareness for Fire<img src='http://www.arcgis.com/home/js/jsapi/esri/css/images/item_type_icons/maps16.png' style=\"vertical-align:middle;\">Web Map by zach.stanford\n",
       "                        <br/>Last Modified: February 24, 2017\n",
       "                        <br/>0 comments, 2,616 views\n",
       "                    </div>\n",
       "                </div>\n",
       "                "
      ],
      "text/plain": [
       "<Item title:\"Emergency Operations Dashboard_FireWx\" type:Web Map owner:zach.stanford>"
      ]
     },
     "metadata": {},
     "output_type": "display_data"
    },
    {
     "data": {
      "text/html": [
       "<div class=\"item_container\" style=\"height: auto; overflow: hidden; border: 1px solid #cfcfcf; border-radius: 2px; background: #f6fafa; line-height: 1.21429em; padding: 10px;\">\n",
       "                    <div class=\"item_left\" style=\"width: 210px; float: left;\">\n",
       "                       <a href='http://www.arcgis.com/home/item.html?id=bfeb7afc4d9645c0a02f8fcc84c0fa12' target='_blank'>\n",
       "                        <img src='http://www.arcgis.com/sharing/rest//content/items/bfeb7afc4d9645c0a02f8fcc84c0fa12/info/thumbnail/ago_downloaded.png' class=\"itemThumbnail\">\n",
       "                       </a>\n",
       "                    </div>\n",
       "\n",
       "                    <div class=\"item_right\"     style=\"float: none; width: auto; overflow: hidden;\">\n",
       "                        <a href='http://www.arcgis.com/home/item.html?id=bfeb7afc4d9645c0a02f8fcc84c0fa12' target='_blank'><b>Fire Base</b>\n",
       "                        </a>\n",
       "                        <br/>Regional reference base tab<img src='http://www.arcgis.com/home/js/jsapi/esri/css/images/item_type_icons/maps16.png' style=\"vertical-align:middle;\">Web Map by avanderpas_Lewiston\n",
       "                        <br/>Last Modified: February 23, 2017\n",
       "                        <br/>0 comments, 2,030 views\n",
       "                    </div>\n",
       "                </div>\n",
       "                "
      ],
      "text/plain": [
       "<Item title:\"Fire Base\" type:Web Map owner:avanderpas_Lewiston>"
      ]
     },
     "metadata": {},
     "output_type": "display_data"
    },
    {
     "data": {
      "text/html": [
       "<div class=\"item_container\" style=\"height: auto; overflow: hidden; border: 1px solid #cfcfcf; border-radius: 2px; background: #f6fafa; line-height: 1.21429em; padding: 10px;\">\n",
       "                    <div class=\"item_left\" style=\"width: 210px; float: left;\">\n",
       "                       <a href='http://www.arcgis.com/home/item.html?id=4e50122e46094e6a9bc2fdb73527dd81' target='_blank'>\n",
       "                        <img src='http://www.arcgis.com/sharing/rest//content/items/4e50122e46094e6a9bc2fdb73527dd81/info/thumbnail/ago_downloaded.png' class=\"itemThumbnail\">\n",
       "                       </a>\n",
       "                    </div>\n",
       "\n",
       "                    <div class=\"item_right\"     style=\"float: none; width: auto; overflow: hidden;\">\n",
       "                        <a href='http://www.arcgis.com/home/item.html?id=4e50122e46094e6a9bc2fdb73527dd81' target='_blank'><b>Sandbag Pickup Locations</b>\n",
       "                        </a>\n",
       "                        <br/>Sites where sandbags can be picked up<img src='http://www.arcgis.com/home/js/jsapi/esri/css/images/item_type_icons/maps16.png' style=\"vertical-align:middle;\">Web Map by scarroll\n",
       "                        <br/>Last Modified: February 24, 2017\n",
       "                        <br/>0 comments, 1,598 views\n",
       "                    </div>\n",
       "                </div>\n",
       "                "
      ],
      "text/plain": [
       "<Item title:\"Sandbag Pickup Locations\" type:Web Map owner:scarroll>"
      ]
     },
     "metadata": {},
     "output_type": "display_data"
    },
    {
     "data": {
      "text/html": [
       "<div class=\"item_container\" style=\"height: auto; overflow: hidden; border: 1px solid #cfcfcf; border-radius: 2px; background: #f6fafa; line-height: 1.21429em; padding: 10px;\">\n",
       "                    <div class=\"item_left\" style=\"width: 210px; float: left;\">\n",
       "                       <a href='http://www.arcgis.com/home/item.html?id=e5eda230cf7c43d9944ef66be1dad7ef' target='_blank'>\n",
       "                        <img src='http://www.arcgis.com/sharing/rest//content/items/e5eda230cf7c43d9944ef66be1dad7ef/info/thumbnail/WIP_Thumbnail_WebMap_Grp.png' class=\"itemThumbnail\">\n",
       "                       </a>\n",
       "                    </div>\n",
       "\n",
       "                    <div class=\"item_right\"     style=\"float: none; width: auto; overflow: hidden;\">\n",
       "                        <a href='http://www.arcgis.com/home/item.html?id=e5eda230cf7c43d9944ef66be1dad7ef' target='_blank'><b>Wildfire Hazard Potential</b>\n",
       "                        </a>\n",
       "                        <br/>A web map of Wildfire Hazard Potential (WHP) in California.<img src='http://www.arcgis.com/home/js/jsapi/esri/css/images/item_type_icons/maps16.png' style=\"vertical-align:middle;\">Web Map by SNCAdmin\n",
       "                        <br/>Last Modified: February 23, 2017\n",
       "                        <br/>0 comments, 1,575 views\n",
       "                    </div>\n",
       "                </div>\n",
       "                "
      ],
      "text/plain": [
       "<Item title:\"Wildfire Hazard Potential\" type:Web Map owner:SNCAdmin>"
      ]
     },
     "metadata": {},
     "output_type": "display_data"
    },
    {
     "data": {
      "text/html": [
       "<div class=\"item_container\" style=\"height: auto; overflow: hidden; border: 1px solid #cfcfcf; border-radius: 2px; background: #f6fafa; line-height: 1.21429em; padding: 10px;\">\n",
       "                    <div class=\"item_left\" style=\"width: 210px; float: left;\">\n",
       "                       <a href='http://www.arcgis.com/home/item.html?id=68989096dc7747698dd992fdc69353aa' target='_blank'>\n",
       "                        <img src='http://www.arcgis.com/sharing/rest//content/items/68989096dc7747698dd992fdc69353aa/info/thumbnail/ago_downloaded.png' class=\"itemThumbnail\">\n",
       "                       </a>\n",
       "                    </div>\n",
       "\n",
       "                    <div class=\"item_right\"     style=\"float: none; width: auto; overflow: hidden;\">\n",
       "                        <a href='http://www.arcgis.com/home/item.html?id=68989096dc7747698dd992fdc69353aa' target='_blank'><b>Landsat GLS (Atmospheric Removal)</b>\n",
       "                        </a>\n",
       "                        <br/>Contains 30 meter resolution Landsat imagery from 1990-2010. This band combination (7 4 2) provides a natural-like rendition, while also penetrating atmospheric particles and smoke.<img src='http://www.arcgis.com/home/js/jsapi/esri/css/images/item_type_icons/maps16.png' style=\"vertical-align:middle;\">Web Map by esri_imagery\n",
       "                        <br/>Last Modified: February 24, 2017\n",
       "                        <br/>0 comments, 1,562 views\n",
       "                    </div>\n",
       "                </div>\n",
       "                "
      ],
      "text/plain": [
       "<Item title:\"Landsat GLS (Atmospheric Removal)\" type:Web Map owner:esri_imagery>"
      ]
     },
     "metadata": {},
     "output_type": "display_data"
    },
    {
     "data": {
      "text/html": [
       "<div class=\"item_container\" style=\"height: auto; overflow: hidden; border: 1px solid #cfcfcf; border-radius: 2px; background: #f6fafa; line-height: 1.21429em; padding: 10px;\">\n",
       "                    <div class=\"item_left\" style=\"width: 210px; float: left;\">\n",
       "                       <a href='http://www.arcgis.com/home/item.html?id=0078f00cca7640c99925f4e78bcb8065' target='_blank'>\n",
       "                        <img src='http://www.arcgis.com/sharing/rest//content/items/0078f00cca7640c99925f4e78bcb8065/info/thumbnail/ago_downloaded.png' class=\"itemThumbnail\">\n",
       "                       </a>\n",
       "                    </div>\n",
       "\n",
       "                    <div class=\"item_right\"     style=\"float: none; width: auto; overflow: hidden;\">\n",
       "                        <a href='http://www.arcgis.com/home/item.html?id=0078f00cca7640c99925f4e78bcb8065' target='_blank'><b>FireHydrantBuffer</b>\n",
       "                        </a>\n",
       "                        <br/>1000 ft buffer from each fire hydrant<img src='http://www.arcgis.com/home/js/jsapi/esri/css/images/item_type_icons/maps16.png' style=\"vertical-align:middle;\">Web Map by kmoore87\n",
       "                        <br/>Last Modified: February 23, 2017\n",
       "                        <br/>0 comments, 1,413 views\n",
       "                    </div>\n",
       "                </div>\n",
       "                "
      ],
      "text/plain": [
       "<Item title:\"FireHydrantBuffer\" type:Web Map owner:kmoore87>"
      ]
     },
     "metadata": {},
     "output_type": "display_data"
    },
    {
     "data": {
      "text/html": [
       "<div class=\"item_container\" style=\"height: auto; overflow: hidden; border: 1px solid #cfcfcf; border-radius: 2px; background: #f6fafa; line-height: 1.21429em; padding: 10px;\">\n",
       "                    <div class=\"item_left\" style=\"width: 210px; float: left;\">\n",
       "                       <a href='http://www.arcgis.com/home/item.html?id=940082ae33c947d7b8f8356e35ef4e20' target='_blank'>\n",
       "                        <img src='http://www.arcgis.com/sharing/rest//content/items/940082ae33c947d7b8f8356e35ef4e20/info/thumbnail/ago_downloaded.png' class=\"itemThumbnail\">\n",
       "                       </a>\n",
       "                    </div>\n",
       "\n",
       "                    <div class=\"item_right\"     style=\"float: none; width: auto; overflow: hidden;\">\n",
       "                        <a href='http://www.arcgis.com/home/item.html?id=940082ae33c947d7b8f8356e35ef4e20' target='_blank'><b>Overview of Burnt Schools in Highlighted Counties-FINAL Summary2</b>\n",
       "                        </a>\n",
       "                        <br/>A general overview of Counties with Schools that burnt in Kenya<img src='http://www.arcgis.com/home/js/jsapi/esri/css/images/item_type_icons/maps16.png' style=\"vertical-align:middle;\">Web Map by mkitiyo_gSpace\n",
       "                        <br/>Last Modified: February 20, 2017\n",
       "                        <br/>0 comments, 1,399 views\n",
       "                    </div>\n",
       "                </div>\n",
       "                "
      ],
      "text/plain": [
       "<Item title:\"Overview of Burnt Schools in Highlighted Counties-FINAL Summary2\" type:Web Map owner:mkitiyo_gSpace>"
      ]
     },
     "metadata": {},
     "output_type": "display_data"
    },
    {
     "data": {
      "text/html": [
       "<div class=\"item_container\" style=\"height: auto; overflow: hidden; border: 1px solid #cfcfcf; border-radius: 2px; background: #f6fafa; line-height: 1.21429em; padding: 10px;\">\n",
       "                    <div class=\"item_left\" style=\"width: 210px; float: left;\">\n",
       "                       <a href='http://www.arcgis.com/home/item.html?id=c17778586b68435aa85efeaeb11021e0' target='_blank'>\n",
       "                        <img src='http://www.arcgis.com/sharing/rest//content/items/c17778586b68435aa85efeaeb11021e0/info/thumbnail/ago_downloaded.png' class=\"itemThumbnail\">\n",
       "                       </a>\n",
       "                    </div>\n",
       "\n",
       "                    <div class=\"item_right\"     style=\"float: none; width: auto; overflow: hidden;\">\n",
       "                        <a href='http://www.arcgis.com/home/item.html?id=c17778586b68435aa85efeaeb11021e0' target='_blank'><b>SF/S&R Locations</b>\n",
       "                        </a>\n",
       "                        <br/><img src='http://www.arcgis.com/home/js/jsapi/esri/css/images/item_type_icons/maps16.png' style=\"vertical-align:middle;\">Web Map by calema_gis\n",
       "                        <br/>Last Modified: February 25, 2017\n",
       "                        <br/>0 comments, 1,288 views\n",
       "                    </div>\n",
       "                </div>\n",
       "                "
      ],
      "text/plain": [
       "<Item title:\"SF/S&R Locations\" type:Web Map owner:calema_gis>"
      ]
     },
     "metadata": {},
     "output_type": "display_data"
    },
    {
     "data": {
      "text/html": [
       "<div class=\"item_container\" style=\"height: auto; overflow: hidden; border: 1px solid #cfcfcf; border-radius: 2px; background: #f6fafa; line-height: 1.21429em; padding: 10px;\">\n",
       "                    <div class=\"item_left\" style=\"width: 210px; float: left;\">\n",
       "                       <a href='http://www.arcgis.com/home/item.html?id=556f398092f54d588f9f6b025f111b02' target='_blank'>\n",
       "                        <img src='http://www.arcgis.com/sharing/rest//content/items/556f398092f54d588f9f6b025f111b02/info/thumbnail/ChatView.png' class=\"itemThumbnail\">\n",
       "                       </a>\n",
       "                    </div>\n",
       "\n",
       "                    <div class=\"item_right\"     style=\"float: none; width: auto; overflow: hidden;\">\n",
       "                        <a href='http://www.arcgis.com/home/item.html?id=556f398092f54d588f9f6b025f111b02' target='_blank'><b>Chatview</b>\n",
       "                        </a>\n",
       "                        <br/>Web map to be utilized as the basemap in the ChatView web application used by emergency response personnel throughout Chatham County.<img src='http://www.arcgis.com/home/js/jsapi/esri/css/images/item_type_icons/maps16.png' style=\"vertical-align:middle;\">Web Map by Chatham01\n",
       "                        <br/>Last Modified: February 27, 2017\n",
       "                        <br/>0 comments, 1,285 views\n",
       "                    </div>\n",
       "                </div>\n",
       "                "
      ],
      "text/plain": [
       "<Item title:\"Chatview\" type:Web Map owner:Chatham01>"
      ]
     },
     "metadata": {},
     "output_type": "display_data"
    },
    {
     "data": {
      "text/html": [
       "<div class=\"item_container\" style=\"height: auto; overflow: hidden; border: 1px solid #cfcfcf; border-radius: 2px; background: #f6fafa; line-height: 1.21429em; padding: 10px;\">\n",
       "                    <div class=\"item_left\" style=\"width: 210px; float: left;\">\n",
       "                       <a href='http://www.arcgis.com/home/item.html?id=d255edca6b924278acd739ac90817386' target='_blank'>\n",
       "                        <img src='http://www.arcgis.com/sharing/rest//content/items/d255edca6b924278acd739ac90817386/info/thumbnail/ago_downloaded.png' class=\"itemThumbnail\">\n",
       "                       </a>\n",
       "                    </div>\n",
       "\n",
       "                    <div class=\"item_right\"     style=\"float: none; width: auto; overflow: hidden;\">\n",
       "                        <a href='http://www.arcgis.com/home/item.html?id=d255edca6b924278acd739ac90817386' target='_blank'><b>Prattville GIS for Fire Dept</b>\n",
       "                        </a>\n",
       "                        <br/><img src='http://www.arcgis.com/home/js/jsapi/esri/css/images/item_type_icons/maps16.png' style=\"vertical-align:middle;\">Web Map by PrattvilleGIS\n",
       "                        <br/>Last Modified: February 21, 2017\n",
       "                        <br/>0 comments, 1,179 views\n",
       "                    </div>\n",
       "                </div>\n",
       "                "
      ],
      "text/plain": [
       "<Item title:\"Prattville GIS for Fire Dept\" type:Web Map owner:PrattvilleGIS>"
      ]
     },
     "metadata": {},
     "output_type": "display_data"
    },
    {
     "data": {
      "text/html": [
       "<div class=\"item_container\" style=\"height: auto; overflow: hidden; border: 1px solid #cfcfcf; border-radius: 2px; background: #f6fafa; line-height: 1.21429em; padding: 10px;\">\n",
       "                    <div class=\"item_left\" style=\"width: 210px; float: left;\">\n",
       "                       <a href='http://www.arcgis.com/home/item.html?id=b094618999d34465b96636d4820af00f' target='_blank'>\n",
       "                        <img src='http://www.arcgis.com/sharing/rest//content/items/b094618999d34465b96636d4820af00f/info/thumbnail/ago_downloaded.png' class=\"itemThumbnail\">\n",
       "                       </a>\n",
       "                    </div>\n",
       "\n",
       "                    <div class=\"item_right\"     style=\"float: none; width: auto; overflow: hidden;\">\n",
       "                        <a href='http://www.arcgis.com/home/item.html?id=b094618999d34465b96636d4820af00f' target='_blank'><b>Summary of School Arsons 2016</b>\n",
       "                        </a>\n",
       "                        <br/>A general overview of Counties with Schools that burnt in Kenya<img src='http://www.arcgis.com/home/js/jsapi/esri/css/images/item_type_icons/maps16.png' style=\"vertical-align:middle;\">Web Map by mkitiyo_gSpace\n",
       "                        <br/>Last Modified: February 20, 2017\n",
       "                        <br/>0 comments, 1,129 views\n",
       "                    </div>\n",
       "                </div>\n",
       "                "
      ],
      "text/plain": [
       "<Item title:\"Summary of School Arsons 2016\" type:Web Map owner:mkitiyo_gSpace>"
      ]
     },
     "metadata": {},
     "output_type": "display_data"
    },
    {
     "data": {
      "text/html": [
       "<div class=\"item_container\" style=\"height: auto; overflow: hidden; border: 1px solid #cfcfcf; border-radius: 2px; background: #f6fafa; line-height: 1.21429em; padding: 10px;\">\n",
       "                    <div class=\"item_left\" style=\"width: 210px; float: left;\">\n",
       "                       <a href='http://www.arcgis.com/home/item.html?id=caba59e5d4c94372a62eccf6ed92d643' target='_blank'>\n",
       "                        <img src='http://static.arcgis.com/images/desktopapp.png' class=\"itemThumbnail\">\n",
       "                       </a>\n",
       "                    </div>\n",
       "\n",
       "                    <div class=\"item_right\"     style=\"float: none; width: auto; overflow: hidden;\">\n",
       "                        <a href='http://www.arcgis.com/home/item.html?id=caba59e5d4c94372a62eccf6ed92d643' target='_blank'><b>Overview of Burnt Schools in Highlighted Counties-FINAL OVERVIEW_</b>\n",
       "                        </a>\n",
       "                        <br/>A general overview of Counties with Schools that burnt in Kenya<img src='http://www.arcgis.com/home/js/jsapi/esri/css/images/item_type_icons/maps16.png' style=\"vertical-align:middle;\">Web Map by mkitiyo_gSpace\n",
       "                        <br/>Last Modified: February 20, 2017\n",
       "                        <br/>0 comments, 1,103 views\n",
       "                    </div>\n",
       "                </div>\n",
       "                "
      ],
      "text/plain": [
       "<Item title:\"Overview of Burnt Schools in Highlighted Counties-FINAL OVERVIEW_\" type:Web Map owner:mkitiyo_gSpace>"
      ]
     },
     "metadata": {},
     "output_type": "display_data"
    },
    {
     "data": {
      "text/html": [
       "<div class=\"item_container\" style=\"height: auto; overflow: hidden; border: 1px solid #cfcfcf; border-radius: 2px; background: #f6fafa; line-height: 1.21429em; padding: 10px;\">\n",
       "                    <div class=\"item_left\" style=\"width: 210px; float: left;\">\n",
       "                       <a href='http://www.arcgis.com/home/item.html?id=05a433cfae894edd85dc1100faa54f5f' target='_blank'>\n",
       "                        <img src='http://www.arcgis.com/sharing/rest//content/items/05a433cfae894edd85dc1100faa54f5f/info/thumbnail/ago_downloaded.png' class=\"itemThumbnail\">\n",
       "                       </a>\n",
       "                    </div>\n",
       "\n",
       "                    <div class=\"item_right\"     style=\"float: none; width: auto; overflow: hidden;\">\n",
       "                        <a href='http://www.arcgis.com/home/item.html?id=05a433cfae894edd85dc1100faa54f5f' target='_blank'><b>Reported Wildfires</b>\n",
       "                        </a>\n",
       "                        <br/>All wildfires reported to Kansas Forest Service by a 209 form.<img src='http://www.arcgis.com/home/js/jsapi/esri/css/images/item_type_icons/maps16.png' style=\"vertical-align:middle;\">Web Map by dpaull_kstate\n",
       "                        <br/>Last Modified: February 27, 2017\n",
       "                        <br/>0 comments, 1,039 views\n",
       "                    </div>\n",
       "                </div>\n",
       "                "
      ],
      "text/plain": [
       "<Item title:\"Reported Wildfires\" type:Web Map owner:dpaull_kstate>"
      ]
     },
     "metadata": {},
     "output_type": "display_data"
    },
    {
     "data": {
      "text/html": [
       "<div class=\"item_container\" style=\"height: auto; overflow: hidden; border: 1px solid #cfcfcf; border-radius: 2px; background: #f6fafa; line-height: 1.21429em; padding: 10px;\">\n",
       "                    <div class=\"item_left\" style=\"width: 210px; float: left;\">\n",
       "                       <a href='http://www.arcgis.com/home/item.html?id=fc0eb7453d7842bbae887e61c4413ab3' target='_blank'>\n",
       "                        <img src='http://www.arcgis.com/sharing/rest//content/items/fc0eb7453d7842bbae887e61c4413ab3/info/thumbnail/ago_downloaded.png' class=\"itemThumbnail\">\n",
       "                       </a>\n",
       "                    </div>\n",
       "\n",
       "                    <div class=\"item_right\"     style=\"float: none; width: auto; overflow: hidden;\">\n",
       "                        <a href='http://www.arcgis.com/home/item.html?id=fc0eb7453d7842bbae887e61c4413ab3' target='_blank'><b>Fire & Rescue</b>\n",
       "                        </a>\n",
       "                        <br/>Fire & Rescue<img src='http://www.arcgis.com/home/js/jsapi/esri/css/images/item_type_icons/maps16.png' style=\"vertical-align:middle;\">Web Map by HuntsvilleAL.gov\n",
       "                        <br/>Last Modified: February 23, 2017\n",
       "                        <br/>0 comments, 925 views\n",
       "                    </div>\n",
       "                </div>\n",
       "                "
      ],
      "text/plain": [
       "<Item title:\"Fire & Rescue\" type:Web Map owner:HuntsvilleAL.gov>"
      ]
     },
     "metadata": {},
     "output_type": "display_data"
    },
    {
     "data": {
      "text/html": [
       "<div class=\"item_container\" style=\"height: auto; overflow: hidden; border: 1px solid #cfcfcf; border-radius: 2px; background: #f6fafa; line-height: 1.21429em; padding: 10px;\">\n",
       "                    <div class=\"item_left\" style=\"width: 210px; float: left;\">\n",
       "                       <a href='http://www.arcgis.com/home/item.html?id=93f225890a304b11ace127657082bb39' target='_blank'>\n",
       "                        <img src='http://www.arcgis.com/sharing/rest//content/items/93f225890a304b11ace127657082bb39/info/thumbnail/BNDRY.jpg' class=\"itemThumbnail\">\n",
       "                       </a>\n",
       "                    </div>\n",
       "\n",
       "                    <div class=\"item_right\"     style=\"float: none; width: auto; overflow: hidden;\">\n",
       "                        <a href='http://www.arcgis.com/home/item.html?id=93f225890a304b11ace127657082bb39' target='_blank'><b>The Woodlands Township Map</b>\n",
       "                        </a>\n",
       "                        <br/>The Woodlands Township boundary & area including other feature layers<img src='http://www.arcgis.com/home/js/jsapi/esri/css/images/item_type_icons/maps16.png' style=\"vertical-align:middle;\">Web Map by WoodlandsGIS\n",
       "                        <br/>Last Modified: February 21, 2017\n",
       "                        <br/>0 comments, 869 views\n",
       "                    </div>\n",
       "                </div>\n",
       "                "
      ],
      "text/plain": [
       "<Item title:\"The Woodlands Township Map\" type:Web Map owner:WoodlandsGIS>"
      ]
     },
     "metadata": {},
     "output_type": "display_data"
    },
    {
     "data": {
      "text/html": [
       "<div class=\"item_container\" style=\"height: auto; overflow: hidden; border: 1px solid #cfcfcf; border-radius: 2px; background: #f6fafa; line-height: 1.21429em; padding: 10px;\">\n",
       "                    <div class=\"item_left\" style=\"width: 210px; float: left;\">\n",
       "                       <a href='http://www.arcgis.com/home/item.html?id=1803a56b783745749a0aad2b47d2573b' target='_blank'>\n",
       "                        <img src='http://www.arcgis.com/sharing/rest//content/items/1803a56b783745749a0aad2b47d2573b/info/thumbnail/ago_downloaded.png' class=\"itemThumbnail\">\n",
       "                       </a>\n",
       "                    </div>\n",
       "\n",
       "                    <div class=\"item_right\"     style=\"float: none; width: auto; overflow: hidden;\">\n",
       "                        <a href='http://www.arcgis.com/home/item.html?id=1803a56b783745749a0aad2b47d2573b' target='_blank'><b>Division of Fire Safety - Inspectors</b>\n",
       "                        </a>\n",
       "                        <br/>State DFS Inspectors<img src='http://www.arcgis.com/home/js/jsapi/esri/css/images/item_type_icons/maps16.png' style=\"vertical-align:middle;\">Web Map by Patrick.McLaughlin19\n",
       "                        <br/>Last Modified: February 24, 2017\n",
       "                        <br/>0 comments, 849 views\n",
       "                    </div>\n",
       "                </div>\n",
       "                "
      ],
      "text/plain": [
       "<Item title:\"Division of Fire Safety - Inspectors\" type:Web Map owner:Patrick.McLaughlin19>"
      ]
     },
     "metadata": {},
     "output_type": "display_data"
    },
    {
     "data": {
      "text/html": [
       "<div class=\"item_container\" style=\"height: auto; overflow: hidden; border: 1px solid #cfcfcf; border-radius: 2px; background: #f6fafa; line-height: 1.21429em; padding: 10px;\">\n",
       "                    <div class=\"item_left\" style=\"width: 210px; float: left;\">\n",
       "                       <a href='http://www.arcgis.com/home/item.html?id=251cb84288a642e98c7d23f2812b95f8' target='_blank'>\n",
       "                        <img src='http://www.arcgis.com/sharing/rest//content/items/251cb84288a642e98c7d23f2812b95f8/info/thumbnail/ago_downloaded.png' class=\"itemThumbnail\">\n",
       "                       </a>\n",
       "                    </div>\n",
       "\n",
       "                    <div class=\"item_right\"     style=\"float: none; width: auto; overflow: hidden;\">\n",
       "                        <a href='http://www.arcgis.com/home/item.html?id=251cb84288a642e98c7d23f2812b95f8' target='_blank'><b>2017 - 2021 CIP Web Map</b>\n",
       "                        </a>\n",
       "                        <br/>The CIP consists primarily of land acquisition, infrastructure improvements such as streets and utilities, acquisition or construction of buildings, and other improvements to facilities or property such as parks.<img src='http://www.arcgis.com/home/js/jsapi/esri/css/images/item_type_icons/maps16.png' style=\"vertical-align:middle;\">Web Map by dvandeberg_cityofsfgis\n",
       "                        <br/>Last Modified: February 24, 2017\n",
       "                        <br/>0 comments, 789 views\n",
       "                    </div>\n",
       "                </div>\n",
       "                "
      ],
      "text/plain": [
       "<Item title:\"2017 - 2021 CIP Web Map\" type:Web Map owner:dvandeberg_cityofsfgis>"
      ]
     },
     "metadata": {},
     "output_type": "display_data"
    }
   ],
   "source": [
    "get_recent_maps_about('fire', num_days_ago=10)"
   ]
  },
  {
   "cell_type": "markdown",
   "metadata": {},
   "source": [
    "# Tsunamis"
   ]
  },
  {
   "cell_type": "code",
   "execution_count": 5,
   "metadata": {
    "collapsed": false
   },
   "outputs": [
    {
     "data": {
      "text/html": [
       "<div class=\"item_container\" style=\"height: auto; overflow: hidden; border: 1px solid #cfcfcf; border-radius: 2px; background: #f6fafa; line-height: 1.21429em; padding: 10px;\">\n",
       "                    <div class=\"item_left\" style=\"width: 210px; float: left;\">\n",
       "                       <a href='http://www.arcgis.com/home/item.html?id=57835f46ed744186b483175578d34878' target='_blank'>\n",
       "                        <img src='http://www.arcgis.com/sharing/rest//content/items/57835f46ed744186b483175578d34878/info/thumbnail/section-banner-.jpg' class=\"itemThumbnail\">\n",
       "                       </a>\n",
       "                    </div>\n",
       "\n",
       "                    <div class=\"item_right\"     style=\"float: none; width: auto; overflow: hidden;\">\n",
       "                        <a href='http://www.arcgis.com/home/item.html?id=57835f46ed744186b483175578d34878' target='_blank'><b>Natural Hazards</b>\n",
       "                        </a>\n",
       "                        <br/>Location of extent of potential Natural Hazards (flood, tsunami, erosion, coastal) that can affect areas in Northland.<img src='http://www.arcgis.com/home/js/jsapi/esri/css/images/item_type_icons/maps16.png' style=\"vertical-align:middle;\">Web Map by NRC_admin\n",
       "                        <br/>Last Modified: March 01, 2017\n",
       "                        <br/>0 comments, 11,085 views\n",
       "                    </div>\n",
       "                </div>\n",
       "                "
      ],
      "text/plain": [
       "<Item title:\"Natural Hazards\" type:Web Map owner:NRC_admin>"
      ]
     },
     "metadata": {},
     "output_type": "display_data"
    },
    {
     "data": {
      "text/html": [
       "<div class=\"item_container\" style=\"height: auto; overflow: hidden; border: 1px solid #cfcfcf; border-radius: 2px; background: #f6fafa; line-height: 1.21429em; padding: 10px;\">\n",
       "                    <div class=\"item_left\" style=\"width: 210px; float: left;\">\n",
       "                       <a href='http://www.arcgis.com/home/item.html?id=abce1d91f5a243a9823fca6c39f71ab3' target='_blank'>\n",
       "                        <img src='http://www.arcgis.com/sharing/rest//content/items/abce1d91f5a243a9823fca6c39f71ab3/info/thumbnail/EmerResp-Offices-Employees_WebMap_200x133.png' class=\"itemThumbnail\">\n",
       "                       </a>\n",
       "                    </div>\n",
       "\n",
       "                    <div class=\"item_right\"     style=\"float: none; width: auto; overflow: hidden;\">\n",
       "                        <a href='http://www.arcgis.com/home/item.html?id=abce1d91f5a243a9823fca6c39f71ab3' target='_blank'><b>CB&I Emergency Response Web Map</b>\n",
       "                        </a>\n",
       "                        <br/>Web map for CB&I Emergency Response Application.<img src='http://www.arcgis.com/home/js/jsapi/esri/css/images/item_type_icons/maps16.png' style=\"vertical-align:middle;\">Web Map by john.mcewen\n",
       "                        <br/>Last Modified: February 22, 2017\n",
       "                        <br/>0 comments, 947 views\n",
       "                    </div>\n",
       "                </div>\n",
       "                "
      ],
      "text/plain": [
       "<Item title:\"CB&I Emergency Response Web Map\" type:Web Map owner:john.mcewen>"
      ]
     },
     "metadata": {},
     "output_type": "display_data"
    },
    {
     "data": {
      "text/html": [
       "<div class=\"item_container\" style=\"height: auto; overflow: hidden; border: 1px solid #cfcfcf; border-radius: 2px; background: #f6fafa; line-height: 1.21429em; padding: 10px;\">\n",
       "                    <div class=\"item_left\" style=\"width: 210px; float: left;\">\n",
       "                       <a href='http://www.arcgis.com/home/item.html?id=a867399ba9b94895954ec19728ca3bfa' target='_blank'>\n",
       "                        <img src='http://www.arcgis.com/sharing/rest//content/items/a867399ba9b94895954ec19728ca3bfa/info/thumbnail/ago_downloaded.png' class=\"itemThumbnail\">\n",
       "                       </a>\n",
       "                    </div>\n",
       "\n",
       "                    <div class=\"item_right\"     style=\"float: none; width: auto; overflow: hidden;\">\n",
       "                        <a href='http://www.arcgis.com/home/item.html?id=a867399ba9b94895954ec19728ca3bfa' target='_blank'><b>Seismic events: Natural Hazard or Natural Disaster</b>\n",
       "                        </a>\n",
       "                        <br/>Natural Hazards for 4th grade science and social studies GeoInquiries<img src='http://www.arcgis.com/home/js/jsapi/esri/css/images/item_type_icons/maps16.png' style=\"vertical-align:middle;\">Web Map by Esri_GeoInquiry_Grade4\n",
       "                        <br/>Last Modified: February 22, 2017\n",
       "                        <br/>0 comments, 659 views\n",
       "                    </div>\n",
       "                </div>\n",
       "                "
      ],
      "text/plain": [
       "<Item title:\"Seismic events: Natural Hazard or Natural Disaster\" type:Web Map owner:Esri_GeoInquiry_Grade4>"
      ]
     },
     "metadata": {},
     "output_type": "display_data"
    },
    {
     "data": {
      "text/html": [
       "<div class=\"item_container\" style=\"height: auto; overflow: hidden; border: 1px solid #cfcfcf; border-radius: 2px; background: #f6fafa; line-height: 1.21429em; padding: 10px;\">\n",
       "                    <div class=\"item_left\" style=\"width: 210px; float: left;\">\n",
       "                       <a href='http://www.arcgis.com/home/item.html?id=bd4907ae50b140a4a5c409298cd5cfb4' target='_blank'>\n",
       "                        <img src='http://www.arcgis.com/sharing/rest//content/items/bd4907ae50b140a4a5c409298cd5cfb4/info/thumbnail/ago_downloaded.png' class=\"itemThumbnail\">\n",
       "                       </a>\n",
       "                    </div>\n",
       "\n",
       "                    <div class=\"item_right\"     style=\"float: none; width: auto; overflow: hidden;\">\n",
       "                        <a href='http://www.arcgis.com/home/item.html?id=bd4907ae50b140a4a5c409298cd5cfb4' target='_blank'><b>Hazards Story Map Base - Tsunami</b>\n",
       "                        </a>\n",
       "                        <br/><img src='http://www.arcgis.com/home/js/jsapi/esri/css/images/item_type_icons/maps16.png' style=\"vertical-align:middle;\">Web Map by David.Arnold@ga.gov.au_geoscience_au\n",
       "                        <br/>Last Modified: February 27, 2017\n",
       "                        <br/>0 comments, 563 views\n",
       "                    </div>\n",
       "                </div>\n",
       "                "
      ],
      "text/plain": [
       "<Item title:\"Hazards Story Map Base - Tsunami\" type:Web Map owner:David.Arnold@ga.gov.au_geoscience_au>"
      ]
     },
     "metadata": {},
     "output_type": "display_data"
    },
    {
     "data": {
      "text/html": [
       "<div class=\"item_container\" style=\"height: auto; overflow: hidden; border: 1px solid #cfcfcf; border-radius: 2px; background: #f6fafa; line-height: 1.21429em; padding: 10px;\">\n",
       "                    <div class=\"item_left\" style=\"width: 210px; float: left;\">\n",
       "                       <a href='http://www.arcgis.com/home/item.html?id=372838ecd491446dbef26813a9591f0c' target='_blank'>\n",
       "                        <img src='http://www.arcgis.com/sharing/rest//content/items/372838ecd491446dbef26813a9591f0c/info/thumbnail/ago_downloaded.png' class=\"itemThumbnail\">\n",
       "                       </a>\n",
       "                    </div>\n",
       "\n",
       "                    <div class=\"item_right\"     style=\"float: none; width: auto; overflow: hidden;\">\n",
       "                        <a href='http://www.arcgis.com/home/item.html?id=372838ecd491446dbef26813a9591f0c' target='_blank'><b>Disasters (PREVIEW) copy</b>\n",
       "                        </a>\n",
       "                        <br/>Disasters (PREVIEW)<img src='http://www.arcgis.com/home/js/jsapi/esri/css/images/item_type_icons/maps16.png' style=\"vertical-align:middle;\">Web Map by uneplive_team\n",
       "                        <br/>Last Modified: February 21, 2017\n",
       "                        <br/>0 comments, 147 views\n",
       "                    </div>\n",
       "                </div>\n",
       "                "
      ],
      "text/plain": [
       "<Item title:\"Disasters (PREVIEW) copy\" type:Web Map owner:uneplive_team>"
      ]
     },
     "metadata": {},
     "output_type": "display_data"
    },
    {
     "data": {
      "text/html": [
       "<div class=\"item_container\" style=\"height: auto; overflow: hidden; border: 1px solid #cfcfcf; border-radius: 2px; background: #f6fafa; line-height: 1.21429em; padding: 10px;\">\n",
       "                    <div class=\"item_left\" style=\"width: 210px; float: left;\">\n",
       "                       <a href='http://www.arcgis.com/home/item.html?id=b7960c88e9ac47f5a7c121b5fb70d519' target='_blank'>\n",
       "                        <img src='http://static.arcgis.com/images/desktopapp.png' class=\"itemThumbnail\">\n",
       "                       </a>\n",
       "                    </div>\n",
       "\n",
       "                    <div class=\"item_right\"     style=\"float: none; width: auto; overflow: hidden;\">\n",
       "                        <a href='http://www.arcgis.com/home/item.html?id=b7960c88e9ac47f5a7c121b5fb70d519' target='_blank'><b>Disasters (PREVIEW)-Countries</b>\n",
       "                        </a>\n",
       "                        <br/>Disasters (PREVIEW)<img src='http://www.arcgis.com/home/js/jsapi/esri/css/images/item_type_icons/maps16.png' style=\"vertical-align:middle;\">Web Map by uneplive_team\n",
       "                        <br/>Last Modified: February 21, 2017\n",
       "                        <br/>0 comments, 134 views\n",
       "                    </div>\n",
       "                </div>\n",
       "                "
      ],
      "text/plain": [
       "<Item title:\"Disasters (PREVIEW)-Countries\" type:Web Map owner:uneplive_team>"
      ]
     },
     "metadata": {},
     "output_type": "display_data"
    },
    {
     "data": {
      "text/html": [
       "<div class=\"item_container\" style=\"height: auto; overflow: hidden; border: 1px solid #cfcfcf; border-radius: 2px; background: #f6fafa; line-height: 1.21429em; padding: 10px;\">\n",
       "                    <div class=\"item_left\" style=\"width: 210px; float: left;\">\n",
       "                       <a href='http://www.arcgis.com/home/item.html?id=02a10373bc7a466498fd46ed99df6f65' target='_blank'>\n",
       "                        <img src='http://static.arcgis.com/images/desktopapp.png' class=\"itemThumbnail\">\n",
       "                       </a>\n",
       "                    </div>\n",
       "\n",
       "                    <div class=\"item_right\"     style=\"float: none; width: auto; overflow: hidden;\">\n",
       "                        <a href='http://www.arcgis.com/home/item.html?id=02a10373bc7a466498fd46ed99df6f65' target='_blank'><b>Disasters (PREVIEW)-Regions</b>\n",
       "                        </a>\n",
       "                        <br/>Disasters (PREVIEW)<img src='http://www.arcgis.com/home/js/jsapi/esri/css/images/item_type_icons/maps16.png' style=\"vertical-align:middle;\">Web Map by uneplive_team\n",
       "                        <br/>Last Modified: February 21, 2017\n",
       "                        <br/>0 comments, 63 views\n",
       "                    </div>\n",
       "                </div>\n",
       "                "
      ],
      "text/plain": [
       "<Item title:\"Disasters (PREVIEW)-Regions\" type:Web Map owner:uneplive_team>"
      ]
     },
     "metadata": {},
     "output_type": "display_data"
    },
    {
     "data": {
      "text/html": [
       "<div class=\"item_container\" style=\"height: auto; overflow: hidden; border: 1px solid #cfcfcf; border-radius: 2px; background: #f6fafa; line-height: 1.21429em; padding: 10px;\">\n",
       "                    <div class=\"item_left\" style=\"width: 210px; float: left;\">\n",
       "                       <a href='http://www.arcgis.com/home/item.html?id=a6422dfed7c643308967fbb22aa12c72' target='_blank'>\n",
       "                        <img src='http://www.arcgis.com/sharing/rest//content/items/a6422dfed7c643308967fbb22aa12c72/info/thumbnail/ago_downloaded.png' class=\"itemThumbnail\">\n",
       "                       </a>\n",
       "                    </div>\n",
       "\n",
       "                    <div class=\"item_right\"     style=\"float: none; width: auto; overflow: hidden;\">\n",
       "                        <a href='http://www.arcgis.com/home/item.html?id=a6422dfed7c643308967fbb22aa12c72' target='_blank'><b>Earthquake and Tsunami Story Map</b>\n",
       "                        </a>\n",
       "                        <br/>Earthquake and Tsunami Story Map<img src='http://www.arcgis.com/home/js/jsapi/esri/css/images/item_type_icons/maps16.png' style=\"vertical-align:middle;\">Web Map by gumins_USCSSI\n",
       "                        <br/>Last Modified: February 23, 2017\n",
       "                        <br/>0 comments, 50 views\n",
       "                    </div>\n",
       "                </div>\n",
       "                "
      ],
      "text/plain": [
       "<Item title:\"Earthquake and Tsunami Story Map\" type:Web Map owner:gumins_USCSSI>"
      ]
     },
     "metadata": {},
     "output_type": "display_data"
    },
    {
     "data": {
      "text/html": [
       "<div class=\"item_container\" style=\"height: auto; overflow: hidden; border: 1px solid #cfcfcf; border-radius: 2px; background: #f6fafa; line-height: 1.21429em; padding: 10px;\">\n",
       "                    <div class=\"item_left\" style=\"width: 210px; float: left;\">\n",
       "                       <a href='http://www.arcgis.com/home/item.html?id=a319f7cf3f66407baf1efb2b1286e59c' target='_blank'>\n",
       "                        <img src='http://www.arcgis.com/sharing/rest//content/items/a319f7cf3f66407baf1efb2b1286e59c/info/thumbnail/ago_downloaded.png' class=\"itemThumbnail\">\n",
       "                       </a>\n",
       "                    </div>\n",
       "\n",
       "                    <div class=\"item_right\"     style=\"float: none; width: auto; overflow: hidden;\">\n",
       "                        <a href='http://www.arcgis.com/home/item.html?id=a319f7cf3f66407baf1efb2b1286e59c' target='_blank'><b>Arnold Japan tsunami map</b>\n",
       "                        </a>\n",
       "                        <br/><img src='http://www.arcgis.com/home/js/jsapi/esri/css/images/item_type_icons/maps16.png' style=\"vertical-align:middle;\">Web Map by bird_odc143\n",
       "                        <br/>Last Modified: February 27, 2017\n",
       "                        <br/>0 comments, 41 views\n",
       "                    </div>\n",
       "                </div>\n",
       "                "
      ],
      "text/plain": [
       "<Item title:\"Arnold Japan tsunami map\" type:Web Map owner:bird_odc143>"
      ]
     },
     "metadata": {},
     "output_type": "display_data"
    },
    {
     "data": {
      "text/html": [
       "<div class=\"item_container\" style=\"height: auto; overflow: hidden; border: 1px solid #cfcfcf; border-radius: 2px; background: #f6fafa; line-height: 1.21429em; padding: 10px;\">\n",
       "                    <div class=\"item_left\" style=\"width: 210px; float: left;\">\n",
       "                       <a href='http://www.arcgis.com/home/item.html?id=6279a201ce054140ba4fa0747a9810da' target='_blank'>\n",
       "                        <img src='http://www.arcgis.com/sharing/rest//content/items/6279a201ce054140ba4fa0747a9810da/info/thumbnail/ago_downloaded.png' class=\"itemThumbnail\">\n",
       "                       </a>\n",
       "                    </div>\n",
       "\n",
       "                    <div class=\"item_right\"     style=\"float: none; width: auto; overflow: hidden;\">\n",
       "                        <a href='http://www.arcgis.com/home/item.html?id=6279a201ce054140ba4fa0747a9810da' target='_blank'><b>Japanese Tsunami by Parker Fox</b>\n",
       "                        </a>\n",
       "                        <br/><img src='http://www.arcgis.com/home/js/jsapi/esri/css/images/item_type_icons/maps16.png' style=\"vertical-align:middle;\">Web Map by fox_ods03\n",
       "                        <br/>Last Modified: February 28, 2017\n",
       "                        <br/>0 comments, 41 views\n",
       "                    </div>\n",
       "                </div>\n",
       "                "
      ],
      "text/plain": [
       "<Item title:\"Japanese Tsunami by Parker Fox\" type:Web Map owner:fox_ods03>"
      ]
     },
     "metadata": {},
     "output_type": "display_data"
    },
    {
     "data": {
      "text/html": [
       "<div class=\"item_container\" style=\"height: auto; overflow: hidden; border: 1px solid #cfcfcf; border-radius: 2px; background: #f6fafa; line-height: 1.21429em; padding: 10px;\">\n",
       "                    <div class=\"item_left\" style=\"width: 210px; float: left;\">\n",
       "                       <a href='http://www.arcgis.com/home/item.html?id=88fa6a102cf0428baad9dc7c80d6eacd' target='_blank'>\n",
       "                        <img src='http://www.arcgis.com/sharing/rest//content/items/88fa6a102cf0428baad9dc7c80d6eacd/info/thumbnail/ago_downloaded.png' class=\"itemThumbnail\">\n",
       "                       </a>\n",
       "                    </div>\n",
       "\n",
       "                    <div class=\"item_right\"     style=\"float: none; width: auto; overflow: hidden;\">\n",
       "                        <a href='http://www.arcgis.com/home/item.html?id=88fa6a102cf0428baad9dc7c80d6eacd' target='_blank'><b>CGF3M: Natural Disasters/Hazards World Dataset</b>\n",
       "                        </a>\n",
       "                        <br/>A collection of various natural hazard/disaster locations worldwide<img src='http://www.arcgis.com/home/js/jsapi/esri/css/images/item_type_icons/maps16.png' style=\"vertical-align:middle;\">Web Map by Dscott0\n",
       "                        <br/>Last Modified: March 01, 2017\n",
       "                        <br/>0 comments, 38 views\n",
       "                    </div>\n",
       "                </div>\n",
       "                "
      ],
      "text/plain": [
       "<Item title:\"CGF3M: Natural Disasters/Hazards World Dataset\" type:Web Map owner:Dscott0>"
      ]
     },
     "metadata": {},
     "output_type": "display_data"
    },
    {
     "data": {
      "text/html": [
       "<div class=\"item_container\" style=\"height: auto; overflow: hidden; border: 1px solid #cfcfcf; border-radius: 2px; background: #f6fafa; line-height: 1.21429em; padding: 10px;\">\n",
       "                    <div class=\"item_left\" style=\"width: 210px; float: left;\">\n",
       "                       <a href='http://www.arcgis.com/home/item.html?id=adb4002ab06046208367e7c344d742f1' target='_blank'>\n",
       "                        <img src='http://www.arcgis.com/sharing/rest//content/items/adb4002ab06046208367e7c344d742f1/info/thumbnail/ago_downloaded.png' class=\"itemThumbnail\">\n",
       "                       </a>\n",
       "                    </div>\n",
       "\n",
       "                    <div class=\"item_right\"     style=\"float: none; width: auto; overflow: hidden;\">\n",
       "                        <a href='http://www.arcgis.com/home/item.html?id=adb4002ab06046208367e7c344d742f1' target='_blank'><b>Faults_EERI-tsunami-liquifaction</b>\n",
       "                        </a>\n",
       "                        <br/>fault sources include CGS/USGS, City of San Diego, and County<img src='http://www.arcgis.com/home/js/jsapi/esri/css/images/item_type_icons/maps16.png' style=\"vertical-align:middle;\">Web Map by cglockhoff\n",
       "                        <br/>Last Modified: February 21, 2017\n",
       "                        <br/>0 comments, 14 views\n",
       "                    </div>\n",
       "                </div>\n",
       "                "
      ],
      "text/plain": [
       "<Item title:\"Faults_EERI-tsunami-liquifaction\" type:Web Map owner:cglockhoff>"
      ]
     },
     "metadata": {},
     "output_type": "display_data"
    },
    {
     "data": {
      "text/html": [
       "<div class=\"item_container\" style=\"height: auto; overflow: hidden; border: 1px solid #cfcfcf; border-radius: 2px; background: #f6fafa; line-height: 1.21429em; padding: 10px;\">\n",
       "                    <div class=\"item_left\" style=\"width: 210px; float: left;\">\n",
       "                       <a href='http://www.arcgis.com/home/item.html?id=71855443b1f14bf481ae02d28d9fea8a' target='_blank'>\n",
       "                        <img src='http://static.arcgis.com/images/desktopapp.png' class=\"itemThumbnail\">\n",
       "                       </a>\n",
       "                    </div>\n",
       "\n",
       "                    <div class=\"item_right\"     style=\"float: none; width: auto; overflow: hidden;\">\n",
       "                        <a href='http://www.arcgis.com/home/item.html?id=71855443b1f14bf481ae02d28d9fea8a' target='_blank'><b>Disasters (PREVIEW)-Antigua and Barbuda</b>\n",
       "                        </a>\n",
       "                        <br/>Disasters (PREVIEW)<img src='http://www.arcgis.com/home/js/jsapi/esri/css/images/item_type_icons/maps16.png' style=\"vertical-align:middle;\">Web Map by uneplive_team\n",
       "                        <br/>Last Modified: February 21, 2017\n",
       "                        <br/>0 comments, 5 views\n",
       "                    </div>\n",
       "                </div>\n",
       "                "
      ],
      "text/plain": [
       "<Item title:\"Disasters (PREVIEW)-Antigua and Barbuda\" type:Web Map owner:uneplive_team>"
      ]
     },
     "metadata": {},
     "output_type": "display_data"
    },
    {
     "data": {
      "text/html": [
       "<div class=\"item_container\" style=\"height: auto; overflow: hidden; border: 1px solid #cfcfcf; border-radius: 2px; background: #f6fafa; line-height: 1.21429em; padding: 10px;\">\n",
       "                    <div class=\"item_left\" style=\"width: 210px; float: left;\">\n",
       "                       <a href='http://www.arcgis.com/home/item.html?id=7649195d198a4691b35677991bcaa290' target='_blank'>\n",
       "                        <img src='http://www.arcgis.com/sharing/rest//content/items/7649195d198a4691b35677991bcaa290/info/thumbnail/ago_downloaded.png' class=\"itemThumbnail\">\n",
       "                       </a>\n",
       "                    </div>\n",
       "\n",
       "                    <div class=\"item_right\"     style=\"float: none; width: auto; overflow: hidden;\">\n",
       "                        <a href='http://www.arcgis.com/home/item.html?id=7649195d198a4691b35677991bcaa290' target='_blank'><b>DR-1968</b>\n",
       "                        </a>\n",
       "                        <br/>California Tsunami Waves<img src='http://www.arcgis.com/home/js/jsapi/esri/css/images/item_type_icons/maps16.png' style=\"vertical-align:middle;\">Web Map by asm1230\n",
       "                        <br/>Last Modified: February 23, 2017\n",
       "                        <br/>0 comments, 5 views\n",
       "                    </div>\n",
       "                </div>\n",
       "                "
      ],
      "text/plain": [
       "<Item title:\"DR-1968\" type:Web Map owner:asm1230>"
      ]
     },
     "metadata": {},
     "output_type": "display_data"
    },
    {
     "data": {
      "text/html": [
       "<div class=\"item_container\" style=\"height: auto; overflow: hidden; border: 1px solid #cfcfcf; border-radius: 2px; background: #f6fafa; line-height: 1.21429em; padding: 10px;\">\n",
       "                    <div class=\"item_left\" style=\"width: 210px; float: left;\">\n",
       "                       <a href='http://www.arcgis.com/home/item.html?id=0d0b5850b7e74f3caff642bb620dd401' target='_blank'>\n",
       "                        <img src='http://static.arcgis.com/images/desktopapp.png' class=\"itemThumbnail\">\n",
       "                       </a>\n",
       "                    </div>\n",
       "\n",
       "                    <div class=\"item_right\"     style=\"float: none; width: auto; overflow: hidden;\">\n",
       "                        <a href='http://www.arcgis.com/home/item.html?id=0d0b5850b7e74f3caff642bb620dd401' target='_blank'><b>Disasters (PREVIEW)-Andorra</b>\n",
       "                        </a>\n",
       "                        <br/>Disasters (PREVIEW)<img src='http://www.arcgis.com/home/js/jsapi/esri/css/images/item_type_icons/maps16.png' style=\"vertical-align:middle;\">Web Map by uneplive_team\n",
       "                        <br/>Last Modified: February 21, 2017\n",
       "                        <br/>0 comments, 4 views\n",
       "                    </div>\n",
       "                </div>\n",
       "                "
      ],
      "text/plain": [
       "<Item title:\"Disasters (PREVIEW)-Andorra\" type:Web Map owner:uneplive_team>"
      ]
     },
     "metadata": {},
     "output_type": "display_data"
    },
    {
     "data": {
      "text/html": [
       "<div class=\"item_container\" style=\"height: auto; overflow: hidden; border: 1px solid #cfcfcf; border-radius: 2px; background: #f6fafa; line-height: 1.21429em; padding: 10px;\">\n",
       "                    <div class=\"item_left\" style=\"width: 210px; float: left;\">\n",
       "                       <a href='http://www.arcgis.com/home/item.html?id=01fccd1afa3e4c3887b17a88205147ae' target='_blank'>\n",
       "                        <img src='http://www.arcgis.com/sharing/rest//content/items/01fccd1afa3e4c3887b17a88205147ae/info/thumbnail/ago_downloaded.png' class=\"itemThumbnail\">\n",
       "                       </a>\n",
       "                    </div>\n",
       "\n",
       "                    <div class=\"item_right\"     style=\"float: none; width: auto; overflow: hidden;\">\n",
       "                        <a href='http://www.arcgis.com/home/item.html?id=01fccd1afa3e4c3887b17a88205147ae' target='_blank'><b>Natural Hazard Risk Map-Copy</b>\n",
       "                        </a>\n",
       "                        <br/>A combination of layers showing earthquake faults, fire hazard severity zones, 100 Year Flood Plain, dam inundation zones and tsunami risk<img src='http://www.arcgis.com/home/js/jsapi/esri/css/images/item_type_icons/maps16.png' style=\"vertical-align:middle;\">Web Map by mscott_sanmaps\n",
       "                        <br/>Last Modified: February 21, 2017\n",
       "                        <br/>0 comments, 4 views\n",
       "                    </div>\n",
       "                </div>\n",
       "                "
      ],
      "text/plain": [
       "<Item title:\"Natural Hazard Risk Map-Copy\" type:Web Map owner:mscott_sanmaps>"
      ]
     },
     "metadata": {},
     "output_type": "display_data"
    },
    {
     "data": {
      "text/html": [
       "<div class=\"item_container\" style=\"height: auto; overflow: hidden; border: 1px solid #cfcfcf; border-radius: 2px; background: #f6fafa; line-height: 1.21429em; padding: 10px;\">\n",
       "                    <div class=\"item_left\" style=\"width: 210px; float: left;\">\n",
       "                       <a href='http://www.arcgis.com/home/item.html?id=5e064d5ff44d42a4a604ef58960e3d67' target='_blank'>\n",
       "                        <img src='http://static.arcgis.com/images/desktopapp.png' class=\"itemThumbnail\">\n",
       "                       </a>\n",
       "                    </div>\n",
       "\n",
       "                    <div class=\"item_right\"     style=\"float: none; width: auto; overflow: hidden;\">\n",
       "                        <a href='http://www.arcgis.com/home/item.html?id=5e064d5ff44d42a4a604ef58960e3d67' target='_blank'><b>Disasters (PREVIEW)-Afghanistan</b>\n",
       "                        </a>\n",
       "                        <br/>Disasters (PREVIEW)<img src='http://www.arcgis.com/home/js/jsapi/esri/css/images/item_type_icons/maps16.png' style=\"vertical-align:middle;\">Web Map by uneplive_team\n",
       "                        <br/>Last Modified: February 21, 2017\n",
       "                        <br/>0 comments, 3 views\n",
       "                    </div>\n",
       "                </div>\n",
       "                "
      ],
      "text/plain": [
       "<Item title:\"Disasters (PREVIEW)-Afghanistan\" type:Web Map owner:uneplive_team>"
      ]
     },
     "metadata": {},
     "output_type": "display_data"
    },
    {
     "data": {
      "text/html": [
       "<div class=\"item_container\" style=\"height: auto; overflow: hidden; border: 1px solid #cfcfcf; border-radius: 2px; background: #f6fafa; line-height: 1.21429em; padding: 10px;\">\n",
       "                    <div class=\"item_left\" style=\"width: 210px; float: left;\">\n",
       "                       <a href='http://www.arcgis.com/home/item.html?id=bd9bbfbc42ee4116ad19d613ba1dbc48' target='_blank'>\n",
       "                        <img src='http://static.arcgis.com/images/desktopapp.png' class=\"itemThumbnail\">\n",
       "                       </a>\n",
       "                    </div>\n",
       "\n",
       "                    <div class=\"item_right\"     style=\"float: none; width: auto; overflow: hidden;\">\n",
       "                        <a href='http://www.arcgis.com/home/item.html?id=bd9bbfbc42ee4116ad19d613ba1dbc48' target='_blank'><b>Disasters (PREVIEW)-Algeria</b>\n",
       "                        </a>\n",
       "                        <br/>Disasters (PREVIEW)<img src='http://www.arcgis.com/home/js/jsapi/esri/css/images/item_type_icons/maps16.png' style=\"vertical-align:middle;\">Web Map by uneplive_team\n",
       "                        <br/>Last Modified: February 21, 2017\n",
       "                        <br/>0 comments, 2 views\n",
       "                    </div>\n",
       "                </div>\n",
       "                "
      ],
      "text/plain": [
       "<Item title:\"Disasters (PREVIEW)-Algeria\" type:Web Map owner:uneplive_team>"
      ]
     },
     "metadata": {},
     "output_type": "display_data"
    },
    {
     "data": {
      "text/html": [
       "<div class=\"item_container\" style=\"height: auto; overflow: hidden; border: 1px solid #cfcfcf; border-radius: 2px; background: #f6fafa; line-height: 1.21429em; padding: 10px;\">\n",
       "                    <div class=\"item_left\" style=\"width: 210px; float: left;\">\n",
       "                       <a href='http://www.arcgis.com/home/item.html?id=480ee507fcde4a06a3e7533250dd2457' target='_blank'>\n",
       "                        <img src='http://static.arcgis.com/images/desktopapp.png' class=\"itemThumbnail\">\n",
       "                       </a>\n",
       "                    </div>\n",
       "\n",
       "                    <div class=\"item_right\"     style=\"float: none; width: auto; overflow: hidden;\">\n",
       "                        <a href='http://www.arcgis.com/home/item.html?id=480ee507fcde4a06a3e7533250dd2457' target='_blank'><b>Disasters (PREVIEW)-Armenia</b>\n",
       "                        </a>\n",
       "                        <br/>Disasters (PREVIEW)<img src='http://www.arcgis.com/home/js/jsapi/esri/css/images/item_type_icons/maps16.png' style=\"vertical-align:middle;\">Web Map by uneplive_team\n",
       "                        <br/>Last Modified: February 21, 2017\n",
       "                        <br/>0 comments, 2 views\n",
       "                    </div>\n",
       "                </div>\n",
       "                "
      ],
      "text/plain": [
       "<Item title:\"Disasters (PREVIEW)-Armenia\" type:Web Map owner:uneplive_team>"
      ]
     },
     "metadata": {},
     "output_type": "display_data"
    },
    {
     "data": {
      "text/html": [
       "<div class=\"item_container\" style=\"height: auto; overflow: hidden; border: 1px solid #cfcfcf; border-radius: 2px; background: #f6fafa; line-height: 1.21429em; padding: 10px;\">\n",
       "                    <div class=\"item_left\" style=\"width: 210px; float: left;\">\n",
       "                       <a href='http://www.arcgis.com/home/item.html?id=bd27f1f0758f4f7997087080eb6aa701' target='_blank'>\n",
       "                        <img src='http://www.arcgis.com/sharing/rest//content/items/bd27f1f0758f4f7997087080eb6aa701/info/thumbnail/ago_downloaded.png' class=\"itemThumbnail\">\n",
       "                       </a>\n",
       "                    </div>\n",
       "\n",
       "                    <div class=\"item_right\"     style=\"float: none; width: auto; overflow: hidden;\">\n",
       "                        <a href='http://www.arcgis.com/home/item.html?id=bd27f1f0758f4f7997087080eb6aa701' target='_blank'><b>Disasters (PREVIEW)-Albania</b>\n",
       "                        </a>\n",
       "                        <br/>Disasters (PREVIEW)<img src='http://www.arcgis.com/home/js/jsapi/esri/css/images/item_type_icons/maps16.png' style=\"vertical-align:middle;\">Web Map by uneplive_team\n",
       "                        <br/>Last Modified: February 21, 2017\n",
       "                        <br/>0 comments, 2 views\n",
       "                    </div>\n",
       "                </div>\n",
       "                "
      ],
      "text/plain": [
       "<Item title:\"Disasters (PREVIEW)-Albania\" type:Web Map owner:uneplive_team>"
      ]
     },
     "metadata": {},
     "output_type": "display_data"
    },
    {
     "data": {
      "text/html": [
       "<div class=\"item_container\" style=\"height: auto; overflow: hidden; border: 1px solid #cfcfcf; border-radius: 2px; background: #f6fafa; line-height: 1.21429em; padding: 10px;\">\n",
       "                    <div class=\"item_left\" style=\"width: 210px; float: left;\">\n",
       "                       <a href='http://www.arcgis.com/home/item.html?id=ef477d009a7e4e7fa6e717ba228ae5ec' target='_blank'>\n",
       "                        <img src='http://static.arcgis.com/images/desktopapp.png' class=\"itemThumbnail\">\n",
       "                       </a>\n",
       "                    </div>\n",
       "\n",
       "                    <div class=\"item_right\"     style=\"float: none; width: auto; overflow: hidden;\">\n",
       "                        <a href='http://www.arcgis.com/home/item.html?id=ef477d009a7e4e7fa6e717ba228ae5ec' target='_blank'><b>Disasters (PREVIEW)-Argentina</b>\n",
       "                        </a>\n",
       "                        <br/>Disasters (PREVIEW)<img src='http://www.arcgis.com/home/js/jsapi/esri/css/images/item_type_icons/maps16.png' style=\"vertical-align:middle;\">Web Map by uneplive_team\n",
       "                        <br/>Last Modified: February 21, 2017\n",
       "                        <br/>0 comments, 2 views\n",
       "                    </div>\n",
       "                </div>\n",
       "                "
      ],
      "text/plain": [
       "<Item title:\"Disasters (PREVIEW)-Argentina\" type:Web Map owner:uneplive_team>"
      ]
     },
     "metadata": {},
     "output_type": "display_data"
    }
   ],
   "source": [
    "get_recent_maps_about('tsunami', num_days_ago=10)"
   ]
  },
  {
   "cell_type": "markdown",
   "metadata": {},
   "source": [
    "# Earthquakes"
   ]
  },
  {
   "cell_type": "code",
   "execution_count": 6,
   "metadata": {
    "collapsed": false,
    "scrolled": false
   },
   "outputs": [
    {
     "data": {
      "text/html": [
       "<div class=\"item_container\" style=\"height: auto; overflow: hidden; border: 1px solid #cfcfcf; border-radius: 2px; background: #f6fafa; line-height: 1.21429em; padding: 10px;\">\n",
       "                    <div class=\"item_left\" style=\"width: 210px; float: left;\">\n",
       "                       <a href='http://www.arcgis.com/home/item.html?id=26f7674a2ad744f3806af0c426531951' target='_blank'>\n",
       "                        <img src='http://www.arcgis.com/sharing/rest//content/items/26f7674a2ad744f3806af0c426531951/info/thumbnail/SDEmergency_portal_Link_toAGO.png' class=\"itemThumbnail\">\n",
       "                       </a>\n",
       "                    </div>\n",
       "\n",
       "                    <div class=\"item_right\"     style=\"float: none; width: auto; overflow: hidden;\">\n",
       "                        <a href='http://www.arcgis.com/home/item.html?id=26f7674a2ad744f3806af0c426531951' target='_blank'><b>County of San Diego Emergency Map (Live)</b>\n",
       "                        </a>\n",
       "                        <br/>Public feed from the County of San Diego Office of Emergency Services and other emergency-related feeds.<img src='http://www.arcgis.com/home/js/jsapi/esri/css/images/item_type_icons/maps16.png' style=\"vertical-align:middle;\">Web Map by oes_services\n",
       "                        <br/>Last Modified: February 28, 2017\n",
       "                        <br/>11 comments, 3,426,389 views\n",
       "                    </div>\n",
       "                </div>\n",
       "                "
      ],
      "text/plain": [
       "<Item title:\"County of San Diego Emergency Map (Live)\" type:Web Map owner:oes_services>"
      ]
     },
     "metadata": {},
     "output_type": "display_data"
    },
    {
     "data": {
      "text/html": [
       "<div class=\"item_container\" style=\"height: auto; overflow: hidden; border: 1px solid #cfcfcf; border-radius: 2px; background: #f6fafa; line-height: 1.21429em; padding: 10px;\">\n",
       "                    <div class=\"item_left\" style=\"width: 210px; float: left;\">\n",
       "                       <a href='http://www.arcgis.com/home/item.html?id=92653a777a3f44a682174db3d8051c7b' target='_blank'>\n",
       "                        <img src='http://www.arcgis.com/sharing/rest//content/items/92653a777a3f44a682174db3d8051c7b/info/thumbnail/ago_downloaded.png' class=\"itemThumbnail\">\n",
       "                       </a>\n",
       "                    </div>\n",
       "\n",
       "                    <div class=\"item_right\"     style=\"float: none; width: auto; overflow: hidden;\">\n",
       "                        <a href='http://www.arcgis.com/home/item.html?id=92653a777a3f44a682174db3d8051c7b' target='_blank'><b>County Emergency Managers -- Utah</b>\n",
       "                        </a>\n",
       "                        <br/>A clickable map to find the contact information for Utah's county emergency managers.<img src='http://www.arcgis.com/home/js/jsapi/esri/css/images/item_type_icons/maps16.png' style=\"vertical-align:middle;\">Web Map by joedougherty\n",
       "                        <br/>Last Modified: February 22, 2017\n",
       "                        <br/>0 comments, 127,492 views\n",
       "                    </div>\n",
       "                </div>\n",
       "                "
      ],
      "text/plain": [
       "<Item title:\"County Emergency Managers -- Utah\" type:Web Map owner:joedougherty>"
      ]
     },
     "metadata": {},
     "output_type": "display_data"
    },
    {
     "data": {
      "text/html": [
       "<div class=\"item_container\" style=\"height: auto; overflow: hidden; border: 1px solid #cfcfcf; border-radius: 2px; background: #f6fafa; line-height: 1.21429em; padding: 10px;\">\n",
       "                    <div class=\"item_left\" style=\"width: 210px; float: left;\">\n",
       "                       <a href='http://www.arcgis.com/home/item.html?id=57835f46ed744186b483175578d34878' target='_blank'>\n",
       "                        <img src='http://www.arcgis.com/sharing/rest//content/items/57835f46ed744186b483175578d34878/info/thumbnail/section-banner-.jpg' class=\"itemThumbnail\">\n",
       "                       </a>\n",
       "                    </div>\n",
       "\n",
       "                    <div class=\"item_right\"     style=\"float: none; width: auto; overflow: hidden;\">\n",
       "                        <a href='http://www.arcgis.com/home/item.html?id=57835f46ed744186b483175578d34878' target='_blank'><b>Natural Hazards</b>\n",
       "                        </a>\n",
       "                        <br/>Location of extent of potential Natural Hazards (flood, tsunami, erosion, coastal) that can affect areas in Northland.<img src='http://www.arcgis.com/home/js/jsapi/esri/css/images/item_type_icons/maps16.png' style=\"vertical-align:middle;\">Web Map by NRC_admin\n",
       "                        <br/>Last Modified: March 01, 2017\n",
       "                        <br/>0 comments, 11,085 views\n",
       "                    </div>\n",
       "                </div>\n",
       "                "
      ],
      "text/plain": [
       "<Item title:\"Natural Hazards\" type:Web Map owner:NRC_admin>"
      ]
     },
     "metadata": {},
     "output_type": "display_data"
    },
    {
     "data": {
      "text/html": [
       "<div class=\"item_container\" style=\"height: auto; overflow: hidden; border: 1px solid #cfcfcf; border-radius: 2px; background: #f6fafa; line-height: 1.21429em; padding: 10px;\">\n",
       "                    <div class=\"item_left\" style=\"width: 210px; float: left;\">\n",
       "                       <a href='http://www.arcgis.com/home/item.html?id=02d011e818324dc8a27c161b8b22f3b2' target='_blank'>\n",
       "                        <img src='http://www.arcgis.com/sharing/rest//content/items/02d011e818324dc8a27c161b8b22f3b2/info/thumbnail/ago_downloaded.png' class=\"itemThumbnail\">\n",
       "                       </a>\n",
       "                    </div>\n",
       "\n",
       "                    <div class=\"item_right\"     style=\"float: none; width: auto; overflow: hidden;\">\n",
       "                        <a href='http://www.arcgis.com/home/item.html?id=02d011e818324dc8a27c161b8b22f3b2' target='_blank'><b>Earthquakes, Fire, Flood Hazards from ESRI</b>\n",
       "                        </a>\n",
       "                        <br/>Hazards for Northern California<img src='http://www.arcgis.com/home/js/jsapi/esri/css/images/item_type_icons/maps16.png' style=\"vertical-align:middle;\">Web Map by chinmayalewis\n",
       "                        <br/>Last Modified: February 21, 2017\n",
       "                        <br/>0 comments, 7,940 views\n",
       "                    </div>\n",
       "                </div>\n",
       "                "
      ],
      "text/plain": [
       "<Item title:\"Earthquakes, Fire, Flood Hazards from ESRI\" type:Web Map owner:chinmayalewis>"
      ]
     },
     "metadata": {},
     "output_type": "display_data"
    },
    {
     "data": {
      "text/html": [
       "<div class=\"item_container\" style=\"height: auto; overflow: hidden; border: 1px solid #cfcfcf; border-radius: 2px; background: #f6fafa; line-height: 1.21429em; padding: 10px;\">\n",
       "                    <div class=\"item_left\" style=\"width: 210px; float: left;\">\n",
       "                       <a href='http://www.arcgis.com/home/item.html?id=abce1d91f5a243a9823fca6c39f71ab3' target='_blank'>\n",
       "                        <img src='http://www.arcgis.com/sharing/rest//content/items/abce1d91f5a243a9823fca6c39f71ab3/info/thumbnail/EmerResp-Offices-Employees_WebMap_200x133.png' class=\"itemThumbnail\">\n",
       "                       </a>\n",
       "                    </div>\n",
       "\n",
       "                    <div class=\"item_right\"     style=\"float: none; width: auto; overflow: hidden;\">\n",
       "                        <a href='http://www.arcgis.com/home/item.html?id=abce1d91f5a243a9823fca6c39f71ab3' target='_blank'><b>CB&I Emergency Response Web Map</b>\n",
       "                        </a>\n",
       "                        <br/>Web map for CB&I Emergency Response Application.<img src='http://www.arcgis.com/home/js/jsapi/esri/css/images/item_type_icons/maps16.png' style=\"vertical-align:middle;\">Web Map by john.mcewen\n",
       "                        <br/>Last Modified: February 22, 2017\n",
       "                        <br/>0 comments, 947 views\n",
       "                    </div>\n",
       "                </div>\n",
       "                "
      ],
      "text/plain": [
       "<Item title:\"CB&I Emergency Response Web Map\" type:Web Map owner:john.mcewen>"
      ]
     },
     "metadata": {},
     "output_type": "display_data"
    },
    {
     "data": {
      "text/html": [
       "<div class=\"item_container\" style=\"height: auto; overflow: hidden; border: 1px solid #cfcfcf; border-radius: 2px; background: #f6fafa; line-height: 1.21429em; padding: 10px;\">\n",
       "                    <div class=\"item_left\" style=\"width: 210px; float: left;\">\n",
       "                       <a href='http://www.arcgis.com/home/item.html?id=32eec889bf3c49a8adaac7134b83cf94' target='_blank'>\n",
       "                        <img src='http://www.arcgis.com/sharing/rest//content/items/32eec889bf3c49a8adaac7134b83cf94/info/thumbnail/ago_downloaded.png' class=\"itemThumbnail\">\n",
       "                       </a>\n",
       "                    </div>\n",
       "\n",
       "                    <div class=\"item_right\"     style=\"float: none; width: auto; overflow: hidden;\">\n",
       "                        <a href='http://www.arcgis.com/home/item.html?id=32eec889bf3c49a8adaac7134b83cf94' target='_blank'><b>Hazards Story Map Base - Earthquake Hazard</b>\n",
       "                        </a>\n",
       "                        <br/><img src='http://www.arcgis.com/home/js/jsapi/esri/css/images/item_type_icons/maps16.png' style=\"vertical-align:middle;\">Web Map by David.Arnold@ga.gov.au_geoscience_au\n",
       "                        <br/>Last Modified: March 01, 2017\n",
       "                        <br/>0 comments, 910 views\n",
       "                    </div>\n",
       "                </div>\n",
       "                "
      ],
      "text/plain": [
       "<Item title:\"Hazards Story Map Base - Earthquake Hazard\" type:Web Map owner:David.Arnold@ga.gov.au_geoscience_au>"
      ]
     },
     "metadata": {},
     "output_type": "display_data"
    },
    {
     "data": {
      "text/html": [
       "<div class=\"item_container\" style=\"height: auto; overflow: hidden; border: 1px solid #cfcfcf; border-radius: 2px; background: #f6fafa; line-height: 1.21429em; padding: 10px;\">\n",
       "                    <div class=\"item_left\" style=\"width: 210px; float: left;\">\n",
       "                       <a href='http://www.arcgis.com/home/item.html?id=a867399ba9b94895954ec19728ca3bfa' target='_blank'>\n",
       "                        <img src='http://www.arcgis.com/sharing/rest//content/items/a867399ba9b94895954ec19728ca3bfa/info/thumbnail/ago_downloaded.png' class=\"itemThumbnail\">\n",
       "                       </a>\n",
       "                    </div>\n",
       "\n",
       "                    <div class=\"item_right\"     style=\"float: none; width: auto; overflow: hidden;\">\n",
       "                        <a href='http://www.arcgis.com/home/item.html?id=a867399ba9b94895954ec19728ca3bfa' target='_blank'><b>Seismic events: Natural Hazard or Natural Disaster</b>\n",
       "                        </a>\n",
       "                        <br/>Natural Hazards for 4th grade science and social studies GeoInquiries<img src='http://www.arcgis.com/home/js/jsapi/esri/css/images/item_type_icons/maps16.png' style=\"vertical-align:middle;\">Web Map by Esri_GeoInquiry_Grade4\n",
       "                        <br/>Last Modified: February 22, 2017\n",
       "                        <br/>0 comments, 659 views\n",
       "                    </div>\n",
       "                </div>\n",
       "                "
      ],
      "text/plain": [
       "<Item title:\"Seismic events: Natural Hazard or Natural Disaster\" type:Web Map owner:Esri_GeoInquiry_Grade4>"
      ]
     },
     "metadata": {},
     "output_type": "display_data"
    },
    {
     "data": {
      "text/html": [
       "<div class=\"item_container\" style=\"height: auto; overflow: hidden; border: 1px solid #cfcfcf; border-radius: 2px; background: #f6fafa; line-height: 1.21429em; padding: 10px;\">\n",
       "                    <div class=\"item_left\" style=\"width: 210px; float: left;\">\n",
       "                       <a href='http://www.arcgis.com/home/item.html?id=881c0f71a1c94474ade69bf01a8f1240' target='_blank'>\n",
       "                        <img src='http://www.arcgis.com/sharing/rest//content/items/881c0f71a1c94474ade69bf01a8f1240/info/thumbnail/ago_downloaded.png' class=\"itemThumbnail\">\n",
       "                       </a>\n",
       "                    </div>\n",
       "\n",
       "                    <div class=\"item_right\"     style=\"float: none; width: auto; overflow: hidden;\">\n",
       "                        <a href='http://www.arcgis.com/home/item.html?id=881c0f71a1c94474ade69bf01a8f1240' target='_blank'><b>Cascadia School Outreach Map</b>\n",
       "                        </a>\n",
       "                        <br/>Outreach done in local schools to educate about earthquake preparedness<img src='http://www.arcgis.com/home/js/jsapi/esri/css/images/item_type_icons/maps16.png' style=\"vertical-align:middle;\">Web Map by jelstro1_GISandData\n",
       "                        <br/>Last Modified: February 22, 2017\n",
       "                        <br/>0 comments, 652 views\n",
       "                    </div>\n",
       "                </div>\n",
       "                "
      ],
      "text/plain": [
       "<Item title:\"Cascadia School Outreach Map\" type:Web Map owner:jelstro1_GISandData>"
      ]
     },
     "metadata": {},
     "output_type": "display_data"
    },
    {
     "data": {
      "text/html": [
       "<div class=\"item_container\" style=\"height: auto; overflow: hidden; border: 1px solid #cfcfcf; border-radius: 2px; background: #f6fafa; line-height: 1.21429em; padding: 10px;\">\n",
       "                    <div class=\"item_left\" style=\"width: 210px; float: left;\">\n",
       "                       <a href='http://www.arcgis.com/home/item.html?id=c5f44d7d0e434d2d97efcf78f2b66efe' target='_blank'>\n",
       "                        <img src='http://www.arcgis.com/sharing/rest//content/items/c5f44d7d0e434d2d97efcf78f2b66efe/info/thumbnail/ago_downloaded.png' class=\"itemThumbnail\">\n",
       "                       </a>\n",
       "                    </div>\n",
       "\n",
       "                    <div class=\"item_right\"     style=\"float: none; width: auto; overflow: hidden;\">\n",
       "                        <a href='http://www.arcgis.com/home/item.html?id=c5f44d7d0e434d2d97efcf78f2b66efe' target='_blank'><b>INGV - ISPRA joint Surface Faulting Database - Mw 6.1, 2009, April 6th L'Aquila earthquake (Central Italy)</b>\n",
       "                        </a>\n",
       "                        <br/>INGV - ISPRA joint db - 2009 L’Aquila earthquake surface rupture<img src='http://www.arcgis.com/home/js/jsapi/esri/css/images/item_type_icons/maps16.png' style=\"vertical-align:middle;\">Web Map by LabHRT\n",
       "                        <br/>Last Modified: February 23, 2017\n",
       "                        <br/>0 comments, 457 views\n",
       "                    </div>\n",
       "                </div>\n",
       "                "
      ],
      "text/plain": [
       "<Item title:\"INGV - ISPRA joint Surface Faulting Database - Mw 6.1, 2009, April 6th L'Aquila earthquake (Central Italy)\" type:Web Map owner:LabHRT>"
      ]
     },
     "metadata": {},
     "output_type": "display_data"
    },
    {
     "data": {
      "text/html": [
       "<div class=\"item_container\" style=\"height: auto; overflow: hidden; border: 1px solid #cfcfcf; border-radius: 2px; background: #f6fafa; line-height: 1.21429em; padding: 10px;\">\n",
       "                    <div class=\"item_left\" style=\"width: 210px; float: left;\">\n",
       "                       <a href='http://www.arcgis.com/home/item.html?id=cd7e83c2be2c44e7992177905fb0595a' target='_blank'>\n",
       "                        <img src='http://www.arcgis.com/sharing/rest//content/items/cd7e83c2be2c44e7992177905fb0595a/info/thumbnail/ago_downloaded.png' class=\"itemThumbnail\">\n",
       "                       </a>\n",
       "                    </div>\n",
       "\n",
       "                    <div class=\"item_right\"     style=\"float: none; width: auto; overflow: hidden;\">\n",
       "                        <a href='http://www.arcgis.com/home/item.html?id=cd7e83c2be2c44e7992177905fb0595a' target='_blank'><b>Web map: Natural Hazards 2014</b>\n",
       "                        </a>\n",
       "                        <br/><img src='http://www.arcgis.com/home/js/jsapi/esri/css/images/item_type_icons/maps16.png' style=\"vertical-align:middle;\">Web Map by cadmus_dev\n",
       "                        <br/>Last Modified: March 01, 2017\n",
       "                        <br/>0 comments, 419 views\n",
       "                    </div>\n",
       "                </div>\n",
       "                "
      ],
      "text/plain": [
       "<Item title:\"Web map: Natural Hazards 2014\" type:Web Map owner:cadmus_dev>"
      ]
     },
     "metadata": {},
     "output_type": "display_data"
    },
    {
     "data": {
      "text/html": [
       "<div class=\"item_container\" style=\"height: auto; overflow: hidden; border: 1px solid #cfcfcf; border-radius: 2px; background: #f6fafa; line-height: 1.21429em; padding: 10px;\">\n",
       "                    <div class=\"item_left\" style=\"width: 210px; float: left;\">\n",
       "                       <a href='http://www.arcgis.com/home/item.html?id=33f019493b4e4afe8f3d64cda17dc262' target='_blank'>\n",
       "                        <img src='http://www.arcgis.com/sharing/rest//content/items/33f019493b4e4afe8f3d64cda17dc262/info/thumbnail/ago_downloaded.png' class=\"itemThumbnail\">\n",
       "                       </a>\n",
       "                    </div>\n",
       "\n",
       "                    <div class=\"item_right\"     style=\"float: none; width: auto; overflow: hidden;\">\n",
       "                        <a href='http://www.arcgis.com/home/item.html?id=33f019493b4e4afe8f3d64cda17dc262' target='_blank'><b>Web map: Case Studies (Map Journal)</b>\n",
       "                        </a>\n",
       "                        <br/><img src='http://www.arcgis.com/home/js/jsapi/esri/css/images/item_type_icons/maps16.png' style=\"vertical-align:middle;\">Web Map by cadmus_dev\n",
       "                        <br/>Last Modified: March 01, 2017\n",
       "                        <br/>0 comments, 281 views\n",
       "                    </div>\n",
       "                </div>\n",
       "                "
      ],
      "text/plain": [
       "<Item title:\"Web map: Case Studies (Map Journal)\" type:Web Map owner:cadmus_dev>"
      ]
     },
     "metadata": {},
     "output_type": "display_data"
    },
    {
     "data": {
      "text/html": [
       "<div class=\"item_container\" style=\"height: auto; overflow: hidden; border: 1px solid #cfcfcf; border-radius: 2px; background: #f6fafa; line-height: 1.21429em; padding: 10px;\">\n",
       "                    <div class=\"item_left\" style=\"width: 210px; float: left;\">\n",
       "                       <a href='http://www.arcgis.com/home/item.html?id=eee1a341da354bd99b3ca758a2947ce2' target='_blank'>\n",
       "                        <img src='http://www.arcgis.com/sharing/rest//content/items/eee1a341da354bd99b3ca758a2947ce2/info/thumbnail/ago_downloaded.png' class=\"itemThumbnail\">\n",
       "                       </a>\n",
       "                    </div>\n",
       "\n",
       "                    <div class=\"item_right\"     style=\"float: none; width: auto; overflow: hidden;\">\n",
       "                        <a href='http://www.arcgis.com/home/item.html?id=eee1a341da354bd99b3ca758a2947ce2' target='_blank'><b>Web map: Historic Earthquakes</b>\n",
       "                        </a>\n",
       "                        <br/>temp<img src='http://www.arcgis.com/home/js/jsapi/esri/css/images/item_type_icons/maps16.png' style=\"vertical-align:middle;\">Web Map by cadmus_dev\n",
       "                        <br/>Last Modified: March 01, 2017\n",
       "                        <br/>0 comments, 220 views\n",
       "                    </div>\n",
       "                </div>\n",
       "                "
      ],
      "text/plain": [
       "<Item title:\"Web map: Historic Earthquakes\" type:Web Map owner:cadmus_dev>"
      ]
     },
     "metadata": {},
     "output_type": "display_data"
    },
    {
     "data": {
      "text/html": [
       "<div class=\"item_container\" style=\"height: auto; overflow: hidden; border: 1px solid #cfcfcf; border-radius: 2px; background: #f6fafa; line-height: 1.21429em; padding: 10px;\">\n",
       "                    <div class=\"item_left\" style=\"width: 210px; float: left;\">\n",
       "                       <a href='http://www.arcgis.com/home/item.html?id=372838ecd491446dbef26813a9591f0c' target='_blank'>\n",
       "                        <img src='http://www.arcgis.com/sharing/rest//content/items/372838ecd491446dbef26813a9591f0c/info/thumbnail/ago_downloaded.png' class=\"itemThumbnail\">\n",
       "                       </a>\n",
       "                    </div>\n",
       "\n",
       "                    <div class=\"item_right\"     style=\"float: none; width: auto; overflow: hidden;\">\n",
       "                        <a href='http://www.arcgis.com/home/item.html?id=372838ecd491446dbef26813a9591f0c' target='_blank'><b>Disasters (PREVIEW) copy</b>\n",
       "                        </a>\n",
       "                        <br/>Disasters (PREVIEW)<img src='http://www.arcgis.com/home/js/jsapi/esri/css/images/item_type_icons/maps16.png' style=\"vertical-align:middle;\">Web Map by uneplive_team\n",
       "                        <br/>Last Modified: February 21, 2017\n",
       "                        <br/>0 comments, 147 views\n",
       "                    </div>\n",
       "                </div>\n",
       "                "
      ],
      "text/plain": [
       "<Item title:\"Disasters (PREVIEW) copy\" type:Web Map owner:uneplive_team>"
      ]
     },
     "metadata": {},
     "output_type": "display_data"
    },
    {
     "data": {
      "text/html": [
       "<div class=\"item_container\" style=\"height: auto; overflow: hidden; border: 1px solid #cfcfcf; border-radius: 2px; background: #f6fafa; line-height: 1.21429em; padding: 10px;\">\n",
       "                    <div class=\"item_left\" style=\"width: 210px; float: left;\">\n",
       "                       <a href='http://www.arcgis.com/home/item.html?id=f6807bb506fc41558629e7cba6faf7fa' target='_blank'>\n",
       "                        <img src='http://www.arcgis.com/sharing/rest//content/items/f6807bb506fc41558629e7cba6faf7fa/info/thumbnail/ago_downloaded.png' class=\"itemThumbnail\">\n",
       "                       </a>\n",
       "                    </div>\n",
       "\n",
       "                    <div class=\"item_right\"     style=\"float: none; width: auto; overflow: hidden;\">\n",
       "                        <a href='http://www.arcgis.com/home/item.html?id=f6807bb506fc41558629e7cba6faf7fa' target='_blank'><b>World Catalog of Earthquake Rotated Objects - EROs</b>\n",
       "                        </a>\n",
       "                        <br/>The World Catalog of Earthquake Rotated Objects (EROs) is composed of 2224 EROs originated during 206 earthquakes occurred between 1349 and 2016.<img src='http://www.arcgis.com/home/js/jsapi/esri/css/images/item_type_icons/maps16.png' style=\"vertical-align:middle;\">Web Map by luigi.cucci_INGV\n",
       "                        <br/>Last Modified: February 28, 2017\n",
       "                        <br/>0 comments, 137 views\n",
       "                    </div>\n",
       "                </div>\n",
       "                "
      ],
      "text/plain": [
       "<Item title:\"World Catalog of Earthquake Rotated Objects - EROs\" type:Web Map owner:luigi.cucci_INGV>"
      ]
     },
     "metadata": {},
     "output_type": "display_data"
    }
   ],
   "source": [
    "get_recent_maps_about('earthquakes', num_days_ago=10)"
   ]
  },
  {
   "cell_type": "markdown",
   "metadata": {},
   "source": [
    "# Oil spills"
   ]
  },
  {
   "cell_type": "code",
   "execution_count": 7,
   "metadata": {
    "collapsed": false,
    "scrolled": true
   },
   "outputs": [
    {
     "ename": "ValueError",
     "evalue": "Unterminated string starting at: line 1 column 196973 (char 196972)",
     "output_type": "error",
     "traceback": [
      "\u001b[0;31m---------------------------------------------------------------------------\u001b[0m",
      "\u001b[0;31mValueError\u001b[0m                                Traceback (most recent call last)",
      "\u001b[0;32m<ipython-input-7-367eb23af938>\u001b[0m in \u001b[0;36m<module>\u001b[0;34m()\u001b[0m\n\u001b[0;32m----> 1\u001b[0;31m \u001b[0mget_recent_maps_about\u001b[0m\u001b[0;34m(\u001b[0m\u001b[0;34m'oil spill'\u001b[0m\u001b[0;34m,\u001b[0m \u001b[0mnum_days_ago\u001b[0m\u001b[0;34m=\u001b[0m\u001b[0;36m10\u001b[0m\u001b[0;34m)\u001b[0m\u001b[0;34m\u001b[0m\u001b[0m\n\u001b[0m",
      "\u001b[0;32m<ipython-input-2-326a4f609b54>\u001b[0m in \u001b[0;36mget_recent_maps_about\u001b[0;34m(query, num_days_ago)\u001b[0m\n\u001b[1;32m      2\u001b[0m     results = gis.content.search(query=query, item_type='Web Map',\n\u001b[1;32m      3\u001b[0m                              \u001b[0msort_field\u001b[0m\u001b[0;34m=\u001b[0m\u001b[0;34m\"numViews\"\u001b[0m\u001b[0;34m,\u001b[0m \u001b[0msort_order\u001b[0m\u001b[0;34m=\u001b[0m\u001b[0;34m\"desc\"\u001b[0m\u001b[0;34m,\u001b[0m\u001b[0;34m\u001b[0m\u001b[0m\n\u001b[0;32m----> 4\u001b[0;31m                              max_items = 1000, outside_org=True)\n\u001b[0m\u001b[1;32m      5\u001b[0m     \u001b[0mmin_timestamp\u001b[0m \u001b[0;34m=\u001b[0m \u001b[0;36m1000\u001b[0m \u001b[0;34m*\u001b[0m\u001b[0;34m(\u001b[0m\u001b[0mtime\u001b[0m\u001b[0;34m.\u001b[0m\u001b[0mtime\u001b[0m\u001b[0;34m(\u001b[0m\u001b[0;34m)\u001b[0m \u001b[0;34m-\u001b[0m \u001b[0;36m3600\u001b[0m \u001b[0;34m*\u001b[0m \u001b[0;36m24\u001b[0m \u001b[0;34m*\u001b[0m \u001b[0mnum_days_ago\u001b[0m\u001b[0;34m)\u001b[0m\u001b[0;34m\u001b[0m\u001b[0m\n\u001b[1;32m      6\u001b[0m     \u001b[0mrecent_results\u001b[0m \u001b[0;34m=\u001b[0m  \u001b[0;34m[\u001b[0m\u001b[0melem\u001b[0m \u001b[0;32mfor\u001b[0m \u001b[0melem\u001b[0m \u001b[0;32min\u001b[0m \u001b[0mresults\u001b[0m \u001b[0;32mif\u001b[0m \u001b[0melem\u001b[0m\u001b[0;34m.\u001b[0m\u001b[0mmodified\u001b[0m \u001b[0;34m>\u001b[0m \u001b[0mmin_timestamp\u001b[0m\u001b[0;34m]\u001b[0m\u001b[0;34m\u001b[0m\u001b[0m\n",
      "\u001b[0;32m/Users/Guillaume/anaconda/lib/python3.4/site-packages/arcgis/gis.py\u001b[0m in \u001b[0;36msearch\u001b[0;34m(self, query, item_type, sort_field, sort_order, max_items, outside_org)\u001b[0m\n\u001b[1;32m   1510\u001b[0m                 \u001b[0mquery\u001b[0m \u001b[0;34m+=\u001b[0m \u001b[0;34m' (type:\"'\u001b[0m \u001b[0;34m+\u001b[0m \u001b[0mitem_type\u001b[0m \u001b[0;34m+\u001b[0m\u001b[0;34m'\")'\u001b[0m\u001b[0;34m\u001b[0m\u001b[0m\n\u001b[1;32m   1511\u001b[0m \u001b[0;34m\u001b[0m\u001b[0m\n\u001b[0;32m-> 1512\u001b[0;31m         \u001b[0mitems\u001b[0m \u001b[0;34m=\u001b[0m \u001b[0mself\u001b[0m\u001b[0;34m.\u001b[0m\u001b[0m_portal\u001b[0m\u001b[0;34m.\u001b[0m\u001b[0msearch\u001b[0m\u001b[0;34m(\u001b[0m\u001b[0mquery\u001b[0m\u001b[0;34m,\u001b[0m \u001b[0msort_field\u001b[0m\u001b[0;34m=\u001b[0m\u001b[0msort_field\u001b[0m\u001b[0;34m,\u001b[0m \u001b[0msort_order\u001b[0m\u001b[0;34m=\u001b[0m\u001b[0msort_order\u001b[0m\u001b[0;34m,\u001b[0m \u001b[0mmax_results\u001b[0m\u001b[0;34m=\u001b[0m\u001b[0mmax_items\u001b[0m\u001b[0;34m,\u001b[0m \u001b[0moutside_org\u001b[0m\u001b[0;34m=\u001b[0m\u001b[0moutside_org\u001b[0m\u001b[0;34m)\u001b[0m\u001b[0;34m\u001b[0m\u001b[0m\n\u001b[0m\u001b[1;32m   1513\u001b[0m         \u001b[0;32mfor\u001b[0m \u001b[0mitem\u001b[0m \u001b[0;32min\u001b[0m \u001b[0mitems\u001b[0m\u001b[0;34m:\u001b[0m\u001b[0;34m\u001b[0m\u001b[0m\n\u001b[1;32m   1514\u001b[0m             \u001b[0mitemlist\u001b[0m\u001b[0;34m.\u001b[0m\u001b[0mappend\u001b[0m\u001b[0;34m(\u001b[0m\u001b[0mItem\u001b[0m\u001b[0;34m(\u001b[0m\u001b[0mself\u001b[0m\u001b[0;34m.\u001b[0m\u001b[0m_gis\u001b[0m\u001b[0;34m,\u001b[0m \u001b[0mitem\u001b[0m\u001b[0;34m[\u001b[0m\u001b[0;34m'id'\u001b[0m\u001b[0;34m]\u001b[0m\u001b[0;34m,\u001b[0m \u001b[0mitem\u001b[0m\u001b[0;34m)\u001b[0m\u001b[0;34m)\u001b[0m\u001b[0;34m\u001b[0m\u001b[0m\n",
      "\u001b[0;32m/Users/Guillaume/anaconda/lib/python3.4/site-packages/arcgis/_impl/portalpy.py\u001b[0m in \u001b[0;36msearch\u001b[0;34m(self, q, bbox, sort_field, sort_order, max_results, outside_org)\u001b[0m\n\u001b[1;32m   1492\u001b[0m         \u001b[0;32mwhile\u001b[0m \u001b[0mcount\u001b[0m \u001b[0;34m<\u001b[0m \u001b[0mmax_results\u001b[0m \u001b[0;32mand\u001b[0m \u001b[0mnextstart\u001b[0m \u001b[0;34m>\u001b[0m \u001b[0;36m0\u001b[0m\u001b[0;34m:\u001b[0m\u001b[0;34m\u001b[0m\u001b[0m\n\u001b[1;32m   1493\u001b[0m             resp = self._search_page(q, bbox, nextstart, min(max_results - count, 100),\n\u001b[0;32m-> 1494\u001b[0;31m                                      sort_field, sort_order)\n\u001b[0m\u001b[1;32m   1495\u001b[0m             \u001b[0mresults\u001b[0m\u001b[0;34m.\u001b[0m\u001b[0mextend\u001b[0m\u001b[0;34m(\u001b[0m\u001b[0mresp\u001b[0m\u001b[0;34m[\u001b[0m\u001b[0;34m'results'\u001b[0m\u001b[0;34m]\u001b[0m\u001b[0;34m)\u001b[0m\u001b[0;34m\u001b[0m\u001b[0m\n\u001b[1;32m   1496\u001b[0m             \u001b[0mcount\u001b[0m \u001b[0;34m+=\u001b[0m \u001b[0mint\u001b[0m\u001b[0;34m(\u001b[0m\u001b[0mresp\u001b[0m\u001b[0;34m[\u001b[0m\u001b[0;34m'num'\u001b[0m\u001b[0;34m]\u001b[0m\u001b[0;34m)\u001b[0m\u001b[0;34m\u001b[0m\u001b[0m\n",
      "\u001b[0;32m/Users/Guillaume/anaconda/lib/python3.4/site-packages/arcgis/_impl/portalpy.py\u001b[0m in \u001b[0;36m_search_page\u001b[0;34m(self, q, bbox, start, num, sortfield, sortorder)\u001b[0m\n\u001b[1;32m   2227\u001b[0m         postdata.update({ 'q': q or '', 'bbox': bbox or '', 'start': start, 'num': num,\n\u001b[1;32m   2228\u001b[0m                           'sortField': sortfield, 'sortOrder': sortorder })\n\u001b[0;32m-> 2229\u001b[0;31m         \u001b[0;32mreturn\u001b[0m \u001b[0mself\u001b[0m\u001b[0;34m.\u001b[0m\u001b[0mcon\u001b[0m\u001b[0;34m.\u001b[0m\u001b[0mpost\u001b[0m\u001b[0;34m(\u001b[0m\u001b[0;34m'search'\u001b[0m\u001b[0;34m,\u001b[0m \u001b[0mpostdata\u001b[0m\u001b[0;34m)\u001b[0m\u001b[0;34m\u001b[0m\u001b[0m\n\u001b[0m\u001b[1;32m   2230\u001b[0m \u001b[0;34m\u001b[0m\u001b[0m\n\u001b[1;32m   2231\u001b[0m \u001b[0;34m\u001b[0m\u001b[0m\n",
      "\u001b[0;32m/Users/Guillaume/anaconda/lib/python3.4/site-packages/arcgis/_impl/connection.py\u001b[0m in \u001b[0;36mpost\u001b[0;34m(self, path, postdata, files, ssl, compress, is_retry, use_ordered_dict, add_token, verify_cert, token)\u001b[0m\n\u001b[1;32m    927\u001b[0m             \u001b[0mresp_json\u001b[0m \u001b[0;34m=\u001b[0m \u001b[0mjson\u001b[0m\u001b[0;34m.\u001b[0m\u001b[0mloads\u001b[0m\u001b[0;34m(\u001b[0m\u001b[0mresp_data\u001b[0m\u001b[0;34m,\u001b[0m \u001b[0mobject_pairs_hook\u001b[0m\u001b[0;34m=\u001b[0m\u001b[0mOrderedDict\u001b[0m\u001b[0;34m)\u001b[0m\u001b[0;34m\u001b[0m\u001b[0m\n\u001b[1;32m    928\u001b[0m         \u001b[0;32melse\u001b[0m\u001b[0;34m:\u001b[0m\u001b[0;34m\u001b[0m\u001b[0m\n\u001b[0;32m--> 929\u001b[0;31m             \u001b[0mresp_json\u001b[0m \u001b[0;34m=\u001b[0m \u001b[0mjson\u001b[0m\u001b[0;34m.\u001b[0m\u001b[0mloads\u001b[0m\u001b[0;34m(\u001b[0m\u001b[0mresp_data\u001b[0m\u001b[0;34m)\u001b[0m\u001b[0;34m\u001b[0m\u001b[0m\n\u001b[0m\u001b[1;32m    930\u001b[0m \u001b[0;34m\u001b[0m\u001b[0m\n\u001b[1;32m    931\u001b[0m \u001b[0;34m\u001b[0m\u001b[0m\n",
      "\u001b[0;32m/Users/Guillaume/anaconda/lib/python3.4/json/__init__.py\u001b[0m in \u001b[0;36mloads\u001b[0;34m(s, encoding, cls, object_hook, parse_float, parse_int, parse_constant, object_pairs_hook, **kw)\u001b[0m\n\u001b[1;32m    316\u001b[0m             \u001b[0mparse_int\u001b[0m \u001b[0;32mis\u001b[0m \u001b[0;32mNone\u001b[0m \u001b[0;32mand\u001b[0m \u001b[0mparse_float\u001b[0m \u001b[0;32mis\u001b[0m \u001b[0;32mNone\u001b[0m \u001b[0;32mand\u001b[0m\u001b[0;34m\u001b[0m\u001b[0m\n\u001b[1;32m    317\u001b[0m             parse_constant is None and object_pairs_hook is None and not kw):\n\u001b[0;32m--> 318\u001b[0;31m         \u001b[0;32mreturn\u001b[0m \u001b[0m_default_decoder\u001b[0m\u001b[0;34m.\u001b[0m\u001b[0mdecode\u001b[0m\u001b[0;34m(\u001b[0m\u001b[0ms\u001b[0m\u001b[0;34m)\u001b[0m\u001b[0;34m\u001b[0m\u001b[0m\n\u001b[0m\u001b[1;32m    319\u001b[0m     \u001b[0;32mif\u001b[0m \u001b[0mcls\u001b[0m \u001b[0;32mis\u001b[0m \u001b[0;32mNone\u001b[0m\u001b[0;34m:\u001b[0m\u001b[0;34m\u001b[0m\u001b[0m\n\u001b[1;32m    320\u001b[0m         \u001b[0mcls\u001b[0m \u001b[0;34m=\u001b[0m \u001b[0mJSONDecoder\u001b[0m\u001b[0;34m\u001b[0m\u001b[0m\n",
      "\u001b[0;32m/Users/Guillaume/anaconda/lib/python3.4/json/decoder.py\u001b[0m in \u001b[0;36mdecode\u001b[0;34m(self, s, _w)\u001b[0m\n\u001b[1;32m    341\u001b[0m \u001b[0;34m\u001b[0m\u001b[0m\n\u001b[1;32m    342\u001b[0m         \"\"\"\n\u001b[0;32m--> 343\u001b[0;31m         \u001b[0mobj\u001b[0m\u001b[0;34m,\u001b[0m \u001b[0mend\u001b[0m \u001b[0;34m=\u001b[0m \u001b[0mself\u001b[0m\u001b[0;34m.\u001b[0m\u001b[0mraw_decode\u001b[0m\u001b[0;34m(\u001b[0m\u001b[0ms\u001b[0m\u001b[0;34m,\u001b[0m \u001b[0midx\u001b[0m\u001b[0;34m=\u001b[0m\u001b[0m_w\u001b[0m\u001b[0;34m(\u001b[0m\u001b[0ms\u001b[0m\u001b[0;34m,\u001b[0m \u001b[0;36m0\u001b[0m\u001b[0;34m)\u001b[0m\u001b[0;34m.\u001b[0m\u001b[0mend\u001b[0m\u001b[0;34m(\u001b[0m\u001b[0;34m)\u001b[0m\u001b[0;34m)\u001b[0m\u001b[0;34m\u001b[0m\u001b[0m\n\u001b[0m\u001b[1;32m    344\u001b[0m         \u001b[0mend\u001b[0m \u001b[0;34m=\u001b[0m \u001b[0m_w\u001b[0m\u001b[0;34m(\u001b[0m\u001b[0ms\u001b[0m\u001b[0;34m,\u001b[0m \u001b[0mend\u001b[0m\u001b[0;34m)\u001b[0m\u001b[0;34m.\u001b[0m\u001b[0mend\u001b[0m\u001b[0;34m(\u001b[0m\u001b[0;34m)\u001b[0m\u001b[0;34m\u001b[0m\u001b[0m\n\u001b[1;32m    345\u001b[0m         \u001b[0;32mif\u001b[0m \u001b[0mend\u001b[0m \u001b[0;34m!=\u001b[0m \u001b[0mlen\u001b[0m\u001b[0;34m(\u001b[0m\u001b[0ms\u001b[0m\u001b[0;34m)\u001b[0m\u001b[0;34m:\u001b[0m\u001b[0;34m\u001b[0m\u001b[0m\n",
      "\u001b[0;32m/Users/Guillaume/anaconda/lib/python3.4/json/decoder.py\u001b[0m in \u001b[0;36mraw_decode\u001b[0;34m(self, s, idx)\u001b[0m\n\u001b[1;32m    357\u001b[0m         \"\"\"\n\u001b[1;32m    358\u001b[0m         \u001b[0;32mtry\u001b[0m\u001b[0;34m:\u001b[0m\u001b[0;34m\u001b[0m\u001b[0m\n\u001b[0;32m--> 359\u001b[0;31m             \u001b[0mobj\u001b[0m\u001b[0;34m,\u001b[0m \u001b[0mend\u001b[0m \u001b[0;34m=\u001b[0m \u001b[0mself\u001b[0m\u001b[0;34m.\u001b[0m\u001b[0mscan_once\u001b[0m\u001b[0;34m(\u001b[0m\u001b[0ms\u001b[0m\u001b[0;34m,\u001b[0m \u001b[0midx\u001b[0m\u001b[0;34m)\u001b[0m\u001b[0;34m\u001b[0m\u001b[0m\n\u001b[0m\u001b[1;32m    360\u001b[0m         \u001b[0;32mexcept\u001b[0m \u001b[0mStopIteration\u001b[0m \u001b[0;32mas\u001b[0m \u001b[0merr\u001b[0m\u001b[0;34m:\u001b[0m\u001b[0;34m\u001b[0m\u001b[0m\n\u001b[1;32m    361\u001b[0m             \u001b[0;32mraise\u001b[0m \u001b[0mValueError\u001b[0m\u001b[0;34m(\u001b[0m\u001b[0merrmsg\u001b[0m\u001b[0;34m(\u001b[0m\u001b[0;34m\"Expecting value\"\u001b[0m\u001b[0;34m,\u001b[0m \u001b[0ms\u001b[0m\u001b[0;34m,\u001b[0m \u001b[0merr\u001b[0m\u001b[0;34m.\u001b[0m\u001b[0mvalue\u001b[0m\u001b[0;34m)\u001b[0m\u001b[0;34m)\u001b[0m \u001b[0;32mfrom\u001b[0m \u001b[0;32mNone\u001b[0m\u001b[0;34m\u001b[0m\u001b[0m\n",
      "\u001b[0;31mValueError\u001b[0m: Unterminated string starting at: line 1 column 196973 (char 196972)"
     ]
    }
   ],
   "source": [
    "get_recent_maps_about('oil spill', num_days_ago=10)"
   ]
  },
  {
   "cell_type": "markdown",
   "metadata": {},
   "source": [
    "# Hazards"
   ]
  },
  {
   "cell_type": "code",
   "execution_count": null,
   "metadata": {
    "collapsed": false,
    "scrolled": false
   },
   "outputs": [],
   "source": [
    "get_recent_maps_about('hazard', num_days_ago=10)"
   ]
  },
  {
   "cell_type": "markdown",
   "metadata": {},
   "source": [
    "# Flood"
   ]
  },
  {
   "cell_type": "code",
   "execution_count": null,
   "metadata": {
    "collapsed": false
   },
   "outputs": [],
   "source": [
    "get_recent_maps_about('flood', num_days_ago=10)"
   ]
  },
  {
   "cell_type": "markdown",
   "metadata": {
    "collapsed": true
   },
   "source": [
    "# Conclusion\n",
    "\n",
    "1. There are great collaborative maps on specific disasters, like wildfires which contains large amount of data, is updated frequently, and is used by millions of people.\n",
    "\n",
    "2. There are maps for local disasters with official data (like in San Jose) that are frequently updated and contain different sources of disaster data.\n",
    "\n",
    "3. There is no global US map that combines all the disasters of interest for an emergency service.\n",
    "\n",
    "We are not going to use these maps for the current prototype, since we focus on official disaster data for California, and none of the map combined them. However, theses maps could be useful to improve our emergency response system."
   ]
  }
 ],
 "metadata": {
  "kernelspec": {
   "display_name": "Python 3",
   "language": "python",
   "name": "python3"
  },
  "language_info": {
   "codemirror_mode": {
    "name": "ipython",
    "version": 3
   },
   "file_extension": ".py",
   "mimetype": "text/x-python",
   "name": "python",
   "nbconvert_exporter": "python",
   "pygments_lexer": "ipython3",
   "version": "3.4.4"
  }
 },
 "nbformat": 4,
 "nbformat_minor": 2
}
