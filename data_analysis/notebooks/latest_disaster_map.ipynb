{
 "cells": [
  {
   "cell_type": "markdown",
   "metadata": {
    "collapsed": true
   },
   "source": [
    "# Latest disaster map\n",
    "\n",
    "author: guillaume@bayes.org\n",
    "\n",
    "Goal: find an recent disaster map that contains important disaster data.\n",
    "\n",
    "Context: ArcGIS is a service to find collaborative maps. By querying it and looking at recent maps, we look for maps that conbine numerous disasters and are kept up to date."
   ]
  },
  {
   "cell_type": "code",
   "execution_count": 1,
   "metadata": {
    "collapsed": true
   },
   "outputs": [],
   "source": [
    "# Imports.\n",
    "\n",
    "import datetime, time\n",
    "import arcgis\n",
    "from arcgis.gis import GIS\n",
    "from IPython.display import display\n",
    "\n",
    "# create a Web GIS object\n",
    "gis = GIS()"
   ]
  },
  {
   "cell_type": "markdown",
   "metadata": {},
   "source": [
    "Let's query the GIS service for maps that:\n",
    "\n",
    "* Talks about disasters.\n",
    "* Were updated recently.\n",
    "* Were highly viewed."
   ]
  },
  {
   "cell_type": "code",
   "execution_count": 2,
   "metadata": {
    "collapsed": false
   },
   "outputs": [],
   "source": [
    "def get_recent_maps_about(query, nb_days_ago=10):\n",
    "    results = gis.content.search(query=query, item_type='Web Map',\n",
    "                             sort_field=\"numViews\", sort_order=\"desc\",\n",
    "                             max_items = 1000, outside_org=True)\n",
    "    min_timestamp = 1000 *(time.time() - 3600 * 24 * nb_days_ago)\n",
    "    recent_results =  [elem for elem in results if elem.modified > min_timestamp]\n",
    "    for item in recent_results:\n",
    "        display(item)"
   ]
  },
  {
   "cell_type": "markdown",
   "metadata": {},
   "source": [
    "Let's look at all disasters:\n",
    "\n",
    "## Disasters"
   ]
  },
  {
   "cell_type": "code",
   "execution_count": 3,
   "metadata": {
    "collapsed": false,
    "scrolled": true
   },
   "outputs": [
    {
     "data": {
      "text/html": [
       "<div class=\"item_container\" style=\"height: auto; overflow: hidden; border: 1px solid #cfcfcf; border-radius: 2px; background: #f6fafa; line-height: 1.21429em; padding: 10px;\">\n",
       "                    <div class=\"item_left\" style=\"width: 210px; float: left;\">\n",
       "                       <a href='http://www.arcgis.com/home/item.html?id=ea7c670e655e42468d78aaac2c78fb28' target='_blank'>\n",
       "                        <img src='http://www.arcgis.com/sharing/rest//content/items/ea7c670e655e42468d78aaac2c78fb28/info/thumbnail/emerge.jpg' class=\"itemThumbnail\">\n",
       "                       </a>\n",
       "                    </div>\n",
       "\n",
       "                    <div class=\"item_right\"     style=\"float: none; width: auto; overflow: hidden;\">\n",
       "                        <a href='http://www.arcgis.com/home/item.html?id=ea7c670e655e42468d78aaac2c78fb28' target='_blank'><b>CSJ EMERGE MAP</b>\n",
       "                        </a>\n",
       "                        <br/>San Jose Emerge Map<img src='http://www.arcgis.com/home/js/jsapi/esri/css/images/item_type_icons/maps16.png' style=\"vertical-align:middle;\">Web Map by joel.clark_csjdotgis\n",
       "                        <br/>Last Modified: February 23, 2017\n",
       "                        <br/>0 comments, 52,484 views\n",
       "                    </div>\n",
       "                </div>\n",
       "                "
      ],
      "text/plain": [
       "<Item title:\"CSJ EMERGE MAP\" type:Web Map owner:joel.clark_csjdotgis>"
      ]
     },
     "metadata": {},
     "output_type": "display_data"
    },
    {
     "data": {
      "text/html": [
       "<div class=\"item_container\" style=\"height: auto; overflow: hidden; border: 1px solid #cfcfcf; border-radius: 2px; background: #f6fafa; line-height: 1.21429em; padding: 10px;\">\n",
       "                    <div class=\"item_left\" style=\"width: 210px; float: left;\">\n",
       "                       <a href='http://www.arcgis.com/home/item.html?id=9fdaa819584b46888e25107901988a79' target='_blank'>\n",
       "                        <img src='http://www.arcgis.com/sharing/rest//content/items/9fdaa819584b46888e25107901988a79/info/thumbnail/Fiji_Hurricane_Map.JPG' class=\"itemThumbnail\">\n",
       "                       </a>\n",
       "                    </div>\n",
       "\n",
       "                    <div class=\"item_right\"     style=\"float: none; width: auto; overflow: hidden;\">\n",
       "                        <a href='http://www.arcgis.com/home/item.html?id=9fdaa819584b46888e25107901988a79' target='_blank'><b>Direct Relief's Hurricane Prep Program</b>\n",
       "                        </a>\n",
       "                        <br/>The interactive map was created to display the latest hurricane activity and show where participating partners are located for Direct Relief's Hurricane Preparedness Program.<img src='http://www.arcgis.com/home/js/jsapi/esri/css/images/item_type_icons/maps16.png' style=\"vertical-align:middle;\">Web Map by jwhite_DirectRelief\n",
       "                        <br/>Last Modified: February 22, 2017\n",
       "                        <br/>0 comments, 27,578 views\n",
       "                    </div>\n",
       "                </div>\n",
       "                "
      ],
      "text/plain": [
       "<Item title:\"Direct Relief's Hurricane Prep Program\" type:Web Map owner:jwhite_DirectRelief>"
      ]
     },
     "metadata": {},
     "output_type": "display_data"
    },
    {
     "data": {
      "text/html": [
       "<div class=\"item_container\" style=\"height: auto; overflow: hidden; border: 1px solid #cfcfcf; border-radius: 2px; background: #f6fafa; line-height: 1.21429em; padding: 10px;\">\n",
       "                    <div class=\"item_left\" style=\"width: 210px; float: left;\">\n",
       "                       <a href='http://www.arcgis.com/home/item.html?id=7d230bdb5966457b9b489d7a4b33f107' target='_blank'>\n",
       "                        <img src='http://www.arcgis.com/sharing/rest//content/items/7d230bdb5966457b9b489d7a4b33f107/info/thumbnail/ago_downloaded.png' class=\"itemThumbnail\">\n",
       "                       </a>\n",
       "                    </div>\n",
       "\n",
       "                    <div class=\"item_right\"     style=\"float: none; width: auto; overflow: hidden;\">\n",
       "                        <a href='http://www.arcgis.com/home/item.html?id=7d230bdb5966457b9b489d7a4b33f107' target='_blank'><b>ECY Island County 2015 Preliminary Flood Hazard Areas</b>\n",
       "                        </a>\n",
       "                        <br/>2015 Island Co. Preliminary Flood Hazard Areas as developed by the Federal Emergency Management Agency.<img src='http://www.arcgis.com/home/js/jsapi/esri/css/images/item_type_icons/maps16.png' style=\"vertical-align:middle;\">Web Map by jfra461@ecy.wa.gov\n",
       "                        <br/>Last Modified: February 22, 2017\n",
       "                        <br/>0 comments, 4,669 views\n",
       "                    </div>\n",
       "                </div>\n",
       "                "
      ],
      "text/plain": [
       "<Item title:\"ECY Island County 2015 Preliminary Flood Hazard Areas\" type:Web Map owner:jfra461@ecy.wa.gov>"
      ]
     },
     "metadata": {},
     "output_type": "display_data"
    },
    {
     "data": {
      "text/html": [
       "<div class=\"item_container\" style=\"height: auto; overflow: hidden; border: 1px solid #cfcfcf; border-radius: 2px; background: #f6fafa; line-height: 1.21429em; padding: 10px;\">\n",
       "                    <div class=\"item_left\" style=\"width: 210px; float: left;\">\n",
       "                       <a href='http://www.arcgis.com/home/item.html?id=e94639d62b30427894e69c0783b3f298' target='_blank'>\n",
       "                        <img src='http://www.arcgis.com/sharing/rest//content/items/e94639d62b30427894e69c0783b3f298/info/thumbnail/ago_downloaded.png' class=\"itemThumbnail\">\n",
       "                       </a>\n",
       "                    </div>\n",
       "\n",
       "                    <div class=\"item_right\"     style=\"float: none; width: auto; overflow: hidden;\">\n",
       "                        <a href='http://www.arcgis.com/home/item.html?id=e94639d62b30427894e69c0783b3f298' target='_blank'><b>ECY Grays Harbor Co. 2017 Effective FEMA Flood Hazard Areas</b>\n",
       "                        </a>\n",
       "                        <br/>Grays Harbor County 2017 Effective FEMA Flood Hazard Areas<img src='http://www.arcgis.com/home/js/jsapi/esri/css/images/item_type_icons/maps16.png' style=\"vertical-align:middle;\">Web Map by jfra461@ecy.wa.gov\n",
       "                        <br/>Last Modified: February 22, 2017\n",
       "                        <br/>0 comments, 1,231 views\n",
       "                    </div>\n",
       "                </div>\n",
       "                "
      ],
      "text/plain": [
       "<Item title:\"ECY Grays Harbor Co. 2017 Effective FEMA Flood Hazard Areas\" type:Web Map owner:jfra461@ecy.wa.gov>"
      ]
     },
     "metadata": {},
     "output_type": "display_data"
    },
    {
     "data": {
      "text/html": [
       "<div class=\"item_container\" style=\"height: auto; overflow: hidden; border: 1px solid #cfcfcf; border-radius: 2px; background: #f6fafa; line-height: 1.21429em; padding: 10px;\">\n",
       "                    <div class=\"item_left\" style=\"width: 210px; float: left;\">\n",
       "                       <a href='http://www.arcgis.com/home/item.html?id=ba22de60460f4042a5514874db3f0a51' target='_blank'>\n",
       "                        <img src='http://www.arcgis.com/sharing/rest//content/items/ba22de60460f4042a5514874db3f0a51/info/thumbnail/ago_downloaded.png' class=\"itemThumbnail\">\n",
       "                       </a>\n",
       "                    </div>\n",
       "\n",
       "                    <div class=\"item_right\"     style=\"float: none; width: auto; overflow: hidden;\">\n",
       "                        <a href='http://www.arcgis.com/home/item.html?id=ba22de60460f4042a5514874db3f0a51' target='_blank'><b>Livermore Community Map</b>\n",
       "                        </a>\n",
       "                        <br/>Map for Livermore, Maine with local facilities and potential private resources during disasters.<img src='http://www.arcgis.com/home/js/jsapi/esri/css/images/item_type_icons/maps16.png' style=\"vertical-align:middle;\">Web Map by AndroEMA\n",
       "                        <br/>Last Modified: February 21, 2017\n",
       "                        <br/>0 comments, 973 views\n",
       "                    </div>\n",
       "                </div>\n",
       "                "
      ],
      "text/plain": [
       "<Item title:\"Livermore Community Map\" type:Web Map owner:AndroEMA>"
      ]
     },
     "metadata": {},
     "output_type": "display_data"
    },
    {
     "data": {
      "text/html": [
       "<div class=\"item_container\" style=\"height: auto; overflow: hidden; border: 1px solid #cfcfcf; border-radius: 2px; background: #f6fafa; line-height: 1.21429em; padding: 10px;\">\n",
       "                    <div class=\"item_left\" style=\"width: 210px; float: left;\">\n",
       "                       <a href='http://www.arcgis.com/home/item.html?id=9706cde9e67549be94011bc5f593b89d' target='_blank'>\n",
       "                        <img src='http://www.arcgis.com/sharing/rest//content/items/9706cde9e67549be94011bc5f593b89d/info/thumbnail/ago_downloaded.png' class=\"itemThumbnail\">\n",
       "                       </a>\n",
       "                    </div>\n",
       "\n",
       "                    <div class=\"item_right\"     style=\"float: none; width: auto; overflow: hidden;\">\n",
       "                        <a href='http://www.arcgis.com/home/item.html?id=9706cde9e67549be94011bc5f593b89d' target='_blank'><b>PrepareSeminole</b>\n",
       "                        </a>\n",
       "                        <br/>Prepare Seminole<img src='http://www.arcgis.com/home/js/jsapi/esri/css/images/item_type_icons/maps16.png' style=\"vertical-align:middle;\">Web Map by SeminoleCountyGIS\n",
       "                        <br/>Last Modified: February 23, 2017\n",
       "                        <br/>0 comments, 959 views\n",
       "                    </div>\n",
       "                </div>\n",
       "                "
      ],
      "text/plain": [
       "<Item title:\"PrepareSeminole\" type:Web Map owner:SeminoleCountyGIS>"
      ]
     },
     "metadata": {},
     "output_type": "display_data"
    },
    {
     "data": {
      "text/html": [
       "<div class=\"item_container\" style=\"height: auto; overflow: hidden; border: 1px solid #cfcfcf; border-radius: 2px; background: #f6fafa; line-height: 1.21429em; padding: 10px;\">\n",
       "                    <div class=\"item_left\" style=\"width: 210px; float: left;\">\n",
       "                       <a href='http://www.arcgis.com/home/item.html?id=a867399ba9b94895954ec19728ca3bfa' target='_blank'>\n",
       "                        <img src='http://www.arcgis.com/sharing/rest//content/items/a867399ba9b94895954ec19728ca3bfa/info/thumbnail/ago_downloaded.png' class=\"itemThumbnail\">\n",
       "                       </a>\n",
       "                    </div>\n",
       "\n",
       "                    <div class=\"item_right\"     style=\"float: none; width: auto; overflow: hidden;\">\n",
       "                        <a href='http://www.arcgis.com/home/item.html?id=a867399ba9b94895954ec19728ca3bfa' target='_blank'><b>Seismic events: Natural Hazard or Natural Disaster</b>\n",
       "                        </a>\n",
       "                        <br/>Natural Hazards for 4th grade science and social studies GeoInquiries<img src='http://www.arcgis.com/home/js/jsapi/esri/css/images/item_type_icons/maps16.png' style=\"vertical-align:middle;\">Web Map by Esri_GeoInquiry_Grade4\n",
       "                        <br/>Last Modified: February 22, 2017\n",
       "                        <br/>0 comments, 659 views\n",
       "                    </div>\n",
       "                </div>\n",
       "                "
      ],
      "text/plain": [
       "<Item title:\"Seismic events: Natural Hazard or Natural Disaster\" type:Web Map owner:Esri_GeoInquiry_Grade4>"
      ]
     },
     "metadata": {},
     "output_type": "display_data"
    },
    {
     "data": {
      "text/html": [
       "<div class=\"item_container\" style=\"height: auto; overflow: hidden; border: 1px solid #cfcfcf; border-radius: 2px; background: #f6fafa; line-height: 1.21429em; padding: 10px;\">\n",
       "                    <div class=\"item_left\" style=\"width: 210px; float: left;\">\n",
       "                       <a href='http://www.arcgis.com/home/item.html?id=24ddca65e51648e0bb0812f6e8e1610a' target='_blank'>\n",
       "                        <img src='http://www.arcgis.com/sharing/rest//content/items/24ddca65e51648e0bb0812f6e8e1610a/info/thumbnail/ago_downloaded.png' class=\"itemThumbnail\">\n",
       "                       </a>\n",
       "                    </div>\n",
       "\n",
       "                    <div class=\"item_right\"     style=\"float: none; width: auto; overflow: hidden;\">\n",
       "                        <a href='http://www.arcgis.com/home/item.html?id=24ddca65e51648e0bb0812f6e8e1610a' target='_blank'><b>ECY_Mason_2016_Preliminary_FEMA_Floodplains</b>\n",
       "                        </a>\n",
       "                        <br/>2016 Mason County Preliminary FEMA Flood Hazard Areas<img src='http://www.arcgis.com/home/js/jsapi/esri/css/images/item_type_icons/maps16.png' style=\"vertical-align:middle;\">Web Map by jfra461@ecy.wa.gov\n",
       "                        <br/>Last Modified: February 17, 2017\n",
       "                        <br/>0 comments, 430 views\n",
       "                    </div>\n",
       "                </div>\n",
       "                "
      ],
      "text/plain": [
       "<Item title:\"ECY_Mason_2016_Preliminary_FEMA_Floodplains\" type:Web Map owner:jfra461@ecy.wa.gov>"
      ]
     },
     "metadata": {},
     "output_type": "display_data"
    },
    {
     "data": {
      "text/html": [
       "<div class=\"item_container\" style=\"height: auto; overflow: hidden; border: 1px solid #cfcfcf; border-radius: 2px; background: #f6fafa; line-height: 1.21429em; padding: 10px;\">\n",
       "                    <div class=\"item_left\" style=\"width: 210px; float: left;\">\n",
       "                       <a href='http://www.arcgis.com/home/item.html?id=565dc0a448ab47caa131663c9b6a234a' target='_blank'>\n",
       "                        <img src='http://www.arcgis.com/sharing/rest//content/items/565dc0a448ab47caa131663c9b6a234a/info/thumbnail/ago_downloaded.png' class=\"itemThumbnail\">\n",
       "                       </a>\n",
       "                    </div>\n",
       "\n",
       "                    <div class=\"item_right\"     style=\"float: none; width: auto; overflow: hidden;\">\n",
       "                        <a href='http://www.arcgis.com/home/item.html?id=565dc0a448ab47caa131663c9b6a234a' target='_blank'><b>Rio Grande Rift Plan - Supporting Maps</b>\n",
       "                        </a>\n",
       "                        <br/>Albuquerque, NM 7.0 Earthquake Scenario<img src='http://www.arcgis.com/home/js/jsapi/esri/css/images/item_type_icons/maps16.png' style=\"vertical-align:middle;\">Web Map by frank.ireland_FEMA\n",
       "                        <br/>Last Modified: February 16, 2017\n",
       "                        <br/>0 comments, 300 views\n",
       "                    </div>\n",
       "                </div>\n",
       "                "
      ],
      "text/plain": [
       "<Item title:\"Rio Grande Rift Plan - Supporting Maps\" type:Web Map owner:frank.ireland_FEMA>"
      ]
     },
     "metadata": {},
     "output_type": "display_data"
    },
    {
     "data": {
      "text/html": [
       "<div class=\"item_container\" style=\"height: auto; overflow: hidden; border: 1px solid #cfcfcf; border-radius: 2px; background: #f6fafa; line-height: 1.21429em; padding: 10px;\">\n",
       "                    <div class=\"item_left\" style=\"width: 210px; float: left;\">\n",
       "                       <a href='http://www.arcgis.com/home/item.html?id=834c5404367b4509a0a1d30282a8fca5' target='_blank'>\n",
       "                        <img src='http://www.arcgis.com/sharing/rest//content/items/834c5404367b4509a0a1d30282a8fca5/info/thumbnail/ago_downloaded.png' class=\"itemThumbnail\">\n",
       "                       </a>\n",
       "                    </div>\n",
       "\n",
       "                    <div class=\"item_right\"     style=\"float: none; width: auto; overflow: hidden;\">\n",
       "                        <a href='http://www.arcgis.com/home/item.html?id=834c5404367b4509a0a1d30282a8fca5' target='_blank'><b>zki_sos_002</b>\n",
       "                        </a>\n",
       "                        <br/>On February 15, 2017, tropical cyclone DINEO struck Mozambique in the afternoon. According to the information supplied by the Global Disaster Alert and Coordination System (GDACS), the point of landfall was north of the City of Inhambane. The cyclone caused heavy rain and destroyed houses and infrastructure<img src='http://www.arcgis.com/home/js/jsapi/esri/css/images/item_type_icons/maps16.png' style=\"vertical-align:middle;\">Web Map by boec_mt\n",
       "                        <br/>Last Modified: February 23, 2017\n",
       "                        <br/>0 comments, 261 views\n",
       "                    </div>\n",
       "                </div>\n",
       "                "
      ],
      "text/plain": [
       "<Item title:\"zki_sos_002\" type:Web Map owner:boec_mt>"
      ]
     },
     "metadata": {},
     "output_type": "display_data"
    },
    {
     "data": {
      "text/html": [
       "<div class=\"item_container\" style=\"height: auto; overflow: hidden; border: 1px solid #cfcfcf; border-radius: 2px; background: #f6fafa; line-height: 1.21429em; padding: 10px;\">\n",
       "                    <div class=\"item_left\" style=\"width: 210px; float: left;\">\n",
       "                       <a href='http://www.arcgis.com/home/item.html?id=97b1f2b13bda4db88e68859645e5a33c' target='_blank'>\n",
       "                        <img src='http://www.arcgis.com/sharing/rest//content/items/97b1f2b13bda4db88e68859645e5a33c/info/thumbnail/ago_downloaded.png' class=\"itemThumbnail\">\n",
       "                       </a>\n",
       "                    </div>\n",
       "\n",
       "                    <div class=\"item_right\"     style=\"float: none; width: auto; overflow: hidden;\">\n",
       "                        <a href='http://www.arcgis.com/home/item.html?id=97b1f2b13bda4db88e68859645e5a33c' target='_blank'><b>Oroville - USGS Disaster Coordination Preparation & Response - Oroville Dam, CA</b>\n",
       "                        </a>\n",
       "                        <br/>Oroville Dam 2017 Event<img src='http://www.arcgis.com/home/js/jsapi/esri/css/images/item_type_icons/maps16.png' style=\"vertical-align:middle;\">Web Map by lclampitt\n",
       "                        <br/>Last Modified: February 15, 2017\n",
       "                        <br/>0 comments, 254 views\n",
       "                    </div>\n",
       "                </div>\n",
       "                "
      ],
      "text/plain": [
       "<Item title:\"Oroville - USGS Disaster Coordination Preparation & Response - Oroville Dam, CA\" type:Web Map owner:lclampitt>"
      ]
     },
     "metadata": {},
     "output_type": "display_data"
    },
    {
     "data": {
      "text/html": [
       "<div class=\"item_container\" style=\"height: auto; overflow: hidden; border: 1px solid #cfcfcf; border-radius: 2px; background: #f6fafa; line-height: 1.21429em; padding: 10px;\">\n",
       "                    <div class=\"item_left\" style=\"width: 210px; float: left;\">\n",
       "                       <a href='http://www.arcgis.com/home/item.html?id=9964eebd057944898c2a2230cda1f59e' target='_blank'>\n",
       "                        <img src='http://www.arcgis.com/sharing/rest//content/items/9964eebd057944898c2a2230cda1f59e/info/thumbnail/ago_downloaded.png' class=\"itemThumbnail\">\n",
       "                       </a>\n",
       "                    </div>\n",
       "\n",
       "                    <div class=\"item_right\"     style=\"float: none; width: auto; overflow: hidden;\">\n",
       "                        <a href='http://www.arcgis.com/home/item.html?id=9964eebd057944898c2a2230cda1f59e' target='_blank'><b>Leeds Community Map</b>\n",
       "                        </a>\n",
       "                        <br/>Map for Leeds, Maine with local facilities and businesses.<img src='http://www.arcgis.com/home/js/jsapi/esri/css/images/item_type_icons/maps16.png' style=\"vertical-align:middle;\">Web Map by AndroEMA\n",
       "                        <br/>Last Modified: February 16, 2017\n",
       "                        <br/>0 comments, 227 views\n",
       "                    </div>\n",
       "                </div>\n",
       "                "
      ],
      "text/plain": [
       "<Item title:\"Leeds Community Map\" type:Web Map owner:AndroEMA>"
      ]
     },
     "metadata": {},
     "output_type": "display_data"
    },
    {
     "data": {
      "text/html": [
       "<div class=\"item_container\" style=\"height: auto; overflow: hidden; border: 1px solid #cfcfcf; border-radius: 2px; background: #f6fafa; line-height: 1.21429em; padding: 10px;\">\n",
       "                    <div class=\"item_left\" style=\"width: 210px; float: left;\">\n",
       "                       <a href='http://www.arcgis.com/home/item.html?id=8ce515a507244660ad9f7a89bae3d38d' target='_blank'>\n",
       "                        <img src='http://www.arcgis.com/sharing/rest//content/items/8ce515a507244660ad9f7a89bae3d38d/info/thumbnail/ago_downloaded.png' class=\"itemThumbnail\">\n",
       "                       </a>\n",
       "                    </div>\n",
       "\n",
       "                    <div class=\"item_right\"     style=\"float: none; width: auto; overflow: hidden;\">\n",
       "                        <a href='http://www.arcgis.com/home/item.html?id=8ce515a507244660ad9f7a89bae3d38d' target='_blank'><b>Community Recovery Activation Area Map</b>\n",
       "                        </a>\n",
       "                        <br/>This map displays the all current Community Recovery activation areas during a disaster<img src='http://www.arcgis.com/home/js/jsapi/esri/css/images/item_type_icons/maps16.png' style=\"vertical-align:middle;\">Web Map by CommArcGISOL\n",
       "                        <br/>Last Modified: February 19, 2017\n",
       "                        <br/>0 comments, 222 views\n",
       "                    </div>\n",
       "                </div>\n",
       "                "
      ],
      "text/plain": [
       "<Item title:\"Community Recovery Activation Area Map\" type:Web Map owner:CommArcGISOL>"
      ]
     },
     "metadata": {},
     "output_type": "display_data"
    },
    {
     "data": {
      "text/html": [
       "<div class=\"item_container\" style=\"height: auto; overflow: hidden; border: 1px solid #cfcfcf; border-radius: 2px; background: #f6fafa; line-height: 1.21429em; padding: 10px;\">\n",
       "                    <div class=\"item_left\" style=\"width: 210px; float: left;\">\n",
       "                       <a href='http://www.arcgis.com/home/item.html?id=f487d0dabe43410580e7922649d3419a' target='_blank'>\n",
       "                        <img src='http://www.arcgis.com/sharing/rest//content/items/f487d0dabe43410580e7922649d3419a/info/thumbnail/ago_downloaded.png' class=\"itemThumbnail\">\n",
       "                       </a>\n",
       "                    </div>\n",
       "\n",
       "                    <div class=\"item_right\"     style=\"float: none; width: auto; overflow: hidden;\">\n",
       "                        <a href='http://www.arcgis.com/home/item.html?id=f487d0dabe43410580e7922649d3419a' target='_blank'><b>Disaster Near you</b>\n",
       "                        </a>\n",
       "                        <br/><img src='http://www.arcgis.com/home/js/jsapi/esri/css/images/item_type_icons/maps16.png' style=\"vertical-align:middle;\">Web Map by easersystems\n",
       "                        <br/>Last Modified: February 17, 2017\n",
       "                        <br/>0 comments, 168 views\n",
       "                    </div>\n",
       "                </div>\n",
       "                "
      ],
      "text/plain": [
       "<Item title:\"Disaster Near you\" type:Web Map owner:easersystems>"
      ]
     },
     "metadata": {},
     "output_type": "display_data"
    },
    {
     "data": {
      "text/html": [
       "<div class=\"item_container\" style=\"height: auto; overflow: hidden; border: 1px solid #cfcfcf; border-radius: 2px; background: #f6fafa; line-height: 1.21429em; padding: 10px;\">\n",
       "                    <div class=\"item_left\" style=\"width: 210px; float: left;\">\n",
       "                       <a href='http://www.arcgis.com/home/item.html?id=9f467d84a6574cfbb326ba4ce4a0eb9e' target='_blank'>\n",
       "                        <img src='http://www.arcgis.com/sharing/rest//content/items/9f467d84a6574cfbb326ba4ce4a0eb9e/info/thumbnail/ago_downloaded.png' class=\"itemThumbnail\">\n",
       "                       </a>\n",
       "                    </div>\n",
       "\n",
       "                    <div class=\"item_right\"     style=\"float: none; width: auto; overflow: hidden;\">\n",
       "                        <a href='http://www.arcgis.com/home/item.html?id=9f467d84a6574cfbb326ba4ce4a0eb9e' target='_blank'><b>Disaster Risk (PREVIEW)</b>\n",
       "                        </a>\n",
       "                        <br/>Disaster Risk (PREVIEW)<img src='http://www.arcgis.com/home/js/jsapi/esri/css/images/item_type_icons/maps16.png' style=\"vertical-align:middle;\">Web Map by uneplive_team\n",
       "                        <br/>Last Modified: February 14, 2017\n",
       "                        <br/>0 comments, 165 views\n",
       "                    </div>\n",
       "                </div>\n",
       "                "
      ],
      "text/plain": [
       "<Item title:\"Disaster Risk (PREVIEW)\" type:Web Map owner:uneplive_team>"
      ]
     },
     "metadata": {},
     "output_type": "display_data"
    },
    {
     "data": {
      "text/html": [
       "<div class=\"item_container\" style=\"height: auto; overflow: hidden; border: 1px solid #cfcfcf; border-radius: 2px; background: #f6fafa; line-height: 1.21429em; padding: 10px;\">\n",
       "                    <div class=\"item_left\" style=\"width: 210px; float: left;\">\n",
       "                       <a href='http://www.arcgis.com/home/item.html?id=ab1cd5f900c24718a520ff3f88881d26' target='_blank'>\n",
       "                        <img src='http://www.arcgis.com/sharing/rest//content/items/ab1cd5f900c24718a520ff3f88881d26/info/thumbnail/ago_downloaded.png' class=\"itemThumbnail\">\n",
       "                       </a>\n",
       "                    </div>\n",
       "\n",
       "                    <div class=\"item_right\"     style=\"float: none; width: auto; overflow: hidden;\">\n",
       "                        <a href='http://www.arcgis.com/home/item.html?id=ab1cd5f900c24718a520ff3f88881d26' target='_blank'><b>Building resilience and promoting sustainable recovery</b>\n",
       "                        </a>\n",
       "                        <br/><img src='http://www.arcgis.com/home/js/jsapi/esri/css/images/item_type_icons/maps16.png' style=\"vertical-align:middle;\">Web Map by uneplive_team\n",
       "                        <br/>Last Modified: February 16, 2017\n",
       "                        <br/>0 comments, 155 views\n",
       "                    </div>\n",
       "                </div>\n",
       "                "
      ],
      "text/plain": [
       "<Item title:\"Building resilience and promoting sustainable recovery\" type:Web Map owner:uneplive_team>"
      ]
     },
     "metadata": {},
     "output_type": "display_data"
    },
    {
     "data": {
      "text/html": [
       "<div class=\"item_container\" style=\"height: auto; overflow: hidden; border: 1px solid #cfcfcf; border-radius: 2px; background: #f6fafa; line-height: 1.21429em; padding: 10px;\">\n",
       "                    <div class=\"item_left\" style=\"width: 210px; float: left;\">\n",
       "                       <a href='http://www.arcgis.com/home/item.html?id=372838ecd491446dbef26813a9591f0c' target='_blank'>\n",
       "                        <img src='http://www.arcgis.com/sharing/rest//content/items/372838ecd491446dbef26813a9591f0c/info/thumbnail/ago_downloaded.png' class=\"itemThumbnail\">\n",
       "                       </a>\n",
       "                    </div>\n",
       "\n",
       "                    <div class=\"item_right\"     style=\"float: none; width: auto; overflow: hidden;\">\n",
       "                        <a href='http://www.arcgis.com/home/item.html?id=372838ecd491446dbef26813a9591f0c' target='_blank'><b>Disasters (PREVIEW) copy</b>\n",
       "                        </a>\n",
       "                        <br/>Disasters (PREVIEW)<img src='http://www.arcgis.com/home/js/jsapi/esri/css/images/item_type_icons/maps16.png' style=\"vertical-align:middle;\">Web Map by uneplive_team\n",
       "                        <br/>Last Modified: February 21, 2017\n",
       "                        <br/>0 comments, 147 views\n",
       "                    </div>\n",
       "                </div>\n",
       "                "
      ],
      "text/plain": [
       "<Item title:\"Disasters (PREVIEW) copy\" type:Web Map owner:uneplive_team>"
      ]
     },
     "metadata": {},
     "output_type": "display_data"
    },
    {
     "data": {
      "text/html": [
       "<div class=\"item_container\" style=\"height: auto; overflow: hidden; border: 1px solid #cfcfcf; border-radius: 2px; background: #f6fafa; line-height: 1.21429em; padding: 10px;\">\n",
       "                    <div class=\"item_left\" style=\"width: 210px; float: left;\">\n",
       "                       <a href='http://www.arcgis.com/home/item.html?id=ef48a64c23a94a9abc1e1ca54acd68a1' target='_blank'>\n",
       "                        <img src='http://www.arcgis.com/sharing/rest//content/items/ef48a64c23a94a9abc1e1ca54acd68a1/info/thumbnail/ago_downloaded.png' class=\"itemThumbnail\">\n",
       "                       </a>\n",
       "                    </div>\n",
       "\n",
       "                    <div class=\"item_right\"     style=\"float: none; width: auto; overflow: hidden;\">\n",
       "                        <a href='http://www.arcgis.com/home/item.html?id=ef48a64c23a94a9abc1e1ca54acd68a1' target='_blank'><b>FDACS Foods Assistance Estimation Map</b>\n",
       "                        </a>\n",
       "                        <br/>Tool used by FL Dept. of Agriculture and Consumer Services staff for estimation of food assistance during and following a natural disaster. This tool is in the testing stage right now.<img src='http://www.arcgis.com/home/js/jsapi/esri/css/images/item_type_icons/maps16.png' style=\"vertical-align:middle;\">Web Map by FDACS_GIS_ADMIN\n",
       "                        <br/>Last Modified: February 16, 2017\n",
       "                        <br/>0 comments, 137 views\n",
       "                    </div>\n",
       "                </div>\n",
       "                "
      ],
      "text/plain": [
       "<Item title:\"FDACS Foods Assistance Estimation Map\" type:Web Map owner:FDACS_GIS_ADMIN>"
      ]
     },
     "metadata": {},
     "output_type": "display_data"
    },
    {
     "data": {
      "text/html": [
       "<div class=\"item_container\" style=\"height: auto; overflow: hidden; border: 1px solid #cfcfcf; border-radius: 2px; background: #f6fafa; line-height: 1.21429em; padding: 10px;\">\n",
       "                    <div class=\"item_left\" style=\"width: 210px; float: left;\">\n",
       "                       <a href='http://www.arcgis.com/home/item.html?id=b7960c88e9ac47f5a7c121b5fb70d519' target='_blank'>\n",
       "                        <img src='http://static.arcgis.com/images/desktopapp.png' class=\"itemThumbnail\">\n",
       "                       </a>\n",
       "                    </div>\n",
       "\n",
       "                    <div class=\"item_right\"     style=\"float: none; width: auto; overflow: hidden;\">\n",
       "                        <a href='http://www.arcgis.com/home/item.html?id=b7960c88e9ac47f5a7c121b5fb70d519' target='_blank'><b>Disasters (PREVIEW)-Countries</b>\n",
       "                        </a>\n",
       "                        <br/>Disasters (PREVIEW)<img src='http://www.arcgis.com/home/js/jsapi/esri/css/images/item_type_icons/maps16.png' style=\"vertical-align:middle;\">Web Map by uneplive_team\n",
       "                        <br/>Last Modified: February 21, 2017\n",
       "                        <br/>0 comments, 134 views\n",
       "                    </div>\n",
       "                </div>\n",
       "                "
      ],
      "text/plain": [
       "<Item title:\"Disasters (PREVIEW)-Countries\" type:Web Map owner:uneplive_team>"
      ]
     },
     "metadata": {},
     "output_type": "display_data"
    },
    {
     "data": {
      "text/html": [
       "<div class=\"item_container\" style=\"height: auto; overflow: hidden; border: 1px solid #cfcfcf; border-radius: 2px; background: #f6fafa; line-height: 1.21429em; padding: 10px;\">\n",
       "                    <div class=\"item_left\" style=\"width: 210px; float: left;\">\n",
       "                       <a href='http://www.arcgis.com/home/item.html?id=067137b3575b41edb6516a9b999590f8' target='_blank'>\n",
       "                        <img src='http://www.arcgis.com/sharing/rest//content/items/067137b3575b41edb6516a9b999590f8/info/thumbnail/ago_downloaded.png' class=\"itemThumbnail\">\n",
       "                       </a>\n",
       "                    </div>\n",
       "\n",
       "                    <div class=\"item_right\"     style=\"float: none; width: auto; overflow: hidden;\">\n",
       "                        <a href='http://www.arcgis.com/home/item.html?id=067137b3575b41edb6516a9b999590f8' target='_blank'><b>NMRGR Annex D - Site - Isleta Amphitheater</b>\n",
       "                        </a>\n",
       "                        <br/>Annex D Overview - Isleta Amphitheater<img src='http://www.arcgis.com/home/js/jsapi/esri/css/images/item_type_icons/maps16.png' style=\"vertical-align:middle;\">Web Map by frank.ireland_FEMA\n",
       "                        <br/>Last Modified: February 19, 2017\n",
       "                        <br/>0 comments, 133 views\n",
       "                    </div>\n",
       "                </div>\n",
       "                "
      ],
      "text/plain": [
       "<Item title:\"NMRGR Annex D - Site - Isleta Amphitheater\" type:Web Map owner:frank.ireland_FEMA>"
      ]
     },
     "metadata": {},
     "output_type": "display_data"
    },
    {
     "data": {
      "text/html": [
       "<div class=\"item_container\" style=\"height: auto; overflow: hidden; border: 1px solid #cfcfcf; border-radius: 2px; background: #f6fafa; line-height: 1.21429em; padding: 10px;\">\n",
       "                    <div class=\"item_left\" style=\"width: 210px; float: left;\">\n",
       "                       <a href='http://www.arcgis.com/home/item.html?id=e11ea56446884468b876b049ac76171e' target='_blank'>\n",
       "                        <img src='http://www.arcgis.com/sharing/rest//content/items/e11ea56446884468b876b049ac76171e/info/thumbnail/ago_downloaded.png' class=\"itemThumbnail\">\n",
       "                       </a>\n",
       "                    </div>\n",
       "\n",
       "                    <div class=\"item_right\"     style=\"float: none; width: auto; overflow: hidden;\">\n",
       "                        <a href='http://www.arcgis.com/home/item.html?id=e11ea56446884468b876b049ac76171e' target='_blank'><b>NMRGR Annex D - Overview - South New Mexico</b>\n",
       "                        </a>\n",
       "                        <br/>New Mexico Rio Grande Rift Response Plan Annex D Overview<img src='http://www.arcgis.com/home/js/jsapi/esri/css/images/item_type_icons/maps16.png' style=\"vertical-align:middle;\">Web Map by frank.ireland_FEMA\n",
       "                        <br/>Last Modified: February 19, 2017\n",
       "                        <br/>0 comments, 133 views\n",
       "                    </div>\n",
       "                </div>\n",
       "                "
      ],
      "text/plain": [
       "<Item title:\"NMRGR Annex D - Overview - South New Mexico\" type:Web Map owner:frank.ireland_FEMA>"
      ]
     },
     "metadata": {},
     "output_type": "display_data"
    },
    {
     "data": {
      "text/html": [
       "<div class=\"item_container\" style=\"height: auto; overflow: hidden; border: 1px solid #cfcfcf; border-radius: 2px; background: #f6fafa; line-height: 1.21429em; padding: 10px;\">\n",
       "                    <div class=\"item_left\" style=\"width: 210px; float: left;\">\n",
       "                       <a href='http://www.arcgis.com/home/item.html?id=cf9aecfacf5542be808d8122c95da07c' target='_blank'>\n",
       "                        <img src='http://www.arcgis.com/sharing/rest//content/items/cf9aecfacf5542be808d8122c95da07c/info/thumbnail/ago_downloaded.png' class=\"itemThumbnail\">\n",
       "                       </a>\n",
       "                    </div>\n",
       "\n",
       "                    <div class=\"item_right\"     style=\"float: none; width: auto; overflow: hidden;\">\n",
       "                        <a href='http://www.arcgis.com/home/item.html?id=cf9aecfacf5542be808d8122c95da07c' target='_blank'><b>NMRGR Annex D - Site - Roswell Int Air Center</b>\n",
       "                        </a>\n",
       "                        <br/>Annex D Overview - Roswell Int Air Center<img src='http://www.arcgis.com/home/js/jsapi/esri/css/images/item_type_icons/maps16.png' style=\"vertical-align:middle;\">Web Map by frank.ireland_FEMA\n",
       "                        <br/>Last Modified: February 19, 2017\n",
       "                        <br/>0 comments, 127 views\n",
       "                    </div>\n",
       "                </div>\n",
       "                "
      ],
      "text/plain": [
       "<Item title:\"NMRGR Annex D - Site - Roswell Int Air Center\" type:Web Map owner:frank.ireland_FEMA>"
      ]
     },
     "metadata": {},
     "output_type": "display_data"
    },
    {
     "data": {
      "text/html": [
       "<div class=\"item_container\" style=\"height: auto; overflow: hidden; border: 1px solid #cfcfcf; border-radius: 2px; background: #f6fafa; line-height: 1.21429em; padding: 10px;\">\n",
       "                    <div class=\"item_left\" style=\"width: 210px; float: left;\">\n",
       "                       <a href='http://www.arcgis.com/home/item.html?id=650367db56074c668b70e736f2029b2c' target='_blank'>\n",
       "                        <img src='http://www.arcgis.com/sharing/rest//content/items/650367db56074c668b70e736f2029b2c/info/thumbnail/ago_downloaded.png' class=\"itemThumbnail\">\n",
       "                       </a>\n",
       "                    </div>\n",
       "\n",
       "                    <div class=\"item_right\"     style=\"float: none; width: auto; overflow: hidden;\">\n",
       "                        <a href='http://www.arcgis.com/home/item.html?id=650367db56074c668b70e736f2029b2c' target='_blank'><b>NMRGR Annex D - Site - FLETC Artesia</b>\n",
       "                        </a>\n",
       "                        <br/>Annex D Overview - FLETC Artesia<img src='http://www.arcgis.com/home/js/jsapi/esri/css/images/item_type_icons/maps16.png' style=\"vertical-align:middle;\">Web Map by frank.ireland_FEMA\n",
       "                        <br/>Last Modified: February 19, 2017\n",
       "                        <br/>0 comments, 127 views\n",
       "                    </div>\n",
       "                </div>\n",
       "                "
      ],
      "text/plain": [
       "<Item title:\"NMRGR Annex D - Site - FLETC Artesia\" type:Web Map owner:frank.ireland_FEMA>"
      ]
     },
     "metadata": {},
     "output_type": "display_data"
    },
    {
     "data": {
      "text/html": [
       "<div class=\"item_container\" style=\"height: auto; overflow: hidden; border: 1px solid #cfcfcf; border-radius: 2px; background: #f6fafa; line-height: 1.21429em; padding: 10px;\">\n",
       "                    <div class=\"item_left\" style=\"width: 210px; float: left;\">\n",
       "                       <a href='http://www.arcgis.com/home/item.html?id=93a650ff82de42ba9e997eb3311ca5c2' target='_blank'>\n",
       "                        <img src='http://www.arcgis.com/sharing/rest//content/items/93a650ff82de42ba9e997eb3311ca5c2/info/thumbnail/ago_downloaded.png' class=\"itemThumbnail\">\n",
       "                       </a>\n",
       "                    </div>\n",
       "\n",
       "                    <div class=\"item_right\"     style=\"float: none; width: auto; overflow: hidden;\">\n",
       "                        <a href='http://www.arcgis.com/home/item.html?id=93a650ff82de42ba9e997eb3311ca5c2' target='_blank'><b>NMRGR Annex D - Site - Double Eagle Airport</b>\n",
       "                        </a>\n",
       "                        <br/>Annex D Overview - Double Eagle Airport<img src='http://www.arcgis.com/home/js/jsapi/esri/css/images/item_type_icons/maps16.png' style=\"vertical-align:middle;\">Web Map by frank.ireland_FEMA\n",
       "                        <br/>Last Modified: February 19, 2017\n",
       "                        <br/>0 comments, 122 views\n",
       "                    </div>\n",
       "                </div>\n",
       "                "
      ],
      "text/plain": [
       "<Item title:\"NMRGR Annex D - Site - Double Eagle Airport\" type:Web Map owner:frank.ireland_FEMA>"
      ]
     },
     "metadata": {},
     "output_type": "display_data"
    }
   ],
   "source": [
    "get_recent_maps_about('disaster', nb_days_ago=10)"
   ]
  },
  {
   "cell_type": "markdown",
   "metadata": {},
   "source": [
    "# Fires"
   ]
  },
  {
   "cell_type": "code",
   "execution_count": 4,
   "metadata": {
    "collapsed": false
   },
   "outputs": [
    {
     "data": {
      "text/html": [
       "<div class=\"item_container\" style=\"height: auto; overflow: hidden; border: 1px solid #cfcfcf; border-radius: 2px; background: #f6fafa; line-height: 1.21429em; padding: 10px;\">\n",
       "                    <div class=\"item_left\" style=\"width: 210px; float: left;\">\n",
       "                       <a href='http://www.arcgis.com/home/item.html?id=11487c248b3a407cb6fd446ce8ef73d8' target='_blank'>\n",
       "                        <img src='http://www.arcgis.com/sharing/rest//content/items/11487c248b3a407cb6fd446ce8ef73d8/info/thumbnail/current_US_wildfires3.png' class=\"itemThumbnail\">\n",
       "                       </a>\n",
       "                    </div>\n",
       "\n",
       "                    <div class=\"item_right\"     style=\"float: none; width: auto; overflow: hidden;\">\n",
       "                        <a href='http://www.arcgis.com/home/item.html?id=11487c248b3a407cb6fd446ce8ef73d8' target='_blank'><b>WildlandFire.com Current U.S. Wildland Fires</b>\n",
       "                        </a>\n",
       "                        <br/>Wildlandfire.com welcomes you to view and interact with a continuously updated map of US wildfire locations, fire potential areas, meteorological observations and radar imagery.<img src='http://www.arcgis.com/home/js/jsapi/esri/css/images/item_type_icons/maps16.png' style=\"vertical-align:middle;\">Web Map by FireWhat\n",
       "                        <br/>Last Modified: February 23, 2017\n",
       "                        <br/>1 comments, 6,042,818 views\n",
       "                    </div>\n",
       "                </div>\n",
       "                "
      ],
      "text/plain": [
       "<Item title:\"WildlandFire.com Current U.S. Wildland Fires\" type:Web Map owner:FireWhat>"
      ]
     },
     "metadata": {},
     "output_type": "display_data"
    },
    {
     "data": {
      "text/html": [
       "<div class=\"item_container\" style=\"height: auto; overflow: hidden; border: 1px solid #cfcfcf; border-radius: 2px; background: #f6fafa; line-height: 1.21429em; padding: 10px;\">\n",
       "                    <div class=\"item_left\" style=\"width: 210px; float: left;\">\n",
       "                       <a href='http://www.arcgis.com/home/item.html?id=5d5a0c66059e46faaedebf899edaafeb' target='_blank'>\n",
       "                        <img src='http://www.arcgis.com/sharing/rest//content/items/5d5a0c66059e46faaedebf899edaafeb/info/thumbnail/Traffic_thumbnail.png' class=\"itemThumbnail\">\n",
       "                       </a>\n",
       "                    </div>\n",
       "\n",
       "                    <div class=\"item_right\"     style=\"float: none; width: auto; overflow: hidden;\">\n",
       "                        <a href='http://www.arcgis.com/home/item.html?id=5d5a0c66059e46faaedebf899edaafeb' target='_blank'><b>Traffic Map</b>\n",
       "                        </a>\n",
       "                        <br/>Web map displaying near real time traffic conditions, traffic cameras, incidents, and road closures in East Baton Rouge Parish, Louisiana.<img src='http://www.arcgis.com/home/js/jsapi/esri/css/images/item_type_icons/maps16.png' style=\"vertical-align:middle;\">Web Map by wkron\n",
       "                        <br/>Last Modified: February 16, 2017\n",
       "                        <br/>0 comments, 5,824,710 views\n",
       "                    </div>\n",
       "                </div>\n",
       "                "
      ],
      "text/plain": [
       "<Item title:\"Traffic Map\" type:Web Map owner:wkron>"
      ]
     },
     "metadata": {},
     "output_type": "display_data"
    },
    {
     "data": {
      "text/html": [
       "<div class=\"item_container\" style=\"height: auto; overflow: hidden; border: 1px solid #cfcfcf; border-radius: 2px; background: #f6fafa; line-height: 1.21429em; padding: 10px;\">\n",
       "                    <div class=\"item_left\" style=\"width: 210px; float: left;\">\n",
       "                       <a href='http://www.arcgis.com/home/item.html?id=ed0a7dad32fe4848b20c6f91c74c79ea' target='_blank'>\n",
       "                        <img src='http://www.arcgis.com/sharing/rest//content/items/ed0a7dad32fe4848b20c6f91c74c79ea/info/thumbnail/Interactive_Map2.PNG' class=\"itemThumbnail\">\n",
       "                       </a>\n",
       "                    </div>\n",
       "\n",
       "                    <div class=\"item_right\"     style=\"float: none; width: auto; overflow: hidden;\">\n",
       "                        <a href='http://www.arcgis.com/home/item.html?id=ed0a7dad32fe4848b20c6f91c74c79ea' target='_blank'><b>Northwest Large Fire Interactive Map</b>\n",
       "                        </a>\n",
       "                        <br/>The Northwest Interagency Coordination Center (NWCC) welcomes you to view and interact with a continuously updated map of large wildfire locations and perimeters, MODIS thermal imagery, and other layers.<img src='http://www.arcgis.com/home/js/jsapi/esri/css/images/item_type_icons/maps16.png' style=\"vertical-align:middle;\">Web Map by NWCC_GIS\n",
       "                        <br/>Last Modified: February 19, 2017\n",
       "                        <br/>1 comments, 1,515,961 views\n",
       "                    </div>\n",
       "                </div>\n",
       "                "
      ],
      "text/plain": [
       "<Item title:\"Northwest Large Fire Interactive Map\" type:Web Map owner:NWCC_GIS>"
      ]
     },
     "metadata": {},
     "output_type": "display_data"
    },
    {
     "data": {
      "text/html": [
       "<div class=\"item_container\" style=\"height: auto; overflow: hidden; border: 1px solid #cfcfcf; border-radius: 2px; background: #f6fafa; line-height: 1.21429em; padding: 10px;\">\n",
       "                    <div class=\"item_left\" style=\"width: 210px; float: left;\">\n",
       "                       <a href='http://www.arcgis.com/home/item.html?id=92653a777a3f44a682174db3d8051c7b' target='_blank'>\n",
       "                        <img src='http://www.arcgis.com/sharing/rest//content/items/92653a777a3f44a682174db3d8051c7b/info/thumbnail/ago_downloaded.png' class=\"itemThumbnail\">\n",
       "                       </a>\n",
       "                    </div>\n",
       "\n",
       "                    <div class=\"item_right\"     style=\"float: none; width: auto; overflow: hidden;\">\n",
       "                        <a href='http://www.arcgis.com/home/item.html?id=92653a777a3f44a682174db3d8051c7b' target='_blank'><b>County Emergency Managers -- Utah</b>\n",
       "                        </a>\n",
       "                        <br/>A clickable map to find the contact information for Utah's county emergency managers.<img src='http://www.arcgis.com/home/js/jsapi/esri/css/images/item_type_icons/maps16.png' style=\"vertical-align:middle;\">Web Map by joedougherty\n",
       "                        <br/>Last Modified: February 21, 2017\n",
       "                        <br/>0 comments, 127,492 views\n",
       "                    </div>\n",
       "                </div>\n",
       "                "
      ],
      "text/plain": [
       "<Item title:\"County Emergency Managers -- Utah\" type:Web Map owner:joedougherty>"
      ]
     },
     "metadata": {},
     "output_type": "display_data"
    },
    {
     "data": {
      "text/html": [
       "<div class=\"item_container\" style=\"height: auto; overflow: hidden; border: 1px solid #cfcfcf; border-radius: 2px; background: #f6fafa; line-height: 1.21429em; padding: 10px;\">\n",
       "                    <div class=\"item_left\" style=\"width: 210px; float: left;\">\n",
       "                       <a href='http://www.arcgis.com/home/item.html?id=420a5cebc6df4c208fe03740ffeea72a' target='_blank'>\n",
       "                        <img src='http://www.arcgis.com/sharing/rest//content/items/420a5cebc6df4c208fe03740ffeea72a/info/thumbnail/ago_downloaded.png' class=\"itemThumbnail\">\n",
       "                       </a>\n",
       "                    </div>\n",
       "\n",
       "                    <div class=\"item_right\"     style=\"float: none; width: auto; overflow: hidden;\">\n",
       "                        <a href='http://www.arcgis.com/home/item.html?id=420a5cebc6df4c208fe03740ffeea72a' target='_blank'><b>Port Hills Fire and Restricted Area PUBLIC VIEW</b>\n",
       "                        </a>\n",
       "                        <br/>Port Hills Fire and Restricted Area PUBLIC VIEW<img src='http://www.arcgis.com/home/js/jsapi/esri/css/images/item_type_icons/maps16.png' style=\"vertical-align:middle;\">Web Map by ecangisteam\n",
       "                        <br/>Last Modified: February 21, 2017\n",
       "                        <br/>0 comments, 50,276 views\n",
       "                    </div>\n",
       "                </div>\n",
       "                "
      ],
      "text/plain": [
       "<Item title:\"Port Hills Fire and Restricted Area PUBLIC VIEW\" type:Web Map owner:ecangisteam>"
      ]
     },
     "metadata": {},
     "output_type": "display_data"
    },
    {
     "data": {
      "text/html": [
       "<div class=\"item_container\" style=\"height: auto; overflow: hidden; border: 1px solid #cfcfcf; border-radius: 2px; background: #f6fafa; line-height: 1.21429em; padding: 10px;\">\n",
       "                    <div class=\"item_left\" style=\"width: 210px; float: left;\">\n",
       "                       <a href='http://www.arcgis.com/home/item.html?id=7df93214bdb84217b7fb6db5cfc6a0a5' target='_blank'>\n",
       "                        <img src='http://www.arcgis.com/sharing/rest//content/items/7df93214bdb84217b7fb6db5cfc6a0a5/info/thumbnail/ago_downloaded.png' class=\"itemThumbnail\">\n",
       "                       </a>\n",
       "                    </div>\n",
       "\n",
       "                    <div class=\"item_right\"     style=\"float: none; width: auto; overflow: hidden;\">\n",
       "                        <a href='http://www.arcgis.com/home/item.html?id=7df93214bdb84217b7fb6db5cfc6a0a5' target='_blank'><b>Louisiana Wildfire Map</b>\n",
       "                        </a>\n",
       "                        <br/>Louisiana wildfires from 2008 to current.<img src='http://www.arcgis.com/home/js/jsapi/esri/css/images/item_type_icons/maps16.png' style=\"vertical-align:middle;\">Web Map by mcutre2\n",
       "                        <br/>Last Modified: February 17, 2017\n",
       "                        <br/>0 comments, 45,454 views\n",
       "                    </div>\n",
       "                </div>\n",
       "                "
      ],
      "text/plain": [
       "<Item title:\"Louisiana Wildfire Map\" type:Web Map owner:mcutre2>"
      ]
     },
     "metadata": {},
     "output_type": "display_data"
    },
    {
     "data": {
      "text/html": [
       "<div class=\"item_container\" style=\"height: auto; overflow: hidden; border: 1px solid #cfcfcf; border-radius: 2px; background: #f6fafa; line-height: 1.21429em; padding: 10px;\">\n",
       "                    <div class=\"item_left\" style=\"width: 210px; float: left;\">\n",
       "                       <a href='http://www.arcgis.com/home/item.html?id=00bf399af99a47ceac859526ecd57055' target='_blank'>\n",
       "                        <img src='http://www.arcgis.com/sharing/rest//content/items/00bf399af99a47ceac859526ecd57055/info/thumbnail/11949849751056341160traffic_light_dan_gerhar_01_svg_med.png' class=\"itemThumbnail\">\n",
       "                       </a>\n",
       "                    </div>\n",
       "\n",
       "                    <div class=\"item_right\"     style=\"float: none; width: auto; overflow: hidden;\">\n",
       "                        <a href='http://www.arcgis.com/home/item.html?id=00bf399af99a47ceac859526ecd57055' target='_blank'><b>St. Clair, Political Maps</b>\n",
       "                        </a>\n",
       "                        <br/>This map has all political maps for St. Clair County Alabama<img src='http://www.arcgis.com/home/js/jsapi/esri/css/images/item_type_icons/maps16.png' style=\"vertical-align:middle;\">Web Map by bryanprice1\n",
       "                        <br/>Last Modified: February 21, 2017\n",
       "                        <br/>0 comments, 28,489 views\n",
       "                    </div>\n",
       "                </div>\n",
       "                "
      ],
      "text/plain": [
       "<Item title:\"St. Clair, Political Maps\" type:Web Map owner:bryanprice1>"
      ]
     },
     "metadata": {},
     "output_type": "display_data"
    },
    {
     "data": {
      "text/html": [
       "<div class=\"item_container\" style=\"height: auto; overflow: hidden; border: 1px solid #cfcfcf; border-radius: 2px; background: #f6fafa; line-height: 1.21429em; padding: 10px;\">\n",
       "                    <div class=\"item_left\" style=\"width: 210px; float: left;\">\n",
       "                       <a href='http://www.arcgis.com/home/item.html?id=281e5e3e6320428780f3fbbd45eb93e1' target='_blank'>\n",
       "                        <img src='http://www.arcgis.com/sharing/rest//content/items/281e5e3e6320428780f3fbbd45eb93e1/info/thumbnail/VolFire.png' class=\"itemThumbnail\">\n",
       "                       </a>\n",
       "                    </div>\n",
       "\n",
       "                    <div class=\"item_right\"     style=\"float: none; width: auto; overflow: hidden;\">\n",
       "                        <a href='http://www.arcgis.com/home/item.html?id=281e5e3e6320428780f3fbbd45eb93e1' target='_blank'><b>Fire</b>\n",
       "                        </a>\n",
       "                        <br/>Displays Fire Districts, Hydrants & Fire Stations<img src='http://www.arcgis.com/home/js/jsapi/esri/css/images/item_type_icons/maps16.png' style=\"vertical-align:middle;\">Web Map by bryanprice1\n",
       "                        <br/>Last Modified: February 21, 2017\n",
       "                        <br/>0 comments, 26,775 views\n",
       "                    </div>\n",
       "                </div>\n",
       "                "
      ],
      "text/plain": [
       "<Item title:\"Fire\" type:Web Map owner:bryanprice1>"
      ]
     },
     "metadata": {},
     "output_type": "display_data"
    },
    {
     "data": {
      "text/html": [
       "<div class=\"item_container\" style=\"height: auto; overflow: hidden; border: 1px solid #cfcfcf; border-radius: 2px; background: #f6fafa; line-height: 1.21429em; padding: 10px;\">\n",
       "                    <div class=\"item_left\" style=\"width: 210px; float: left;\">\n",
       "                       <a href='http://www.arcgis.com/home/item.html?id=8cacc4d3335b44179f62db4b7799ead1' target='_blank'>\n",
       "                        <img src='http://www.arcgis.com/sharing/rest//content/items/8cacc4d3335b44179f62db4b7799ead1/info/thumbnail/ago_downloaded.png' class=\"itemThumbnail\">\n",
       "                       </a>\n",
       "                    </div>\n",
       "\n",
       "                    <div class=\"item_right\"     style=\"float: none; width: auto; overflow: hidden;\">\n",
       "                        <a href='http://www.arcgis.com/home/item.html?id=8cacc4d3335b44179f62db4b7799ead1' target='_blank'><b>Public Map</b>\n",
       "                        </a>\n",
       "                        <br/>Test public web map for enterprise replacement<img src='http://www.arcgis.com/home/js/jsapi/esri/css/images/item_type_icons/maps16.png' style=\"vertical-align:middle;\">Web Map by gkilian@countygp.ab.ca_CoGP\n",
       "                        <br/>Last Modified: February 16, 2017\n",
       "                        <br/>0 comments, 21,402 views\n",
       "                    </div>\n",
       "                </div>\n",
       "                "
      ],
      "text/plain": [
       "<Item title:\"Public Map\" type:Web Map owner:gkilian@countygp.ab.ca_CoGP>"
      ]
     },
     "metadata": {},
     "output_type": "display_data"
    },
    {
     "data": {
      "text/html": [
       "<div class=\"item_container\" style=\"height: auto; overflow: hidden; border: 1px solid #cfcfcf; border-radius: 2px; background: #f6fafa; line-height: 1.21429em; padding: 10px;\">\n",
       "                    <div class=\"item_left\" style=\"width: 210px; float: left;\">\n",
       "                       <a href='http://www.arcgis.com/home/item.html?id=ecfb33eaf2b440b3b19bd234e339ccfa' target='_blank'>\n",
       "                        <img src='http://www.arcgis.com/sharing/rest//content/items/ecfb33eaf2b440b3b19bd234e339ccfa/info/thumbnail/TransmissionOfWildfire.jpg' class=\"itemThumbnail\">\n",
       "                       </a>\n",
       "                    </div>\n",
       "\n",
       "                    <div class=\"item_right\"     style=\"float: none; width: auto; overflow: hidden;\">\n",
       "                        <a href='http://www.arcgis.com/home/item.html?id=ecfb33eaf2b440b3b19bd234e339ccfa' target='_blank'><b>Transmission of Wildfire Exposure from National Forests to the Wildland Urban Interface</b>\n",
       "                        </a>\n",
       "                        <br/>A map displaying the transmission of wildfire exposure from national forests to the wildland urban interface in the Pacific Northwest Region (Region 6) of the US Forest Service.<img src='http://www.arcgis.com/home/js/jsapi/esri/css/images/item_type_icons/maps16.png' style=\"vertical-align:middle;\">Web Map by jegower\n",
       "                        <br/>Last Modified: February 19, 2017\n",
       "                        <br/>0 comments, 10,300 views\n",
       "                    </div>\n",
       "                </div>\n",
       "                "
      ],
      "text/plain": [
       "<Item title:\"Transmission of Wildfire Exposure from National Forests to the Wildland Urban Interface\" type:Web Map owner:jegower>"
      ]
     },
     "metadata": {},
     "output_type": "display_data"
    },
    {
     "data": {
      "text/html": [
       "<div class=\"item_container\" style=\"height: auto; overflow: hidden; border: 1px solid #cfcfcf; border-radius: 2px; background: #f6fafa; line-height: 1.21429em; padding: 10px;\">\n",
       "                    <div class=\"item_left\" style=\"width: 210px; float: left;\">\n",
       "                       <a href='http://www.arcgis.com/home/item.html?id=4eb9390511774e23b7d212a294d38255' target='_blank'>\n",
       "                        <img src='http://www.arcgis.com/sharing/rest//content/items/4eb9390511774e23b7d212a294d38255/info/thumbnail/WatershedCondition.jpg' class=\"itemThumbnail\">\n",
       "                       </a>\n",
       "                    </div>\n",
       "\n",
       "                    <div class=\"item_right\"     style=\"float: none; width: auto; overflow: hidden;\">\n",
       "                        <a href='http://www.arcgis.com/home/item.html?id=4eb9390511774e23b7d212a294d38255' target='_blank'><b>Watershed Condition of National Forest Lands</b>\n",
       "                        </a>\n",
       "                        <br/>A map displaying the watershed condition classification in the Pacific Northwest Region (Region 6) of the US Forest Service.<img src='http://www.arcgis.com/home/js/jsapi/esri/css/images/item_type_icons/maps16.png' style=\"vertical-align:middle;\">Web Map by jegower\n",
       "                        <br/>Last Modified: February 19, 2017\n",
       "                        <br/>0 comments, 8,636 views\n",
       "                    </div>\n",
       "                </div>\n",
       "                "
      ],
      "text/plain": [
       "<Item title:\"Watershed Condition of National Forest Lands\" type:Web Map owner:jegower>"
      ]
     },
     "metadata": {},
     "output_type": "display_data"
    },
    {
     "data": {
      "text/html": [
       "<div class=\"item_container\" style=\"height: auto; overflow: hidden; border: 1px solid #cfcfcf; border-radius: 2px; background: #f6fafa; line-height: 1.21429em; padding: 10px;\">\n",
       "                    <div class=\"item_left\" style=\"width: 210px; float: left;\">\n",
       "                       <a href='http://www.arcgis.com/home/item.html?id=02d011e818324dc8a27c161b8b22f3b2' target='_blank'>\n",
       "                        <img src='http://www.arcgis.com/sharing/rest//content/items/02d011e818324dc8a27c161b8b22f3b2/info/thumbnail/ago_downloaded.png' class=\"itemThumbnail\">\n",
       "                       </a>\n",
       "                    </div>\n",
       "\n",
       "                    <div class=\"item_right\"     style=\"float: none; width: auto; overflow: hidden;\">\n",
       "                        <a href='http://www.arcgis.com/home/item.html?id=02d011e818324dc8a27c161b8b22f3b2' target='_blank'><b>Earthquakes, Fire, Flood Hazards from ESRI</b>\n",
       "                        </a>\n",
       "                        <br/>Hazards for Northern California<img src='http://www.arcgis.com/home/js/jsapi/esri/css/images/item_type_icons/maps16.png' style=\"vertical-align:middle;\">Web Map by chinmayalewis\n",
       "                        <br/>Last Modified: February 21, 2017\n",
       "                        <br/>0 comments, 7,940 views\n",
       "                    </div>\n",
       "                </div>\n",
       "                "
      ],
      "text/plain": [
       "<Item title:\"Earthquakes, Fire, Flood Hazards from ESRI\" type:Web Map owner:chinmayalewis>"
      ]
     },
     "metadata": {},
     "output_type": "display_data"
    },
    {
     "data": {
      "text/html": [
       "<div class=\"item_container\" style=\"height: auto; overflow: hidden; border: 1px solid #cfcfcf; border-radius: 2px; background: #f6fafa; line-height: 1.21429em; padding: 10px;\">\n",
       "                    <div class=\"item_left\" style=\"width: 210px; float: left;\">\n",
       "                       <a href='http://www.arcgis.com/home/item.html?id=7558aab035dc4841868cc88a93971186' target='_blank'>\n",
       "                        <img src='http://www.arcgis.com/sharing/rest//content/items/7558aab035dc4841868cc88a93971186/info/thumbnail/Picture1.png' class=\"itemThumbnail\">\n",
       "                       </a>\n",
       "                    </div>\n",
       "\n",
       "                    <div class=\"item_right\"     style=\"float: none; width: auto; overflow: hidden;\">\n",
       "                        <a href='http://www.arcgis.com/home/item.html?id=7558aab035dc4841868cc88a93971186' target='_blank'><b>City of Bradenton Public Safety</b>\n",
       "                        </a>\n",
       "                        <br/><img src='http://www.arcgis.com/home/js/jsapi/esri/css/images/item_type_icons/maps16.png' style=\"vertical-align:middle;\">Web Map by cityofbradenton\n",
       "                        <br/>Last Modified: February 17, 2017\n",
       "                        <br/>0 comments, 4,028 views\n",
       "                    </div>\n",
       "                </div>\n",
       "                "
      ],
      "text/plain": [
       "<Item title:\"City of Bradenton Public Safety\" type:Web Map owner:cityofbradenton>"
      ]
     },
     "metadata": {},
     "output_type": "display_data"
    },
    {
     "data": {
      "text/html": [
       "<div class=\"item_container\" style=\"height: auto; overflow: hidden; border: 1px solid #cfcfcf; border-radius: 2px; background: #f6fafa; line-height: 1.21429em; padding: 10px;\">\n",
       "                    <div class=\"item_left\" style=\"width: 210px; float: left;\">\n",
       "                       <a href='http://www.arcgis.com/home/item.html?id=bd2152d8605a46469e9e81d80cb66a01' target='_blank'>\n",
       "                        <img src='http://www.arcgis.com/sharing/rest//content/items/bd2152d8605a46469e9e81d80cb66a01/info/thumbnail/ago_downloaded.png' class=\"itemThumbnail\">\n",
       "                       </a>\n",
       "                    </div>\n",
       "\n",
       "                    <div class=\"item_right\"     style=\"float: none; width: auto; overflow: hidden;\">\n",
       "                        <a href='http://www.arcgis.com/home/item.html?id=bd2152d8605a46469e9e81d80cb66a01' target='_blank'><b>Office of Mapping Fire Alarm Evacuation Route</b>\n",
       "                        </a>\n",
       "                        <br/>Evacuation from the Office of Mapping & Geographic Information in the event of a fire alarm.<img src='http://www.arcgis.com/home/js/jsapi/esri/css/images/item_type_icons/maps16.png' style=\"vertical-align:middle;\">Web Map by LoudounKristin\n",
       "                        <br/>Last Modified: February 17, 2017\n",
       "                        <br/>0 comments, 3,311 views\n",
       "                    </div>\n",
       "                </div>\n",
       "                "
      ],
      "text/plain": [
       "<Item title:\"Office of Mapping Fire Alarm Evacuation Route\" type:Web Map owner:LoudounKristin>"
      ]
     },
     "metadata": {},
     "output_type": "display_data"
    },
    {
     "data": {
      "text/html": [
       "<div class=\"item_container\" style=\"height: auto; overflow: hidden; border: 1px solid #cfcfcf; border-radius: 2px; background: #f6fafa; line-height: 1.21429em; padding: 10px;\">\n",
       "                    <div class=\"item_left\" style=\"width: 210px; float: left;\">\n",
       "                       <a href='http://www.arcgis.com/home/item.html?id=c9cac3791def4a088dbfb5a73dfaafd9' target='_blank'>\n",
       "                        <img src='http://www.arcgis.com/sharing/rest//content/items/c9cac3791def4a088dbfb5a73dfaafd9/info/thumbnail/ago_downloaded.png' class=\"itemThumbnail\">\n",
       "                       </a>\n",
       "                    </div>\n",
       "\n",
       "                    <div class=\"item_right\"     style=\"float: none; width: auto; overflow: hidden;\">\n",
       "                        <a href='http://www.arcgis.com/home/item.html?id=c9cac3791def4a088dbfb5a73dfaafd9' target='_blank'><b>Closest Fire Station ??</b>\n",
       "                        </a>\n",
       "                        <br/>What is my closest CCFD Fire Station ??<img src='http://www.arcgis.com/home/js/jsapi/esri/css/images/item_type_icons/maps16.png' style=\"vertical-align:middle;\">Web Map by donmax\n",
       "                        <br/>Last Modified: February 17, 2017\n",
       "                        <br/>0 comments, 3,126 views\n",
       "                    </div>\n",
       "                </div>\n",
       "                "
      ],
      "text/plain": [
       "<Item title:\"Closest Fire Station ??\" type:Web Map owner:donmax>"
      ]
     },
     "metadata": {},
     "output_type": "display_data"
    },
    {
     "data": {
      "text/html": [
       "<div class=\"item_container\" style=\"height: auto; overflow: hidden; border: 1px solid #cfcfcf; border-radius: 2px; background: #f6fafa; line-height: 1.21429em; padding: 10px;\">\n",
       "                    <div class=\"item_left\" style=\"width: 210px; float: left;\">\n",
       "                       <a href='http://www.arcgis.com/home/item.html?id=4ce5f6816fa444429a2af45030a733a3' target='_blank'>\n",
       "                        <img src='http://www.arcgis.com/sharing/rest//content/items/4ce5f6816fa444429a2af45030a733a3/info/thumbnail/ago_downloaded.png' class=\"itemThumbnail\">\n",
       "                       </a>\n",
       "                    </div>\n",
       "\n",
       "                    <div class=\"item_right\"     style=\"float: none; width: auto; overflow: hidden;\">\n",
       "                        <a href='http://www.arcgis.com/home/item.html?id=4ce5f6816fa444429a2af45030a733a3' target='_blank'><b>Fire LEO EMS</b>\n",
       "                        </a>\n",
       "                        <br/>emergency services<img src='http://www.arcgis.com/home/js/jsapi/esri/css/images/item_type_icons/maps16.png' style=\"vertical-align:middle;\">Web Map by gisadmin_harnett\n",
       "                        <br/>Last Modified: February 16, 2017\n",
       "                        <br/>0 comments, 2,938 views\n",
       "                    </div>\n",
       "                </div>\n",
       "                "
      ],
      "text/plain": [
       "<Item title:\"Fire LEO EMS\" type:Web Map owner:gisadmin_harnett>"
      ]
     },
     "metadata": {},
     "output_type": "display_data"
    },
    {
     "data": {
      "text/html": [
       "<div class=\"item_container\" style=\"height: auto; overflow: hidden; border: 1px solid #cfcfcf; border-radius: 2px; background: #f6fafa; line-height: 1.21429em; padding: 10px;\">\n",
       "                    <div class=\"item_left\" style=\"width: 210px; float: left;\">\n",
       "                       <a href='http://www.arcgis.com/home/item.html?id=f419b375337d4bfcbb53155ed082d3a6' target='_blank'>\n",
       "                        <img src='http://www.arcgis.com/sharing/rest//content/items/f419b375337d4bfcbb53155ed082d3a6/info/thumbnail/ago_downloaded.png' class=\"itemThumbnail\">\n",
       "                       </a>\n",
       "                    </div>\n",
       "\n",
       "                    <div class=\"item_right\"     style=\"float: none; width: auto; overflow: hidden;\">\n",
       "                        <a href='http://www.arcgis.com/home/item.html?id=f419b375337d4bfcbb53155ed082d3a6' target='_blank'><b>Fire Areas</b>\n",
       "                        </a>\n",
       "                        <br/>Town of Mono Fire Areas<img src='http://www.arcgis.com/home/js/jsapi/esri/css/images/item_type_icons/maps16.png' style=\"vertical-align:middle;\">Web Map by MonoIT\n",
       "                        <br/>Last Modified: February 22, 2017\n",
       "                        <br/>0 comments, 2,927 views\n",
       "                    </div>\n",
       "                </div>\n",
       "                "
      ],
      "text/plain": [
       "<Item title:\"Fire Areas\" type:Web Map owner:MonoIT>"
      ]
     },
     "metadata": {},
     "output_type": "display_data"
    },
    {
     "data": {
      "text/html": [
       "<div class=\"item_container\" style=\"height: auto; overflow: hidden; border: 1px solid #cfcfcf; border-radius: 2px; background: #f6fafa; line-height: 1.21429em; padding: 10px;\">\n",
       "                    <div class=\"item_left\" style=\"width: 210px; float: left;\">\n",
       "                       <a href='http://www.arcgis.com/home/item.html?id=526f7490ee5d4950a1992b9be341c2cd' target='_blank'>\n",
       "                        <img src='http://www.arcgis.com/sharing/rest//content/items/526f7490ee5d4950a1992b9be341c2cd/info/thumbnail/ago_downloaded.png' class=\"itemThumbnail\">\n",
       "                       </a>\n",
       "                    </div>\n",
       "\n",
       "                    <div class=\"item_right\"     style=\"float: none; width: auto; overflow: hidden;\">\n",
       "                        <a href='http://www.arcgis.com/home/item.html?id=526f7490ee5d4950a1992b9be341c2cd' target='_blank'><b>Emergency Operations Dashboard_FireWx</b>\n",
       "                        </a>\n",
       "                        <br/>Situational Awareness for Fire<img src='http://www.arcgis.com/home/js/jsapi/esri/css/images/item_type_icons/maps16.png' style=\"vertical-align:middle;\">Web Map by zach.stanford\n",
       "                        <br/>Last Modified: February 23, 2017\n",
       "                        <br/>0 comments, 2,373 views\n",
       "                    </div>\n",
       "                </div>\n",
       "                "
      ],
      "text/plain": [
       "<Item title:\"Emergency Operations Dashboard_FireWx\" type:Web Map owner:zach.stanford>"
      ]
     },
     "metadata": {},
     "output_type": "display_data"
    },
    {
     "data": {
      "text/html": [
       "<div class=\"item_container\" style=\"height: auto; overflow: hidden; border: 1px solid #cfcfcf; border-radius: 2px; background: #f6fafa; line-height: 1.21429em; padding: 10px;\">\n",
       "                    <div class=\"item_left\" style=\"width: 210px; float: left;\">\n",
       "                       <a href='http://www.arcgis.com/home/item.html?id=bfeb7afc4d9645c0a02f8fcc84c0fa12' target='_blank'>\n",
       "                        <img src='http://www.arcgis.com/sharing/rest//content/items/bfeb7afc4d9645c0a02f8fcc84c0fa12/info/thumbnail/ago_downloaded.png' class=\"itemThumbnail\">\n",
       "                       </a>\n",
       "                    </div>\n",
       "\n",
       "                    <div class=\"item_right\"     style=\"float: none; width: auto; overflow: hidden;\">\n",
       "                        <a href='http://www.arcgis.com/home/item.html?id=bfeb7afc4d9645c0a02f8fcc84c0fa12' target='_blank'><b>Fire Base</b>\n",
       "                        </a>\n",
       "                        <br/>Regional reference base tab<img src='http://www.arcgis.com/home/js/jsapi/esri/css/images/item_type_icons/maps16.png' style=\"vertical-align:middle;\">Web Map by avanderpas_Lewiston\n",
       "                        <br/>Last Modified: February 22, 2017\n",
       "                        <br/>0 comments, 2,030 views\n",
       "                    </div>\n",
       "                </div>\n",
       "                "
      ],
      "text/plain": [
       "<Item title:\"Fire Base\" type:Web Map owner:avanderpas_Lewiston>"
      ]
     },
     "metadata": {},
     "output_type": "display_data"
    },
    {
     "data": {
      "text/html": [
       "<div class=\"item_container\" style=\"height: auto; overflow: hidden; border: 1px solid #cfcfcf; border-radius: 2px; background: #f6fafa; line-height: 1.21429em; padding: 10px;\">\n",
       "                    <div class=\"item_left\" style=\"width: 210px; float: left;\">\n",
       "                       <a href='http://www.arcgis.com/home/item.html?id=777876c3c3ed485aa4c1ae1be3d10668' target='_blank'>\n",
       "                        <img src='http://www.arcgis.com/sharing/rest//content/items/777876c3c3ed485aa4c1ae1be3d10668/info/thumbnail/ago_downloaded.png' class=\"itemThumbnail\">\n",
       "                       </a>\n",
       "                    </div>\n",
       "\n",
       "                    <div class=\"item_right\"     style=\"float: none; width: auto; overflow: hidden;\">\n",
       "                        <a href='http://www.arcgis.com/home/item.html?id=777876c3c3ed485aa4c1ae1be3d10668' target='_blank'><b>WWW_Utilities_Fire_SW_CS</b>\n",
       "                        </a>\n",
       "                        <br/><img src='http://www.arcgis.com/home/js/jsapi/esri/css/images/item_type_icons/maps16.png' style=\"vertical-align:middle;\">Web Map by NewedgeMidland\n",
       "                        <br/>Last Modified: February 16, 2017\n",
       "                        <br/>0 comments, 1,915 views\n",
       "                    </div>\n",
       "                </div>\n",
       "                "
      ],
      "text/plain": [
       "<Item title:\"WWW_Utilities_Fire_SW_CS\" type:Web Map owner:NewedgeMidland>"
      ]
     },
     "metadata": {},
     "output_type": "display_data"
    },
    {
     "data": {
      "text/html": [
       "<div class=\"item_container\" style=\"height: auto; overflow: hidden; border: 1px solid #cfcfcf; border-radius: 2px; background: #f6fafa; line-height: 1.21429em; padding: 10px;\">\n",
       "                    <div class=\"item_left\" style=\"width: 210px; float: left;\">\n",
       "                       <a href='http://www.arcgis.com/home/item.html?id=0078f00cca7640c99925f4e78bcb8065' target='_blank'>\n",
       "                        <img src='http://www.arcgis.com/sharing/rest//content/items/0078f00cca7640c99925f4e78bcb8065/info/thumbnail/ago_downloaded.png' class=\"itemThumbnail\">\n",
       "                       </a>\n",
       "                    </div>\n",
       "\n",
       "                    <div class=\"item_right\"     style=\"float: none; width: auto; overflow: hidden;\">\n",
       "                        <a href='http://www.arcgis.com/home/item.html?id=0078f00cca7640c99925f4e78bcb8065' target='_blank'><b>FireHydrantBuffer</b>\n",
       "                        </a>\n",
       "                        <br/>1000 ft buffer from each fire hydrant<img src='http://www.arcgis.com/home/js/jsapi/esri/css/images/item_type_icons/maps16.png' style=\"vertical-align:middle;\">Web Map by kmoore87\n",
       "                        <br/>Last Modified: February 23, 2017\n",
       "                        <br/>0 comments, 1,413 views\n",
       "                    </div>\n",
       "                </div>\n",
       "                "
      ],
      "text/plain": [
       "<Item title:\"FireHydrantBuffer\" type:Web Map owner:kmoore87>"
      ]
     },
     "metadata": {},
     "output_type": "display_data"
    },
    {
     "data": {
      "text/html": [
       "<div class=\"item_container\" style=\"height: auto; overflow: hidden; border: 1px solid #cfcfcf; border-radius: 2px; background: #f6fafa; line-height: 1.21429em; padding: 10px;\">\n",
       "                    <div class=\"item_left\" style=\"width: 210px; float: left;\">\n",
       "                       <a href='http://www.arcgis.com/home/item.html?id=940082ae33c947d7b8f8356e35ef4e20' target='_blank'>\n",
       "                        <img src='http://www.arcgis.com/sharing/rest//content/items/940082ae33c947d7b8f8356e35ef4e20/info/thumbnail/ago_downloaded.png' class=\"itemThumbnail\">\n",
       "                       </a>\n",
       "                    </div>\n",
       "\n",
       "                    <div class=\"item_right\"     style=\"float: none; width: auto; overflow: hidden;\">\n",
       "                        <a href='http://www.arcgis.com/home/item.html?id=940082ae33c947d7b8f8356e35ef4e20' target='_blank'><b>Overview of Burnt Schools in Highlighted Counties-FINAL Summary2</b>\n",
       "                        </a>\n",
       "                        <br/>A general overview of Counties with Schools that burnt in Kenya<img src='http://www.arcgis.com/home/js/jsapi/esri/css/images/item_type_icons/maps16.png' style=\"vertical-align:middle;\">Web Map by mkitiyo_gSpace\n",
       "                        <br/>Last Modified: February 19, 2017\n",
       "                        <br/>0 comments, 1,399 views\n",
       "                    </div>\n",
       "                </div>\n",
       "                "
      ],
      "text/plain": [
       "<Item title:\"Overview of Burnt Schools in Highlighted Counties-FINAL Summary2\" type:Web Map owner:mkitiyo_gSpace>"
      ]
     },
     "metadata": {},
     "output_type": "display_data"
    },
    {
     "data": {
      "text/html": [
       "<div class=\"item_container\" style=\"height: auto; overflow: hidden; border: 1px solid #cfcfcf; border-radius: 2px; background: #f6fafa; line-height: 1.21429em; padding: 10px;\">\n",
       "                    <div class=\"item_left\" style=\"width: 210px; float: left;\">\n",
       "                       <a href='http://www.arcgis.com/home/item.html?id=c17778586b68435aa85efeaeb11021e0' target='_blank'>\n",
       "                        <img src='http://www.arcgis.com/sharing/rest//content/items/c17778586b68435aa85efeaeb11021e0/info/thumbnail/ago_downloaded.png' class=\"itemThumbnail\">\n",
       "                       </a>\n",
       "                    </div>\n",
       "\n",
       "                    <div class=\"item_right\"     style=\"float: none; width: auto; overflow: hidden;\">\n",
       "                        <a href='http://www.arcgis.com/home/item.html?id=c17778586b68435aa85efeaeb11021e0' target='_blank'><b>SF/S&R Locations</b>\n",
       "                        </a>\n",
       "                        <br/><img src='http://www.arcgis.com/home/js/jsapi/esri/css/images/item_type_icons/maps16.png' style=\"vertical-align:middle;\">Web Map by calema_gis\n",
       "                        <br/>Last Modified: February 21, 2017\n",
       "                        <br/>0 comments, 1,276 views\n",
       "                    </div>\n",
       "                </div>\n",
       "                "
      ],
      "text/plain": [
       "<Item title:\"SF/S&R Locations\" type:Web Map owner:calema_gis>"
      ]
     },
     "metadata": {},
     "output_type": "display_data"
    },
    {
     "data": {
      "text/html": [
       "<div class=\"item_container\" style=\"height: auto; overflow: hidden; border: 1px solid #cfcfcf; border-radius: 2px; background: #f6fafa; line-height: 1.21429em; padding: 10px;\">\n",
       "                    <div class=\"item_left\" style=\"width: 210px; float: left;\">\n",
       "                       <a href='http://www.arcgis.com/home/item.html?id=d255edca6b924278acd739ac90817386' target='_blank'>\n",
       "                        <img src='http://www.arcgis.com/sharing/rest//content/items/d255edca6b924278acd739ac90817386/info/thumbnail/ago_downloaded.png' class=\"itemThumbnail\">\n",
       "                       </a>\n",
       "                    </div>\n",
       "\n",
       "                    <div class=\"item_right\"     style=\"float: none; width: auto; overflow: hidden;\">\n",
       "                        <a href='http://www.arcgis.com/home/item.html?id=d255edca6b924278acd739ac90817386' target='_blank'><b>Prattville GIS for Fire Dept</b>\n",
       "                        </a>\n",
       "                        <br/><img src='http://www.arcgis.com/home/js/jsapi/esri/css/images/item_type_icons/maps16.png' style=\"vertical-align:middle;\">Web Map by PrattvilleGIS\n",
       "                        <br/>Last Modified: February 21, 2017\n",
       "                        <br/>0 comments, 1,179 views\n",
       "                    </div>\n",
       "                </div>\n",
       "                "
      ],
      "text/plain": [
       "<Item title:\"Prattville GIS for Fire Dept\" type:Web Map owner:PrattvilleGIS>"
      ]
     },
     "metadata": {},
     "output_type": "display_data"
    },
    {
     "data": {
      "text/html": [
       "<div class=\"item_container\" style=\"height: auto; overflow: hidden; border: 1px solid #cfcfcf; border-radius: 2px; background: #f6fafa; line-height: 1.21429em; padding: 10px;\">\n",
       "                    <div class=\"item_left\" style=\"width: 210px; float: left;\">\n",
       "                       <a href='http://www.arcgis.com/home/item.html?id=b094618999d34465b96636d4820af00f' target='_blank'>\n",
       "                        <img src='http://www.arcgis.com/sharing/rest//content/items/b094618999d34465b96636d4820af00f/info/thumbnail/ago_downloaded.png' class=\"itemThumbnail\">\n",
       "                       </a>\n",
       "                    </div>\n",
       "\n",
       "                    <div class=\"item_right\"     style=\"float: none; width: auto; overflow: hidden;\">\n",
       "                        <a href='http://www.arcgis.com/home/item.html?id=b094618999d34465b96636d4820af00f' target='_blank'><b>Summary of School Arsons 2016</b>\n",
       "                        </a>\n",
       "                        <br/>A general overview of Counties with Schools that burnt in Kenya<img src='http://www.arcgis.com/home/js/jsapi/esri/css/images/item_type_icons/maps16.png' style=\"vertical-align:middle;\">Web Map by mkitiyo_gSpace\n",
       "                        <br/>Last Modified: February 19, 2017\n",
       "                        <br/>0 comments, 1,129 views\n",
       "                    </div>\n",
       "                </div>\n",
       "                "
      ],
      "text/plain": [
       "<Item title:\"Summary of School Arsons 2016\" type:Web Map owner:mkitiyo_gSpace>"
      ]
     },
     "metadata": {},
     "output_type": "display_data"
    },
    {
     "data": {
      "text/html": [
       "<div class=\"item_container\" style=\"height: auto; overflow: hidden; border: 1px solid #cfcfcf; border-radius: 2px; background: #f6fafa; line-height: 1.21429em; padding: 10px;\">\n",
       "                    <div class=\"item_left\" style=\"width: 210px; float: left;\">\n",
       "                       <a href='http://www.arcgis.com/home/item.html?id=caba59e5d4c94372a62eccf6ed92d643' target='_blank'>\n",
       "                        <img src='http://static.arcgis.com/images/desktopapp.png' class=\"itemThumbnail\">\n",
       "                       </a>\n",
       "                    </div>\n",
       "\n",
       "                    <div class=\"item_right\"     style=\"float: none; width: auto; overflow: hidden;\">\n",
       "                        <a href='http://www.arcgis.com/home/item.html?id=caba59e5d4c94372a62eccf6ed92d643' target='_blank'><b>Overview of Burnt Schools in Highlighted Counties-FINAL OVERVIEW_</b>\n",
       "                        </a>\n",
       "                        <br/>A general overview of Counties with Schools that burnt in Kenya<img src='http://www.arcgis.com/home/js/jsapi/esri/css/images/item_type_icons/maps16.png' style=\"vertical-align:middle;\">Web Map by mkitiyo_gSpace\n",
       "                        <br/>Last Modified: February 19, 2017\n",
       "                        <br/>0 comments, 1,103 views\n",
       "                    </div>\n",
       "                </div>\n",
       "                "
      ],
      "text/plain": [
       "<Item title:\"Overview of Burnt Schools in Highlighted Counties-FINAL OVERVIEW_\" type:Web Map owner:mkitiyo_gSpace>"
      ]
     },
     "metadata": {},
     "output_type": "display_data"
    },
    {
     "data": {
      "text/html": [
       "<div class=\"item_container\" style=\"height: auto; overflow: hidden; border: 1px solid #cfcfcf; border-radius: 2px; background: #f6fafa; line-height: 1.21429em; padding: 10px;\">\n",
       "                    <div class=\"item_left\" style=\"width: 210px; float: left;\">\n",
       "                       <a href='http://www.arcgis.com/home/item.html?id=5260dccede9a4504a9a6b3d7aa1b6e2c' target='_blank'>\n",
       "                        <img src='http://www.arcgis.com/sharing/rest//content/items/5260dccede9a4504a9a6b3d7aa1b6e2c/info/thumbnail/ago_downloaded.png' class=\"itemThumbnail\">\n",
       "                       </a>\n",
       "                    </div>\n",
       "\n",
       "                    <div class=\"item_right\"     style=\"float: none; width: auto; overflow: hidden;\">\n",
       "                        <a href='http://www.arcgis.com/home/item.html?id=5260dccede9a4504a9a6b3d7aa1b6e2c' target='_blank'><b>Ethane Cracker Hazard Map</b>\n",
       "                        </a>\n",
       "                        <br/>Map of hazards and resources near Beaver County Ethane Cracker<img src='http://www.arcgis.com/home/js/jsapi/esri/css/images/item_type_icons/maps16.png' style=\"vertical-align:middle;\">Web Map by jalbert_ft\n",
       "                        <br/>Last Modified: February 15, 2017\n",
       "                        <br/>0 comments, 1,064 views\n",
       "                    </div>\n",
       "                </div>\n",
       "                "
      ],
      "text/plain": [
       "<Item title:\"Ethane Cracker Hazard Map\" type:Web Map owner:jalbert_ft>"
      ]
     },
     "metadata": {},
     "output_type": "display_data"
    },
    {
     "data": {
      "text/html": [
       "<div class=\"item_container\" style=\"height: auto; overflow: hidden; border: 1px solid #cfcfcf; border-radius: 2px; background: #f6fafa; line-height: 1.21429em; padding: 10px;\">\n",
       "                    <div class=\"item_left\" style=\"width: 210px; float: left;\">\n",
       "                       <a href='http://www.arcgis.com/home/item.html?id=21652c29e66d440a88d4513cb2481861' target='_blank'>\n",
       "                        <img src='http://www.arcgis.com/sharing/rest//content/items/21652c29e66d440a88d4513cb2481861/info/thumbnail/ago_downloaded.png' class=\"itemThumbnail\">\n",
       "                       </a>\n",
       "                    </div>\n",
       "\n",
       "                    <div class=\"item_right\"     style=\"float: none; width: auto; overflow: hidden;\">\n",
       "                        <a href='http://www.arcgis.com/home/item.html?id=21652c29e66d440a88d4513cb2481861' target='_blank'><b>Station & Hydrant Finder</b>\n",
       "                        </a>\n",
       "                        <br/>Station & Hydrant Finder - BETA<img src='http://www.arcgis.com/home/js/jsapi/esri/css/images/item_type_icons/maps16.png' style=\"vertical-align:middle;\">Web Map by bbarnett_lcgis\n",
       "                        <br/>Last Modified: February 16, 2017\n",
       "                        <br/>0 comments, 992 views\n",
       "                    </div>\n",
       "                </div>\n",
       "                "
      ],
      "text/plain": [
       "<Item title:\"Station & Hydrant Finder\" type:Web Map owner:bbarnett_lcgis>"
      ]
     },
     "metadata": {},
     "output_type": "display_data"
    },
    {
     "data": {
      "text/html": [
       "<div class=\"item_container\" style=\"height: auto; overflow: hidden; border: 1px solid #cfcfcf; border-radius: 2px; background: #f6fafa; line-height: 1.21429em; padding: 10px;\">\n",
       "                    <div class=\"item_left\" style=\"width: 210px; float: left;\">\n",
       "                       <a href='http://www.arcgis.com/home/item.html?id=05a433cfae894edd85dc1100faa54f5f' target='_blank'>\n",
       "                        <img src='http://www.arcgis.com/sharing/rest//content/items/05a433cfae894edd85dc1100faa54f5f/info/thumbnail/ago_downloaded.png' class=\"itemThumbnail\">\n",
       "                       </a>\n",
       "                    </div>\n",
       "\n",
       "                    <div class=\"item_right\"     style=\"float: none; width: auto; overflow: hidden;\">\n",
       "                        <a href='http://www.arcgis.com/home/item.html?id=05a433cfae894edd85dc1100faa54f5f' target='_blank'><b>Reported Wildfires</b>\n",
       "                        </a>\n",
       "                        <br/>All wildfires reported to Kansas Forest Service by a 209 form.<img src='http://www.arcgis.com/home/js/jsapi/esri/css/images/item_type_icons/maps16.png' style=\"vertical-align:middle;\">Web Map by dpaull_kstate\n",
       "                        <br/>Last Modified: February 22, 2017\n",
       "                        <br/>0 comments, 979 views\n",
       "                    </div>\n",
       "                </div>\n",
       "                "
      ],
      "text/plain": [
       "<Item title:\"Reported Wildfires\" type:Web Map owner:dpaull_kstate>"
      ]
     },
     "metadata": {},
     "output_type": "display_data"
    },
    {
     "data": {
      "text/html": [
       "<div class=\"item_container\" style=\"height: auto; overflow: hidden; border: 1px solid #cfcfcf; border-radius: 2px; background: #f6fafa; line-height: 1.21429em; padding: 10px;\">\n",
       "                    <div class=\"item_left\" style=\"width: 210px; float: left;\">\n",
       "                       <a href='http://www.arcgis.com/home/item.html?id=8a4fe23312994e9c9dd759331c3d1b1a' target='_blank'>\n",
       "                        <img src='http://www.arcgis.com/sharing/rest//content/items/8a4fe23312994e9c9dd759331c3d1b1a/info/thumbnail/ago_downloaded.png' class=\"itemThumbnail\">\n",
       "                       </a>\n",
       "                    </div>\n",
       "\n",
       "                    <div class=\"item_right\"     style=\"float: none; width: auto; overflow: hidden;\">\n",
       "                        <a href='http://www.arcgis.com/home/item.html?id=8a4fe23312994e9c9dd759331c3d1b1a' target='_blank'><b>Wildland Fires Map 2015</b>\n",
       "                        </a>\n",
       "                        <br/>Hazard Mitigation Plan<img src='http://www.arcgis.com/home/js/jsapi/esri/css/images/item_type_icons/maps16.png' style=\"vertical-align:middle;\">Web Map by kiman\n",
       "                        <br/>Last Modified: February 14, 2017\n",
       "                        <br/>0 comments, 966 views\n",
       "                    </div>\n",
       "                </div>\n",
       "                "
      ],
      "text/plain": [
       "<Item title:\"Wildland Fires Map 2015\" type:Web Map owner:kiman>"
      ]
     },
     "metadata": {},
     "output_type": "display_data"
    },
    {
     "data": {
      "text/html": [
       "<div class=\"item_container\" style=\"height: auto; overflow: hidden; border: 1px solid #cfcfcf; border-radius: 2px; background: #f6fafa; line-height: 1.21429em; padding: 10px;\">\n",
       "                    <div class=\"item_left\" style=\"width: 210px; float: left;\">\n",
       "                       <a href='http://www.arcgis.com/home/item.html?id=fc0eb7453d7842bbae887e61c4413ab3' target='_blank'>\n",
       "                        <img src='http://www.arcgis.com/sharing/rest//content/items/fc0eb7453d7842bbae887e61c4413ab3/info/thumbnail/ago_downloaded.png' class=\"itemThumbnail\">\n",
       "                       </a>\n",
       "                    </div>\n",
       "\n",
       "                    <div class=\"item_right\"     style=\"float: none; width: auto; overflow: hidden;\">\n",
       "                        <a href='http://www.arcgis.com/home/item.html?id=fc0eb7453d7842bbae887e61c4413ab3' target='_blank'><b>Fire & Rescue</b>\n",
       "                        </a>\n",
       "                        <br/>Fire & Rescue<img src='http://www.arcgis.com/home/js/jsapi/esri/css/images/item_type_icons/maps16.png' style=\"vertical-align:middle;\">Web Map by HuntsvilleAL.gov\n",
       "                        <br/>Last Modified: February 22, 2017\n",
       "                        <br/>0 comments, 925 views\n",
       "                    </div>\n",
       "                </div>\n",
       "                "
      ],
      "text/plain": [
       "<Item title:\"Fire & Rescue\" type:Web Map owner:HuntsvilleAL.gov>"
      ]
     },
     "metadata": {},
     "output_type": "display_data"
    },
    {
     "data": {
      "text/html": [
       "<div class=\"item_container\" style=\"height: auto; overflow: hidden; border: 1px solid #cfcfcf; border-radius: 2px; background: #f6fafa; line-height: 1.21429em; padding: 10px;\">\n",
       "                    <div class=\"item_left\" style=\"width: 210px; float: left;\">\n",
       "                       <a href='http://www.arcgis.com/home/item.html?id=93f225890a304b11ace127657082bb39' target='_blank'>\n",
       "                        <img src='http://www.arcgis.com/sharing/rest//content/items/93f225890a304b11ace127657082bb39/info/thumbnail/BNDRY.jpg' class=\"itemThumbnail\">\n",
       "                       </a>\n",
       "                    </div>\n",
       "\n",
       "                    <div class=\"item_right\"     style=\"float: none; width: auto; overflow: hidden;\">\n",
       "                        <a href='http://www.arcgis.com/home/item.html?id=93f225890a304b11ace127657082bb39' target='_blank'><b>The Woodlands Township Map</b>\n",
       "                        </a>\n",
       "                        <br/>The Woodlands Township boundary & area including other feature layers<img src='http://www.arcgis.com/home/js/jsapi/esri/css/images/item_type_icons/maps16.png' style=\"vertical-align:middle;\">Web Map by WoodlandsGIS\n",
       "                        <br/>Last Modified: February 20, 2017\n",
       "                        <br/>0 comments, 869 views\n",
       "                    </div>\n",
       "                </div>\n",
       "                "
      ],
      "text/plain": [
       "<Item title:\"The Woodlands Township Map\" type:Web Map owner:WoodlandsGIS>"
      ]
     },
     "metadata": {},
     "output_type": "display_data"
    },
    {
     "data": {
      "text/html": [
       "<div class=\"item_container\" style=\"height: auto; overflow: hidden; border: 1px solid #cfcfcf; border-radius: 2px; background: #f6fafa; line-height: 1.21429em; padding: 10px;\">\n",
       "                    <div class=\"item_left\" style=\"width: 210px; float: left;\">\n",
       "                       <a href='http://www.arcgis.com/home/item.html?id=251cb84288a642e98c7d23f2812b95f8' target='_blank'>\n",
       "                        <img src='http://www.arcgis.com/sharing/rest//content/items/251cb84288a642e98c7d23f2812b95f8/info/thumbnail/ago_downloaded.png' class=\"itemThumbnail\">\n",
       "                       </a>\n",
       "                    </div>\n",
       "\n",
       "                    <div class=\"item_right\"     style=\"float: none; width: auto; overflow: hidden;\">\n",
       "                        <a href='http://www.arcgis.com/home/item.html?id=251cb84288a642e98c7d23f2812b95f8' target='_blank'><b>2017 - 2021 CIP Web Map</b>\n",
       "                        </a>\n",
       "                        <br/>The CIP consists primarily of land acquisition, infrastructure improvements such as streets and utilities, acquisition or construction of buildings, and other improvements to facilities or property such as parks.<img src='http://www.arcgis.com/home/js/jsapi/esri/css/images/item_type_icons/maps16.png' style=\"vertical-align:middle;\">Web Map by dvandeberg_cityofsfgis\n",
       "                        <br/>Last Modified: February 21, 2017\n",
       "                        <br/>0 comments, 730 views\n",
       "                    </div>\n",
       "                </div>\n",
       "                "
      ],
      "text/plain": [
       "<Item title:\"2017 - 2021 CIP Web Map\" type:Web Map owner:dvandeberg_cityofsfgis>"
      ]
     },
     "metadata": {},
     "output_type": "display_data"
    }
   ],
   "source": [
    "get_recent_maps_about('fire', nb_days_ago=10)"
   ]
  },
  {
   "cell_type": "markdown",
   "metadata": {},
   "source": [
    "# Tsunamis"
   ]
  },
  {
   "cell_type": "code",
   "execution_count": 5,
   "metadata": {
    "collapsed": false
   },
   "outputs": [
    {
     "data": {
      "text/html": [
       "<div class=\"item_container\" style=\"height: auto; overflow: hidden; border: 1px solid #cfcfcf; border-radius: 2px; background: #f6fafa; line-height: 1.21429em; padding: 10px;\">\n",
       "                    <div class=\"item_left\" style=\"width: 210px; float: left;\">\n",
       "                       <a href='http://www.arcgis.com/home/item.html?id=abce1d91f5a243a9823fca6c39f71ab3' target='_blank'>\n",
       "                        <img src='http://www.arcgis.com/sharing/rest//content/items/abce1d91f5a243a9823fca6c39f71ab3/info/thumbnail/EmerResp-Offices-Employees_WebMap_200x133.png' class=\"itemThumbnail\">\n",
       "                       </a>\n",
       "                    </div>\n",
       "\n",
       "                    <div class=\"item_right\"     style=\"float: none; width: auto; overflow: hidden;\">\n",
       "                        <a href='http://www.arcgis.com/home/item.html?id=abce1d91f5a243a9823fca6c39f71ab3' target='_blank'><b>CB&I Emergency Response Web Map</b>\n",
       "                        </a>\n",
       "                        <br/>Web map for CB&I Emergency Response Application.<img src='http://www.arcgis.com/home/js/jsapi/esri/css/images/item_type_icons/maps16.png' style=\"vertical-align:middle;\">Web Map by john.mcewen\n",
       "                        <br/>Last Modified: February 22, 2017\n",
       "                        <br/>0 comments, 947 views\n",
       "                    </div>\n",
       "                </div>\n",
       "                "
      ],
      "text/plain": [
       "<Item title:\"CB&I Emergency Response Web Map\" type:Web Map owner:john.mcewen>"
      ]
     },
     "metadata": {},
     "output_type": "display_data"
    },
    {
     "data": {
      "text/html": [
       "<div class=\"item_container\" style=\"height: auto; overflow: hidden; border: 1px solid #cfcfcf; border-radius: 2px; background: #f6fafa; line-height: 1.21429em; padding: 10px;\">\n",
       "                    <div class=\"item_left\" style=\"width: 210px; float: left;\">\n",
       "                       <a href='http://www.arcgis.com/home/item.html?id=a867399ba9b94895954ec19728ca3bfa' target='_blank'>\n",
       "                        <img src='http://www.arcgis.com/sharing/rest//content/items/a867399ba9b94895954ec19728ca3bfa/info/thumbnail/ago_downloaded.png' class=\"itemThumbnail\">\n",
       "                       </a>\n",
       "                    </div>\n",
       "\n",
       "                    <div class=\"item_right\"     style=\"float: none; width: auto; overflow: hidden;\">\n",
       "                        <a href='http://www.arcgis.com/home/item.html?id=a867399ba9b94895954ec19728ca3bfa' target='_blank'><b>Seismic events: Natural Hazard or Natural Disaster</b>\n",
       "                        </a>\n",
       "                        <br/>Natural Hazards for 4th grade science and social studies GeoInquiries<img src='http://www.arcgis.com/home/js/jsapi/esri/css/images/item_type_icons/maps16.png' style=\"vertical-align:middle;\">Web Map by Esri_GeoInquiry_Grade4\n",
       "                        <br/>Last Modified: February 22, 2017\n",
       "                        <br/>0 comments, 659 views\n",
       "                    </div>\n",
       "                </div>\n",
       "                "
      ],
      "text/plain": [
       "<Item title:\"Seismic events: Natural Hazard or Natural Disaster\" type:Web Map owner:Esri_GeoInquiry_Grade4>"
      ]
     },
     "metadata": {},
     "output_type": "display_data"
    },
    {
     "data": {
      "text/html": [
       "<div class=\"item_container\" style=\"height: auto; overflow: hidden; border: 1px solid #cfcfcf; border-radius: 2px; background: #f6fafa; line-height: 1.21429em; padding: 10px;\">\n",
       "                    <div class=\"item_left\" style=\"width: 210px; float: left;\">\n",
       "                       <a href='http://www.arcgis.com/home/item.html?id=4693145d7f854bd5be839b8c735ae1f9' target='_blank'>\n",
       "                        <img src='http://www.arcgis.com/sharing/rest//content/items/4693145d7f854bd5be839b8c735ae1f9/info/thumbnail/ago_downloaded.png' class=\"itemThumbnail\">\n",
       "                       </a>\n",
       "                    </div>\n",
       "\n",
       "                    <div class=\"item_right\"     style=\"float: none; width: auto; overflow: hidden;\">\n",
       "                        <a href='http://www.arcgis.com/home/item.html?id=4693145d7f854bd5be839b8c735ae1f9' target='_blank'><b>Tsunami Hazard Map</b>\n",
       "                        </a>\n",
       "                        <br/><img src='http://www.arcgis.com/home/js/jsapi/esri/css/images/item_type_icons/maps16.png' style=\"vertical-align:middle;\">Web Map by coosbayGIS\n",
       "                        <br/>Last Modified: February 14, 2017\n",
       "                        <br/>0 comments, 185 views\n",
       "                    </div>\n",
       "                </div>\n",
       "                "
      ],
      "text/plain": [
       "<Item title:\"Tsunami Hazard Map\" type:Web Map owner:coosbayGIS>"
      ]
     },
     "metadata": {},
     "output_type": "display_data"
    },
    {
     "data": {
      "text/html": [
       "<div class=\"item_container\" style=\"height: auto; overflow: hidden; border: 1px solid #cfcfcf; border-radius: 2px; background: #f6fafa; line-height: 1.21429em; padding: 10px;\">\n",
       "                    <div class=\"item_left\" style=\"width: 210px; float: left;\">\n",
       "                       <a href='http://www.arcgis.com/home/item.html?id=9f467d84a6574cfbb326ba4ce4a0eb9e' target='_blank'>\n",
       "                        <img src='http://www.arcgis.com/sharing/rest//content/items/9f467d84a6574cfbb326ba4ce4a0eb9e/info/thumbnail/ago_downloaded.png' class=\"itemThumbnail\">\n",
       "                       </a>\n",
       "                    </div>\n",
       "\n",
       "                    <div class=\"item_right\"     style=\"float: none; width: auto; overflow: hidden;\">\n",
       "                        <a href='http://www.arcgis.com/home/item.html?id=9f467d84a6574cfbb326ba4ce4a0eb9e' target='_blank'><b>Disaster Risk (PREVIEW)</b>\n",
       "                        </a>\n",
       "                        <br/>Disaster Risk (PREVIEW)<img src='http://www.arcgis.com/home/js/jsapi/esri/css/images/item_type_icons/maps16.png' style=\"vertical-align:middle;\">Web Map by uneplive_team\n",
       "                        <br/>Last Modified: February 14, 2017\n",
       "                        <br/>0 comments, 165 views\n",
       "                    </div>\n",
       "                </div>\n",
       "                "
      ],
      "text/plain": [
       "<Item title:\"Disaster Risk (PREVIEW)\" type:Web Map owner:uneplive_team>"
      ]
     },
     "metadata": {},
     "output_type": "display_data"
    },
    {
     "data": {
      "text/html": [
       "<div class=\"item_container\" style=\"height: auto; overflow: hidden; border: 1px solid #cfcfcf; border-radius: 2px; background: #f6fafa; line-height: 1.21429em; padding: 10px;\">\n",
       "                    <div class=\"item_left\" style=\"width: 210px; float: left;\">\n",
       "                       <a href='http://www.arcgis.com/home/item.html?id=372838ecd491446dbef26813a9591f0c' target='_blank'>\n",
       "                        <img src='http://www.arcgis.com/sharing/rest//content/items/372838ecd491446dbef26813a9591f0c/info/thumbnail/ago_downloaded.png' class=\"itemThumbnail\">\n",
       "                       </a>\n",
       "                    </div>\n",
       "\n",
       "                    <div class=\"item_right\"     style=\"float: none; width: auto; overflow: hidden;\">\n",
       "                        <a href='http://www.arcgis.com/home/item.html?id=372838ecd491446dbef26813a9591f0c' target='_blank'><b>Disasters (PREVIEW) copy</b>\n",
       "                        </a>\n",
       "                        <br/>Disasters (PREVIEW)<img src='http://www.arcgis.com/home/js/jsapi/esri/css/images/item_type_icons/maps16.png' style=\"vertical-align:middle;\">Web Map by uneplive_team\n",
       "                        <br/>Last Modified: February 21, 2017\n",
       "                        <br/>0 comments, 147 views\n",
       "                    </div>\n",
       "                </div>\n",
       "                "
      ],
      "text/plain": [
       "<Item title:\"Disasters (PREVIEW) copy\" type:Web Map owner:uneplive_team>"
      ]
     },
     "metadata": {},
     "output_type": "display_data"
    },
    {
     "data": {
      "text/html": [
       "<div class=\"item_container\" style=\"height: auto; overflow: hidden; border: 1px solid #cfcfcf; border-radius: 2px; background: #f6fafa; line-height: 1.21429em; padding: 10px;\">\n",
       "                    <div class=\"item_left\" style=\"width: 210px; float: left;\">\n",
       "                       <a href='http://www.arcgis.com/home/item.html?id=b7960c88e9ac47f5a7c121b5fb70d519' target='_blank'>\n",
       "                        <img src='http://static.arcgis.com/images/desktopapp.png' class=\"itemThumbnail\">\n",
       "                       </a>\n",
       "                    </div>\n",
       "\n",
       "                    <div class=\"item_right\"     style=\"float: none; width: auto; overflow: hidden;\">\n",
       "                        <a href='http://www.arcgis.com/home/item.html?id=b7960c88e9ac47f5a7c121b5fb70d519' target='_blank'><b>Disasters (PREVIEW)-Countries</b>\n",
       "                        </a>\n",
       "                        <br/>Disasters (PREVIEW)<img src='http://www.arcgis.com/home/js/jsapi/esri/css/images/item_type_icons/maps16.png' style=\"vertical-align:middle;\">Web Map by uneplive_team\n",
       "                        <br/>Last Modified: February 21, 2017\n",
       "                        <br/>0 comments, 134 views\n",
       "                    </div>\n",
       "                </div>\n",
       "                "
      ],
      "text/plain": [
       "<Item title:\"Disasters (PREVIEW)-Countries\" type:Web Map owner:uneplive_team>"
      ]
     },
     "metadata": {},
     "output_type": "display_data"
    },
    {
     "data": {
      "text/html": [
       "<div class=\"item_container\" style=\"height: auto; overflow: hidden; border: 1px solid #cfcfcf; border-radius: 2px; background: #f6fafa; line-height: 1.21429em; padding: 10px;\">\n",
       "                    <div class=\"item_left\" style=\"width: 210px; float: left;\">\n",
       "                       <a href='http://www.arcgis.com/home/item.html?id=eeb851dd15974f28b86df1c7ac3dd5bd' target='_blank'>\n",
       "                        <img src='http://www.arcgis.com/sharing/rest//content/items/eeb851dd15974f28b86df1c7ac3dd5bd/info/thumbnail/ago_downloaded.png' class=\"itemThumbnail\">\n",
       "                       </a>\n",
       "                    </div>\n",
       "\n",
       "                    <div class=\"item_right\"     style=\"float: none; width: auto; overflow: hidden;\">\n",
       "                        <a href='http://www.arcgis.com/home/item.html?id=eeb851dd15974f28b86df1c7ac3dd5bd' target='_blank'><b>Zonas No Seguras</b>\n",
       "                        </a>\n",
       "                        <br/><img src='http://www.arcgis.com/home/js/jsapi/esri/css/images/item_type_icons/maps16.png' style=\"vertical-align:middle;\">Web Map by rfaundez@esri.cl\n",
       "                        <br/>Last Modified: February 16, 2017\n",
       "                        <br/>0 comments, 113 views\n",
       "                    </div>\n",
       "                </div>\n",
       "                "
      ],
      "text/plain": [
       "<Item title:\"Zonas No Seguras\" type:Web Map owner:rfaundez@esri.cl>"
      ]
     },
     "metadata": {},
     "output_type": "display_data"
    },
    {
     "data": {
      "text/html": [
       "<div class=\"item_container\" style=\"height: auto; overflow: hidden; border: 1px solid #cfcfcf; border-radius: 2px; background: #f6fafa; line-height: 1.21429em; padding: 10px;\">\n",
       "                    <div class=\"item_left\" style=\"width: 210px; float: left;\">\n",
       "                       <a href='http://www.arcgis.com/home/item.html?id=274cf4e3176a4bb98173e9e0d7a413b0' target='_blank'>\n",
       "                        <img src='http://www.arcgis.com/sharing/rest//content/items/274cf4e3176a4bb98173e9e0d7a413b0/info/thumbnail/ago_downloaded.png' class=\"itemThumbnail\">\n",
       "                       </a>\n",
       "                    </div>\n",
       "\n",
       "                    <div class=\"item_right\"     style=\"float: none; width: auto; overflow: hidden;\">\n",
       "                        <a href='http://www.arcgis.com/home/item.html?id=274cf4e3176a4bb98173e9e0d7a413b0' target='_blank'><b>Tsunami Evacuation Location Map</b>\n",
       "                        </a>\n",
       "                        <br/>Map for locating address within Tsunami Evacuation Zones.<img src='http://www.arcgis.com/home/js/jsapi/esri/css/images/item_type_icons/maps16.png' style=\"vertical-align:middle;\">Web Map by caseyb\n",
       "                        <br/>Last Modified: February 15, 2017\n",
       "                        <br/>0 comments, 97 views\n",
       "                    </div>\n",
       "                </div>\n",
       "                "
      ],
      "text/plain": [
       "<Item title:\"Tsunami Evacuation Location Map\" type:Web Map owner:caseyb>"
      ]
     },
     "metadata": {},
     "output_type": "display_data"
    },
    {
     "data": {
      "text/html": [
       "<div class=\"item_container\" style=\"height: auto; overflow: hidden; border: 1px solid #cfcfcf; border-radius: 2px; background: #f6fafa; line-height: 1.21429em; padding: 10px;\">\n",
       "                    <div class=\"item_left\" style=\"width: 210px; float: left;\">\n",
       "                       <a href='http://www.arcgis.com/home/item.html?id=350030baac3d49ebaa35bd957979bc35' target='_blank'>\n",
       "                        <img src='http://www.arcgis.com/sharing/rest//content/items/350030baac3d49ebaa35bd957979bc35/info/thumbnail/ago_downloaded.png' class=\"itemThumbnail\">\n",
       "                       </a>\n",
       "                    </div>\n",
       "\n",
       "                    <div class=\"item_right\"     style=\"float: none; width: auto; overflow: hidden;\">\n",
       "                        <a href='http://www.arcgis.com/home/item.html?id=350030baac3d49ebaa35bd957979bc35' target='_blank'><b>Disasters - Past 4 Days</b>\n",
       "                        </a>\n",
       "                        <br/>GDACS Significant Disaster - Past 4 Days<img src='http://www.arcgis.com/home/js/jsapi/esri/css/images/item_type_icons/maps16.png' style=\"vertical-align:middle;\">Web Map by uneplive_team\n",
       "                        <br/>Last Modified: February 14, 2017\n",
       "                        <br/>0 comments, 91 views\n",
       "                    </div>\n",
       "                </div>\n",
       "                "
      ],
      "text/plain": [
       "<Item title:\"Disasters - Past 4 Days\" type:Web Map owner:uneplive_team>"
      ]
     },
     "metadata": {},
     "output_type": "display_data"
    },
    {
     "data": {
      "text/html": [
       "<div class=\"item_container\" style=\"height: auto; overflow: hidden; border: 1px solid #cfcfcf; border-radius: 2px; background: #f6fafa; line-height: 1.21429em; padding: 10px;\">\n",
       "                    <div class=\"item_left\" style=\"width: 210px; float: left;\">\n",
       "                       <a href='http://www.arcgis.com/home/item.html?id=02a10373bc7a466498fd46ed99df6f65' target='_blank'>\n",
       "                        <img src='http://static.arcgis.com/images/desktopapp.png' class=\"itemThumbnail\">\n",
       "                       </a>\n",
       "                    </div>\n",
       "\n",
       "                    <div class=\"item_right\"     style=\"float: none; width: auto; overflow: hidden;\">\n",
       "                        <a href='http://www.arcgis.com/home/item.html?id=02a10373bc7a466498fd46ed99df6f65' target='_blank'><b>Disasters (PREVIEW)-Regions</b>\n",
       "                        </a>\n",
       "                        <br/>Disasters (PREVIEW)<img src='http://www.arcgis.com/home/js/jsapi/esri/css/images/item_type_icons/maps16.png' style=\"vertical-align:middle;\">Web Map by uneplive_team\n",
       "                        <br/>Last Modified: February 21, 2017\n",
       "                        <br/>0 comments, 63 views\n",
       "                    </div>\n",
       "                </div>\n",
       "                "
      ],
      "text/plain": [
       "<Item title:\"Disasters (PREVIEW)-Regions\" type:Web Map owner:uneplive_team>"
      ]
     },
     "metadata": {},
     "output_type": "display_data"
    },
    {
     "data": {
      "text/html": [
       "<div class=\"item_container\" style=\"height: auto; overflow: hidden; border: 1px solid #cfcfcf; border-radius: 2px; background: #f6fafa; line-height: 1.21429em; padding: 10px;\">\n",
       "                    <div class=\"item_left\" style=\"width: 210px; float: left;\">\n",
       "                       <a href='http://www.arcgis.com/home/item.html?id=a6422dfed7c643308967fbb22aa12c72' target='_blank'>\n",
       "                        <img src='http://www.arcgis.com/sharing/rest//content/items/a6422dfed7c643308967fbb22aa12c72/info/thumbnail/ago_downloaded.png' class=\"itemThumbnail\">\n",
       "                       </a>\n",
       "                    </div>\n",
       "\n",
       "                    <div class=\"item_right\"     style=\"float: none; width: auto; overflow: hidden;\">\n",
       "                        <a href='http://www.arcgis.com/home/item.html?id=a6422dfed7c643308967fbb22aa12c72' target='_blank'><b>Earthquake and Tsunami Story Map</b>\n",
       "                        </a>\n",
       "                        <br/>Earthquake and Tsunami Story Map<img src='http://www.arcgis.com/home/js/jsapi/esri/css/images/item_type_icons/maps16.png' style=\"vertical-align:middle;\">Web Map by gumins_USCSSI\n",
       "                        <br/>Last Modified: February 23, 2017\n",
       "                        <br/>0 comments, 50 views\n",
       "                    </div>\n",
       "                </div>\n",
       "                "
      ],
      "text/plain": [
       "<Item title:\"Earthquake and Tsunami Story Map\" type:Web Map owner:gumins_USCSSI>"
      ]
     },
     "metadata": {},
     "output_type": "display_data"
    },
    {
     "data": {
      "text/html": [
       "<div class=\"item_container\" style=\"height: auto; overflow: hidden; border: 1px solid #cfcfcf; border-radius: 2px; background: #f6fafa; line-height: 1.21429em; padding: 10px;\">\n",
       "                    <div class=\"item_left\" style=\"width: 210px; float: left;\">\n",
       "                       <a href='http://www.arcgis.com/home/item.html?id=adb4002ab06046208367e7c344d742f1' target='_blank'>\n",
       "                        <img src='http://www.arcgis.com/sharing/rest//content/items/adb4002ab06046208367e7c344d742f1/info/thumbnail/ago_downloaded.png' class=\"itemThumbnail\">\n",
       "                       </a>\n",
       "                    </div>\n",
       "\n",
       "                    <div class=\"item_right\"     style=\"float: none; width: auto; overflow: hidden;\">\n",
       "                        <a href='http://www.arcgis.com/home/item.html?id=adb4002ab06046208367e7c344d742f1' target='_blank'><b>Faults_EERI-tsunami-liquifaction</b>\n",
       "                        </a>\n",
       "                        <br/>fault sources include CGS/USGS, City of San Diego, and County<img src='http://www.arcgis.com/home/js/jsapi/esri/css/images/item_type_icons/maps16.png' style=\"vertical-align:middle;\">Web Map by cglockhoff\n",
       "                        <br/>Last Modified: February 20, 2017\n",
       "                        <br/>0 comments, 14 views\n",
       "                    </div>\n",
       "                </div>\n",
       "                "
      ],
      "text/plain": [
       "<Item title:\"Faults_EERI-tsunami-liquifaction\" type:Web Map owner:cglockhoff>"
      ]
     },
     "metadata": {},
     "output_type": "display_data"
    },
    {
     "data": {
      "text/html": [
       "<div class=\"item_container\" style=\"height: auto; overflow: hidden; border: 1px solid #cfcfcf; border-radius: 2px; background: #f6fafa; line-height: 1.21429em; padding: 10px;\">\n",
       "                    <div class=\"item_left\" style=\"width: 210px; float: left;\">\n",
       "                       <a href='http://www.arcgis.com/home/item.html?id=71855443b1f14bf481ae02d28d9fea8a' target='_blank'>\n",
       "                        <img src='http://static.arcgis.com/images/desktopapp.png' class=\"itemThumbnail\">\n",
       "                       </a>\n",
       "                    </div>\n",
       "\n",
       "                    <div class=\"item_right\"     style=\"float: none; width: auto; overflow: hidden;\">\n",
       "                        <a href='http://www.arcgis.com/home/item.html?id=71855443b1f14bf481ae02d28d9fea8a' target='_blank'><b>Disasters (PREVIEW)-Antigua and Barbuda</b>\n",
       "                        </a>\n",
       "                        <br/>Disasters (PREVIEW)<img src='http://www.arcgis.com/home/js/jsapi/esri/css/images/item_type_icons/maps16.png' style=\"vertical-align:middle;\">Web Map by uneplive_team\n",
       "                        <br/>Last Modified: February 21, 2017\n",
       "                        <br/>0 comments, 5 views\n",
       "                    </div>\n",
       "                </div>\n",
       "                "
      ],
      "text/plain": [
       "<Item title:\"Disasters (PREVIEW)-Antigua and Barbuda\" type:Web Map owner:uneplive_team>"
      ]
     },
     "metadata": {},
     "output_type": "display_data"
    },
    {
     "data": {
      "text/html": [
       "<div class=\"item_container\" style=\"height: auto; overflow: hidden; border: 1px solid #cfcfcf; border-radius: 2px; background: #f6fafa; line-height: 1.21429em; padding: 10px;\">\n",
       "                    <div class=\"item_left\" style=\"width: 210px; float: left;\">\n",
       "                       <a href='http://www.arcgis.com/home/item.html?id=01fccd1afa3e4c3887b17a88205147ae' target='_blank'>\n",
       "                        <img src='http://www.arcgis.com/sharing/rest//content/items/01fccd1afa3e4c3887b17a88205147ae/info/thumbnail/ago_downloaded.png' class=\"itemThumbnail\">\n",
       "                       </a>\n",
       "                    </div>\n",
       "\n",
       "                    <div class=\"item_right\"     style=\"float: none; width: auto; overflow: hidden;\">\n",
       "                        <a href='http://www.arcgis.com/home/item.html?id=01fccd1afa3e4c3887b17a88205147ae' target='_blank'><b>Natural Hazard Risk Map-Copy</b>\n",
       "                        </a>\n",
       "                        <br/>A combination of layers showing earthquake faults, fire hazard severity zones, 100 Year Flood Plain, dam inundation zones and tsunami risk<img src='http://www.arcgis.com/home/js/jsapi/esri/css/images/item_type_icons/maps16.png' style=\"vertical-align:middle;\">Web Map by mscott_sanmaps\n",
       "                        <br/>Last Modified: February 21, 2017\n",
       "                        <br/>0 comments, 4 views\n",
       "                    </div>\n",
       "                </div>\n",
       "                "
      ],
      "text/plain": [
       "<Item title:\"Natural Hazard Risk Map-Copy\" type:Web Map owner:mscott_sanmaps>"
      ]
     },
     "metadata": {},
     "output_type": "display_data"
    },
    {
     "data": {
      "text/html": [
       "<div class=\"item_container\" style=\"height: auto; overflow: hidden; border: 1px solid #cfcfcf; border-radius: 2px; background: #f6fafa; line-height: 1.21429em; padding: 10px;\">\n",
       "                    <div class=\"item_left\" style=\"width: 210px; float: left;\">\n",
       "                       <a href='http://www.arcgis.com/home/item.html?id=0d0b5850b7e74f3caff642bb620dd401' target='_blank'>\n",
       "                        <img src='http://static.arcgis.com/images/desktopapp.png' class=\"itemThumbnail\">\n",
       "                       </a>\n",
       "                    </div>\n",
       "\n",
       "                    <div class=\"item_right\"     style=\"float: none; width: auto; overflow: hidden;\">\n",
       "                        <a href='http://www.arcgis.com/home/item.html?id=0d0b5850b7e74f3caff642bb620dd401' target='_blank'><b>Disasters (PREVIEW)-Andorra</b>\n",
       "                        </a>\n",
       "                        <br/>Disasters (PREVIEW)<img src='http://www.arcgis.com/home/js/jsapi/esri/css/images/item_type_icons/maps16.png' style=\"vertical-align:middle;\">Web Map by uneplive_team\n",
       "                        <br/>Last Modified: February 21, 2017\n",
       "                        <br/>0 comments, 4 views\n",
       "                    </div>\n",
       "                </div>\n",
       "                "
      ],
      "text/plain": [
       "<Item title:\"Disasters (PREVIEW)-Andorra\" type:Web Map owner:uneplive_team>"
      ]
     },
     "metadata": {},
     "output_type": "display_data"
    },
    {
     "data": {
      "text/html": [
       "<div class=\"item_container\" style=\"height: auto; overflow: hidden; border: 1px solid #cfcfcf; border-radius: 2px; background: #f6fafa; line-height: 1.21429em; padding: 10px;\">\n",
       "                    <div class=\"item_left\" style=\"width: 210px; float: left;\">\n",
       "                       <a href='http://www.arcgis.com/home/item.html?id=5e064d5ff44d42a4a604ef58960e3d67' target='_blank'>\n",
       "                        <img src='http://static.arcgis.com/images/desktopapp.png' class=\"itemThumbnail\">\n",
       "                       </a>\n",
       "                    </div>\n",
       "\n",
       "                    <div class=\"item_right\"     style=\"float: none; width: auto; overflow: hidden;\">\n",
       "                        <a href='http://www.arcgis.com/home/item.html?id=5e064d5ff44d42a4a604ef58960e3d67' target='_blank'><b>Disasters (PREVIEW)-Afghanistan</b>\n",
       "                        </a>\n",
       "                        <br/>Disasters (PREVIEW)<img src='http://www.arcgis.com/home/js/jsapi/esri/css/images/item_type_icons/maps16.png' style=\"vertical-align:middle;\">Web Map by uneplive_team\n",
       "                        <br/>Last Modified: February 21, 2017\n",
       "                        <br/>0 comments, 3 views\n",
       "                    </div>\n",
       "                </div>\n",
       "                "
      ],
      "text/plain": [
       "<Item title:\"Disasters (PREVIEW)-Afghanistan\" type:Web Map owner:uneplive_team>"
      ]
     },
     "metadata": {},
     "output_type": "display_data"
    },
    {
     "data": {
      "text/html": [
       "<div class=\"item_container\" style=\"height: auto; overflow: hidden; border: 1px solid #cfcfcf; border-radius: 2px; background: #f6fafa; line-height: 1.21429em; padding: 10px;\">\n",
       "                    <div class=\"item_left\" style=\"width: 210px; float: left;\">\n",
       "                       <a href='http://www.arcgis.com/home/item.html?id=bd9bbfbc42ee4116ad19d613ba1dbc48' target='_blank'>\n",
       "                        <img src='http://static.arcgis.com/images/desktopapp.png' class=\"itemThumbnail\">\n",
       "                       </a>\n",
       "                    </div>\n",
       "\n",
       "                    <div class=\"item_right\"     style=\"float: none; width: auto; overflow: hidden;\">\n",
       "                        <a href='http://www.arcgis.com/home/item.html?id=bd9bbfbc42ee4116ad19d613ba1dbc48' target='_blank'><b>Disasters (PREVIEW)-Algeria</b>\n",
       "                        </a>\n",
       "                        <br/>Disasters (PREVIEW)<img src='http://www.arcgis.com/home/js/jsapi/esri/css/images/item_type_icons/maps16.png' style=\"vertical-align:middle;\">Web Map by uneplive_team\n",
       "                        <br/>Last Modified: February 21, 2017\n",
       "                        <br/>0 comments, 2 views\n",
       "                    </div>\n",
       "                </div>\n",
       "                "
      ],
      "text/plain": [
       "<Item title:\"Disasters (PREVIEW)-Algeria\" type:Web Map owner:uneplive_team>"
      ]
     },
     "metadata": {},
     "output_type": "display_data"
    },
    {
     "data": {
      "text/html": [
       "<div class=\"item_container\" style=\"height: auto; overflow: hidden; border: 1px solid #cfcfcf; border-radius: 2px; background: #f6fafa; line-height: 1.21429em; padding: 10px;\">\n",
       "                    <div class=\"item_left\" style=\"width: 210px; float: left;\">\n",
       "                       <a href='http://www.arcgis.com/home/item.html?id=480ee507fcde4a06a3e7533250dd2457' target='_blank'>\n",
       "                        <img src='http://static.arcgis.com/images/desktopapp.png' class=\"itemThumbnail\">\n",
       "                       </a>\n",
       "                    </div>\n",
       "\n",
       "                    <div class=\"item_right\"     style=\"float: none; width: auto; overflow: hidden;\">\n",
       "                        <a href='http://www.arcgis.com/home/item.html?id=480ee507fcde4a06a3e7533250dd2457' target='_blank'><b>Disasters (PREVIEW)-Armenia</b>\n",
       "                        </a>\n",
       "                        <br/>Disasters (PREVIEW)<img src='http://www.arcgis.com/home/js/jsapi/esri/css/images/item_type_icons/maps16.png' style=\"vertical-align:middle;\">Web Map by uneplive_team\n",
       "                        <br/>Last Modified: February 21, 2017\n",
       "                        <br/>0 comments, 2 views\n",
       "                    </div>\n",
       "                </div>\n",
       "                "
      ],
      "text/plain": [
       "<Item title:\"Disasters (PREVIEW)-Armenia\" type:Web Map owner:uneplive_team>"
      ]
     },
     "metadata": {},
     "output_type": "display_data"
    },
    {
     "data": {
      "text/html": [
       "<div class=\"item_container\" style=\"height: auto; overflow: hidden; border: 1px solid #cfcfcf; border-radius: 2px; background: #f6fafa; line-height: 1.21429em; padding: 10px;\">\n",
       "                    <div class=\"item_left\" style=\"width: 210px; float: left;\">\n",
       "                       <a href='http://www.arcgis.com/home/item.html?id=bd27f1f0758f4f7997087080eb6aa701' target='_blank'>\n",
       "                        <img src='http://www.arcgis.com/sharing/rest//content/items/bd27f1f0758f4f7997087080eb6aa701/info/thumbnail/ago_downloaded.png' class=\"itemThumbnail\">\n",
       "                       </a>\n",
       "                    </div>\n",
       "\n",
       "                    <div class=\"item_right\"     style=\"float: none; width: auto; overflow: hidden;\">\n",
       "                        <a href='http://www.arcgis.com/home/item.html?id=bd27f1f0758f4f7997087080eb6aa701' target='_blank'><b>Disasters (PREVIEW)-Albania</b>\n",
       "                        </a>\n",
       "                        <br/>Disasters (PREVIEW)<img src='http://www.arcgis.com/home/js/jsapi/esri/css/images/item_type_icons/maps16.png' style=\"vertical-align:middle;\">Web Map by uneplive_team\n",
       "                        <br/>Last Modified: February 21, 2017\n",
       "                        <br/>0 comments, 2 views\n",
       "                    </div>\n",
       "                </div>\n",
       "                "
      ],
      "text/plain": [
       "<Item title:\"Disasters (PREVIEW)-Albania\" type:Web Map owner:uneplive_team>"
      ]
     },
     "metadata": {},
     "output_type": "display_data"
    },
    {
     "data": {
      "text/html": [
       "<div class=\"item_container\" style=\"height: auto; overflow: hidden; border: 1px solid #cfcfcf; border-radius: 2px; background: #f6fafa; line-height: 1.21429em; padding: 10px;\">\n",
       "                    <div class=\"item_left\" style=\"width: 210px; float: left;\">\n",
       "                       <a href='http://www.arcgis.com/home/item.html?id=ef477d009a7e4e7fa6e717ba228ae5ec' target='_blank'>\n",
       "                        <img src='http://static.arcgis.com/images/desktopapp.png' class=\"itemThumbnail\">\n",
       "                       </a>\n",
       "                    </div>\n",
       "\n",
       "                    <div class=\"item_right\"     style=\"float: none; width: auto; overflow: hidden;\">\n",
       "                        <a href='http://www.arcgis.com/home/item.html?id=ef477d009a7e4e7fa6e717ba228ae5ec' target='_blank'><b>Disasters (PREVIEW)-Argentina</b>\n",
       "                        </a>\n",
       "                        <br/>Disasters (PREVIEW)<img src='http://www.arcgis.com/home/js/jsapi/esri/css/images/item_type_icons/maps16.png' style=\"vertical-align:middle;\">Web Map by uneplive_team\n",
       "                        <br/>Last Modified: February 21, 2017\n",
       "                        <br/>0 comments, 2 views\n",
       "                    </div>\n",
       "                </div>\n",
       "                "
      ],
      "text/plain": [
       "<Item title:\"Disasters (PREVIEW)-Argentina\" type:Web Map owner:uneplive_team>"
      ]
     },
     "metadata": {},
     "output_type": "display_data"
    }
   ],
   "source": [
    "get_recent_maps_about('tsunami', nb_days_ago=10)"
   ]
  },
  {
   "cell_type": "markdown",
   "metadata": {},
   "source": [
    "# Earthquakes"
   ]
  },
  {
   "cell_type": "code",
   "execution_count": 6,
   "metadata": {
    "collapsed": false,
    "scrolled": false
   },
   "outputs": [
    {
     "data": {
      "text/html": [
       "<div class=\"item_container\" style=\"height: auto; overflow: hidden; border: 1px solid #cfcfcf; border-radius: 2px; background: #f6fafa; line-height: 1.21429em; padding: 10px;\">\n",
       "                    <div class=\"item_left\" style=\"width: 210px; float: left;\">\n",
       "                       <a href='http://www.arcgis.com/home/item.html?id=92653a777a3f44a682174db3d8051c7b' target='_blank'>\n",
       "                        <img src='http://www.arcgis.com/sharing/rest//content/items/92653a777a3f44a682174db3d8051c7b/info/thumbnail/ago_downloaded.png' class=\"itemThumbnail\">\n",
       "                       </a>\n",
       "                    </div>\n",
       "\n",
       "                    <div class=\"item_right\"     style=\"float: none; width: auto; overflow: hidden;\">\n",
       "                        <a href='http://www.arcgis.com/home/item.html?id=92653a777a3f44a682174db3d8051c7b' target='_blank'><b>County Emergency Managers -- Utah</b>\n",
       "                        </a>\n",
       "                        <br/>A clickable map to find the contact information for Utah's county emergency managers.<img src='http://www.arcgis.com/home/js/jsapi/esri/css/images/item_type_icons/maps16.png' style=\"vertical-align:middle;\">Web Map by joedougherty\n",
       "                        <br/>Last Modified: February 21, 2017\n",
       "                        <br/>0 comments, 127,492 views\n",
       "                    </div>\n",
       "                </div>\n",
       "                "
      ],
      "text/plain": [
       "<Item title:\"County Emergency Managers -- Utah\" type:Web Map owner:joedougherty>"
      ]
     },
     "metadata": {},
     "output_type": "display_data"
    },
    {
     "data": {
      "text/html": [
       "<div class=\"item_container\" style=\"height: auto; overflow: hidden; border: 1px solid #cfcfcf; border-radius: 2px; background: #f6fafa; line-height: 1.21429em; padding: 10px;\">\n",
       "                    <div class=\"item_left\" style=\"width: 210px; float: left;\">\n",
       "                       <a href='http://www.arcgis.com/home/item.html?id=02d011e818324dc8a27c161b8b22f3b2' target='_blank'>\n",
       "                        <img src='http://www.arcgis.com/sharing/rest//content/items/02d011e818324dc8a27c161b8b22f3b2/info/thumbnail/ago_downloaded.png' class=\"itemThumbnail\">\n",
       "                       </a>\n",
       "                    </div>\n",
       "\n",
       "                    <div class=\"item_right\"     style=\"float: none; width: auto; overflow: hidden;\">\n",
       "                        <a href='http://www.arcgis.com/home/item.html?id=02d011e818324dc8a27c161b8b22f3b2' target='_blank'><b>Earthquakes, Fire, Flood Hazards from ESRI</b>\n",
       "                        </a>\n",
       "                        <br/>Hazards for Northern California<img src='http://www.arcgis.com/home/js/jsapi/esri/css/images/item_type_icons/maps16.png' style=\"vertical-align:middle;\">Web Map by chinmayalewis\n",
       "                        <br/>Last Modified: February 21, 2017\n",
       "                        <br/>0 comments, 7,940 views\n",
       "                    </div>\n",
       "                </div>\n",
       "                "
      ],
      "text/plain": [
       "<Item title:\"Earthquakes, Fire, Flood Hazards from ESRI\" type:Web Map owner:chinmayalewis>"
      ]
     },
     "metadata": {},
     "output_type": "display_data"
    },
    {
     "data": {
      "text/html": [
       "<div class=\"item_container\" style=\"height: auto; overflow: hidden; border: 1px solid #cfcfcf; border-radius: 2px; background: #f6fafa; line-height: 1.21429em; padding: 10px;\">\n",
       "                    <div class=\"item_left\" style=\"width: 210px; float: left;\">\n",
       "                       <a href='http://www.arcgis.com/home/item.html?id=77a5845370124d778da43c1006407498' target='_blank'>\n",
       "                        <img src='http://www.arcgis.com/sharing/rest//content/items/77a5845370124d778da43c1006407498/info/thumbnail/ago_downloaded.png' class=\"itemThumbnail\">\n",
       "                       </a>\n",
       "                    </div>\n",
       "\n",
       "                    <div class=\"item_right\"     style=\"float: none; width: auto; overflow: hidden;\">\n",
       "                        <a href='http://www.arcgis.com/home/item.html?id=77a5845370124d778da43c1006407498' target='_blank'><b>EMStory - Active Earthquakes</b>\n",
       "                        </a>\n",
       "                        <br/><img src='http://www.arcgis.com/home/js/jsapi/esri/css/images/item_type_icons/maps16.png' style=\"vertical-align:middle;\">Web Map by dbrown_salem\n",
       "                        <br/>Last Modified: February 14, 2017\n",
       "                        <br/>0 comments, 4,667 views\n",
       "                    </div>\n",
       "                </div>\n",
       "                "
      ],
      "text/plain": [
       "<Item title:\"EMStory - Active Earthquakes\" type:Web Map owner:dbrown_salem>"
      ]
     },
     "metadata": {},
     "output_type": "display_data"
    },
    {
     "data": {
      "text/html": [
       "<div class=\"item_container\" style=\"height: auto; overflow: hidden; border: 1px solid #cfcfcf; border-radius: 2px; background: #f6fafa; line-height: 1.21429em; padding: 10px;\">\n",
       "                    <div class=\"item_left\" style=\"width: 210px; float: left;\">\n",
       "                       <a href='http://www.arcgis.com/home/item.html?id=abce1d91f5a243a9823fca6c39f71ab3' target='_blank'>\n",
       "                        <img src='http://www.arcgis.com/sharing/rest//content/items/abce1d91f5a243a9823fca6c39f71ab3/info/thumbnail/EmerResp-Offices-Employees_WebMap_200x133.png' class=\"itemThumbnail\">\n",
       "                       </a>\n",
       "                    </div>\n",
       "\n",
       "                    <div class=\"item_right\"     style=\"float: none; width: auto; overflow: hidden;\">\n",
       "                        <a href='http://www.arcgis.com/home/item.html?id=abce1d91f5a243a9823fca6c39f71ab3' target='_blank'><b>CB&I Emergency Response Web Map</b>\n",
       "                        </a>\n",
       "                        <br/>Web map for CB&I Emergency Response Application.<img src='http://www.arcgis.com/home/js/jsapi/esri/css/images/item_type_icons/maps16.png' style=\"vertical-align:middle;\">Web Map by john.mcewen\n",
       "                        <br/>Last Modified: February 22, 2017\n",
       "                        <br/>0 comments, 947 views\n",
       "                    </div>\n",
       "                </div>\n",
       "                "
      ],
      "text/plain": [
       "<Item title:\"CB&I Emergency Response Web Map\" type:Web Map owner:john.mcewen>"
      ]
     },
     "metadata": {},
     "output_type": "display_data"
    },
    {
     "data": {
      "text/html": [
       "<div class=\"item_container\" style=\"height: auto; overflow: hidden; border: 1px solid #cfcfcf; border-radius: 2px; background: #f6fafa; line-height: 1.21429em; padding: 10px;\">\n",
       "                    <div class=\"item_left\" style=\"width: 210px; float: left;\">\n",
       "                       <a href='http://www.arcgis.com/home/item.html?id=d6ac736a908c46109cc1a8dbf35ef710' target='_blank'>\n",
       "                        <img src='http://www.arcgis.com/sharing/rest//content/items/d6ac736a908c46109cc1a8dbf35ef710/info/thumbnail/ago_downloaded.png' class=\"itemThumbnail\">\n",
       "                       </a>\n",
       "                    </div>\n",
       "\n",
       "                    <div class=\"item_right\"     style=\"float: none; width: auto; overflow: hidden;\">\n",
       "                        <a href='http://www.arcgis.com/home/item.html?id=d6ac736a908c46109cc1a8dbf35ef710' target='_blank'><b>Earthquake Map 2015</b>\n",
       "                        </a>\n",
       "                        <br/>Earthquake Hazard Map<img src='http://www.arcgis.com/home/js/jsapi/esri/css/images/item_type_icons/maps16.png' style=\"vertical-align:middle;\">Web Map by kiman\n",
       "                        <br/>Last Modified: February 14, 2017\n",
       "                        <br/>0 comments, 925 views\n",
       "                    </div>\n",
       "                </div>\n",
       "                "
      ],
      "text/plain": [
       "<Item title:\"Earthquake Map 2015\" type:Web Map owner:kiman>"
      ]
     },
     "metadata": {},
     "output_type": "display_data"
    },
    {
     "data": {
      "text/html": [
       "<div class=\"item_container\" style=\"height: auto; overflow: hidden; border: 1px solid #cfcfcf; border-radius: 2px; background: #f6fafa; line-height: 1.21429em; padding: 10px;\">\n",
       "                    <div class=\"item_left\" style=\"width: 210px; float: left;\">\n",
       "                       <a href='http://www.arcgis.com/home/item.html?id=5acac0b242a643bfa45469ea74374435' target='_blank'>\n",
       "                        <img src='http://www.arcgis.com/sharing/rest//content/items/5acac0b242a643bfa45469ea74374435/info/thumbnail/ago_downloaded.png' class=\"itemThumbnail\">\n",
       "                       </a>\n",
       "                    </div>\n",
       "\n",
       "                    <div class=\"item_right\"     style=\"float: none; width: auto; overflow: hidden;\">\n",
       "                        <a href='http://www.arcgis.com/home/item.html?id=5acac0b242a643bfa45469ea74374435' target='_blank'><b>Flood</b>\n",
       "                        </a>\n",
       "                        <br/>Maitai Flood - uses merged data stored on TOTSM<img src='http://www.arcgis.com/home/js/jsapi/esri/css/images/item_type_icons/maps16.png' style=\"vertical-align:middle;\">Web Map by NelsonCityGIS\n",
       "                        <br/>Last Modified: February 13, 2017\n",
       "                        <br/>0 comments, 843 views\n",
       "                    </div>\n",
       "                </div>\n",
       "                "
      ],
      "text/plain": [
       "<Item title:\"Flood\" type:Web Map owner:NelsonCityGIS>"
      ]
     },
     "metadata": {},
     "output_type": "display_data"
    },
    {
     "data": {
      "text/html": [
       "<div class=\"item_container\" style=\"height: auto; overflow: hidden; border: 1px solid #cfcfcf; border-radius: 2px; background: #f6fafa; line-height: 1.21429em; padding: 10px;\">\n",
       "                    <div class=\"item_left\" style=\"width: 210px; float: left;\">\n",
       "                       <a href='http://www.arcgis.com/home/item.html?id=a867399ba9b94895954ec19728ca3bfa' target='_blank'>\n",
       "                        <img src='http://www.arcgis.com/sharing/rest//content/items/a867399ba9b94895954ec19728ca3bfa/info/thumbnail/ago_downloaded.png' class=\"itemThumbnail\">\n",
       "                       </a>\n",
       "                    </div>\n",
       "\n",
       "                    <div class=\"item_right\"     style=\"float: none; width: auto; overflow: hidden;\">\n",
       "                        <a href='http://www.arcgis.com/home/item.html?id=a867399ba9b94895954ec19728ca3bfa' target='_blank'><b>Seismic events: Natural Hazard or Natural Disaster</b>\n",
       "                        </a>\n",
       "                        <br/>Natural Hazards for 4th grade science and social studies GeoInquiries<img src='http://www.arcgis.com/home/js/jsapi/esri/css/images/item_type_icons/maps16.png' style=\"vertical-align:middle;\">Web Map by Esri_GeoInquiry_Grade4\n",
       "                        <br/>Last Modified: February 22, 2017\n",
       "                        <br/>0 comments, 659 views\n",
       "                    </div>\n",
       "                </div>\n",
       "                "
      ],
      "text/plain": [
       "<Item title:\"Seismic events: Natural Hazard or Natural Disaster\" type:Web Map owner:Esri_GeoInquiry_Grade4>"
      ]
     },
     "metadata": {},
     "output_type": "display_data"
    },
    {
     "data": {
      "text/html": [
       "<div class=\"item_container\" style=\"height: auto; overflow: hidden; border: 1px solid #cfcfcf; border-radius: 2px; background: #f6fafa; line-height: 1.21429em; padding: 10px;\">\n",
       "                    <div class=\"item_left\" style=\"width: 210px; float: left;\">\n",
       "                       <a href='http://www.arcgis.com/home/item.html?id=881c0f71a1c94474ade69bf01a8f1240' target='_blank'>\n",
       "                        <img src='http://www.arcgis.com/sharing/rest//content/items/881c0f71a1c94474ade69bf01a8f1240/info/thumbnail/ago_downloaded.png' class=\"itemThumbnail\">\n",
       "                       </a>\n",
       "                    </div>\n",
       "\n",
       "                    <div class=\"item_right\"     style=\"float: none; width: auto; overflow: hidden;\">\n",
       "                        <a href='http://www.arcgis.com/home/item.html?id=881c0f71a1c94474ade69bf01a8f1240' target='_blank'><b>Cascadia School Outreach Map</b>\n",
       "                        </a>\n",
       "                        <br/>Outreach done in local schools to educate about earthquake preparedness<img src='http://www.arcgis.com/home/js/jsapi/esri/css/images/item_type_icons/maps16.png' style=\"vertical-align:middle;\">Web Map by jelstro1_GISandData\n",
       "                        <br/>Last Modified: February 21, 2017\n",
       "                        <br/>0 comments, 652 views\n",
       "                    </div>\n",
       "                </div>\n",
       "                "
      ],
      "text/plain": [
       "<Item title:\"Cascadia School Outreach Map\" type:Web Map owner:jelstro1_GISandData>"
      ]
     },
     "metadata": {},
     "output_type": "display_data"
    },
    {
     "data": {
      "text/html": [
       "<div class=\"item_container\" style=\"height: auto; overflow: hidden; border: 1px solid #cfcfcf; border-radius: 2px; background: #f6fafa; line-height: 1.21429em; padding: 10px;\">\n",
       "                    <div class=\"item_left\" style=\"width: 210px; float: left;\">\n",
       "                       <a href='http://www.arcgis.com/home/item.html?id=c5f44d7d0e434d2d97efcf78f2b66efe' target='_blank'>\n",
       "                        <img src='http://www.arcgis.com/sharing/rest//content/items/c5f44d7d0e434d2d97efcf78f2b66efe/info/thumbnail/ago_downloaded.png' class=\"itemThumbnail\">\n",
       "                       </a>\n",
       "                    </div>\n",
       "\n",
       "                    <div class=\"item_right\"     style=\"float: none; width: auto; overflow: hidden;\">\n",
       "                        <a href='http://www.arcgis.com/home/item.html?id=c5f44d7d0e434d2d97efcf78f2b66efe' target='_blank'><b>INGV - ISPRA joint Surface Faulting Database - Mw 6.1, 2009, April 6th L'Aquila earthquake (Central Italy)</b>\n",
       "                        </a>\n",
       "                        <br/>INGV - ISPRA joint db - 2009 L’Aquila earthquake surface rupture<img src='http://www.arcgis.com/home/js/jsapi/esri/css/images/item_type_icons/maps16.png' style=\"vertical-align:middle;\">Web Map by LabHRT\n",
       "                        <br/>Last Modified: February 23, 2017\n",
       "                        <br/>0 comments, 457 views\n",
       "                    </div>\n",
       "                </div>\n",
       "                "
      ],
      "text/plain": [
       "<Item title:\"INGV - ISPRA joint Surface Faulting Database - Mw 6.1, 2009, April 6th L'Aquila earthquake (Central Italy)\" type:Web Map owner:LabHRT>"
      ]
     },
     "metadata": {},
     "output_type": "display_data"
    },
    {
     "data": {
      "text/html": [
       "<div class=\"item_container\" style=\"height: auto; overflow: hidden; border: 1px solid #cfcfcf; border-radius: 2px; background: #f6fafa; line-height: 1.21429em; padding: 10px;\">\n",
       "                    <div class=\"item_left\" style=\"width: 210px; float: left;\">\n",
       "                       <a href='http://www.arcgis.com/home/item.html?id=3ac103c46aa84d8fa51b8ed68194c6a1' target='_blank'>\n",
       "                        <img src='http://www.arcgis.com/sharing/rest//content/items/3ac103c46aa84d8fa51b8ed68194c6a1/info/thumbnail/ago_downloaded.png' class=\"itemThumbnail\">\n",
       "                       </a>\n",
       "                    </div>\n",
       "\n",
       "                    <div class=\"item_right\"     style=\"float: none; width: auto; overflow: hidden;\">\n",
       "                        <a href='http://www.arcgis.com/home/item.html?id=3ac103c46aa84d8fa51b8ed68194c6a1' target='_blank'><b>CA tree inspection, storm system, Haynesville (Secured map service, multiple layers, same server)</b>\n",
       "                        </a>\n",
       "                        <br/>webmap with four secured map services all from the same server - ted.myers/esri<img src='http://www.arcgis.com/home/js/jsapi/esri/css/images/item_type_icons/maps16.png' style=\"vertical-align:middle;\">Web Map by exptest\n",
       "                        <br/>Last Modified: February 17, 2017\n",
       "                        <br/>0 comments, 386 views\n",
       "                    </div>\n",
       "                </div>\n",
       "                "
      ],
      "text/plain": [
       "<Item title:\"CA tree inspection, storm system, Haynesville (Secured map service, multiple layers, same server)\" type:Web Map owner:exptest>"
      ]
     },
     "metadata": {},
     "output_type": "display_data"
    },
    {
     "data": {
      "text/html": [
       "<div class=\"item_container\" style=\"height: auto; overflow: hidden; border: 1px solid #cfcfcf; border-radius: 2px; background: #f6fafa; line-height: 1.21429em; padding: 10px;\">\n",
       "                    <div class=\"item_left\" style=\"width: 210px; float: left;\">\n",
       "                       <a href='http://www.arcgis.com/home/item.html?id=565dc0a448ab47caa131663c9b6a234a' target='_blank'>\n",
       "                        <img src='http://www.arcgis.com/sharing/rest//content/items/565dc0a448ab47caa131663c9b6a234a/info/thumbnail/ago_downloaded.png' class=\"itemThumbnail\">\n",
       "                       </a>\n",
       "                    </div>\n",
       "\n",
       "                    <div class=\"item_right\"     style=\"float: none; width: auto; overflow: hidden;\">\n",
       "                        <a href='http://www.arcgis.com/home/item.html?id=565dc0a448ab47caa131663c9b6a234a' target='_blank'><b>Rio Grande Rift Plan - Supporting Maps</b>\n",
       "                        </a>\n",
       "                        <br/>Albuquerque, NM 7.0 Earthquake Scenario<img src='http://www.arcgis.com/home/js/jsapi/esri/css/images/item_type_icons/maps16.png' style=\"vertical-align:middle;\">Web Map by frank.ireland_FEMA\n",
       "                        <br/>Last Modified: February 16, 2017\n",
       "                        <br/>0 comments, 300 views\n",
       "                    </div>\n",
       "                </div>\n",
       "                "
      ],
      "text/plain": [
       "<Item title:\"Rio Grande Rift Plan - Supporting Maps\" type:Web Map owner:frank.ireland_FEMA>"
      ]
     },
     "metadata": {},
     "output_type": "display_data"
    },
    {
     "data": {
      "text/html": [
       "<div class=\"item_container\" style=\"height: auto; overflow: hidden; border: 1px solid #cfcfcf; border-radius: 2px; background: #f6fafa; line-height: 1.21429em; padding: 10px;\">\n",
       "                    <div class=\"item_left\" style=\"width: 210px; float: left;\">\n",
       "                       <a href='http://www.arcgis.com/home/item.html?id=cd7e83c2be2c44e7992177905fb0595a' target='_blank'>\n",
       "                        <img src='http://www.arcgis.com/sharing/rest//content/items/cd7e83c2be2c44e7992177905fb0595a/info/thumbnail/ago_downloaded.png' class=\"itemThumbnail\">\n",
       "                       </a>\n",
       "                    </div>\n",
       "\n",
       "                    <div class=\"item_right\"     style=\"float: none; width: auto; overflow: hidden;\">\n",
       "                        <a href='http://www.arcgis.com/home/item.html?id=cd7e83c2be2c44e7992177905fb0595a' target='_blank'><b>Web map: Natural Hazards 2014</b>\n",
       "                        </a>\n",
       "                        <br/><img src='http://www.arcgis.com/home/js/jsapi/esri/css/images/item_type_icons/maps16.png' style=\"vertical-align:middle;\">Web Map by cadmus_dev\n",
       "                        <br/>Last Modified: February 17, 2017\n",
       "                        <br/>0 comments, 286 views\n",
       "                    </div>\n",
       "                </div>\n",
       "                "
      ],
      "text/plain": [
       "<Item title:\"Web map: Natural Hazards 2014\" type:Web Map owner:cadmus_dev>"
      ]
     },
     "metadata": {},
     "output_type": "display_data"
    },
    {
     "data": {
      "text/html": [
       "<div class=\"item_container\" style=\"height: auto; overflow: hidden; border: 1px solid #cfcfcf; border-radius: 2px; background: #f6fafa; line-height: 1.21429em; padding: 10px;\">\n",
       "                    <div class=\"item_left\" style=\"width: 210px; float: left;\">\n",
       "                       <a href='http://www.arcgis.com/home/item.html?id=d6d977433c364b109c28e269cc2c727d' target='_blank'>\n",
       "                        <img src='http://www.arcgis.com/sharing/rest//content/items/d6d977433c364b109c28e269cc2c727d/info/thumbnail/ago_downloaded.png' class=\"itemThumbnail\">\n",
       "                       </a>\n",
       "                    </div>\n",
       "\n",
       "                    <div class=\"item_right\"     style=\"float: none; width: auto; overflow: hidden;\">\n",
       "                        <a href='http://www.arcgis.com/home/item.html?id=d6d977433c364b109c28e269cc2c727d' target='_blank'><b>Earthquake-Copy</b>\n",
       "                        </a>\n",
       "                        <br/><img src='http://www.arcgis.com/home/js/jsapi/esri/css/images/item_type_icons/maps16.png' style=\"vertical-align:middle;\">Web Map by JNAFish\n",
       "                        <br/>Last Modified: February 16, 2017\n",
       "                        <br/>0 comments, 205 views\n",
       "                    </div>\n",
       "                </div>\n",
       "                "
      ],
      "text/plain": [
       "<Item title:\"Earthquake-Copy\" type:Web Map owner:JNAFish>"
      ]
     },
     "metadata": {},
     "output_type": "display_data"
    },
    {
     "data": {
      "text/html": [
       "<div class=\"item_container\" style=\"height: auto; overflow: hidden; border: 1px solid #cfcfcf; border-radius: 2px; background: #f6fafa; line-height: 1.21429em; padding: 10px;\">\n",
       "                    <div class=\"item_left\" style=\"width: 210px; float: left;\">\n",
       "                       <a href='http://www.arcgis.com/home/item.html?id=4693145d7f854bd5be839b8c735ae1f9' target='_blank'>\n",
       "                        <img src='http://www.arcgis.com/sharing/rest//content/items/4693145d7f854bd5be839b8c735ae1f9/info/thumbnail/ago_downloaded.png' class=\"itemThumbnail\">\n",
       "                       </a>\n",
       "                    </div>\n",
       "\n",
       "                    <div class=\"item_right\"     style=\"float: none; width: auto; overflow: hidden;\">\n",
       "                        <a href='http://www.arcgis.com/home/item.html?id=4693145d7f854bd5be839b8c735ae1f9' target='_blank'><b>Tsunami Hazard Map</b>\n",
       "                        </a>\n",
       "                        <br/><img src='http://www.arcgis.com/home/js/jsapi/esri/css/images/item_type_icons/maps16.png' style=\"vertical-align:middle;\">Web Map by coosbayGIS\n",
       "                        <br/>Last Modified: February 14, 2017\n",
       "                        <br/>0 comments, 185 views\n",
       "                    </div>\n",
       "                </div>\n",
       "                "
      ],
      "text/plain": [
       "<Item title:\"Tsunami Hazard Map\" type:Web Map owner:coosbayGIS>"
      ]
     },
     "metadata": {},
     "output_type": "display_data"
    },
    {
     "data": {
      "text/html": [
       "<div class=\"item_container\" style=\"height: auto; overflow: hidden; border: 1px solid #cfcfcf; border-radius: 2px; background: #f6fafa; line-height: 1.21429em; padding: 10px;\">\n",
       "                    <div class=\"item_left\" style=\"width: 210px; float: left;\">\n",
       "                       <a href='http://www.arcgis.com/home/item.html?id=9f467d84a6574cfbb326ba4ce4a0eb9e' target='_blank'>\n",
       "                        <img src='http://www.arcgis.com/sharing/rest//content/items/9f467d84a6574cfbb326ba4ce4a0eb9e/info/thumbnail/ago_downloaded.png' class=\"itemThumbnail\">\n",
       "                       </a>\n",
       "                    </div>\n",
       "\n",
       "                    <div class=\"item_right\"     style=\"float: none; width: auto; overflow: hidden;\">\n",
       "                        <a href='http://www.arcgis.com/home/item.html?id=9f467d84a6574cfbb326ba4ce4a0eb9e' target='_blank'><b>Disaster Risk (PREVIEW)</b>\n",
       "                        </a>\n",
       "                        <br/>Disaster Risk (PREVIEW)<img src='http://www.arcgis.com/home/js/jsapi/esri/css/images/item_type_icons/maps16.png' style=\"vertical-align:middle;\">Web Map by uneplive_team\n",
       "                        <br/>Last Modified: February 14, 2017\n",
       "                        <br/>0 comments, 165 views\n",
       "                    </div>\n",
       "                </div>\n",
       "                "
      ],
      "text/plain": [
       "<Item title:\"Disaster Risk (PREVIEW)\" type:Web Map owner:uneplive_team>"
      ]
     },
     "metadata": {},
     "output_type": "display_data"
    },
    {
     "data": {
      "text/html": [
       "<div class=\"item_container\" style=\"height: auto; overflow: hidden; border: 1px solid #cfcfcf; border-radius: 2px; background: #f6fafa; line-height: 1.21429em; padding: 10px;\">\n",
       "                    <div class=\"item_left\" style=\"width: 210px; float: left;\">\n",
       "                       <a href='http://www.arcgis.com/home/item.html?id=5519ad1f2eba4f29a1b6c787cbd258e3' target='_blank'>\n",
       "                        <img src='http://www.arcgis.com/sharing/rest//content/items/5519ad1f2eba4f29a1b6c787cbd258e3/info/thumbnail/ago_downloaded.png' class=\"itemThumbnail\">\n",
       "                       </a>\n",
       "                    </div>\n",
       "\n",
       "                    <div class=\"item_right\"     style=\"float: none; width: auto; overflow: hidden;\">\n",
       "                        <a href='http://www.arcgis.com/home/item.html?id=5519ad1f2eba4f29a1b6c787cbd258e3' target='_blank'><b>Web map: Induced Hazards 2016</b>\n",
       "                        </a>\n",
       "                        <br/><img src='http://www.arcgis.com/home/js/jsapi/esri/css/images/item_type_icons/maps16.png' style=\"vertical-align:middle;\">Web Map by cadmus_dev\n",
       "                        <br/>Last Modified: February 17, 2017\n",
       "                        <br/>0 comments, 161 views\n",
       "                    </div>\n",
       "                </div>\n",
       "                "
      ],
      "text/plain": [
       "<Item title:\"Web map: Induced Hazards 2016\" type:Web Map owner:cadmus_dev>"
      ]
     },
     "metadata": {},
     "output_type": "display_data"
    },
    {
     "data": {
      "text/html": [
       "<div class=\"item_container\" style=\"height: auto; overflow: hidden; border: 1px solid #cfcfcf; border-radius: 2px; background: #f6fafa; line-height: 1.21429em; padding: 10px;\">\n",
       "                    <div class=\"item_left\" style=\"width: 210px; float: left;\">\n",
       "                       <a href='http://www.arcgis.com/home/item.html?id=50e3c5dde1cf4b868f011cdc4cd59413' target='_blank'>\n",
       "                        <img src='http://www.arcgis.com/sharing/rest//content/items/50e3c5dde1cf4b868f011cdc4cd59413/info/thumbnail/Capture.PNG' class=\"itemThumbnail\">\n",
       "                       </a>\n",
       "                    </div>\n",
       "\n",
       "                    <div class=\"item_right\"     style=\"float: none; width: auto; overflow: hidden;\">\n",
       "                        <a href='http://www.arcgis.com/home/item.html?id=50e3c5dde1cf4b868f011cdc4cd59413' target='_blank'><b>Damage Assessment Survey</b>\n",
       "                        </a>\n",
       "                        <br/>Damage assessment database to collect damages in the field for Pennyrile Area Development District<img src='http://www.arcgis.com/home/js/jsapi/esri/css/images/item_type_icons/maps16.png' style=\"vertical-align:middle;\">Web Map by plee\n",
       "                        <br/>Last Modified: February 15, 2017\n",
       "                        <br/>0 comments, 156 views\n",
       "                    </div>\n",
       "                </div>\n",
       "                "
      ],
      "text/plain": [
       "<Item title:\"Damage Assessment Survey\" type:Web Map owner:plee>"
      ]
     },
     "metadata": {},
     "output_type": "display_data"
    },
    {
     "data": {
      "text/html": [
       "<div class=\"item_container\" style=\"height: auto; overflow: hidden; border: 1px solid #cfcfcf; border-radius: 2px; background: #f6fafa; line-height: 1.21429em; padding: 10px;\">\n",
       "                    <div class=\"item_left\" style=\"width: 210px; float: left;\">\n",
       "                       <a href='http://www.arcgis.com/home/item.html?id=372838ecd491446dbef26813a9591f0c' target='_blank'>\n",
       "                        <img src='http://www.arcgis.com/sharing/rest//content/items/372838ecd491446dbef26813a9591f0c/info/thumbnail/ago_downloaded.png' class=\"itemThumbnail\">\n",
       "                       </a>\n",
       "                    </div>\n",
       "\n",
       "                    <div class=\"item_right\"     style=\"float: none; width: auto; overflow: hidden;\">\n",
       "                        <a href='http://www.arcgis.com/home/item.html?id=372838ecd491446dbef26813a9591f0c' target='_blank'><b>Disasters (PREVIEW) copy</b>\n",
       "                        </a>\n",
       "                        <br/>Disasters (PREVIEW)<img src='http://www.arcgis.com/home/js/jsapi/esri/css/images/item_type_icons/maps16.png' style=\"vertical-align:middle;\">Web Map by uneplive_team\n",
       "                        <br/>Last Modified: February 21, 2017\n",
       "                        <br/>0 comments, 147 views\n",
       "                    </div>\n",
       "                </div>\n",
       "                "
      ],
      "text/plain": [
       "<Item title:\"Disasters (PREVIEW) copy\" type:Web Map owner:uneplive_team>"
      ]
     },
     "metadata": {},
     "output_type": "display_data"
    },
    {
     "data": {
      "text/html": [
       "<div class=\"item_container\" style=\"height: auto; overflow: hidden; border: 1px solid #cfcfcf; border-radius: 2px; background: #f6fafa; line-height: 1.21429em; padding: 10px;\">\n",
       "                    <div class=\"item_left\" style=\"width: 210px; float: left;\">\n",
       "                       <a href='http://www.arcgis.com/home/item.html?id=b7960c88e9ac47f5a7c121b5fb70d519' target='_blank'>\n",
       "                        <img src='http://static.arcgis.com/images/desktopapp.png' class=\"itemThumbnail\">\n",
       "                       </a>\n",
       "                    </div>\n",
       "\n",
       "                    <div class=\"item_right\"     style=\"float: none; width: auto; overflow: hidden;\">\n",
       "                        <a href='http://www.arcgis.com/home/item.html?id=b7960c88e9ac47f5a7c121b5fb70d519' target='_blank'><b>Disasters (PREVIEW)-Countries</b>\n",
       "                        </a>\n",
       "                        <br/>Disasters (PREVIEW)<img src='http://www.arcgis.com/home/js/jsapi/esri/css/images/item_type_icons/maps16.png' style=\"vertical-align:middle;\">Web Map by uneplive_team\n",
       "                        <br/>Last Modified: February 21, 2017\n",
       "                        <br/>0 comments, 134 views\n",
       "                    </div>\n",
       "                </div>\n",
       "                "
      ],
      "text/plain": [
       "<Item title:\"Disasters (PREVIEW)-Countries\" type:Web Map owner:uneplive_team>"
      ]
     },
     "metadata": {},
     "output_type": "display_data"
    }
   ],
   "source": [
    "get_recent_maps_about('earthquakes', nb_days_ago=10)"
   ]
  },
  {
   "cell_type": "markdown",
   "metadata": {},
   "source": [
    "# Oil spills"
   ]
  },
  {
   "cell_type": "code",
   "execution_count": 7,
   "metadata": {
    "collapsed": false,
    "scrolled": true
   },
   "outputs": [
    {
     "data": {
      "text/html": [
       "<div class=\"item_container\" style=\"height: auto; overflow: hidden; border: 1px solid #cfcfcf; border-radius: 2px; background: #f6fafa; line-height: 1.21429em; padding: 10px;\">\n",
       "                    <div class=\"item_left\" style=\"width: 210px; float: left;\">\n",
       "                       <a href='http://www.arcgis.com/home/item.html?id=8bd41c4a84e446269b8e4b136aa5b633' target='_blank'>\n",
       "                        <img src='http://www.arcgis.com/sharing/rest//content/items/8bd41c4a84e446269b8e4b136aa5b633/info/thumbnail/ago_downloaded.png' class=\"itemThumbnail\">\n",
       "                       </a>\n",
       "                    </div>\n",
       "\n",
       "                    <div class=\"item_right\"     style=\"float: none; width: auto; overflow: hidden;\">\n",
       "                        <a href='http://www.arcgis.com/home/item.html?id=8bd41c4a84e446269b8e4b136aa5b633' target='_blank'><b>PA Unconventional Drilling Waste Disposal in NYS, 2011-16</b>\n",
       "                        </a>\n",
       "                        <br/>PA DEP catalogs the source of drilling wastes, as well as the locations of their disposal. Click on the second from the left icon in the table of contents to view all map layers.<img src='http://www.arcgis.com/home/js/jsapi/esri/css/images/item_type_icons/maps16.png' style=\"vertical-align:middle;\">Web Map by FTKaren\n",
       "                        <br/>Last Modified: February 16, 2017\n",
       "                        <br/>0 comments, 5,730 views\n",
       "                    </div>\n",
       "                </div>\n",
       "                "
      ],
      "text/plain": [
       "<Item title:\"PA Unconventional Drilling Waste Disposal in NYS, 2011-16\" type:Web Map owner:FTKaren>"
      ]
     },
     "metadata": {},
     "output_type": "display_data"
    },
    {
     "data": {
      "text/html": [
       "<div class=\"item_container\" style=\"height: auto; overflow: hidden; border: 1px solid #cfcfcf; border-radius: 2px; background: #f6fafa; line-height: 1.21429em; padding: 10px;\">\n",
       "                    <div class=\"item_left\" style=\"width: 210px; float: left;\">\n",
       "                       <a href='http://www.arcgis.com/home/item.html?id=326c34b222814c58a4c0d0ade23e8a70' target='_blank'>\n",
       "                        <img src='http://www.arcgis.com/sharing/rest//content/items/326c34b222814c58a4c0d0ade23e8a70/info/thumbnail/ago_downloaded.png' class=\"itemThumbnail\">\n",
       "                       </a>\n",
       "                    </div>\n",
       "\n",
       "                    <div class=\"item_right\"     style=\"float: none; width: auto; overflow: hidden;\">\n",
       "                        <a href='http://www.arcgis.com/home/item.html?id=326c34b222814c58a4c0d0ade23e8a70' target='_blank'><b>Gulf Oil Spill (for blog)</b>\n",
       "                        </a>\n",
       "                        <br/>This web map combines a few map services, including oil spill projections and stranded marine animals, to illustrate the impact of last year's oil spill in the Gulf of Mexico over time.<img src='http://www.arcgis.com/home/js/jsapi/esri/css/images/item_type_icons/maps16.png' style=\"vertical-align:middle;\">Web Map by owen.storymaps\n",
       "                        <br/>Last Modified: February 23, 2017\n",
       "                        <br/>0 comments, 357 views\n",
       "                    </div>\n",
       "                </div>\n",
       "                "
      ],
      "text/plain": [
       "<Item title:\"Gulf Oil Spill (for blog)\" type:Web Map owner:owen.storymaps>"
      ]
     },
     "metadata": {},
     "output_type": "display_data"
    },
    {
     "data": {
      "text/html": [
       "<div class=\"item_container\" style=\"height: auto; overflow: hidden; border: 1px solid #cfcfcf; border-radius: 2px; background: #f6fafa; line-height: 1.21429em; padding: 10px;\">\n",
       "                    <div class=\"item_left\" style=\"width: 210px; float: left;\">\n",
       "                       <a href='http://www.arcgis.com/home/item.html?id=f8fa66463e9c438685d2277396ace736' target='_blank'>\n",
       "                        <img src='http://www.arcgis.com/sharing/rest//content/items/f8fa66463e9c438685d2277396ace736/info/thumbnail/ago_downloaded.png' class=\"itemThumbnail\">\n",
       "                       </a>\n",
       "                    </div>\n",
       "\n",
       "                    <div class=\"item_right\"     style=\"float: none; width: auto; overflow: hidden;\">\n",
       "                        <a href='http://www.arcgis.com/home/item.html?id=f8fa66463e9c438685d2277396ace736' target='_blank'><b>Public Reporting</b>\n",
       "                        </a>\n",
       "                        <br/><img src='http://www.arcgis.com/home/js/jsapi/esri/css/images/item_type_icons/maps16.png' style=\"vertical-align:middle;\">Web Map by Eva.maxwell\n",
       "                        <br/>Last Modified: February 19, 2017\n",
       "                        <br/>0 comments, 61 views\n",
       "                    </div>\n",
       "                </div>\n",
       "                "
      ],
      "text/plain": [
       "<Item title:\"Public Reporting\" type:Web Map owner:Eva.maxwell>"
      ]
     },
     "metadata": {},
     "output_type": "display_data"
    },
    {
     "data": {
      "text/html": [
       "<div class=\"item_container\" style=\"height: auto; overflow: hidden; border: 1px solid #cfcfcf; border-radius: 2px; background: #f6fafa; line-height: 1.21429em; padding: 10px;\">\n",
       "                    <div class=\"item_left\" style=\"width: 210px; float: left;\">\n",
       "                       <a href='http://www.arcgis.com/home/item.html?id=a89e1d5741144ffda2d435c6633f148f' target='_blank'>\n",
       "                        <img src='http://www.arcgis.com/sharing/rest//content/items/a89e1d5741144ffda2d435c6633f148f/info/thumbnail/ago_downloaded.png' class=\"itemThumbnail\">\n",
       "                       </a>\n",
       "                    </div>\n",
       "\n",
       "                    <div class=\"item_right\"     style=\"float: none; width: auto; overflow: hidden;\">\n",
       "                        <a href='http://www.arcgis.com/home/item.html?id=a89e1d5741144ffda2d435c6633f148f' target='_blank'><b>Chennai Oil Spill Hazard</b>\n",
       "                        </a>\n",
       "                        <br/>CHENNAI: A combination of man and machine got down to removing the oil slick stagnated at Rama Krishna Nagar Kuppam beach in Ennore on Tuesday. As super sucker vacuum trucks of Metrowater joined forces with the Indian Coast Guard pollution response t<img src='http://www.arcgis.com/home/js/jsapi/esri/css/images/item_type_icons/maps16.png' style=\"vertical-align:middle;\">Web Map by 20vidyasagar@gmail.com\n",
       "                        <br/>Last Modified: February 19, 2017\n",
       "                        <br/>0 comments, 29 views\n",
       "                    </div>\n",
       "                </div>\n",
       "                "
      ],
      "text/plain": [
       "<Item title:\"Chennai Oil Spill Hazard\" type:Web Map owner:20vidyasagar@gmail.com>"
      ]
     },
     "metadata": {},
     "output_type": "display_data"
    },
    {
     "data": {
      "text/html": [
       "<div class=\"item_container\" style=\"height: auto; overflow: hidden; border: 1px solid #cfcfcf; border-radius: 2px; background: #f6fafa; line-height: 1.21429em; padding: 10px;\">\n",
       "                    <div class=\"item_left\" style=\"width: 210px; float: left;\">\n",
       "                       <a href='http://www.arcgis.com/home/item.html?id=373b7af5fc914010af3034a7915814fd' target='_blank'>\n",
       "                        <img src='http://www.arcgis.com/sharing/rest//content/items/373b7af5fc914010af3034a7915814fd/info/thumbnail/ago_downloaded.png' class=\"itemThumbnail\">\n",
       "                       </a>\n",
       "                    </div>\n",
       "\n",
       "                    <div class=\"item_right\"     style=\"float: none; width: auto; overflow: hidden;\">\n",
       "                        <a href='http://www.arcgis.com/home/item.html?id=373b7af5fc914010af3034a7915814fd' target='_blank'><b>Gulf Oil Spill Over Time-Copy</b>\n",
       "                        </a>\n",
       "                        <br/>This web map combines a few map services, including oil spill projections and stranded marine animals, to illustrate the impact of last year's oil spill in the Gulf of Mexico over time.<img src='http://www.arcgis.com/home/js/jsapi/esri/css/images/item_type_icons/maps16.png' style=\"vertical-align:middle;\">Web Map by kddjafaro@gmail.com\n",
       "                        <br/>Last Modified: February 22, 2017\n",
       "                        <br/>0 comments, 7 views\n",
       "                    </div>\n",
       "                </div>\n",
       "                "
      ],
      "text/plain": [
       "<Item title:\"Gulf Oil Spill Over Time-Copy\" type:Web Map owner:kddjafaro@gmail.com>"
      ]
     },
     "metadata": {},
     "output_type": "display_data"
    },
    {
     "data": {
      "text/html": [
       "<div class=\"item_container\" style=\"height: auto; overflow: hidden; border: 1px solid #cfcfcf; border-radius: 2px; background: #f6fafa; line-height: 1.21429em; padding: 10px;\">\n",
       "                    <div class=\"item_left\" style=\"width: 210px; float: left;\">\n",
       "                       <a href='http://www.arcgis.com/home/item.html?id=0b59102b0b6c41d08ae2145b13d5f026' target='_blank'>\n",
       "                        <img src='http://www.arcgis.com/sharing/rest//content/items/0b59102b0b6c41d08ae2145b13d5f026/info/thumbnail/ago_downloaded.png' class=\"itemThumbnail\">\n",
       "                       </a>\n",
       "                    </div>\n",
       "\n",
       "                    <div class=\"item_right\"     style=\"float: none; width: auto; overflow: hidden;\">\n",
       "                        <a href='http://www.arcgis.com/home/item.html?id=0b59102b0b6c41d08ae2145b13d5f026' target='_blank'><b>Chennai Oil Spill Hazard</b>\n",
       "                        </a>\n",
       "                        <br/><img src='http://www.arcgis.com/home/js/jsapi/esri/css/images/item_type_icons/maps16.png' style=\"vertical-align:middle;\">Web Map by 20vidyasagar@gmail.com\n",
       "                        <br/>Last Modified: February 15, 2017\n",
       "                        <br/>0 comments, 3 views\n",
       "                    </div>\n",
       "                </div>\n",
       "                "
      ],
      "text/plain": [
       "<Item title:\"Chennai Oil Spill Hazard\" type:Web Map owner:20vidyasagar@gmail.com>"
      ]
     },
     "metadata": {},
     "output_type": "display_data"
    }
   ],
   "source": [
    "get_recent_maps_about('oil spill', nb_days_ago=10)"
   ]
  },
  {
   "cell_type": "markdown",
   "metadata": {},
   "source": [
    "# Hazards"
   ]
  },
  {
   "cell_type": "code",
   "execution_count": 8,
   "metadata": {
    "collapsed": false,
    "scrolled": false
   },
   "outputs": [
    {
     "data": {
      "text/html": [
       "<div class=\"item_container\" style=\"height: auto; overflow: hidden; border: 1px solid #cfcfcf; border-radius: 2px; background: #f6fafa; line-height: 1.21429em; padding: 10px;\">\n",
       "                    <div class=\"item_left\" style=\"width: 210px; float: left;\">\n",
       "                       <a href='http://www.arcgis.com/home/item.html?id=11487c248b3a407cb6fd446ce8ef73d8' target='_blank'>\n",
       "                        <img src='http://www.arcgis.com/sharing/rest//content/items/11487c248b3a407cb6fd446ce8ef73d8/info/thumbnail/current_US_wildfires3.png' class=\"itemThumbnail\">\n",
       "                       </a>\n",
       "                    </div>\n",
       "\n",
       "                    <div class=\"item_right\"     style=\"float: none; width: auto; overflow: hidden;\">\n",
       "                        <a href='http://www.arcgis.com/home/item.html?id=11487c248b3a407cb6fd446ce8ef73d8' target='_blank'><b>WildlandFire.com Current U.S. Wildland Fires</b>\n",
       "                        </a>\n",
       "                        <br/>Wildlandfire.com welcomes you to view and interact with a continuously updated map of US wildfire locations, fire potential areas, meteorological observations and radar imagery.<img src='http://www.arcgis.com/home/js/jsapi/esri/css/images/item_type_icons/maps16.png' style=\"vertical-align:middle;\">Web Map by FireWhat\n",
       "                        <br/>Last Modified: February 23, 2017\n",
       "                        <br/>1 comments, 6,042,818 views\n",
       "                    </div>\n",
       "                </div>\n",
       "                "
      ],
      "text/plain": [
       "<Item title:\"WildlandFire.com Current U.S. Wildland Fires\" type:Web Map owner:FireWhat>"
      ]
     },
     "metadata": {},
     "output_type": "display_data"
    },
    {
     "data": {
      "text/html": [
       "<div class=\"item_container\" style=\"height: auto; overflow: hidden; border: 1px solid #cfcfcf; border-radius: 2px; background: #f6fafa; line-height: 1.21429em; padding: 10px;\">\n",
       "                    <div class=\"item_left\" style=\"width: 210px; float: left;\">\n",
       "                       <a href='http://www.arcgis.com/home/item.html?id=b1db2ce89a5747eca264c075a62873ff' target='_blank'>\n",
       "                        <img src='http://www.arcgis.com/sharing/rest//content/items/b1db2ce89a5747eca264c075a62873ff/info/thumbnail/FEMA.png' class=\"itemThumbnail\">\n",
       "                       </a>\n",
       "                    </div>\n",
       "\n",
       "                    <div class=\"item_right\"     style=\"float: none; width: auto; overflow: hidden;\">\n",
       "                        <a href='http://www.arcgis.com/home/item.html?id=b1db2ce89a5747eca264c075a62873ff' target='_blank'><b>DFIRM Flood Map St. Clair County</b>\n",
       "                        </a>\n",
       "                        <br/>This Map is for determining approximate areas for Flood Hazards<img src='http://www.arcgis.com/home/js/jsapi/esri/css/images/item_type_icons/maps16.png' style=\"vertical-align:middle;\">Web Map by bryanprice1\n",
       "                        <br/>Last Modified: February 21, 2017\n",
       "                        <br/>0 comments, 527,302 views\n",
       "                    </div>\n",
       "                </div>\n",
       "                "
      ],
      "text/plain": [
       "<Item title:\"DFIRM Flood Map St. Clair County\" type:Web Map owner:bryanprice1>"
      ]
     },
     "metadata": {},
     "output_type": "display_data"
    },
    {
     "data": {
      "text/html": [
       "<div class=\"item_container\" style=\"height: auto; overflow: hidden; border: 1px solid #cfcfcf; border-radius: 2px; background: #f6fafa; line-height: 1.21429em; padding: 10px;\">\n",
       "                    <div class=\"item_left\" style=\"width: 210px; float: left;\">\n",
       "                       <a href='http://www.arcgis.com/home/item.html?id=397da8a6a3f94f1fb1d9f80af0febfd4' target='_blank'>\n",
       "                        <img src='http://www.arcgis.com/sharing/rest//content/items/397da8a6a3f94f1fb1d9f80af0febfd4/info/thumbnail/MedicineDisposalMap_tn.png' class=\"itemThumbnail\">\n",
       "                       </a>\n",
       "                    </div>\n",
       "\n",
       "                    <div class=\"item_right\"     style=\"float: none; width: auto; overflow: hidden;\">\n",
       "                        <a href='http://www.arcgis.com/home/item.html?id=397da8a6a3f94f1fb1d9f80af0febfd4' target='_blank'><b>Hennepin County Medicine Drop-Box Locations</b>\n",
       "                        </a>\n",
       "                        <br/>This map shows medicine drop-box locations in Hennepin County.<img src='http://www.arcgis.com/home/js/jsapi/esri/css/images/item_type_icons/maps16.png' style=\"vertical-align:middle;\">Web Map by hennepin.county.maps\n",
       "                        <br/>Last Modified: February 23, 2017\n",
       "                        <br/>0 comments, 93,313 views\n",
       "                    </div>\n",
       "                </div>\n",
       "                "
      ],
      "text/plain": [
       "<Item title:\"Hennepin County Medicine Drop-Box Locations\" type:Web Map owner:hennepin.county.maps>"
      ]
     },
     "metadata": {},
     "output_type": "display_data"
    },
    {
     "data": {
      "text/html": [
       "<div class=\"item_container\" style=\"height: auto; overflow: hidden; border: 1px solid #cfcfcf; border-radius: 2px; background: #f6fafa; line-height: 1.21429em; padding: 10px;\">\n",
       "                    <div class=\"item_left\" style=\"width: 210px; float: left;\">\n",
       "                       <a href='http://www.arcgis.com/home/item.html?id=501c7b1877734ad78d74b3920ad3f46a' target='_blank'>\n",
       "                        <img src='http://www.arcgis.com/sharing/rest//content/items/501c7b1877734ad78d74b3920ad3f46a/info/thumbnail/FEMA.png' class=\"itemThumbnail\">\n",
       "                       </a>\n",
       "                    </div>\n",
       "\n",
       "                    <div class=\"item_right\"     style=\"float: none; width: auto; overflow: hidden;\">\n",
       "                        <a href='http://www.arcgis.com/home/item.html?id=501c7b1877734ad78d74b3920ad3f46a' target='_blank'><b>FEMA DFIRM Flood Zone Map</b>\n",
       "                        </a>\n",
       "                        <br/>A map showing the City of Naples FEMA DFIRM Flood Zones and the existing FEMA Flood Zones<img src='http://www.arcgis.com/home/js/jsapi/esri/css/images/item_type_icons/maps16.png' style=\"vertical-align:middle;\">Web Map by NaplesGIS\n",
       "                        <br/>Last Modified: February 23, 2017\n",
       "                        <br/>0 comments, 76,408 views\n",
       "                    </div>\n",
       "                </div>\n",
       "                "
      ],
      "text/plain": [
       "<Item title:\"FEMA DFIRM Flood Zone Map\" type:Web Map owner:NaplesGIS>"
      ]
     },
     "metadata": {},
     "output_type": "display_data"
    },
    {
     "data": {
      "text/html": [
       "<div class=\"item_container\" style=\"height: auto; overflow: hidden; border: 1px solid #cfcfcf; border-radius: 2px; background: #f6fafa; line-height: 1.21429em; padding: 10px;\">\n",
       "                    <div class=\"item_left\" style=\"width: 210px; float: left;\">\n",
       "                       <a href='http://www.arcgis.com/home/item.html?id=743c2ee99bc44aa68343c6f606b7df44' target='_blank'>\n",
       "                        <img src='http://www.arcgis.com/sharing/rest//content/items/743c2ee99bc44aa68343c6f606b7df44/info/thumbnail/ago_downloaded.png' class=\"itemThumbnail\">\n",
       "                       </a>\n",
       "                    </div>\n",
       "\n",
       "                    <div class=\"item_right\"     style=\"float: none; width: auto; overflow: hidden;\">\n",
       "                        <a href='http://www.arcgis.com/home/item.html?id=743c2ee99bc44aa68343c6f606b7df44' target='_blank'><b>Maine Flood Hazard Map</b>\n",
       "                        </a>\n",
       "                        <br/>This map shows FEMA's National Flood Hazard Layer for areas where flood mapping is complete.  It also includes the Q3 layer of digitized features from the original black and white flood zone maps.<img src='http://www.arcgis.com/home/js/jsapi/esri/css/images/item_type_icons/maps16.png' style=\"vertical-align:middle;\">Web Map by Christian.H.Halsted.ME\n",
       "                        <br/>Last Modified: February 15, 2017\n",
       "                        <br/>0 comments, 11,842 views\n",
       "                    </div>\n",
       "                </div>\n",
       "                "
      ],
      "text/plain": [
       "<Item title:\"Maine Flood Hazard Map\" type:Web Map owner:Christian.H.Halsted.ME>"
      ]
     },
     "metadata": {},
     "output_type": "display_data"
    },
    {
     "data": {
      "text/html": [
       "<div class=\"item_container\" style=\"height: auto; overflow: hidden; border: 1px solid #cfcfcf; border-radius: 2px; background: #f6fafa; line-height: 1.21429em; padding: 10px;\">\n",
       "                    <div class=\"item_left\" style=\"width: 210px; float: left;\">\n",
       "                       <a href='http://www.arcgis.com/home/item.html?id=dcaf9ba4488546fea293f689345b1785' target='_blank'>\n",
       "                        <img src='http://www.arcgis.com/sharing/rest//content/items/dcaf9ba4488546fea293f689345b1785/info/thumbnail/ago_downloaded.png' class=\"itemThumbnail\">\n",
       "                       </a>\n",
       "                    </div>\n",
       "\n",
       "                    <div class=\"item_right\"     style=\"float: none; width: auto; overflow: hidden;\">\n",
       "                        <a href='http://www.arcgis.com/home/item.html?id=dcaf9ba4488546fea293f689345b1785' target='_blank'><b>Flood Zones</b>\n",
       "                        </a>\n",
       "                        <br/>This mapping service presents the location flood hazard areas and base flood elevations inconjuction with he location of addresses and property boundaries to help identify areas within New Hanover County, NC that are at risk of flooding.<img src='http://www.arcgis.com/home/js/jsapi/esri/css/images/item_type_icons/maps16.png' style=\"vertical-align:middle;\">Web Map by aherrmann_nhcgov\n",
       "                        <br/>Last Modified: February 20, 2017\n",
       "                        <br/>0 comments, 11,645 views\n",
       "                    </div>\n",
       "                </div>\n",
       "                "
      ],
      "text/plain": [
       "<Item title:\"Flood Zones\" type:Web Map owner:aherrmann_nhcgov>"
      ]
     },
     "metadata": {},
     "output_type": "display_data"
    },
    {
     "data": {
      "text/html": [
       "<div class=\"item_container\" style=\"height: auto; overflow: hidden; border: 1px solid #cfcfcf; border-radius: 2px; background: #f6fafa; line-height: 1.21429em; padding: 10px;\">\n",
       "                    <div class=\"item_left\" style=\"width: 210px; float: left;\">\n",
       "                       <a href='http://www.arcgis.com/home/item.html?id=02d011e818324dc8a27c161b8b22f3b2' target='_blank'>\n",
       "                        <img src='http://www.arcgis.com/sharing/rest//content/items/02d011e818324dc8a27c161b8b22f3b2/info/thumbnail/ago_downloaded.png' class=\"itemThumbnail\">\n",
       "                       </a>\n",
       "                    </div>\n",
       "\n",
       "                    <div class=\"item_right\"     style=\"float: none; width: auto; overflow: hidden;\">\n",
       "                        <a href='http://www.arcgis.com/home/item.html?id=02d011e818324dc8a27c161b8b22f3b2' target='_blank'><b>Earthquakes, Fire, Flood Hazards from ESRI</b>\n",
       "                        </a>\n",
       "                        <br/>Hazards for Northern California<img src='http://www.arcgis.com/home/js/jsapi/esri/css/images/item_type_icons/maps16.png' style=\"vertical-align:middle;\">Web Map by chinmayalewis\n",
       "                        <br/>Last Modified: February 21, 2017\n",
       "                        <br/>0 comments, 7,940 views\n",
       "                    </div>\n",
       "                </div>\n",
       "                "
      ],
      "text/plain": [
       "<Item title:\"Earthquakes, Fire, Flood Hazards from ESRI\" type:Web Map owner:chinmayalewis>"
      ]
     },
     "metadata": {},
     "output_type": "display_data"
    },
    {
     "data": {
      "text/html": [
       "<div class=\"item_container\" style=\"height: auto; overflow: hidden; border: 1px solid #cfcfcf; border-radius: 2px; background: #f6fafa; line-height: 1.21429em; padding: 10px;\">\n",
       "                    <div class=\"item_left\" style=\"width: 210px; float: left;\">\n",
       "                       <a href='http://www.arcgis.com/home/item.html?id=4492986ef3a54c14ab1da7c5671ee907' target='_blank'>\n",
       "                        <img src='http://www.arcgis.com/sharing/rest//content/items/4492986ef3a54c14ab1da7c5671ee907/info/thumbnail/InsectAndDisease.jpg' class=\"itemThumbnail\">\n",
       "                       </a>\n",
       "                    </div>\n",
       "\n",
       "                    <div class=\"item_right\"     style=\"float: none; width: auto; overflow: hidden;\">\n",
       "                        <a href='http://www.arcgis.com/home/item.html?id=4492986ef3a54c14ab1da7c5671ee907' target='_blank'><b>Insect and Disease Risk Map</b>\n",
       "                        </a>\n",
       "                        <br/>A map displaying the areas of Insect and Disease risk in the Pacific Northwest Region (Region 6) of the US Forest Service.<img src='http://www.arcgis.com/home/js/jsapi/esri/css/images/item_type_icons/maps16.png' style=\"vertical-align:middle;\">Web Map by jegower\n",
       "                        <br/>Last Modified: February 19, 2017\n",
       "                        <br/>1 comments, 7,581 views\n",
       "                    </div>\n",
       "                </div>\n",
       "                "
      ],
      "text/plain": [
       "<Item title:\"Insect and Disease Risk Map\" type:Web Map owner:jegower>"
      ]
     },
     "metadata": {},
     "output_type": "display_data"
    },
    {
     "data": {
      "text/html": [
       "<div class=\"item_container\" style=\"height: auto; overflow: hidden; border: 1px solid #cfcfcf; border-radius: 2px; background: #f6fafa; line-height: 1.21429em; padding: 10px;\">\n",
       "                    <div class=\"item_left\" style=\"width: 210px; float: left;\">\n",
       "                       <a href='http://www.arcgis.com/home/item.html?id=7d230bdb5966457b9b489d7a4b33f107' target='_blank'>\n",
       "                        <img src='http://www.arcgis.com/sharing/rest//content/items/7d230bdb5966457b9b489d7a4b33f107/info/thumbnail/ago_downloaded.png' class=\"itemThumbnail\">\n",
       "                       </a>\n",
       "                    </div>\n",
       "\n",
       "                    <div class=\"item_right\"     style=\"float: none; width: auto; overflow: hidden;\">\n",
       "                        <a href='http://www.arcgis.com/home/item.html?id=7d230bdb5966457b9b489d7a4b33f107' target='_blank'><b>ECY Island County 2015 Preliminary Flood Hazard Areas</b>\n",
       "                        </a>\n",
       "                        <br/>2015 Island Co. Preliminary Flood Hazard Areas as developed by the Federal Emergency Management Agency.<img src='http://www.arcgis.com/home/js/jsapi/esri/css/images/item_type_icons/maps16.png' style=\"vertical-align:middle;\">Web Map by jfra461@ecy.wa.gov\n",
       "                        <br/>Last Modified: February 22, 2017\n",
       "                        <br/>0 comments, 4,669 views\n",
       "                    </div>\n",
       "                </div>\n",
       "                "
      ],
      "text/plain": [
       "<Item title:\"ECY Island County 2015 Preliminary Flood Hazard Areas\" type:Web Map owner:jfra461@ecy.wa.gov>"
      ]
     },
     "metadata": {},
     "output_type": "display_data"
    },
    {
     "data": {
      "text/html": [
       "<div class=\"item_container\" style=\"height: auto; overflow: hidden; border: 1px solid #cfcfcf; border-radius: 2px; background: #f6fafa; line-height: 1.21429em; padding: 10px;\">\n",
       "                    <div class=\"item_left\" style=\"width: 210px; float: left;\">\n",
       "                       <a href='http://www.arcgis.com/home/item.html?id=97ea0a7d18b743cc8ad0f85163e35353' target='_blank'>\n",
       "                        <img src='http://www.arcgis.com/sharing/rest//content/items/97ea0a7d18b743cc8ad0f85163e35353/info/thumbnail/ago_downloaded.png' class=\"itemThumbnail\">\n",
       "                       </a>\n",
       "                    </div>\n",
       "\n",
       "                    <div class=\"item_right\"     style=\"float: none; width: auto; overflow: hidden;\">\n",
       "                        <a href='http://www.arcgis.com/home/item.html?id=97ea0a7d18b743cc8ad0f85163e35353' target='_blank'><b>Current Weather and Hazards Outlook</b>\n",
       "                        </a>\n",
       "                        <br/>Real time services about weather, hazards, and storm events<img src='http://www.arcgis.com/home/js/jsapi/esri/css/images/item_type_icons/maps16.png' style=\"vertical-align:middle;\">Web Map by eduardo.escalona_FEMA\n",
       "                        <br/>Last Modified: February 22, 2017\n",
       "                        <br/>0 comments, 3,246 views\n",
       "                    </div>\n",
       "                </div>\n",
       "                "
      ],
      "text/plain": [
       "<Item title:\"Current Weather and Hazards Outlook\" type:Web Map owner:eduardo.escalona_FEMA>"
      ]
     },
     "metadata": {},
     "output_type": "display_data"
    },
    {
     "data": {
      "text/html": [
       "<div class=\"item_container\" style=\"height: auto; overflow: hidden; border: 1px solid #cfcfcf; border-radius: 2px; background: #f6fafa; line-height: 1.21429em; padding: 10px;\">\n",
       "                    <div class=\"item_left\" style=\"width: 210px; float: left;\">\n",
       "                       <a href='http://www.arcgis.com/home/item.html?id=241ae7a192ec4ee5aea6e768e5a7729e' target='_blank'>\n",
       "                        <img src='http://www.arcgis.com/sharing/rest//content/items/241ae7a192ec4ee5aea6e768e5a7729e/info/thumbnail/ago_downloaded.png' class=\"itemThumbnail\">\n",
       "                       </a>\n",
       "                    </div>\n",
       "\n",
       "                    <div class=\"item_right\"     style=\"float: none; width: auto; overflow: hidden;\">\n",
       "                        <a href='http://www.arcgis.com/home/item.html?id=241ae7a192ec4ee5aea6e768e5a7729e' target='_blank'><b>NWS RFC decision support service tool</b>\n",
       "                        </a>\n",
       "                        <br/>This interactive web map shows real-time flood conditions across the United States and combines multiple informational layers to assist with River Forecast Center Decision Support Services for both internal and external partner use. <img src='http://www.arcgis.com/home/js/jsapi/esri/css/images/item_type_icons/maps16.png' style=\"vertical-align:middle;\">Web Map by NWS.FWR_noaa\n",
       "                        <br/>Last Modified: February 22, 2017\n",
       "                        <br/>0 comments, 2,493 views\n",
       "                    </div>\n",
       "                </div>\n",
       "                "
      ],
      "text/plain": [
       "<Item title:\"NWS RFC decision support service tool\" type:Web Map owner:NWS.FWR_noaa>"
      ]
     },
     "metadata": {},
     "output_type": "display_data"
    },
    {
     "data": {
      "text/html": [
       "<div class=\"item_container\" style=\"height: auto; overflow: hidden; border: 1px solid #cfcfcf; border-radius: 2px; background: #f6fafa; line-height: 1.21429em; padding: 10px;\">\n",
       "                    <div class=\"item_left\" style=\"width: 210px; float: left;\">\n",
       "                       <a href='http://www.arcgis.com/home/item.html?id=cd5fc7fb5d3a48a6b32936c78ab7417e' target='_blank'>\n",
       "                        <img src='http://www.arcgis.com/sharing/rest//content/items/cd5fc7fb5d3a48a6b32936c78ab7417e/info/thumbnail/logo_2520simplified_2520hazard_2520data19.jpg' class=\"itemThumbnail\">\n",
       "                       </a>\n",
       "                    </div>\n",
       "\n",
       "                    <div class=\"item_right\"     style=\"float: none; width: auto; overflow: hidden;\">\n",
       "                        <a href='http://www.arcgis.com/home/item.html?id=cd5fc7fb5d3a48a6b32936c78ab7417e' target='_blank'><b>Insurer Hazard Data</b>\n",
       "                        </a>\n",
       "                        <br/><img src='http://www.arcgis.com/home/js/jsapi/esri/css/images/item_type_icons/maps16.png' style=\"vertical-align:middle;\">Web Map by ica.dataglobe\n",
       "                        <br/>Last Modified: February 21, 2017\n",
       "                        <br/>0 comments, 1,894 views\n",
       "                    </div>\n",
       "                </div>\n",
       "                "
      ],
      "text/plain": [
       "<Item title:\"Insurer Hazard Data\" type:Web Map owner:ica.dataglobe>"
      ]
     },
     "metadata": {},
     "output_type": "display_data"
    },
    {
     "data": {
      "text/html": [
       "<div class=\"item_container\" style=\"height: auto; overflow: hidden; border: 1px solid #cfcfcf; border-radius: 2px; background: #f6fafa; line-height: 1.21429em; padding: 10px;\">\n",
       "                    <div class=\"item_left\" style=\"width: 210px; float: left;\">\n",
       "                       <a href='http://www.arcgis.com/home/item.html?id=54eebe8b79254178b8a896dfcf9040f0' target='_blank'>\n",
       "                        <img src='http://www.arcgis.com/sharing/rest//content/items/54eebe8b79254178b8a896dfcf9040f0/info/thumbnail/ago_downloaded.png' class=\"itemThumbnail\">\n",
       "                       </a>\n",
       "                    </div>\n",
       "\n",
       "                    <div class=\"item_right\"     style=\"float: none; width: auto; overflow: hidden;\">\n",
       "                        <a href='http://www.arcgis.com/home/item.html?id=54eebe8b79254178b8a896dfcf9040f0' target='_blank'><b>ECY Cowlitz County 2013 Effective FEMA Flood Hazard Areas</b>\n",
       "                        </a>\n",
       "                        <br/>Cowlitz County 2013 Effective FEMA Flood Hazard Areas<img src='http://www.arcgis.com/home/js/jsapi/esri/css/images/item_type_icons/maps16.png' style=\"vertical-align:middle;\">Web Map by jfra461@ecy.wa.gov\n",
       "                        <br/>Last Modified: February 22, 2017\n",
       "                        <br/>0 comments, 1,641 views\n",
       "                    </div>\n",
       "                </div>\n",
       "                "
      ],
      "text/plain": [
       "<Item title:\"ECY Cowlitz County 2013 Effective FEMA Flood Hazard Areas\" type:Web Map owner:jfra461@ecy.wa.gov>"
      ]
     },
     "metadata": {},
     "output_type": "display_data"
    },
    {
     "data": {
      "text/html": [
       "<div class=\"item_container\" style=\"height: auto; overflow: hidden; border: 1px solid #cfcfcf; border-radius: 2px; background: #f6fafa; line-height: 1.21429em; padding: 10px;\">\n",
       "                    <div class=\"item_left\" style=\"width: 210px; float: left;\">\n",
       "                       <a href='http://www.arcgis.com/home/item.html?id=c64acab3227748a68a898a6c49321c61' target='_blank'>\n",
       "                        <img src='http://www.arcgis.com/sharing/rest//content/items/c64acab3227748a68a898a6c49321c61/info/thumbnail/ago_downloaded.png' class=\"itemThumbnail\">\n",
       "                       </a>\n",
       "                    </div>\n",
       "\n",
       "                    <div class=\"item_right\"     style=\"float: none; width: auto; overflow: hidden;\">\n",
       "                        <a href='http://www.arcgis.com/home/item.html?id=c64acab3227748a68a898a6c49321c61' target='_blank'><b>OWDI NHDPlus v2.1 Framework Datasets - Draft</b>\n",
       "                        </a>\n",
       "                        <br/>OWDI NHDPlus v2.1 National Seamless Database with USGS Streamgages and FEMA National Flood Hazard Layer<img src='http://www.arcgis.com/home/js/jsapi/esri/css/images/item_type_icons/maps16.png' style=\"vertical-align:middle;\">Web Map by ahrea\n",
       "                        <br/>Last Modified: February 15, 2017\n",
       "                        <br/>0 comments, 1,258 views\n",
       "                    </div>\n",
       "                </div>\n",
       "                "
      ],
      "text/plain": [
       "<Item title:\"OWDI NHDPlus v2.1 Framework Datasets - Draft\" type:Web Map owner:ahrea>"
      ]
     },
     "metadata": {},
     "output_type": "display_data"
    },
    {
     "data": {
      "text/html": [
       "<div class=\"item_container\" style=\"height: auto; overflow: hidden; border: 1px solid #cfcfcf; border-radius: 2px; background: #f6fafa; line-height: 1.21429em; padding: 10px;\">\n",
       "                    <div class=\"item_left\" style=\"width: 210px; float: left;\">\n",
       "                       <a href='http://www.arcgis.com/home/item.html?id=e94639d62b30427894e69c0783b3f298' target='_blank'>\n",
       "                        <img src='http://www.arcgis.com/sharing/rest//content/items/e94639d62b30427894e69c0783b3f298/info/thumbnail/ago_downloaded.png' class=\"itemThumbnail\">\n",
       "                       </a>\n",
       "                    </div>\n",
       "\n",
       "                    <div class=\"item_right\"     style=\"float: none; width: auto; overflow: hidden;\">\n",
       "                        <a href='http://www.arcgis.com/home/item.html?id=e94639d62b30427894e69c0783b3f298' target='_blank'><b>ECY Grays Harbor Co. 2017 Effective FEMA Flood Hazard Areas</b>\n",
       "                        </a>\n",
       "                        <br/>Grays Harbor County 2017 Effective FEMA Flood Hazard Areas<img src='http://www.arcgis.com/home/js/jsapi/esri/css/images/item_type_icons/maps16.png' style=\"vertical-align:middle;\">Web Map by jfra461@ecy.wa.gov\n",
       "                        <br/>Last Modified: February 22, 2017\n",
       "                        <br/>0 comments, 1,231 views\n",
       "                    </div>\n",
       "                </div>\n",
       "                "
      ],
      "text/plain": [
       "<Item title:\"ECY Grays Harbor Co. 2017 Effective FEMA Flood Hazard Areas\" type:Web Map owner:jfra461@ecy.wa.gov>"
      ]
     },
     "metadata": {},
     "output_type": "display_data"
    },
    {
     "data": {
      "text/html": [
       "<div class=\"item_container\" style=\"height: auto; overflow: hidden; border: 1px solid #cfcfcf; border-radius: 2px; background: #f6fafa; line-height: 1.21429em; padding: 10px;\">\n",
       "                    <div class=\"item_left\" style=\"width: 210px; float: left;\">\n",
       "                       <a href='http://www.arcgis.com/home/item.html?id=83db4f9a34194e2d9fe4fae3e747a6d2' target='_blank'>\n",
       "                        <img src='http://www.arcgis.com/sharing/rest//content/items/83db4f9a34194e2d9fe4fae3e747a6d2/info/thumbnail/ago_downloaded.png' class=\"itemThumbnail\">\n",
       "                       </a>\n",
       "                    </div>\n",
       "\n",
       "                    <div class=\"item_right\"     style=\"float: none; width: auto; overflow: hidden;\">\n",
       "                        <a href='http://www.arcgis.com/home/item.html?id=83db4f9a34194e2d9fe4fae3e747a6d2' target='_blank'><b>GWRC Flood Protection WebMap 2016</b>\n",
       "                        </a>\n",
       "                        <br/>GWRC Flood Protection WebMap September 2016<img src='http://www.arcgis.com/home/js/jsapi/esri/css/images/item_type_icons/maps16.png' style=\"vertical-align:middle;\">Web Map by PhillC_GWRC\n",
       "                        <br/>Last Modified: February 23, 2017\n",
       "                        <br/>0 comments, 1,163 views\n",
       "                    </div>\n",
       "                </div>\n",
       "                "
      ],
      "text/plain": [
       "<Item title:\"GWRC Flood Protection WebMap 2016\" type:Web Map owner:PhillC_GWRC>"
      ]
     },
     "metadata": {},
     "output_type": "display_data"
    },
    {
     "data": {
      "text/html": [
       "<div class=\"item_container\" style=\"height: auto; overflow: hidden; border: 1px solid #cfcfcf; border-radius: 2px; background: #f6fafa; line-height: 1.21429em; padding: 10px;\">\n",
       "                    <div class=\"item_left\" style=\"width: 210px; float: left;\">\n",
       "                       <a href='http://www.arcgis.com/home/item.html?id=86b48ce89d5448dd82966fb5f8e71482' target='_blank'>\n",
       "                        <img src='http://www.arcgis.com/sharing/rest//content/items/86b48ce89d5448dd82966fb5f8e71482/info/thumbnail/ago_downloaded.png' class=\"itemThumbnail\">\n",
       "                       </a>\n",
       "                    </div>\n",
       "\n",
       "                    <div class=\"item_right\"     style=\"float: none; width: auto; overflow: hidden;\">\n",
       "                        <a href='http://www.arcgis.com/home/item.html?id=86b48ce89d5448dd82966fb5f8e71482' target='_blank'><b>Drought Hazard map</b>\n",
       "                        </a>\n",
       "                        <br/><img src='http://www.arcgis.com/home/js/jsapi/esri/css/images/item_type_icons/maps16.png' style=\"vertical-align:middle;\">Web Map by jouma_icpac\n",
       "                        <br/>Last Modified: February 21, 2017\n",
       "                        <br/>0 comments, 1,066 views\n",
       "                    </div>\n",
       "                </div>\n",
       "                "
      ],
      "text/plain": [
       "<Item title:\"Drought Hazard map\" type:Web Map owner:jouma_icpac>"
      ]
     },
     "metadata": {},
     "output_type": "display_data"
    },
    {
     "data": {
      "text/html": [
       "<div class=\"item_container\" style=\"height: auto; overflow: hidden; border: 1px solid #cfcfcf; border-radius: 2px; background: #f6fafa; line-height: 1.21429em; padding: 10px;\">\n",
       "                    <div class=\"item_left\" style=\"width: 210px; float: left;\">\n",
       "                       <a href='http://www.arcgis.com/home/item.html?id=5260dccede9a4504a9a6b3d7aa1b6e2c' target='_blank'>\n",
       "                        <img src='http://www.arcgis.com/sharing/rest//content/items/5260dccede9a4504a9a6b3d7aa1b6e2c/info/thumbnail/ago_downloaded.png' class=\"itemThumbnail\">\n",
       "                       </a>\n",
       "                    </div>\n",
       "\n",
       "                    <div class=\"item_right\"     style=\"float: none; width: auto; overflow: hidden;\">\n",
       "                        <a href='http://www.arcgis.com/home/item.html?id=5260dccede9a4504a9a6b3d7aa1b6e2c' target='_blank'><b>Ethane Cracker Hazard Map</b>\n",
       "                        </a>\n",
       "                        <br/>Map of hazards and resources near Beaver County Ethane Cracker<img src='http://www.arcgis.com/home/js/jsapi/esri/css/images/item_type_icons/maps16.png' style=\"vertical-align:middle;\">Web Map by jalbert_ft\n",
       "                        <br/>Last Modified: February 15, 2017\n",
       "                        <br/>0 comments, 1,064 views\n",
       "                    </div>\n",
       "                </div>\n",
       "                "
      ],
      "text/plain": [
       "<Item title:\"Ethane Cracker Hazard Map\" type:Web Map owner:jalbert_ft>"
      ]
     },
     "metadata": {},
     "output_type": "display_data"
    },
    {
     "data": {
      "text/html": [
       "<div class=\"item_container\" style=\"height: auto; overflow: hidden; border: 1px solid #cfcfcf; border-radius: 2px; background: #f6fafa; line-height: 1.21429em; padding: 10px;\">\n",
       "                    <div class=\"item_left\" style=\"width: 210px; float: left;\">\n",
       "                       <a href='http://www.arcgis.com/home/item.html?id=dcc941417e4d442782a5c538c80cbe13' target='_blank'>\n",
       "                        <img src='http://www.arcgis.com/sharing/rest//content/items/dcc941417e4d442782a5c538c80cbe13/info/thumbnail/ago_downloaded.png' class=\"itemThumbnail\">\n",
       "                       </a>\n",
       "                    </div>\n",
       "\n",
       "                    <div class=\"item_right\"     style=\"float: none; width: auto; overflow: hidden;\">\n",
       "                        <a href='http://www.arcgis.com/home/item.html?id=dcc941417e4d442782a5c538c80cbe13' target='_blank'><b>Flood Map 2015</b>\n",
       "                        </a>\n",
       "                        <br/>Hazard Mitigation Plan<img src='http://www.arcgis.com/home/js/jsapi/esri/css/images/item_type_icons/maps16.png' style=\"vertical-align:middle;\">Web Map by kiman\n",
       "                        <br/>Last Modified: February 14, 2017\n",
       "                        <br/>0 comments, 1,006 views\n",
       "                    </div>\n",
       "                </div>\n",
       "                "
      ],
      "text/plain": [
       "<Item title:\"Flood Map 2015\" type:Web Map owner:kiman>"
      ]
     },
     "metadata": {},
     "output_type": "display_data"
    },
    {
     "data": {
      "text/html": [
       "<div class=\"item_container\" style=\"height: auto; overflow: hidden; border: 1px solid #cfcfcf; border-radius: 2px; background: #f6fafa; line-height: 1.21429em; padding: 10px;\">\n",
       "                    <div class=\"item_left\" style=\"width: 210px; float: left;\">\n",
       "                       <a href='http://www.arcgis.com/home/item.html?id=8a4fe23312994e9c9dd759331c3d1b1a' target='_blank'>\n",
       "                        <img src='http://www.arcgis.com/sharing/rest//content/items/8a4fe23312994e9c9dd759331c3d1b1a/info/thumbnail/ago_downloaded.png' class=\"itemThumbnail\">\n",
       "                       </a>\n",
       "                    </div>\n",
       "\n",
       "                    <div class=\"item_right\"     style=\"float: none; width: auto; overflow: hidden;\">\n",
       "                        <a href='http://www.arcgis.com/home/item.html?id=8a4fe23312994e9c9dd759331c3d1b1a' target='_blank'><b>Wildland Fires Map 2015</b>\n",
       "                        </a>\n",
       "                        <br/>Hazard Mitigation Plan<img src='http://www.arcgis.com/home/js/jsapi/esri/css/images/item_type_icons/maps16.png' style=\"vertical-align:middle;\">Web Map by kiman\n",
       "                        <br/>Last Modified: February 14, 2017\n",
       "                        <br/>0 comments, 966 views\n",
       "                    </div>\n",
       "                </div>\n",
       "                "
      ],
      "text/plain": [
       "<Item title:\"Wildland Fires Map 2015\" type:Web Map owner:kiman>"
      ]
     },
     "metadata": {},
     "output_type": "display_data"
    },
    {
     "data": {
      "text/html": [
       "<div class=\"item_container\" style=\"height: auto; overflow: hidden; border: 1px solid #cfcfcf; border-radius: 2px; background: #f6fafa; line-height: 1.21429em; padding: 10px;\">\n",
       "                    <div class=\"item_left\" style=\"width: 210px; float: left;\">\n",
       "                       <a href='http://www.arcgis.com/home/item.html?id=abce1d91f5a243a9823fca6c39f71ab3' target='_blank'>\n",
       "                        <img src='http://www.arcgis.com/sharing/rest//content/items/abce1d91f5a243a9823fca6c39f71ab3/info/thumbnail/EmerResp-Offices-Employees_WebMap_200x133.png' class=\"itemThumbnail\">\n",
       "                       </a>\n",
       "                    </div>\n",
       "\n",
       "                    <div class=\"item_right\"     style=\"float: none; width: auto; overflow: hidden;\">\n",
       "                        <a href='http://www.arcgis.com/home/item.html?id=abce1d91f5a243a9823fca6c39f71ab3' target='_blank'><b>CB&I Emergency Response Web Map</b>\n",
       "                        </a>\n",
       "                        <br/>Web map for CB&I Emergency Response Application.<img src='http://www.arcgis.com/home/js/jsapi/esri/css/images/item_type_icons/maps16.png' style=\"vertical-align:middle;\">Web Map by john.mcewen\n",
       "                        <br/>Last Modified: February 22, 2017\n",
       "                        <br/>0 comments, 947 views\n",
       "                    </div>\n",
       "                </div>\n",
       "                "
      ],
      "text/plain": [
       "<Item title:\"CB&I Emergency Response Web Map\" type:Web Map owner:john.mcewen>"
      ]
     },
     "metadata": {},
     "output_type": "display_data"
    },
    {
     "data": {
      "text/html": [
       "<div class=\"item_container\" style=\"height: auto; overflow: hidden; border: 1px solid #cfcfcf; border-radius: 2px; background: #f6fafa; line-height: 1.21429em; padding: 10px;\">\n",
       "                    <div class=\"item_left\" style=\"width: 210px; float: left;\">\n",
       "                       <a href='http://www.arcgis.com/home/item.html?id=d6ac736a908c46109cc1a8dbf35ef710' target='_blank'>\n",
       "                        <img src='http://www.arcgis.com/sharing/rest//content/items/d6ac736a908c46109cc1a8dbf35ef710/info/thumbnail/ago_downloaded.png' class=\"itemThumbnail\">\n",
       "                       </a>\n",
       "                    </div>\n",
       "\n",
       "                    <div class=\"item_right\"     style=\"float: none; width: auto; overflow: hidden;\">\n",
       "                        <a href='http://www.arcgis.com/home/item.html?id=d6ac736a908c46109cc1a8dbf35ef710' target='_blank'><b>Earthquake Map 2015</b>\n",
       "                        </a>\n",
       "                        <br/>Earthquake Hazard Map<img src='http://www.arcgis.com/home/js/jsapi/esri/css/images/item_type_icons/maps16.png' style=\"vertical-align:middle;\">Web Map by kiman\n",
       "                        <br/>Last Modified: February 14, 2017\n",
       "                        <br/>0 comments, 925 views\n",
       "                    </div>\n",
       "                </div>\n",
       "                "
      ],
      "text/plain": [
       "<Item title:\"Earthquake Map 2015\" type:Web Map owner:kiman>"
      ]
     },
     "metadata": {},
     "output_type": "display_data"
    },
    {
     "data": {
      "text/html": [
       "<div class=\"item_container\" style=\"height: auto; overflow: hidden; border: 1px solid #cfcfcf; border-radius: 2px; background: #f6fafa; line-height: 1.21429em; padding: 10px;\">\n",
       "                    <div class=\"item_left\" style=\"width: 210px; float: left;\">\n",
       "                       <a href='http://www.arcgis.com/home/item.html?id=5acac0b242a643bfa45469ea74374435' target='_blank'>\n",
       "                        <img src='http://www.arcgis.com/sharing/rest//content/items/5acac0b242a643bfa45469ea74374435/info/thumbnail/ago_downloaded.png' class=\"itemThumbnail\">\n",
       "                       </a>\n",
       "                    </div>\n",
       "\n",
       "                    <div class=\"item_right\"     style=\"float: none; width: auto; overflow: hidden;\">\n",
       "                        <a href='http://www.arcgis.com/home/item.html?id=5acac0b242a643bfa45469ea74374435' target='_blank'><b>Flood</b>\n",
       "                        </a>\n",
       "                        <br/>Maitai Flood - uses merged data stored on TOTSM<img src='http://www.arcgis.com/home/js/jsapi/esri/css/images/item_type_icons/maps16.png' style=\"vertical-align:middle;\">Web Map by NelsonCityGIS\n",
       "                        <br/>Last Modified: February 13, 2017\n",
       "                        <br/>0 comments, 843 views\n",
       "                    </div>\n",
       "                </div>\n",
       "                "
      ],
      "text/plain": [
       "<Item title:\"Flood\" type:Web Map owner:NelsonCityGIS>"
      ]
     },
     "metadata": {},
     "output_type": "display_data"
    },
    {
     "data": {
      "text/html": [
       "<div class=\"item_container\" style=\"height: auto; overflow: hidden; border: 1px solid #cfcfcf; border-radius: 2px; background: #f6fafa; line-height: 1.21429em; padding: 10px;\">\n",
       "                    <div class=\"item_left\" style=\"width: 210px; float: left;\">\n",
       "                       <a href='http://www.arcgis.com/home/item.html?id=7a834bd04b7348bba16ce13b739835e7' target='_blank'>\n",
       "                        <img src='http://www.arcgis.com/sharing/rest//content/items/7a834bd04b7348bba16ce13b739835e7/info/thumbnail/ago_downloaded.png' class=\"itemThumbnail\">\n",
       "                       </a>\n",
       "                    </div>\n",
       "\n",
       "                    <div class=\"item_right\"     style=\"float: none; width: auto; overflow: hidden;\">\n",
       "                        <a href='http://www.arcgis.com/home/item.html?id=7a834bd04b7348bba16ce13b739835e7' target='_blank'><b>Environmental Management</b>\n",
       "                        </a>\n",
       "                        <br/>National environmental datasets courtesy of Esri's Living Atlas<img src='http://www.arcgis.com/home/js/jsapi/esri/css/images/item_type_icons/maps16.png' style=\"vertical-align:middle;\">Web Map by StarkCountyOH\n",
       "                        <br/>Last Modified: February 22, 2017\n",
       "                        <br/>0 comments, 663 views\n",
       "                    </div>\n",
       "                </div>\n",
       "                "
      ],
      "text/plain": [
       "<Item title:\"Environmental Management\" type:Web Map owner:StarkCountyOH>"
      ]
     },
     "metadata": {},
     "output_type": "display_data"
    },
    {
     "data": {
      "text/html": [
       "<div class=\"item_container\" style=\"height: auto; overflow: hidden; border: 1px solid #cfcfcf; border-radius: 2px; background: #f6fafa; line-height: 1.21429em; padding: 10px;\">\n",
       "                    <div class=\"item_left\" style=\"width: 210px; float: left;\">\n",
       "                       <a href='http://www.arcgis.com/home/item.html?id=a867399ba9b94895954ec19728ca3bfa' target='_blank'>\n",
       "                        <img src='http://www.arcgis.com/sharing/rest//content/items/a867399ba9b94895954ec19728ca3bfa/info/thumbnail/ago_downloaded.png' class=\"itemThumbnail\">\n",
       "                       </a>\n",
       "                    </div>\n",
       "\n",
       "                    <div class=\"item_right\"     style=\"float: none; width: auto; overflow: hidden;\">\n",
       "                        <a href='http://www.arcgis.com/home/item.html?id=a867399ba9b94895954ec19728ca3bfa' target='_blank'><b>Seismic events: Natural Hazard or Natural Disaster</b>\n",
       "                        </a>\n",
       "                        <br/>Natural Hazards for 4th grade science and social studies GeoInquiries<img src='http://www.arcgis.com/home/js/jsapi/esri/css/images/item_type_icons/maps16.png' style=\"vertical-align:middle;\">Web Map by Esri_GeoInquiry_Grade4\n",
       "                        <br/>Last Modified: February 22, 2017\n",
       "                        <br/>0 comments, 659 views\n",
       "                    </div>\n",
       "                </div>\n",
       "                "
      ],
      "text/plain": [
       "<Item title:\"Seismic events: Natural Hazard or Natural Disaster\" type:Web Map owner:Esri_GeoInquiry_Grade4>"
      ]
     },
     "metadata": {},
     "output_type": "display_data"
    },
    {
     "data": {
      "text/html": [
       "<div class=\"item_container\" style=\"height: auto; overflow: hidden; border: 1px solid #cfcfcf; border-radius: 2px; background: #f6fafa; line-height: 1.21429em; padding: 10px;\">\n",
       "                    <div class=\"item_left\" style=\"width: 210px; float: left;\">\n",
       "                       <a href='http://www.arcgis.com/home/item.html?id=0d838b6cdcb144af8f0415d00b6e00c5' target='_blank'>\n",
       "                        <img src='http://www.arcgis.com/sharing/rest//content/items/0d838b6cdcb144af8f0415d00b6e00c5/info/thumbnail/ago_downloaded.png' class=\"itemThumbnail\">\n",
       "                       </a>\n",
       "                    </div>\n",
       "\n",
       "                    <div class=\"item_right\"     style=\"float: none; width: auto; overflow: hidden;\">\n",
       "                        <a href='http://www.arcgis.com/home/item.html?id=0d838b6cdcb144af8f0415d00b6e00c5' target='_blank'><b>FEMA Flood Zones: web map</b>\n",
       "                        </a>\n",
       "                        <br/>This Web Map consists of the Storm Surge Flooding and FEMA Flood Zones component maps for the Storm Surge Inundation Map application, part of the EPA’s Climate Ready Water Utilities (CRWU) initiative to illustrate Coastal Storm Surge Scenarios.<img src='http://www.arcgis.com/home/js/jsapi/esri/css/images/item_type_icons/maps16.png' style=\"vertical-align:middle;\">Web Map by ana.rosner_EPA\n",
       "                        <br/>Last Modified: February 21, 2017\n",
       "                        <br/>0 comments, 540 views\n",
       "                    </div>\n",
       "                </div>\n",
       "                "
      ],
      "text/plain": [
       "<Item title:\"FEMA Flood Zones: web map\" type:Web Map owner:ana.rosner_EPA>"
      ]
     },
     "metadata": {},
     "output_type": "display_data"
    },
    {
     "data": {
      "text/html": [
       "<div class=\"item_container\" style=\"height: auto; overflow: hidden; border: 1px solid #cfcfcf; border-radius: 2px; background: #f6fafa; line-height: 1.21429em; padding: 10px;\">\n",
       "                    <div class=\"item_left\" style=\"width: 210px; float: left;\">\n",
       "                       <a href='http://www.arcgis.com/home/item.html?id=c5f44d7d0e434d2d97efcf78f2b66efe' target='_blank'>\n",
       "                        <img src='http://www.arcgis.com/sharing/rest//content/items/c5f44d7d0e434d2d97efcf78f2b66efe/info/thumbnail/ago_downloaded.png' class=\"itemThumbnail\">\n",
       "                       </a>\n",
       "                    </div>\n",
       "\n",
       "                    <div class=\"item_right\"     style=\"float: none; width: auto; overflow: hidden;\">\n",
       "                        <a href='http://www.arcgis.com/home/item.html?id=c5f44d7d0e434d2d97efcf78f2b66efe' target='_blank'><b>INGV - ISPRA joint Surface Faulting Database - Mw 6.1, 2009, April 6th L'Aquila earthquake (Central Italy)</b>\n",
       "                        </a>\n",
       "                        <br/>INGV - ISPRA joint db - 2009 L’Aquila earthquake surface rupture<img src='http://www.arcgis.com/home/js/jsapi/esri/css/images/item_type_icons/maps16.png' style=\"vertical-align:middle;\">Web Map by LabHRT\n",
       "                        <br/>Last Modified: February 23, 2017\n",
       "                        <br/>0 comments, 457 views\n",
       "                    </div>\n",
       "                </div>\n",
       "                "
      ],
      "text/plain": [
       "<Item title:\"INGV - ISPRA joint Surface Faulting Database - Mw 6.1, 2009, April 6th L'Aquila earthquake (Central Italy)\" type:Web Map owner:LabHRT>"
      ]
     },
     "metadata": {},
     "output_type": "display_data"
    },
    {
     "data": {
      "text/html": [
       "<div class=\"item_container\" style=\"height: auto; overflow: hidden; border: 1px solid #cfcfcf; border-radius: 2px; background: #f6fafa; line-height: 1.21429em; padding: 10px;\">\n",
       "                    <div class=\"item_left\" style=\"width: 210px; float: left;\">\n",
       "                       <a href='http://www.arcgis.com/home/item.html?id=24ddca65e51648e0bb0812f6e8e1610a' target='_blank'>\n",
       "                        <img src='http://www.arcgis.com/sharing/rest//content/items/24ddca65e51648e0bb0812f6e8e1610a/info/thumbnail/ago_downloaded.png' class=\"itemThumbnail\">\n",
       "                       </a>\n",
       "                    </div>\n",
       "\n",
       "                    <div class=\"item_right\"     style=\"float: none; width: auto; overflow: hidden;\">\n",
       "                        <a href='http://www.arcgis.com/home/item.html?id=24ddca65e51648e0bb0812f6e8e1610a' target='_blank'><b>ECY_Mason_2016_Preliminary_FEMA_Floodplains</b>\n",
       "                        </a>\n",
       "                        <br/>2016 Mason County Preliminary FEMA Flood Hazard Areas<img src='http://www.arcgis.com/home/js/jsapi/esri/css/images/item_type_icons/maps16.png' style=\"vertical-align:middle;\">Web Map by jfra461@ecy.wa.gov\n",
       "                        <br/>Last Modified: February 17, 2017\n",
       "                        <br/>0 comments, 430 views\n",
       "                    </div>\n",
       "                </div>\n",
       "                "
      ],
      "text/plain": [
       "<Item title:\"ECY_Mason_2016_Preliminary_FEMA_Floodplains\" type:Web Map owner:jfra461@ecy.wa.gov>"
      ]
     },
     "metadata": {},
     "output_type": "display_data"
    },
    {
     "data": {
      "text/html": [
       "<div class=\"item_container\" style=\"height: auto; overflow: hidden; border: 1px solid #cfcfcf; border-radius: 2px; background: #f6fafa; line-height: 1.21429em; padding: 10px;\">\n",
       "                    <div class=\"item_left\" style=\"width: 210px; float: left;\">\n",
       "                       <a href='http://www.arcgis.com/home/item.html?id=a09d7f72a5384f62a7c5148fade5421c' target='_blank'>\n",
       "                        <img src='http://www.arcgis.com/sharing/rest//content/items/a09d7f72a5384f62a7c5148fade5421c/info/thumbnail/ago_downloaded.png' class=\"itemThumbnail\">\n",
       "                       </a>\n",
       "                    </div>\n",
       "\n",
       "                    <div class=\"item_right\"     style=\"float: none; width: auto; overflow: hidden;\">\n",
       "                        <a href='http://www.arcgis.com/home/item.html?id=a09d7f72a5384f62a7c5148fade5421c' target='_blank'><b>Road Hazards</b>\n",
       "                        </a>\n",
       "                        <br/>San Benito County Road Hazards. Updated 2/23/2017 at 8:15 AM<img src='http://www.arcgis.com/home/js/jsapi/esri/css/images/item_type_icons/maps16.png' style=\"vertical-align:middle;\">Web Map by SanBenitoCounty\n",
       "                        <br/>Last Modified: February 23, 2017\n",
       "                        <br/>0 comments, 418 views\n",
       "                    </div>\n",
       "                </div>\n",
       "                "
      ],
      "text/plain": [
       "<Item title:\"Road Hazards\" type:Web Map owner:SanBenitoCounty>"
      ]
     },
     "metadata": {},
     "output_type": "display_data"
    },
    {
     "data": {
      "text/html": [
       "<div class=\"item_container\" style=\"height: auto; overflow: hidden; border: 1px solid #cfcfcf; border-radius: 2px; background: #f6fafa; line-height: 1.21429em; padding: 10px;\">\n",
       "                    <div class=\"item_left\" style=\"width: 210px; float: left;\">\n",
       "                       <a href='http://www.arcgis.com/home/item.html?id=a1c3429995224b3d94e70255b1ce2eba' target='_blank'>\n",
       "                        <img src='http://www.arcgis.com/sharing/rest//content/items/a1c3429995224b3d94e70255b1ce2eba/info/thumbnail/ago_downloaded.png' class=\"itemThumbnail\">\n",
       "                       </a>\n",
       "                    </div>\n",
       "\n",
       "                    <div class=\"item_right\"     style=\"float: none; width: auto; overflow: hidden;\">\n",
       "                        <a href='http://www.arcgis.com/home/item.html?id=a1c3429995224b3d94e70255b1ce2eba' target='_blank'><b>HRT Coastal Hazards</b>\n",
       "                        </a>\n",
       "                        <br/><img src='http://www.arcgis.com/home/js/jsapi/esri/css/images/item_type_icons/maps16.png' style=\"vertical-align:middle;\">Web Map by Bradley.Dean\n",
       "                        <br/>Last Modified: February 22, 2017\n",
       "                        <br/>0 comments, 414 views\n",
       "                    </div>\n",
       "                </div>\n",
       "                "
      ],
      "text/plain": [
       "<Item title:\"HRT Coastal Hazards\" type:Web Map owner:Bradley.Dean>"
      ]
     },
     "metadata": {},
     "output_type": "display_data"
    },
    {
     "data": {
      "text/html": [
       "<div class=\"item_container\" style=\"height: auto; overflow: hidden; border: 1px solid #cfcfcf; border-radius: 2px; background: #f6fafa; line-height: 1.21429em; padding: 10px;\">\n",
       "                    <div class=\"item_left\" style=\"width: 210px; float: left;\">\n",
       "                       <a href='http://www.arcgis.com/home/item.html?id=b70170dd922d4c459c2f365507560dd6' target='_blank'>\n",
       "                        <img src='http://www.arcgis.com/sharing/rest//content/items/b70170dd922d4c459c2f365507560dd6/info/thumbnail/ago_downloaded.png' class=\"itemThumbnail\">\n",
       "                       </a>\n",
       "                    </div>\n",
       "\n",
       "                    <div class=\"item_right\"     style=\"float: none; width: auto; overflow: hidden;\">\n",
       "                        <a href='http://www.arcgis.com/home/item.html?id=b70170dd922d4c459c2f365507560dd6' target='_blank'><b>PHDs Resources</b>\n",
       "                        </a>\n",
       "                        <br/><img src='http://www.arcgis.com/home/js/jsapi/esri/css/images/item_type_icons/maps16.png' style=\"vertical-align:middle;\">Web Map by dneufeld_dhw\n",
       "                        <br/>Last Modified: February 21, 2017\n",
       "                        <br/>0 comments, 392 views\n",
       "                    </div>\n",
       "                </div>\n",
       "                "
      ],
      "text/plain": [
       "<Item title:\"PHDs Resources\" type:Web Map owner:dneufeld_dhw>"
      ]
     },
     "metadata": {},
     "output_type": "display_data"
    },
    {
     "data": {
      "text/html": [
       "<div class=\"item_container\" style=\"height: auto; overflow: hidden; border: 1px solid #cfcfcf; border-radius: 2px; background: #f6fafa; line-height: 1.21429em; padding: 10px;\">\n",
       "                    <div class=\"item_left\" style=\"width: 210px; float: left;\">\n",
       "                       <a href='http://www.arcgis.com/home/item.html?id=0cb31ca2cdcb44f2bc80fe4e4d7a80e6' target='_blank'>\n",
       "                        <img src='http://www.arcgis.com/sharing/rest//content/items/0cb31ca2cdcb44f2bc80fe4e4d7a80e6/info/thumbnail/ago_downloaded.png' class=\"itemThumbnail\">\n",
       "                       </a>\n",
       "                    </div>\n",
       "\n",
       "                    <div class=\"item_right\"     style=\"float: none; width: auto; overflow: hidden;\">\n",
       "                        <a href='http://www.arcgis.com/home/item.html?id=0cb31ca2cdcb44f2bc80fe4e4d7a80e6' target='_blank'><b>NRHM_Base</b>\n",
       "                        </a>\n",
       "                        <br/><img src='http://www.arcgis.com/home/js/jsapi/esri/css/images/item_type_icons/maps16.png' style=\"vertical-align:middle;\">Web Map by TNorton_atginc\n",
       "                        <br/>Last Modified: February 20, 2017\n",
       "                        <br/>0 comments, 391 views\n",
       "                    </div>\n",
       "                </div>\n",
       "                "
      ],
      "text/plain": [
       "<Item title:\"NRHM_Base\" type:Web Map owner:TNorton_atginc>"
      ]
     },
     "metadata": {},
     "output_type": "display_data"
    }
   ],
   "source": [
    "get_recent_maps_about('hazard', nb_days_ago=10)"
   ]
  },
  {
   "cell_type": "markdown",
   "metadata": {},
   "source": [
    "# Flood"
   ]
  },
  {
   "cell_type": "code",
   "execution_count": 9,
   "metadata": {
    "collapsed": false
   },
   "outputs": [
    {
     "data": {
      "text/html": [
       "<div class=\"item_container\" style=\"height: auto; overflow: hidden; border: 1px solid #cfcfcf; border-radius: 2px; background: #f6fafa; line-height: 1.21429em; padding: 10px;\">\n",
       "                    <div class=\"item_left\" style=\"width: 210px; float: left;\">\n",
       "                       <a href='http://www.arcgis.com/home/item.html?id=b1db2ce89a5747eca264c075a62873ff' target='_blank'>\n",
       "                        <img src='http://www.arcgis.com/sharing/rest//content/items/b1db2ce89a5747eca264c075a62873ff/info/thumbnail/FEMA.png' class=\"itemThumbnail\">\n",
       "                       </a>\n",
       "                    </div>\n",
       "\n",
       "                    <div class=\"item_right\"     style=\"float: none; width: auto; overflow: hidden;\">\n",
       "                        <a href='http://www.arcgis.com/home/item.html?id=b1db2ce89a5747eca264c075a62873ff' target='_blank'><b>DFIRM Flood Map St. Clair County</b>\n",
       "                        </a>\n",
       "                        <br/>This Map is for determining approximate areas for Flood Hazards<img src='http://www.arcgis.com/home/js/jsapi/esri/css/images/item_type_icons/maps16.png' style=\"vertical-align:middle;\">Web Map by bryanprice1\n",
       "                        <br/>Last Modified: February 21, 2017\n",
       "                        <br/>0 comments, 527,302 views\n",
       "                    </div>\n",
       "                </div>\n",
       "                "
      ],
      "text/plain": [
       "<Item title:\"DFIRM Flood Map St. Clair County\" type:Web Map owner:bryanprice1>"
      ]
     },
     "metadata": {},
     "output_type": "display_data"
    },
    {
     "data": {
      "text/html": [
       "<div class=\"item_container\" style=\"height: auto; overflow: hidden; border: 1px solid #cfcfcf; border-radius: 2px; background: #f6fafa; line-height: 1.21429em; padding: 10px;\">\n",
       "                    <div class=\"item_left\" style=\"width: 210px; float: left;\">\n",
       "                       <a href='http://www.arcgis.com/home/item.html?id=62139ab29bd04cbfb712ba6d4498c202' target='_blank'>\n",
       "                        <img src='http://www.arcgis.com/sharing/rest//content/items/62139ab29bd04cbfb712ba6d4498c202/info/thumbnail/ago_downloaded.png' class=\"itemThumbnail\">\n",
       "                       </a>\n",
       "                    </div>\n",
       "\n",
       "                    <div class=\"item_right\"     style=\"float: none; width: auto; overflow: hidden;\">\n",
       "                        <a href='http://www.arcgis.com/home/item.html?id=62139ab29bd04cbfb712ba6d4498c202' target='_blank'><b>Road Closures with Columbia Area Detours</b>\n",
       "                        </a>\n",
       "                        <br/><img src='http://www.arcgis.com/home/js/jsapi/esri/css/images/item_type_icons/maps16.png' style=\"vertical-align:middle;\">Web Map by ErvinVE_SCDOT\n",
       "                        <br/>Last Modified: February 16, 2017\n",
       "                        <br/>0 comments, 180,245 views\n",
       "                    </div>\n",
       "                </div>\n",
       "                "
      ],
      "text/plain": [
       "<Item title:\"Road Closures with Columbia Area Detours\" type:Web Map owner:ErvinVE_SCDOT>"
      ]
     },
     "metadata": {},
     "output_type": "display_data"
    },
    {
     "data": {
      "text/html": [
       "<div class=\"item_container\" style=\"height: auto; overflow: hidden; border: 1px solid #cfcfcf; border-radius: 2px; background: #f6fafa; line-height: 1.21429em; padding: 10px;\">\n",
       "                    <div class=\"item_left\" style=\"width: 210px; float: left;\">\n",
       "                       <a href='http://www.arcgis.com/home/item.html?id=92653a777a3f44a682174db3d8051c7b' target='_blank'>\n",
       "                        <img src='http://www.arcgis.com/sharing/rest//content/items/92653a777a3f44a682174db3d8051c7b/info/thumbnail/ago_downloaded.png' class=\"itemThumbnail\">\n",
       "                       </a>\n",
       "                    </div>\n",
       "\n",
       "                    <div class=\"item_right\"     style=\"float: none; width: auto; overflow: hidden;\">\n",
       "                        <a href='http://www.arcgis.com/home/item.html?id=92653a777a3f44a682174db3d8051c7b' target='_blank'><b>County Emergency Managers -- Utah</b>\n",
       "                        </a>\n",
       "                        <br/>A clickable map to find the contact information for Utah's county emergency managers.<img src='http://www.arcgis.com/home/js/jsapi/esri/css/images/item_type_icons/maps16.png' style=\"vertical-align:middle;\">Web Map by joedougherty\n",
       "                        <br/>Last Modified: February 21, 2017\n",
       "                        <br/>0 comments, 127,492 views\n",
       "                    </div>\n",
       "                </div>\n",
       "                "
      ],
      "text/plain": [
       "<Item title:\"County Emergency Managers -- Utah\" type:Web Map owner:joedougherty>"
      ]
     },
     "metadata": {},
     "output_type": "display_data"
    },
    {
     "data": {
      "text/html": [
       "<div class=\"item_container\" style=\"height: auto; overflow: hidden; border: 1px solid #cfcfcf; border-radius: 2px; background: #f6fafa; line-height: 1.21429em; padding: 10px;\">\n",
       "                    <div class=\"item_left\" style=\"width: 210px; float: left;\">\n",
       "                       <a href='http://www.arcgis.com/home/item.html?id=c00dc12a54bd406b942245b84f46c10a' target='_blank'>\n",
       "                        <img src='http://www.arcgis.com/sharing/rest//content/items/c00dc12a54bd406b942245b84f46c10a/info/thumbnail/AGOL_ICON_WEBMAP_PUBLIC.png' class=\"itemThumbnail\">\n",
       "                       </a>\n",
       "                    </div>\n",
       "\n",
       "                    <div class=\"item_right\"     style=\"float: none; width: auto; overflow: hidden;\">\n",
       "                        <a href='http://www.arcgis.com/home/item.html?id=c00dc12a54bd406b942245b84f46c10a' target='_blank'><b>Live Weather Web Map: Montgomery County</b>\n",
       "                        </a>\n",
       "                        <br/>Web map of current affected roads, evacuations and shelters in Montgomery County, Texas, This map is used for our Public Information Map.<img src='http://www.arcgis.com/home/js/jsapi/esri/css/images/item_type_icons/maps16.png' style=\"vertical-align:middle;\">Web Map by GIS.Administrator_MOCO\n",
       "                        <br/>Last Modified: February 21, 2017\n",
       "                        <br/>0 comments, 76,602 views\n",
       "                    </div>\n",
       "                </div>\n",
       "                "
      ],
      "text/plain": [
       "<Item title:\"Live Weather Web Map: Montgomery County\" type:Web Map owner:GIS.Administrator_MOCO>"
      ]
     },
     "metadata": {},
     "output_type": "display_data"
    },
    {
     "data": {
      "text/html": [
       "<div class=\"item_container\" style=\"height: auto; overflow: hidden; border: 1px solid #cfcfcf; border-radius: 2px; background: #f6fafa; line-height: 1.21429em; padding: 10px;\">\n",
       "                    <div class=\"item_left\" style=\"width: 210px; float: left;\">\n",
       "                       <a href='http://www.arcgis.com/home/item.html?id=501c7b1877734ad78d74b3920ad3f46a' target='_blank'>\n",
       "                        <img src='http://www.arcgis.com/sharing/rest//content/items/501c7b1877734ad78d74b3920ad3f46a/info/thumbnail/FEMA.png' class=\"itemThumbnail\">\n",
       "                       </a>\n",
       "                    </div>\n",
       "\n",
       "                    <div class=\"item_right\"     style=\"float: none; width: auto; overflow: hidden;\">\n",
       "                        <a href='http://www.arcgis.com/home/item.html?id=501c7b1877734ad78d74b3920ad3f46a' target='_blank'><b>FEMA DFIRM Flood Zone Map</b>\n",
       "                        </a>\n",
       "                        <br/>A map showing the City of Naples FEMA DFIRM Flood Zones and the existing FEMA Flood Zones<img src='http://www.arcgis.com/home/js/jsapi/esri/css/images/item_type_icons/maps16.png' style=\"vertical-align:middle;\">Web Map by NaplesGIS\n",
       "                        <br/>Last Modified: February 23, 2017\n",
       "                        <br/>0 comments, 76,408 views\n",
       "                    </div>\n",
       "                </div>\n",
       "                "
      ],
      "text/plain": [
       "<Item title:\"FEMA DFIRM Flood Zone Map\" type:Web Map owner:NaplesGIS>"
      ]
     },
     "metadata": {},
     "output_type": "display_data"
    },
    {
     "data": {
      "text/html": [
       "<div class=\"item_container\" style=\"height: auto; overflow: hidden; border: 1px solid #cfcfcf; border-radius: 2px; background: #f6fafa; line-height: 1.21429em; padding: 10px;\">\n",
       "                    <div class=\"item_left\" style=\"width: 210px; float: left;\">\n",
       "                       <a href='http://www.arcgis.com/home/item.html?id=902c402f90214306ad14f9c08cb33bd6' target='_blank'>\n",
       "                        <img src='http://www.arcgis.com/sharing/rest//content/items/902c402f90214306ad14f9c08cb33bd6/info/thumbnail/cvbcitymap.png' class=\"itemThumbnail\">\n",
       "                       </a>\n",
       "                    </div>\n",
       "\n",
       "                    <div class=\"item_right\"     style=\"float: none; width: auto; overflow: hidden;\">\n",
       "                        <a href='http://www.arcgis.com/home/item.html?id=902c402f90214306ad14f9c08cb33bd6' target='_blank'><b>Virginia Beach City Map</b>\n",
       "                        </a>\n",
       "                        <br/>A look at Virginia Beach local government geographic information<img src='http://www.arcgis.com/home/js/jsapi/esri/css/images/item_type_icons/maps16.png' style=\"vertical-align:middle;\">Web Map by VBCGIS_OrgAcct1\n",
       "                        <br/>Last Modified: February 14, 2017\n",
       "                        <br/>0 comments, 57,027 views\n",
       "                    </div>\n",
       "                </div>\n",
       "                "
      ],
      "text/plain": [
       "<Item title:\"Virginia Beach City Map\" type:Web Map owner:VBCGIS_OrgAcct1>"
      ]
     },
     "metadata": {},
     "output_type": "display_data"
    },
    {
     "data": {
      "text/html": [
       "<div class=\"item_container\" style=\"height: auto; overflow: hidden; border: 1px solid #cfcfcf; border-radius: 2px; background: #f6fafa; line-height: 1.21429em; padding: 10px;\">\n",
       "                    <div class=\"item_left\" style=\"width: 210px; float: left;\">\n",
       "                       <a href='http://www.arcgis.com/home/item.html?id=8053ff1a56624faf97e27a1eb66dafcd' target='_blank'>\n",
       "                        <img src='http://www.arcgis.com/sharing/rest//content/items/8053ff1a56624faf97e27a1eb66dafcd/info/thumbnail/ago_downloaded.png' class=\"itemThumbnail\">\n",
       "                       </a>\n",
       "                    </div>\n",
       "\n",
       "                    <div class=\"item_right\"     style=\"float: none; width: auto; overflow: hidden;\">\n",
       "                        <a href='http://www.arcgis.com/home/item.html?id=8053ff1a56624faf97e27a1eb66dafcd' target='_blank'><b>IMS Replacement Webmap</b>\n",
       "                        </a>\n",
       "                        <br/><img src='http://www.arcgis.com/home/js/jsapi/esri/css/images/item_type_icons/maps16.png' style=\"vertical-align:middle;\">Web Map by k3gis_1\n",
       "                        <br/>Last Modified: February 14, 2017\n",
       "                        <br/>0 comments, 32,485 views\n",
       "                    </div>\n",
       "                </div>\n",
       "                "
      ],
      "text/plain": [
       "<Item title:\"IMS Replacement Webmap\" type:Web Map owner:k3gis_1>"
      ]
     },
     "metadata": {},
     "output_type": "display_data"
    },
    {
     "data": {
      "text/html": [
       "<div class=\"item_container\" style=\"height: auto; overflow: hidden; border: 1px solid #cfcfcf; border-radius: 2px; background: #f6fafa; line-height: 1.21429em; padding: 10px;\">\n",
       "                    <div class=\"item_left\" style=\"width: 210px; float: left;\">\n",
       "                       <a href='http://www.arcgis.com/home/item.html?id=59e41177613f4876881498e5e0ed0eea' target='_blank'>\n",
       "                        <img src='http://www.arcgis.com/sharing/rest//content/items/59e41177613f4876881498e5e0ed0eea/info/thumbnail/ago_downloaded.png' class=\"itemThumbnail\">\n",
       "                       </a>\n",
       "                    </div>\n",
       "\n",
       "                    <div class=\"item_right\"     style=\"float: none; width: auto; overflow: hidden;\">\n",
       "                        <a href='http://www.arcgis.com/home/item.html?id=59e41177613f4876881498e5e0ed0eea' target='_blank'><b>2017 Winter Storms SA</b>\n",
       "                        </a>\n",
       "                        <br/><img src='http://www.arcgis.com/home/js/jsapi/esri/css/images/item_type_icons/maps16.png' style=\"vertical-align:middle;\">Web Map by calema_gis\n",
       "                        <br/>Last Modified: February 23, 2017\n",
       "                        <br/>0 comments, 28,900 views\n",
       "                    </div>\n",
       "                </div>\n",
       "                "
      ],
      "text/plain": [
       "<Item title:\"2017 Winter Storms SA\" type:Web Map owner:calema_gis>"
      ]
     },
     "metadata": {},
     "output_type": "display_data"
    },
    {
     "data": {
      "text/html": [
       "<div class=\"item_container\" style=\"height: auto; overflow: hidden; border: 1px solid #cfcfcf; border-radius: 2px; background: #f6fafa; line-height: 1.21429em; padding: 10px;\">\n",
       "                    <div class=\"item_left\" style=\"width: 210px; float: left;\">\n",
       "                       <a href='http://www.arcgis.com/home/item.html?id=64a3bb0899324a8b8911fb7b523361d7' target='_blank'>\n",
       "                        <img src='http://www.arcgis.com/sharing/rest//content/items/64a3bb0899324a8b8911fb7b523361d7/info/thumbnail/ago_downloaded.png' class=\"itemThumbnail\">\n",
       "                       </a>\n",
       "                    </div>\n",
       "\n",
       "                    <div class=\"item_right\"     style=\"float: none; width: auto; overflow: hidden;\">\n",
       "                        <a href='http://www.arcgis.com/home/item.html?id=64a3bb0899324a8b8911fb7b523361d7' target='_blank'><b>Road Closures - Flooding</b>\n",
       "                        </a>\n",
       "                        <br/>Road closures in Yolo County. <img src='http://www.arcgis.com/home/js/jsapi/esri/css/images/item_type_icons/maps16.png' style=\"vertical-align:middle;\">Web Map by MMartinez@yolocounty.org_Yolo\n",
       "                        <br/>Last Modified: February 21, 2017\n",
       "                        <br/>0 comments, 27,263 views\n",
       "                    </div>\n",
       "                </div>\n",
       "                "
      ],
      "text/plain": [
       "<Item title:\"Road Closures - Flooding\" type:Web Map owner:MMartinez@yolocounty.org_Yolo>"
      ]
     },
     "metadata": {},
     "output_type": "display_data"
    },
    {
     "data": {
      "text/html": [
       "<div class=\"item_container\" style=\"height: auto; overflow: hidden; border: 1px solid #cfcfcf; border-radius: 2px; background: #f6fafa; line-height: 1.21429em; padding: 10px;\">\n",
       "                    <div class=\"item_left\" style=\"width: 210px; float: left;\">\n",
       "                       <a href='http://www.arcgis.com/home/item.html?id=e0b966561f41496386771fbaf621fd63' target='_blank'>\n",
       "                        <img src='http://www.arcgis.com/sharing/rest//content/items/e0b966561f41496386771fbaf621fd63/info/thumbnail/WorldHydroBasemap_2013.jpg' class=\"itemThumbnail\">\n",
       "                       </a>\n",
       "                    </div>\n",
       "\n",
       "                    <div class=\"item_right\"     style=\"float: none; width: auto; overflow: hidden;\">\n",
       "                        <a href='http://www.arcgis.com/home/item.html?id=e0b966561f41496386771fbaf621fd63' target='_blank'><b>World Hydro Basemap</b>\n",
       "                        </a>\n",
       "                        <br/>The World Hydro Basemap is comprised of the World Hydro Reference Overlay and the World Terrain Base.<img src='http://www.arcgis.com/home/js/jsapi/esri/css/images/item_type_icons/maps16.png' style=\"vertical-align:middle;\">Web Map by HydroTeamRC\n",
       "                        <br/>Last Modified: February 22, 2017\n",
       "                        <br/>3 comments, 25,023 views\n",
       "                    </div>\n",
       "                </div>\n",
       "                "
      ],
      "text/plain": [
       "<Item title:\"World Hydro Basemap\" type:Web Map owner:HydroTeamRC>"
      ]
     },
     "metadata": {},
     "output_type": "display_data"
    },
    {
     "data": {
      "text/html": [
       "<div class=\"item_container\" style=\"height: auto; overflow: hidden; border: 1px solid #cfcfcf; border-radius: 2px; background: #f6fafa; line-height: 1.21429em; padding: 10px;\">\n",
       "                    <div class=\"item_left\" style=\"width: 210px; float: left;\">\n",
       "                       <a href='http://www.arcgis.com/home/item.html?id=13f601f376c543a28dd77e0240e056cb' target='_blank'>\n",
       "                        <img src='http://www.arcgis.com/sharing/rest//content/items/13f601f376c543a28dd77e0240e056cb/info/thumbnail/ago_downloaded.png' class=\"itemThumbnail\">\n",
       "                       </a>\n",
       "                    </div>\n",
       "\n",
       "                    <div class=\"item_right\"     style=\"float: none; width: auto; overflow: hidden;\">\n",
       "                        <a href='http://www.arcgis.com/home/item.html?id=13f601f376c543a28dd77e0240e056cb' target='_blank'><b>VBgov City Map</b>\n",
       "                        </a>\n",
       "                        <br/>VBgov City Map<img src='http://www.arcgis.com/home/js/jsapi/esri/css/images/item_type_icons/maps16.png' style=\"vertical-align:middle;\">Web Map by VBCGIS_OrgAcct1\n",
       "                        <br/>Last Modified: February 23, 2017\n",
       "                        <br/>0 comments, 14,626 views\n",
       "                    </div>\n",
       "                </div>\n",
       "                "
      ],
      "text/plain": [
       "<Item title:\"VBgov City Map\" type:Web Map owner:VBCGIS_OrgAcct1>"
      ]
     },
     "metadata": {},
     "output_type": "display_data"
    },
    {
     "data": {
      "text/html": [
       "<div class=\"item_container\" style=\"height: auto; overflow: hidden; border: 1px solid #cfcfcf; border-radius: 2px; background: #f6fafa; line-height: 1.21429em; padding: 10px;\">\n",
       "                    <div class=\"item_left\" style=\"width: 210px; float: left;\">\n",
       "                       <a href='http://www.arcgis.com/home/item.html?id=2d4deed292494d33b74315534f8006ae' target='_blank'>\n",
       "                        <img src='http://www.arcgis.com/sharing/rest//content/items/2d4deed292494d33b74315534f8006ae/info/thumbnail/zoning.png' class=\"itemThumbnail\">\n",
       "                       </a>\n",
       "                    </div>\n",
       "\n",
       "                    <div class=\"item_right\"     style=\"float: none; width: auto; overflow: hidden;\">\n",
       "                        <a href='http://www.arcgis.com/home/item.html?id=2d4deed292494d33b74315534f8006ae' target='_blank'><b>Stark County Zoning Map</b>\n",
       "                        </a>\n",
       "                        <br/>Geographic representation of zoning areas for Stark County, Ohio.<img src='http://www.arcgis.com/home/js/jsapi/esri/css/images/item_type_icons/maps16.png' style=\"vertical-align:middle;\">Web Map by StarkCountyOH\n",
       "                        <br/>Last Modified: February 16, 2017\n",
       "                        <br/>0 comments, 13,671 views\n",
       "                    </div>\n",
       "                </div>\n",
       "                "
      ],
      "text/plain": [
       "<Item title:\"Stark County Zoning Map\" type:Web Map owner:StarkCountyOH>"
      ]
     },
     "metadata": {},
     "output_type": "display_data"
    },
    {
     "data": {
      "text/html": [
       "<div class=\"item_container\" style=\"height: auto; overflow: hidden; border: 1px solid #cfcfcf; border-radius: 2px; background: #f6fafa; line-height: 1.21429em; padding: 10px;\">\n",
       "                    <div class=\"item_left\" style=\"width: 210px; float: left;\">\n",
       "                       <a href='http://www.arcgis.com/home/item.html?id=4defab7b72774ef6a1d6a334066f76a0' target='_blank'>\n",
       "                        <img src='http://www.arcgis.com/sharing/rest//content/items/4defab7b72774ef6a1d6a334066f76a0/info/thumbnail/ago_downloaded.png' class=\"itemThumbnail\">\n",
       "                       </a>\n",
       "                    </div>\n",
       "\n",
       "                    <div class=\"item_right\"     style=\"float: none; width: auto; overflow: hidden;\">\n",
       "                        <a href='http://www.arcgis.com/home/item.html?id=4defab7b72774ef6a1d6a334066f76a0' target='_blank'><b>Norfolk FIRM (2009)</b>\n",
       "                        </a>\n",
       "                        <br/>Norfolk FIRM (2009)<img src='http://www.arcgis.com/home/js/jsapi/esri/css/images/item_type_icons/maps16.png' style=\"vertical-align:middle;\">Web Map by GISDEV\n",
       "                        <br/>Last Modified: February 22, 2017\n",
       "                        <br/>0 comments, 12,367 views\n",
       "                    </div>\n",
       "                </div>\n",
       "                "
      ],
      "text/plain": [
       "<Item title:\"Norfolk FIRM (2009)\" type:Web Map owner:GISDEV>"
      ]
     },
     "metadata": {},
     "output_type": "display_data"
    },
    {
     "data": {
      "text/html": [
       "<div class=\"item_container\" style=\"height: auto; overflow: hidden; border: 1px solid #cfcfcf; border-radius: 2px; background: #f6fafa; line-height: 1.21429em; padding: 10px;\">\n",
       "                    <div class=\"item_left\" style=\"width: 210px; float: left;\">\n",
       "                       <a href='http://www.arcgis.com/home/item.html?id=743c2ee99bc44aa68343c6f606b7df44' target='_blank'>\n",
       "                        <img src='http://www.arcgis.com/sharing/rest//content/items/743c2ee99bc44aa68343c6f606b7df44/info/thumbnail/ago_downloaded.png' class=\"itemThumbnail\">\n",
       "                       </a>\n",
       "                    </div>\n",
       "\n",
       "                    <div class=\"item_right\"     style=\"float: none; width: auto; overflow: hidden;\">\n",
       "                        <a href='http://www.arcgis.com/home/item.html?id=743c2ee99bc44aa68343c6f606b7df44' target='_blank'><b>Maine Flood Hazard Map</b>\n",
       "                        </a>\n",
       "                        <br/>This map shows FEMA's National Flood Hazard Layer for areas where flood mapping is complete.  It also includes the Q3 layer of digitized features from the original black and white flood zone maps.<img src='http://www.arcgis.com/home/js/jsapi/esri/css/images/item_type_icons/maps16.png' style=\"vertical-align:middle;\">Web Map by Christian.H.Halsted.ME\n",
       "                        <br/>Last Modified: February 15, 2017\n",
       "                        <br/>0 comments, 11,842 views\n",
       "                    </div>\n",
       "                </div>\n",
       "                "
      ],
      "text/plain": [
       "<Item title:\"Maine Flood Hazard Map\" type:Web Map owner:Christian.H.Halsted.ME>"
      ]
     },
     "metadata": {},
     "output_type": "display_data"
    },
    {
     "data": {
      "text/html": [
       "<div class=\"item_container\" style=\"height: auto; overflow: hidden; border: 1px solid #cfcfcf; border-radius: 2px; background: #f6fafa; line-height: 1.21429em; padding: 10px;\">\n",
       "                    <div class=\"item_left\" style=\"width: 210px; float: left;\">\n",
       "                       <a href='http://www.arcgis.com/home/item.html?id=dcaf9ba4488546fea293f689345b1785' target='_blank'>\n",
       "                        <img src='http://www.arcgis.com/sharing/rest//content/items/dcaf9ba4488546fea293f689345b1785/info/thumbnail/ago_downloaded.png' class=\"itemThumbnail\">\n",
       "                       </a>\n",
       "                    </div>\n",
       "\n",
       "                    <div class=\"item_right\"     style=\"float: none; width: auto; overflow: hidden;\">\n",
       "                        <a href='http://www.arcgis.com/home/item.html?id=dcaf9ba4488546fea293f689345b1785' target='_blank'><b>Flood Zones</b>\n",
       "                        </a>\n",
       "                        <br/>This mapping service presents the location flood hazard areas and base flood elevations inconjuction with he location of addresses and property boundaries to help identify areas within New Hanover County, NC that are at risk of flooding.<img src='http://www.arcgis.com/home/js/jsapi/esri/css/images/item_type_icons/maps16.png' style=\"vertical-align:middle;\">Web Map by aherrmann_nhcgov\n",
       "                        <br/>Last Modified: February 20, 2017\n",
       "                        <br/>0 comments, 11,645 views\n",
       "                    </div>\n",
       "                </div>\n",
       "                "
      ],
      "text/plain": [
       "<Item title:\"Flood Zones\" type:Web Map owner:aherrmann_nhcgov>"
      ]
     },
     "metadata": {},
     "output_type": "display_data"
    },
    {
     "data": {
      "text/html": [
       "<div class=\"item_container\" style=\"height: auto; overflow: hidden; border: 1px solid #cfcfcf; border-radius: 2px; background: #f6fafa; line-height: 1.21429em; padding: 10px;\">\n",
       "                    <div class=\"item_left\" style=\"width: 210px; float: left;\">\n",
       "                       <a href='http://www.arcgis.com/home/item.html?id=a4adedfa962a4771aa948a661d5a8acf' target='_blank'>\n",
       "                        <img src='http://www.arcgis.com/sharing/rest//content/items/a4adedfa962a4771aa948a661d5a8acf/info/thumbnail/ago_downloaded.png' class=\"itemThumbnail\">\n",
       "                       </a>\n",
       "                    </div>\n",
       "\n",
       "                    <div class=\"item_right\"     style=\"float: none; width: auto; overflow: hidden;\">\n",
       "                        <a href='http://www.arcgis.com/home/item.html?id=a4adedfa962a4771aa948a661d5a8acf' target='_blank'><b>Norfolk FIRM  (2014)</b>\n",
       "                        </a>\n",
       "                        <br/>Norfolk FIRM (2014)<img src='http://www.arcgis.com/home/js/jsapi/esri/css/images/item_type_icons/maps16.png' style=\"vertical-align:middle;\">Web Map by GISDEV\n",
       "                        <br/>Last Modified: February 22, 2017\n",
       "                        <br/>0 comments, 11,603 views\n",
       "                    </div>\n",
       "                </div>\n",
       "                "
      ],
      "text/plain": [
       "<Item title:\"Norfolk FIRM  (2014)\" type:Web Map owner:GISDEV>"
      ]
     },
     "metadata": {},
     "output_type": "display_data"
    },
    {
     "data": {
      "text/html": [
       "<div class=\"item_container\" style=\"height: auto; overflow: hidden; border: 1px solid #cfcfcf; border-radius: 2px; background: #f6fafa; line-height: 1.21429em; padding: 10px;\">\n",
       "                    <div class=\"item_left\" style=\"width: 210px; float: left;\">\n",
       "                       <a href='http://www.arcgis.com/home/item.html?id=166674bf51ae416ea8377f075ceacd89' target='_blank'>\n",
       "                        <img src='http://www.arcgis.com/sharing/rest//content/items/166674bf51ae416ea8377f075ceacd89/info/thumbnail/ago_downloaded.png' class=\"itemThumbnail\">\n",
       "                       </a>\n",
       "                    </div>\n",
       "\n",
       "                    <div class=\"item_right\"     style=\"float: none; width: auto; overflow: hidden;\">\n",
       "                        <a href='http://www.arcgis.com/home/item.html?id=166674bf51ae416ea8377f075ceacd89' target='_blank'><b>San Joaquin County: Road Closures as of 2/23/2017 10:50AM</b>\n",
       "                        </a>\n",
       "                        <br/>San Joaquin County Road Closures.<img src='http://www.arcgis.com/home/js/jsapi/esri/css/images/item_type_icons/maps16.png' style=\"vertical-align:middle;\">Web Map by SanJoaquinCountyPW\n",
       "                        <br/>Last Modified: February 23, 2017\n",
       "                        <br/>1 comments, 11,127 views\n",
       "                    </div>\n",
       "                </div>\n",
       "                "
      ],
      "text/plain": [
       "<Item title:\"San Joaquin County: Road Closures as of 2/23/2017 10:50AM\" type:Web Map owner:SanJoaquinCountyPW>"
      ]
     },
     "metadata": {},
     "output_type": "display_data"
    },
    {
     "data": {
      "text/html": [
       "<div class=\"item_container\" style=\"height: auto; overflow: hidden; border: 1px solid #cfcfcf; border-radius: 2px; background: #f6fafa; line-height: 1.21429em; padding: 10px;\">\n",
       "                    <div class=\"item_left\" style=\"width: 210px; float: left;\">\n",
       "                       <a href='http://www.arcgis.com/home/item.html?id=610bc36f26cd458dbfb0853726e72d8f' target='_blank'>\n",
       "                        <img src='http://www.arcgis.com/sharing/rest//content/items/610bc36f26cd458dbfb0853726e72d8f/info/thumbnail/ago_downloaded.png' class=\"itemThumbnail\">\n",
       "                       </a>\n",
       "                    </div>\n",
       "\n",
       "                    <div class=\"item_right\"     style=\"float: none; width: auto; overflow: hidden;\">\n",
       "                        <a href='http://www.arcgis.com/home/item.html?id=610bc36f26cd458dbfb0853726e72d8f' target='_blank'><b>South Carolina Historic Flood Event 2015</b>\n",
       "                        </a>\n",
       "                        <br/>Images stored from the flood event of 2015<img src='http://www.arcgis.com/home/js/jsapi/esri/css/images/item_type_icons/maps16.png' style=\"vertical-align:middle;\">Web Map by Chris.Rohrbach_noaa\n",
       "                        <br/>Last Modified: February 17, 2017\n",
       "                        <br/>2 comments, 9,373 views\n",
       "                    </div>\n",
       "                </div>\n",
       "                "
      ],
      "text/plain": [
       "<Item title:\"South Carolina Historic Flood Event 2015\" type:Web Map owner:Chris.Rohrbach_noaa>"
      ]
     },
     "metadata": {},
     "output_type": "display_data"
    },
    {
     "data": {
      "text/html": [
       "<div class=\"item_container\" style=\"height: auto; overflow: hidden; border: 1px solid #cfcfcf; border-radius: 2px; background: #f6fafa; line-height: 1.21429em; padding: 10px;\">\n",
       "                    <div class=\"item_left\" style=\"width: 210px; float: left;\">\n",
       "                       <a href='http://www.arcgis.com/home/item.html?id=4dd4b8b8195846f3a2e54bf876800508' target='_blank'>\n",
       "                        <img src='http://www.arcgis.com/sharing/rest//content/items/4dd4b8b8195846f3a2e54bf876800508/info/thumbnail/Stations.png' class=\"itemThumbnail\">\n",
       "                       </a>\n",
       "                    </div>\n",
       "\n",
       "                    <div class=\"item_right\"     style=\"float: none; width: auto; overflow: hidden;\">\n",
       "                        <a href='http://www.arcgis.com/home/item.html?id=4dd4b8b8195846f3a2e54bf876800508' target='_blank'><b>FCDMC ALERT Station Locator Map</b>\n",
       "                        </a>\n",
       "                        <br/>Flood Control District of Maricopa County ALERT System<img src='http://www.arcgis.com/home/js/jsapi/esri/css/images/item_type_icons/maps16.png' style=\"vertical-align:middle;\">Web Map by FCD_MillerC\n",
       "                        <br/>Last Modified: February 16, 2017\n",
       "                        <br/>0 comments, 8,169 views\n",
       "                    </div>\n",
       "                </div>\n",
       "                "
      ],
      "text/plain": [
       "<Item title:\"FCDMC ALERT Station Locator Map\" type:Web Map owner:FCD_MillerC>"
      ]
     },
     "metadata": {},
     "output_type": "display_data"
    },
    {
     "data": {
      "text/html": [
       "<div class=\"item_container\" style=\"height: auto; overflow: hidden; border: 1px solid #cfcfcf; border-radius: 2px; background: #f6fafa; line-height: 1.21429em; padding: 10px;\">\n",
       "                    <div class=\"item_left\" style=\"width: 210px; float: left;\">\n",
       "                       <a href='http://www.arcgis.com/home/item.html?id=02d011e818324dc8a27c161b8b22f3b2' target='_blank'>\n",
       "                        <img src='http://www.arcgis.com/sharing/rest//content/items/02d011e818324dc8a27c161b8b22f3b2/info/thumbnail/ago_downloaded.png' class=\"itemThumbnail\">\n",
       "                       </a>\n",
       "                    </div>\n",
       "\n",
       "                    <div class=\"item_right\"     style=\"float: none; width: auto; overflow: hidden;\">\n",
       "                        <a href='http://www.arcgis.com/home/item.html?id=02d011e818324dc8a27c161b8b22f3b2' target='_blank'><b>Earthquakes, Fire, Flood Hazards from ESRI</b>\n",
       "                        </a>\n",
       "                        <br/>Hazards for Northern California<img src='http://www.arcgis.com/home/js/jsapi/esri/css/images/item_type_icons/maps16.png' style=\"vertical-align:middle;\">Web Map by chinmayalewis\n",
       "                        <br/>Last Modified: February 21, 2017\n",
       "                        <br/>0 comments, 7,940 views\n",
       "                    </div>\n",
       "                </div>\n",
       "                "
      ],
      "text/plain": [
       "<Item title:\"Earthquakes, Fire, Flood Hazards from ESRI\" type:Web Map owner:chinmayalewis>"
      ]
     },
     "metadata": {},
     "output_type": "display_data"
    },
    {
     "data": {
      "text/html": [
       "<div class=\"item_container\" style=\"height: auto; overflow: hidden; border: 1px solid #cfcfcf; border-radius: 2px; background: #f6fafa; line-height: 1.21429em; padding: 10px;\">\n",
       "                    <div class=\"item_left\" style=\"width: 210px; float: left;\">\n",
       "                       <a href='http://www.arcgis.com/home/item.html?id=016b912281fe4179bae861b101e6bc41' target='_blank'>\n",
       "                        <img src='http://www.arcgis.com/sharing/rest//content/items/016b912281fe4179bae861b101e6bc41/info/thumbnail/ago_downloaded.png' class=\"itemThumbnail\">\n",
       "                       </a>\n",
       "                    </div>\n",
       "\n",
       "                    <div class=\"item_right\"     style=\"float: none; width: auto; overflow: hidden;\">\n",
       "                        <a href='http://www.arcgis.com/home/item.html?id=016b912281fe4179bae861b101e6bc41' target='_blank'><b>Weather Flood Map</b>\n",
       "                        </a>\n",
       "                        <br/><img src='http://www.arcgis.com/home/js/jsapi/esri/css/images/item_type_icons/maps16.png' style=\"vertical-align:middle;\">Web Map by calema_gis\n",
       "                        <br/>Last Modified: February 21, 2017\n",
       "                        <br/>0 comments, 7,053 views\n",
       "                    </div>\n",
       "                </div>\n",
       "                "
      ],
      "text/plain": [
       "<Item title:\"Weather Flood Map\" type:Web Map owner:calema_gis>"
      ]
     },
     "metadata": {},
     "output_type": "display_data"
    },
    {
     "data": {
      "text/html": [
       "<div class=\"item_container\" style=\"height: auto; overflow: hidden; border: 1px solid #cfcfcf; border-radius: 2px; background: #f6fafa; line-height: 1.21429em; padding: 10px;\">\n",
       "                    <div class=\"item_left\" style=\"width: 210px; float: left;\">\n",
       "                       <a href='http://www.arcgis.com/home/item.html?id=a77a66c82f6346d5b24325401a8f001a' target='_blank'>\n",
       "                        <img src='http://www.arcgis.com/sharing/rest//content/items/a77a66c82f6346d5b24325401a8f001a/info/thumbnail/Flood.jpg' class=\"itemThumbnail\">\n",
       "                       </a>\n",
       "                    </div>\n",
       "\n",
       "                    <div class=\"item_right\"     style=\"float: none; width: auto; overflow: hidden;\">\n",
       "                        <a href='http://www.arcgis.com/home/item.html?id=a77a66c82f6346d5b24325401a8f001a' target='_blank'><b>Scott County Flood Zones</b>\n",
       "                        </a>\n",
       "                        <br/>Scott County Flood Zones<img src='http://www.arcgis.com/home/js/jsapi/esri/css/images/item_type_icons/maps16.png' style=\"vertical-align:middle;\">Web Map by RyanCooper\n",
       "                        <br/>Last Modified: February 21, 2017\n",
       "                        <br/>0 comments, 4,993 views\n",
       "                    </div>\n",
       "                </div>\n",
       "                "
      ],
      "text/plain": [
       "<Item title:\"Scott County Flood Zones\" type:Web Map owner:RyanCooper>"
      ]
     },
     "metadata": {},
     "output_type": "display_data"
    },
    {
     "data": {
      "text/html": [
       "<div class=\"item_container\" style=\"height: auto; overflow: hidden; border: 1px solid #cfcfcf; border-radius: 2px; background: #f6fafa; line-height: 1.21429em; padding: 10px;\">\n",
       "                    <div class=\"item_left\" style=\"width: 210px; float: left;\">\n",
       "                       <a href='http://www.arcgis.com/home/item.html?id=7d230bdb5966457b9b489d7a4b33f107' target='_blank'>\n",
       "                        <img src='http://www.arcgis.com/sharing/rest//content/items/7d230bdb5966457b9b489d7a4b33f107/info/thumbnail/ago_downloaded.png' class=\"itemThumbnail\">\n",
       "                       </a>\n",
       "                    </div>\n",
       "\n",
       "                    <div class=\"item_right\"     style=\"float: none; width: auto; overflow: hidden;\">\n",
       "                        <a href='http://www.arcgis.com/home/item.html?id=7d230bdb5966457b9b489d7a4b33f107' target='_blank'><b>ECY Island County 2015 Preliminary Flood Hazard Areas</b>\n",
       "                        </a>\n",
       "                        <br/>2015 Island Co. Preliminary Flood Hazard Areas as developed by the Federal Emergency Management Agency.<img src='http://www.arcgis.com/home/js/jsapi/esri/css/images/item_type_icons/maps16.png' style=\"vertical-align:middle;\">Web Map by jfra461@ecy.wa.gov\n",
       "                        <br/>Last Modified: February 22, 2017\n",
       "                        <br/>0 comments, 4,669 views\n",
       "                    </div>\n",
       "                </div>\n",
       "                "
      ],
      "text/plain": [
       "<Item title:\"ECY Island County 2015 Preliminary Flood Hazard Areas\" type:Web Map owner:jfra461@ecy.wa.gov>"
      ]
     },
     "metadata": {},
     "output_type": "display_data"
    },
    {
     "data": {
      "text/html": [
       "<div class=\"item_container\" style=\"height: auto; overflow: hidden; border: 1px solid #cfcfcf; border-radius: 2px; background: #f6fafa; line-height: 1.21429em; padding: 10px;\">\n",
       "                    <div class=\"item_left\" style=\"width: 210px; float: left;\">\n",
       "                       <a href='http://www.arcgis.com/home/item.html?id=2d7f20eb93cc43b29540ea364a193856' target='_blank'>\n",
       "                        <img src='http://www.arcgis.com/sharing/rest//content/items/2d7f20eb93cc43b29540ea364a193856/info/thumbnail/ago_downloaded.png' class=\"itemThumbnail\">\n",
       "                       </a>\n",
       "                    </div>\n",
       "\n",
       "                    <div class=\"item_right\"     style=\"float: none; width: auto; overflow: hidden;\">\n",
       "                        <a href='http://www.arcgis.com/home/item.html?id=2d7f20eb93cc43b29540ea364a193856' target='_blank'><b>CRS-SERVER</b>\n",
       "                        </a>\n",
       "                        <br/>Map created for Flood map<img src='http://www.arcgis.com/home/js/jsapi/esri/css/images/item_type_icons/maps16.png' style=\"vertical-align:middle;\">Web Map by mocityGIS\n",
       "                        <br/>Last Modified: February 16, 2017\n",
       "                        <br/>0 comments, 4,532 views\n",
       "                    </div>\n",
       "                </div>\n",
       "                "
      ],
      "text/plain": [
       "<Item title:\"CRS-SERVER\" type:Web Map owner:mocityGIS>"
      ]
     },
     "metadata": {},
     "output_type": "display_data"
    },
    {
     "data": {
      "text/html": [
       "<div class=\"item_container\" style=\"height: auto; overflow: hidden; border: 1px solid #cfcfcf; border-radius: 2px; background: #f6fafa; line-height: 1.21429em; padding: 10px;\">\n",
       "                    <div class=\"item_left\" style=\"width: 210px; float: left;\">\n",
       "                       <a href='http://www.arcgis.com/home/item.html?id=42cb99c8791c4ec09c98b07c5b538010' target='_blank'>\n",
       "                        <img src='http://www.arcgis.com/sharing/rest//content/items/42cb99c8791c4ec09c98b07c5b538010/info/thumbnail/pw_webmap_icon.png' class=\"itemThumbnail\">\n",
       "                       </a>\n",
       "                    </div>\n",
       "\n",
       "                    <div class=\"item_right\"     style=\"float: none; width: auto; overflow: hidden;\">\n",
       "                        <a href='http://www.arcgis.com/home/item.html?id=42cb99c8791c4ec09c98b07c5b538010' target='_blank'><b>Flood Control Engineering Map</b>\n",
       "                        </a>\n",
       "                        <br/>SLCo Public Works infrastructure data.<img src='http://www.arcgis.com/home/js/jsapi/esri/css/images/item_type_icons/maps16.png' style=\"vertical-align:middle;\">Web Map by ARudowski@slco.org_slco\n",
       "                        <br/>Last Modified: February 17, 2017\n",
       "                        <br/>0 comments, 2,515 views\n",
       "                    </div>\n",
       "                </div>\n",
       "                "
      ],
      "text/plain": [
       "<Item title:\"Flood Control Engineering Map\" type:Web Map owner:ARudowski@slco.org_slco>"
      ]
     },
     "metadata": {},
     "output_type": "display_data"
    },
    {
     "data": {
      "text/html": [
       "<div class=\"item_container\" style=\"height: auto; overflow: hidden; border: 1px solid #cfcfcf; border-radius: 2px; background: #f6fafa; line-height: 1.21429em; padding: 10px;\">\n",
       "                    <div class=\"item_left\" style=\"width: 210px; float: left;\">\n",
       "                       <a href='http://www.arcgis.com/home/item.html?id=241ae7a192ec4ee5aea6e768e5a7729e' target='_blank'>\n",
       "                        <img src='http://www.arcgis.com/sharing/rest//content/items/241ae7a192ec4ee5aea6e768e5a7729e/info/thumbnail/ago_downloaded.png' class=\"itemThumbnail\">\n",
       "                       </a>\n",
       "                    </div>\n",
       "\n",
       "                    <div class=\"item_right\"     style=\"float: none; width: auto; overflow: hidden;\">\n",
       "                        <a href='http://www.arcgis.com/home/item.html?id=241ae7a192ec4ee5aea6e768e5a7729e' target='_blank'><b>NWS RFC decision support service tool</b>\n",
       "                        </a>\n",
       "                        <br/>This interactive web map shows real-time flood conditions across the United States and combines multiple informational layers to assist with River Forecast Center Decision Support Services for both internal and external partner use. <img src='http://www.arcgis.com/home/js/jsapi/esri/css/images/item_type_icons/maps16.png' style=\"vertical-align:middle;\">Web Map by NWS.FWR_noaa\n",
       "                        <br/>Last Modified: February 22, 2017\n",
       "                        <br/>0 comments, 2,493 views\n",
       "                    </div>\n",
       "                </div>\n",
       "                "
      ],
      "text/plain": [
       "<Item title:\"NWS RFC decision support service tool\" type:Web Map owner:NWS.FWR_noaa>"
      ]
     },
     "metadata": {},
     "output_type": "display_data"
    },
    {
     "data": {
      "text/html": [
       "<div class=\"item_container\" style=\"height: auto; overflow: hidden; border: 1px solid #cfcfcf; border-radius: 2px; background: #f6fafa; line-height: 1.21429em; padding: 10px;\">\n",
       "                    <div class=\"item_left\" style=\"width: 210px; float: left;\">\n",
       "                       <a href='http://www.arcgis.com/home/item.html?id=ea00365fe50744a7a6169f6e97b4f042' target='_blank'>\n",
       "                        <img src='http://www.arcgis.com/sharing/rest//content/items/ea00365fe50744a7a6169f6e97b4f042/info/thumbnail/ago_downloaded.png' class=\"itemThumbnail\">\n",
       "                       </a>\n",
       "                    </div>\n",
       "\n",
       "                    <div class=\"item_right\"     style=\"float: none; width: auto; overflow: hidden;\">\n",
       "                        <a href='http://www.arcgis.com/home/item.html?id=ea00365fe50744a7a6169f6e97b4f042' target='_blank'><b>Watershed Master Plan Partners</b>\n",
       "                        </a>\n",
       "                        <br/>Beta Web Map<img src='http://www.arcgis.com/home/js/jsapi/esri/css/images/item_type_icons/maps16.png' style=\"vertical-align:middle;\">Web Map by gilfoyle\n",
       "                        <br/>Last Modified: February 14, 2017\n",
       "                        <br/>0 comments, 2,238 views\n",
       "                    </div>\n",
       "                </div>\n",
       "                "
      ],
      "text/plain": [
       "<Item title:\"Watershed Master Plan Partners\" type:Web Map owner:gilfoyle>"
      ]
     },
     "metadata": {},
     "output_type": "display_data"
    },
    {
     "data": {
      "text/html": [
       "<div class=\"item_container\" style=\"height: auto; overflow: hidden; border: 1px solid #cfcfcf; border-radius: 2px; background: #f6fafa; line-height: 1.21429em; padding: 10px;\">\n",
       "                    <div class=\"item_left\" style=\"width: 210px; float: left;\">\n",
       "                       <a href='http://www.arcgis.com/home/item.html?id=179e2288c791410384aafafbe13f4ea1' target='_blank'>\n",
       "                        <img src='http://www.arcgis.com/sharing/rest//content/items/179e2288c791410384aafafbe13f4ea1/info/thumbnail/ago_downloaded.png' class=\"itemThumbnail\">\n",
       "                       </a>\n",
       "                    </div>\n",
       "\n",
       "                    <div class=\"item_right\"     style=\"float: none; width: auto; overflow: hidden;\">\n",
       "                        <a href='http://www.arcgis.com/home/item.html?id=179e2288c791410384aafafbe13f4ea1' target='_blank'><b>Watershed Areas</b>\n",
       "                        </a>\n",
       "                        <br/>Watershed and other drainage information<img src='http://www.arcgis.com/home/js/jsapi/esri/css/images/item_type_icons/maps16.png' style=\"vertical-align:middle;\">Web Map by DublinOhio\n",
       "                        <br/>Last Modified: February 14, 2017\n",
       "                        <br/>0 comments, 1,936 views\n",
       "                    </div>\n",
       "                </div>\n",
       "                "
      ],
      "text/plain": [
       "<Item title:\"Watershed Areas\" type:Web Map owner:DublinOhio>"
      ]
     },
     "metadata": {},
     "output_type": "display_data"
    },
    {
     "data": {
      "text/html": [
       "<div class=\"item_container\" style=\"height: auto; overflow: hidden; border: 1px solid #cfcfcf; border-radius: 2px; background: #f6fafa; line-height: 1.21429em; padding: 10px;\">\n",
       "                    <div class=\"item_left\" style=\"width: 210px; float: left;\">\n",
       "                       <a href='http://www.arcgis.com/home/item.html?id=0c8271f17f694e75b30bcf9ee3f88ba7' target='_blank'>\n",
       "                        <img src='http://www.arcgis.com/sharing/rest//content/items/0c8271f17f694e75b30bcf9ee3f88ba7/info/thumbnail/ago_downloaded.png' class=\"itemThumbnail\">\n",
       "                       </a>\n",
       "                    </div>\n",
       "\n",
       "                    <div class=\"item_right\"     style=\"float: none; width: auto; overflow: hidden;\">\n",
       "                        <a href='http://www.arcgis.com/home/item.html?id=0c8271f17f694e75b30bcf9ee3f88ba7' target='_blank'><b>ICPAC  Decision Support System </b>\n",
       "                        </a>\n",
       "                        <br/>ICPAC Spatial Decision Support System <img src='http://www.arcgis.com/home/js/jsapi/esri/css/images/item_type_icons/maps16.png' style=\"vertical-align:middle;\">Web Map by jouma_icpac\n",
       "                        <br/>Last Modified: February 23, 2017\n",
       "                        <br/>0 comments, 1,745 views\n",
       "                    </div>\n",
       "                </div>\n",
       "                "
      ],
      "text/plain": [
       "<Item title:\"ICPAC  Decision Support System \" type:Web Map owner:jouma_icpac>"
      ]
     },
     "metadata": {},
     "output_type": "display_data"
    },
    {
     "data": {
      "text/html": [
       "<div class=\"item_container\" style=\"height: auto; overflow: hidden; border: 1px solid #cfcfcf; border-radius: 2px; background: #f6fafa; line-height: 1.21429em; padding: 10px;\">\n",
       "                    <div class=\"item_left\" style=\"width: 210px; float: left;\">\n",
       "                       <a href='http://www.arcgis.com/home/item.html?id=54eebe8b79254178b8a896dfcf9040f0' target='_blank'>\n",
       "                        <img src='http://www.arcgis.com/sharing/rest//content/items/54eebe8b79254178b8a896dfcf9040f0/info/thumbnail/ago_downloaded.png' class=\"itemThumbnail\">\n",
       "                       </a>\n",
       "                    </div>\n",
       "\n",
       "                    <div class=\"item_right\"     style=\"float: none; width: auto; overflow: hidden;\">\n",
       "                        <a href='http://www.arcgis.com/home/item.html?id=54eebe8b79254178b8a896dfcf9040f0' target='_blank'><b>ECY Cowlitz County 2013 Effective FEMA Flood Hazard Areas</b>\n",
       "                        </a>\n",
       "                        <br/>Cowlitz County 2013 Effective FEMA Flood Hazard Areas<img src='http://www.arcgis.com/home/js/jsapi/esri/css/images/item_type_icons/maps16.png' style=\"vertical-align:middle;\">Web Map by jfra461@ecy.wa.gov\n",
       "                        <br/>Last Modified: February 22, 2017\n",
       "                        <br/>0 comments, 1,641 views\n",
       "                    </div>\n",
       "                </div>\n",
       "                "
      ],
      "text/plain": [
       "<Item title:\"ECY Cowlitz County 2013 Effective FEMA Flood Hazard Areas\" type:Web Map owner:jfra461@ecy.wa.gov>"
      ]
     },
     "metadata": {},
     "output_type": "display_data"
    },
    {
     "data": {
      "text/html": [
       "<div class=\"item_container\" style=\"height: auto; overflow: hidden; border: 1px solid #cfcfcf; border-radius: 2px; background: #f6fafa; line-height: 1.21429em; padding: 10px;\">\n",
       "                    <div class=\"item_left\" style=\"width: 210px; float: left;\">\n",
       "                       <a href='http://www.arcgis.com/home/item.html?id=462496900cfd4aa18a38d89084fd882a' target='_blank'>\n",
       "                        <img src='http://www.arcgis.com/sharing/rest//content/items/462496900cfd4aa18a38d89084fd882a/info/thumbnail/FloodDepthSite.PNG' class=\"itemThumbnail\">\n",
       "                       </a>\n",
       "                    </div>\n",
       "\n",
       "                    <div class=\"item_right\"     style=\"float: none; width: auto; overflow: hidden;\">\n",
       "                        <a href='http://www.arcgis.com/home/item.html?id=462496900cfd4aa18a38d89084fd882a' target='_blank'><b>Floodplain Inventory Map - Public - Approximate Flood Depths</b>\n",
       "                        </a>\n",
       "                        <br/><img src='http://www.arcgis.com/home/js/jsapi/esri/css/images/item_type_icons/maps16.png' style=\"vertical-align:middle;\">Web Map by jbuck2931\n",
       "                        <br/>Last Modified: February 17, 2017\n",
       "                        <br/>0 comments, 1,336 views\n",
       "                    </div>\n",
       "                </div>\n",
       "                "
      ],
      "text/plain": [
       "<Item title:\"Floodplain Inventory Map - Public - Approximate Flood Depths\" type:Web Map owner:jbuck2931>"
      ]
     },
     "metadata": {},
     "output_type": "display_data"
    },
    {
     "data": {
      "text/html": [
       "<div class=\"item_container\" style=\"height: auto; overflow: hidden; border: 1px solid #cfcfcf; border-radius: 2px; background: #f6fafa; line-height: 1.21429em; padding: 10px;\">\n",
       "                    <div class=\"item_left\" style=\"width: 210px; float: left;\">\n",
       "                       <a href='http://www.arcgis.com/home/item.html?id=c64acab3227748a68a898a6c49321c61' target='_blank'>\n",
       "                        <img src='http://www.arcgis.com/sharing/rest//content/items/c64acab3227748a68a898a6c49321c61/info/thumbnail/ago_downloaded.png' class=\"itemThumbnail\">\n",
       "                       </a>\n",
       "                    </div>\n",
       "\n",
       "                    <div class=\"item_right\"     style=\"float: none; width: auto; overflow: hidden;\">\n",
       "                        <a href='http://www.arcgis.com/home/item.html?id=c64acab3227748a68a898a6c49321c61' target='_blank'><b>OWDI NHDPlus v2.1 Framework Datasets - Draft</b>\n",
       "                        </a>\n",
       "                        <br/>OWDI NHDPlus v2.1 National Seamless Database with USGS Streamgages and FEMA National Flood Hazard Layer<img src='http://www.arcgis.com/home/js/jsapi/esri/css/images/item_type_icons/maps16.png' style=\"vertical-align:middle;\">Web Map by ahrea\n",
       "                        <br/>Last Modified: February 15, 2017\n",
       "                        <br/>0 comments, 1,258 views\n",
       "                    </div>\n",
       "                </div>\n",
       "                "
      ],
      "text/plain": [
       "<Item title:\"OWDI NHDPlus v2.1 Framework Datasets - Draft\" type:Web Map owner:ahrea>"
      ]
     },
     "metadata": {},
     "output_type": "display_data"
    },
    {
     "data": {
      "text/html": [
       "<div class=\"item_container\" style=\"height: auto; overflow: hidden; border: 1px solid #cfcfcf; border-radius: 2px; background: #f6fafa; line-height: 1.21429em; padding: 10px;\">\n",
       "                    <div class=\"item_left\" style=\"width: 210px; float: left;\">\n",
       "                       <a href='http://www.arcgis.com/home/item.html?id=e94639d62b30427894e69c0783b3f298' target='_blank'>\n",
       "                        <img src='http://www.arcgis.com/sharing/rest//content/items/e94639d62b30427894e69c0783b3f298/info/thumbnail/ago_downloaded.png' class=\"itemThumbnail\">\n",
       "                       </a>\n",
       "                    </div>\n",
       "\n",
       "                    <div class=\"item_right\"     style=\"float: none; width: auto; overflow: hidden;\">\n",
       "                        <a href='http://www.arcgis.com/home/item.html?id=e94639d62b30427894e69c0783b3f298' target='_blank'><b>ECY Grays Harbor Co. 2017 Effective FEMA Flood Hazard Areas</b>\n",
       "                        </a>\n",
       "                        <br/>Grays Harbor County 2017 Effective FEMA Flood Hazard Areas<img src='http://www.arcgis.com/home/js/jsapi/esri/css/images/item_type_icons/maps16.png' style=\"vertical-align:middle;\">Web Map by jfra461@ecy.wa.gov\n",
       "                        <br/>Last Modified: February 22, 2017\n",
       "                        <br/>0 comments, 1,231 views\n",
       "                    </div>\n",
       "                </div>\n",
       "                "
      ],
      "text/plain": [
       "<Item title:\"ECY Grays Harbor Co. 2017 Effective FEMA Flood Hazard Areas\" type:Web Map owner:jfra461@ecy.wa.gov>"
      ]
     },
     "metadata": {},
     "output_type": "display_data"
    },
    {
     "data": {
      "text/html": [
       "<div class=\"item_container\" style=\"height: auto; overflow: hidden; border: 1px solid #cfcfcf; border-radius: 2px; background: #f6fafa; line-height: 1.21429em; padding: 10px;\">\n",
       "                    <div class=\"item_left\" style=\"width: 210px; float: left;\">\n",
       "                       <a href='http://www.arcgis.com/home/item.html?id=1120e9f733874c13b31b62b00c5de931' target='_blank'>\n",
       "                        <img src='http://www.arcgis.com/sharing/rest//content/items/1120e9f733874c13b31b62b00c5de931/info/thumbnail/ago_downloaded.png' class=\"itemThumbnail\">\n",
       "                       </a>\n",
       "                    </div>\n",
       "\n",
       "                    <div class=\"item_right\"     style=\"float: none; width: auto; overflow: hidden;\">\n",
       "                        <a href='http://www.arcgis.com/home/item.html?id=1120e9f733874c13b31b62b00c5de931' target='_blank'><b>Leichhardt Flood Map</b>\n",
       "                        </a>\n",
       "                        <br/><img src='http://www.arcgis.com/home/js/jsapi/esri/css/images/item_type_icons/maps16.png' style=\"vertical-align:middle;\">Web Map by Cardno_NSW\n",
       "                        <br/>Last Modified: February 14, 2017\n",
       "                        <br/>0 comments, 1,189 views\n",
       "                    </div>\n",
       "                </div>\n",
       "                "
      ],
      "text/plain": [
       "<Item title:\"Leichhardt Flood Map\" type:Web Map owner:Cardno_NSW>"
      ]
     },
     "metadata": {},
     "output_type": "display_data"
    },
    {
     "data": {
      "text/html": [
       "<div class=\"item_container\" style=\"height: auto; overflow: hidden; border: 1px solid #cfcfcf; border-radius: 2px; background: #f6fafa; line-height: 1.21429em; padding: 10px;\">\n",
       "                    <div class=\"item_left\" style=\"width: 210px; float: left;\">\n",
       "                       <a href='http://www.arcgis.com/home/item.html?id=83db4f9a34194e2d9fe4fae3e747a6d2' target='_blank'>\n",
       "                        <img src='http://www.arcgis.com/sharing/rest//content/items/83db4f9a34194e2d9fe4fae3e747a6d2/info/thumbnail/ago_downloaded.png' class=\"itemThumbnail\">\n",
       "                       </a>\n",
       "                    </div>\n",
       "\n",
       "                    <div class=\"item_right\"     style=\"float: none; width: auto; overflow: hidden;\">\n",
       "                        <a href='http://www.arcgis.com/home/item.html?id=83db4f9a34194e2d9fe4fae3e747a6d2' target='_blank'><b>GWRC Flood Protection WebMap 2016</b>\n",
       "                        </a>\n",
       "                        <br/>GWRC Flood Protection WebMap September 2016<img src='http://www.arcgis.com/home/js/jsapi/esri/css/images/item_type_icons/maps16.png' style=\"vertical-align:middle;\">Web Map by PhillC_GWRC\n",
       "                        <br/>Last Modified: February 23, 2017\n",
       "                        <br/>0 comments, 1,163 views\n",
       "                    </div>\n",
       "                </div>\n",
       "                "
      ],
      "text/plain": [
       "<Item title:\"GWRC Flood Protection WebMap 2016\" type:Web Map owner:PhillC_GWRC>"
      ]
     },
     "metadata": {},
     "output_type": "display_data"
    },
    {
     "data": {
      "text/html": [
       "<div class=\"item_container\" style=\"height: auto; overflow: hidden; border: 1px solid #cfcfcf; border-radius: 2px; background: #f6fafa; line-height: 1.21429em; padding: 10px;\">\n",
       "                    <div class=\"item_left\" style=\"width: 210px; float: left;\">\n",
       "                       <a href='http://www.arcgis.com/home/item.html?id=88e16c702d2447d0aee17c6302f0f443' target='_blank'>\n",
       "                        <img src='http://www.arcgis.com/sharing/rest//content/items/88e16c702d2447d0aee17c6302f0f443/info/thumbnail/ago_downloaded.png' class=\"itemThumbnail\">\n",
       "                       </a>\n",
       "                    </div>\n",
       "\n",
       "                    <div class=\"item_right\"     style=\"float: none; width: auto; overflow: hidden;\">\n",
       "                        <a href='http://www.arcgis.com/home/item.html?id=88e16c702d2447d0aee17c6302f0f443' target='_blank'><b>Gullies etc</b>\n",
       "                        </a>\n",
       "                        <br/>Gullies, manholes, miscellaneous assets and inter-connecting pipe lengths<img src='http://www.arcgis.com/home/js/jsapi/esri/css/images/item_type_icons/maps16.png' style=\"vertical-align:middle;\">Web Map by simonlutman\n",
       "                        <br/>Last Modified: February 22, 2017\n",
       "                        <br/>0 comments, 1,131 views\n",
       "                    </div>\n",
       "                </div>\n",
       "                "
      ],
      "text/plain": [
       "<Item title:\"Gullies etc\" type:Web Map owner:simonlutman>"
      ]
     },
     "metadata": {},
     "output_type": "display_data"
    },
    {
     "data": {
      "text/html": [
       "<div class=\"item_container\" style=\"height: auto; overflow: hidden; border: 1px solid #cfcfcf; border-radius: 2px; background: #f6fafa; line-height: 1.21429em; padding: 10px;\">\n",
       "                    <div class=\"item_left\" style=\"width: 210px; float: left;\">\n",
       "                       <a href='http://www.arcgis.com/home/item.html?id=86b48ce89d5448dd82966fb5f8e71482' target='_blank'>\n",
       "                        <img src='http://www.arcgis.com/sharing/rest//content/items/86b48ce89d5448dd82966fb5f8e71482/info/thumbnail/ago_downloaded.png' class=\"itemThumbnail\">\n",
       "                       </a>\n",
       "                    </div>\n",
       "\n",
       "                    <div class=\"item_right\"     style=\"float: none; width: auto; overflow: hidden;\">\n",
       "                        <a href='http://www.arcgis.com/home/item.html?id=86b48ce89d5448dd82966fb5f8e71482' target='_blank'><b>Drought Hazard map</b>\n",
       "                        </a>\n",
       "                        <br/><img src='http://www.arcgis.com/home/js/jsapi/esri/css/images/item_type_icons/maps16.png' style=\"vertical-align:middle;\">Web Map by jouma_icpac\n",
       "                        <br/>Last Modified: February 21, 2017\n",
       "                        <br/>0 comments, 1,066 views\n",
       "                    </div>\n",
       "                </div>\n",
       "                "
      ],
      "text/plain": [
       "<Item title:\"Drought Hazard map\" type:Web Map owner:jouma_icpac>"
      ]
     },
     "metadata": {},
     "output_type": "display_data"
    },
    {
     "data": {
      "text/html": [
       "<div class=\"item_container\" style=\"height: auto; overflow: hidden; border: 1px solid #cfcfcf; border-radius: 2px; background: #f6fafa; line-height: 1.21429em; padding: 10px;\">\n",
       "                    <div class=\"item_left\" style=\"width: 210px; float: left;\">\n",
       "                       <a href='http://www.arcgis.com/home/item.html?id=dcc941417e4d442782a5c538c80cbe13' target='_blank'>\n",
       "                        <img src='http://www.arcgis.com/sharing/rest//content/items/dcc941417e4d442782a5c538c80cbe13/info/thumbnail/ago_downloaded.png' class=\"itemThumbnail\">\n",
       "                       </a>\n",
       "                    </div>\n",
       "\n",
       "                    <div class=\"item_right\"     style=\"float: none; width: auto; overflow: hidden;\">\n",
       "                        <a href='http://www.arcgis.com/home/item.html?id=dcc941417e4d442782a5c538c80cbe13' target='_blank'><b>Flood Map 2015</b>\n",
       "                        </a>\n",
       "                        <br/>Hazard Mitigation Plan<img src='http://www.arcgis.com/home/js/jsapi/esri/css/images/item_type_icons/maps16.png' style=\"vertical-align:middle;\">Web Map by kiman\n",
       "                        <br/>Last Modified: February 14, 2017\n",
       "                        <br/>0 comments, 1,006 views\n",
       "                    </div>\n",
       "                </div>\n",
       "                "
      ],
      "text/plain": [
       "<Item title:\"Flood Map 2015\" type:Web Map owner:kiman>"
      ]
     },
     "metadata": {},
     "output_type": "display_data"
    },
    {
     "data": {
      "text/html": [
       "<div class=\"item_container\" style=\"height: auto; overflow: hidden; border: 1px solid #cfcfcf; border-radius: 2px; background: #f6fafa; line-height: 1.21429em; padding: 10px;\">\n",
       "                    <div class=\"item_left\" style=\"width: 210px; float: left;\">\n",
       "                       <a href='http://www.arcgis.com/home/item.html?id=87f2948869ac42e284776b6033213a2b' target='_blank'>\n",
       "                        <img src='http://www.arcgis.com/sharing/rest//content/items/87f2948869ac42e284776b6033213a2b/info/thumbnail/D_3A_.Information_Technology_GeoHive_Emergency_Images_with_permission_to_use_Flood.jpg' class=\"itemThumbnail\">\n",
       "                       </a>\n",
       "                    </div>\n",
       "\n",
       "                    <div class=\"item_right\"     style=\"float: none; width: auto; overflow: hidden;\">\n",
       "                        <a href='http://www.arcgis.com/home/item.html?id=87f2948869ac42e284776b6033213a2b' target='_blank'><b>.Flooding_Limerick5</b>\n",
       "                        </a>\n",
       "                        <br/>Flooding map for the Emergency Management Scenario Story Map<img src='http://www.arcgis.com/home/js/jsapi/esri/css/images/item_type_icons/maps16.png' style=\"vertical-align:middle;\">Web Map by aoife.shinners_OSi\n",
       "                        <br/>Last Modified: February 23, 2017\n",
       "                        <br/>0 comments, 981 views\n",
       "                    </div>\n",
       "                </div>\n",
       "                "
      ],
      "text/plain": [
       "<Item title:\".Flooding_Limerick5\" type:Web Map owner:aoife.shinners_OSi>"
      ]
     },
     "metadata": {},
     "output_type": "display_data"
    },
    {
     "data": {
      "text/html": [
       "<div class=\"item_container\" style=\"height: auto; overflow: hidden; border: 1px solid #cfcfcf; border-radius: 2px; background: #f6fafa; line-height: 1.21429em; padding: 10px;\">\n",
       "                    <div class=\"item_left\" style=\"width: 210px; float: left;\">\n",
       "                       <a href='http://www.arcgis.com/home/item.html?id=abce1d91f5a243a9823fca6c39f71ab3' target='_blank'>\n",
       "                        <img src='http://www.arcgis.com/sharing/rest//content/items/abce1d91f5a243a9823fca6c39f71ab3/info/thumbnail/EmerResp-Offices-Employees_WebMap_200x133.png' class=\"itemThumbnail\">\n",
       "                       </a>\n",
       "                    </div>\n",
       "\n",
       "                    <div class=\"item_right\"     style=\"float: none; width: auto; overflow: hidden;\">\n",
       "                        <a href='http://www.arcgis.com/home/item.html?id=abce1d91f5a243a9823fca6c39f71ab3' target='_blank'><b>CB&I Emergency Response Web Map</b>\n",
       "                        </a>\n",
       "                        <br/>Web map for CB&I Emergency Response Application.<img src='http://www.arcgis.com/home/js/jsapi/esri/css/images/item_type_icons/maps16.png' style=\"vertical-align:middle;\">Web Map by john.mcewen\n",
       "                        <br/>Last Modified: February 22, 2017\n",
       "                        <br/>0 comments, 947 views\n",
       "                    </div>\n",
       "                </div>\n",
       "                "
      ],
      "text/plain": [
       "<Item title:\"CB&I Emergency Response Web Map\" type:Web Map owner:john.mcewen>"
      ]
     },
     "metadata": {},
     "output_type": "display_data"
    },
    {
     "data": {
      "text/html": [
       "<div class=\"item_container\" style=\"height: auto; overflow: hidden; border: 1px solid #cfcfcf; border-radius: 2px; background: #f6fafa; line-height: 1.21429em; padding: 10px;\">\n",
       "                    <div class=\"item_left\" style=\"width: 210px; float: left;\">\n",
       "                       <a href='http://www.arcgis.com/home/item.html?id=440e380f86274dedbb959870de27ac42' target='_blank'>\n",
       "                        <img src='http://www.arcgis.com/sharing/rest//content/items/440e380f86274dedbb959870de27ac42/info/thumbnail/FloodDamage.jpg' class=\"itemThumbnail\">\n",
       "                       </a>\n",
       "                    </div>\n",
       "\n",
       "                    <div class=\"item_right\"     style=\"float: none; width: auto; overflow: hidden;\">\n",
       "                        <a href='http://www.arcgis.com/home/item.html?id=440e380f86274dedbb959870de27ac42' target='_blank'><b>EMA Damage Report Map</b>\n",
       "                        </a>\n",
       "                        <br/>A map to view and analyze damage reports submitted by the public.<img src='http://www.arcgis.com/home/js/jsapi/esri/css/images/item_type_icons/maps16.png' style=\"vertical-align:middle;\">Web Map by StarkCountyOH\n",
       "                        <br/>Last Modified: February 14, 2017\n",
       "                        <br/>0 comments, 919 views\n",
       "                    </div>\n",
       "                </div>\n",
       "                "
      ],
      "text/plain": [
       "<Item title:\"EMA Damage Report Map\" type:Web Map owner:StarkCountyOH>"
      ]
     },
     "metadata": {},
     "output_type": "display_data"
    }
   ],
   "source": [
    "get_recent_maps_about('flood', nb_days_ago=10)"
   ]
  },
  {
   "cell_type": "markdown",
   "metadata": {
    "collapsed": true
   },
   "source": [
    "# Conclusion\n",
    "\n",
    "1. There are great collaborative maps on specific disasters, like wildfires\n",
    "\n",
    "2. There are great maps for local disasters with official data (like in San Jose)\n",
    "\n",
    "3. There is no global US map that combines all the disasters of interest for an emergency service.\n",
    "\n",
    "Next step: We could create and update such a map by extracting data from official websites. This would be a valuable tool for disaster response agencies and citizens."
   ]
  }
 ],
 "metadata": {
  "kernelspec": {
   "display_name": "Python 2",
   "language": "python",
   "name": "python2"
  },
  "language_info": {
   "codemirror_mode": {
    "name": "ipython",
    "version": 2
   },
   "file_extension": ".py",
   "mimetype": "text/x-python",
   "name": "python",
   "nbconvert_exporter": "python",
   "pygments_lexer": "ipython2",
   "version": "2.7.10"
  }
 },
 "nbformat": 4,
 "nbformat_minor": 2
}
