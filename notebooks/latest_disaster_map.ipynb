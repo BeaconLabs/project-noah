{
 "cells": [
  {
   "cell_type": "markdown",
   "metadata": {
    "collapsed": true
   },
   "source": [
    "# GIS disasters maps\n",
    "\n",
    "GIS is a service to find collaborative maps. By querying it and looking at recent map, we could find maps that:\n",
    "\n",
    "* Talk about disasters\n",
    "* Were viewed numerous times\n",
    "* Were modified recently\n",
    "\n",
    "author: guillaume@bayes.org"
   ]
  },
  {
   "cell_type": "code",
   "execution_count": 2,
   "metadata": {
    "collapsed": true
   },
   "outputs": [],
   "source": [
    "# Imports.\n",
    "\n",
    "import datetime, time\n",
    "import arcgis\n",
    "from arcgis.gis import GIS\n",
    "from IPython.display import display\n",
    "\n",
    "# create a Web GIS object\n",
    "gis = GIS()"
   ]
  },
  {
   "cell_type": "code",
   "execution_count": 18,
   "metadata": {
    "collapsed": false
   },
   "outputs": [
    {
     "name": "stdout",
     "output_type": "stream",
     "text": [
      "78 results\n"
     ]
    }
   ],
   "source": [
    "results = gis.content.search(query=\"disaster\", item_type='Web Map',\n",
    "                             sort_field=\"numViews\", sort_order=\"desc\",\n",
    "                             max_items = 1000, outside_org=True)\n",
    "print (str(len(results)) + ' results')\n",
    "\n",
    "nb_days_ago = 10\n",
    "\n",
    "min_timestamp = 1000 *(time.time() - 3600 * 24 * nb_days_ago)"
   ]
  },
  {
   "cell_type": "code",
   "execution_count": 19,
   "metadata": {
    "collapsed": false
   },
   "outputs": [],
   "source": [
    "earlier = 0\n",
    "content_id = ''\n",
    "recent_results =  [elem for elem in results if elem.modified > min_timestamp]"
   ]
  },
  {
   "cell_type": "code",
   "execution_count": 20,
   "metadata": {
    "collapsed": false
   },
   "outputs": [
    {
     "data": {
      "text/html": [
       "<div class=\"item_container\" style=\"height: auto; overflow: hidden; border: 1px solid #cfcfcf; border-radius: 2px; background: #f6fafa; line-height: 1.21429em; padding: 10px;\">\n",
       "                    <div class=\"item_left\" style=\"width: 210px; float: left;\">\n",
       "                       <a href='http://www.arcgis.com/home/item.html?id=97b1f2b13bda4db88e68859645e5a33c' target='_blank'>\n",
       "                        <img src='http://www.arcgis.com/sharing/rest//content/items/97b1f2b13bda4db88e68859645e5a33c/info/thumbnail/ago_downloaded.png' class=\"itemThumbnail\">\n",
       "                       </a>\n",
       "                    </div>\n",
       "\n",
       "                    <div class=\"item_right\"     style=\"float: none; width: auto; overflow: hidden;\">\n",
       "                        <a href='http://www.arcgis.com/home/item.html?id=97b1f2b13bda4db88e68859645e5a33c' target='_blank'><b>Oroville - USGS Disaster Coordination Preparation & Response - Oroville Dam, CA</b>\n",
       "                        </a>\n",
       "                        <br/>Oroville Dam 2017 Event<img src='http://www.arcgis.com/home/js/jsapi/esri/css/images/item_type_icons/maps16.png' style=\"vertical-align:middle;\">Web Map by lclampitt\n",
       "                        <br/>Last Modified: February 15, 2017\n",
       "                        <br/>0 comments, 254 views\n",
       "                    </div>\n",
       "                </div>\n",
       "                "
      ],
      "text/plain": [
       "<Item title:\"Oroville - USGS Disaster Coordination Preparation & Response - Oroville Dam, CA\" type:Web Map owner:lclampitt>"
      ]
     },
     "metadata": {},
     "output_type": "display_data"
    },
    {
     "data": {
      "text/html": [
       "<div class=\"item_container\" style=\"height: auto; overflow: hidden; border: 1px solid #cfcfcf; border-radius: 2px; background: #f6fafa; line-height: 1.21429em; padding: 10px;\">\n",
       "                    <div class=\"item_left\" style=\"width: 210px; float: left;\">\n",
       "                       <a href='http://www.arcgis.com/home/item.html?id=a7cf37b0c5d54e7fb3d5119336532662' target='_blank'>\n",
       "                        <img src='http://www.arcgis.com/sharing/rest//content/items/a7cf37b0c5d54e7fb3d5119336532662/info/thumbnail/ago_downloaded.png' class=\"itemThumbnail\">\n",
       "                       </a>\n",
       "                    </div>\n",
       "\n",
       "                    <div class=\"item_right\"     style=\"float: none; width: auto; overflow: hidden;\">\n",
       "                        <a href='http://www.arcgis.com/home/item.html?id=a7cf37b0c5d54e7fb3d5119336532662' target='_blank'><b>Shelters & Vulnerable Populations - Santa Clara County</b>\n",
       "                        </a>\n",
       "                        <br/>Community assets identified for possible suitability in a disaster and selected vulnerable populations.<img src='http://www.arcgis.com/home/js/jsapi/esri/css/images/item_type_icons/maps16.png' style=\"vertical-align:middle;\">Web Map by s.patra_sccgov\n",
       "                        <br/>Last Modified: February 19, 2017\n",
       "                        <br/>0 comments, 105 views\n",
       "                    </div>\n",
       "                </div>\n",
       "                "
      ],
      "text/plain": [
       "<Item title:\"Shelters & Vulnerable Populations - Santa Clara County\" type:Web Map owner:s.patra_sccgov>"
      ]
     },
     "metadata": {},
     "output_type": "display_data"
    },
    {
     "data": {
      "text/html": [
       "<div class=\"item_container\" style=\"height: auto; overflow: hidden; border: 1px solid #cfcfcf; border-radius: 2px; background: #f6fafa; line-height: 1.21429em; padding: 10px;\">\n",
       "                    <div class=\"item_left\" style=\"width: 210px; float: left;\">\n",
       "                       <a href='http://www.arcgis.com/home/item.html?id=b445326e15194b4d9cbca0fb80e1d966' target='_blank'>\n",
       "                        <img src='http://www.arcgis.com/sharing/rest//content/items/b445326e15194b4d9cbca0fb80e1d966/info/thumbnail/ago_downloaded.png' class=\"itemThumbnail\">\n",
       "                       </a>\n",
       "                    </div>\n",
       "\n",
       "                    <div class=\"item_right\"     style=\"float: none; width: auto; overflow: hidden;\">\n",
       "                        <a href='http://www.arcgis.com/home/item.html?id=b445326e15194b4d9cbca0fb80e1d966' target='_blank'><b>USGS - National Map Disaster Coordination Preparedness & Response - Oroville Dam, CA  2017</b>\n",
       "                        </a>\n",
       "                        <br/>USGS - National Map Disaster Coordination Preparedness & Response - Oroville Dam, CA  2017<img src='http://www.arcgis.com/home/js/jsapi/esri/css/images/item_type_icons/maps16.png' style=\"vertical-align:middle;\">Web Map by lclampitt\n",
       "                        <br/>Last Modified: February 13, 2017\n",
       "                        <br/>0 comments, 4 views\n",
       "                    </div>\n",
       "                </div>\n",
       "                "
      ],
      "text/plain": [
       "<Item title:\"USGS - National Map Disaster Coordination Preparedness & Response - Oroville Dam, CA  2017\" type:Web Map owner:lclampitt>"
      ]
     },
     "metadata": {},
     "output_type": "display_data"
    },
    {
     "data": {
      "text/html": [
       "<div class=\"item_container\" style=\"height: auto; overflow: hidden; border: 1px solid #cfcfcf; border-radius: 2px; background: #f6fafa; line-height: 1.21429em; padding: 10px;\">\n",
       "                    <div class=\"item_left\" style=\"width: 210px; float: left;\">\n",
       "                       <a href='http://www.arcgis.com/home/item.html?id=47b986b63258471aa8338b1f8cc9269a' target='_blank'>\n",
       "                        <img src='http://www.arcgis.com/sharing/rest//content/items/47b986b63258471aa8338b1f8cc9269a/info/thumbnail/ago_downloaded.png' class=\"itemThumbnail\">\n",
       "                       </a>\n",
       "                    </div>\n",
       "\n",
       "                    <div class=\"item_right\"     style=\"float: none; width: auto; overflow: hidden;\">\n",
       "                        <a href='http://www.arcgis.com/home/item.html?id=47b986b63258471aa8338b1f8cc9269a' target='_blank'><b>Oroville - USGS Disaster Coordination Preparation & Response - Oroville Dam, CA TC</b>\n",
       "                        </a>\n",
       "                        <br/>Oroville Dam 2017 Event<img src='http://www.arcgis.com/home/js/jsapi/esri/css/images/item_type_icons/maps16.png' style=\"vertical-align:middle;\">Web Map by tcarlson_USGS\n",
       "                        <br/>Last Modified: February 15, 2017\n",
       "                        <br/>0 comments, 1 views\n",
       "                    </div>\n",
       "                </div>\n",
       "                "
      ],
      "text/plain": [
       "<Item title:\"Oroville - USGS Disaster Coordination Preparation & Response - Oroville Dam, CA TC\" type:Web Map owner:tcarlson_USGS>"
      ]
     },
     "metadata": {},
     "output_type": "display_data"
    },
    {
     "data": {
      "text/html": [
       "<div class=\"item_container\" style=\"height: auto; overflow: hidden; border: 1px solid #cfcfcf; border-radius: 2px; background: #f6fafa; line-height: 1.21429em; padding: 10px;\">\n",
       "                    <div class=\"item_left\" style=\"width: 210px; float: left;\">\n",
       "                       <a href='http://www.arcgis.com/home/item.html?id=13fa62069bde4c9baccd03ae5deffe51' target='_blank'>\n",
       "                        <img src='http://static.arcgis.com/images/desktopapp.png' class=\"itemThumbnail\">\n",
       "                       </a>\n",
       "                    </div>\n",
       "\n",
       "                    <div class=\"item_right\"     style=\"float: none; width: auto; overflow: hidden;\">\n",
       "                        <a href='http://www.arcgis.com/home/item.html?id=13fa62069bde4c9baccd03ae5deffe51' target='_blank'><b>Oroville - USGS Disaster Coordination Preparation & Response - Oroville Dam, CA 2</b>\n",
       "                        </a>\n",
       "                        <br/>Oroville Dam 2017 Event<img src='http://www.arcgis.com/home/js/jsapi/esri/css/images/item_type_icons/maps16.png' style=\"vertical-align:middle;\">Web Map by tcarlson_USGS\n",
       "                        <br/>Last Modified: February 15, 2017\n",
       "                        <br/>0 comments, 0 views\n",
       "                    </div>\n",
       "                </div>\n",
       "                "
      ],
      "text/plain": [
       "<Item title:\"Oroville - USGS Disaster Coordination Preparation & Response - Oroville Dam, CA 2\" type:Web Map owner:tcarlson_USGS>"
      ]
     },
     "metadata": {},
     "output_type": "display_data"
    }
   ],
   "source": [
    "from IPython.display import display\n",
    "for item in recent_results:\n",
    "    display(item)"
   ]
  },
  {
   "cell_type": "markdown",
   "metadata": {
    "collapsed": true
   },
   "source": [
    "# Conclusion\n",
    "\n",
    "Unfortunately there is no global US map that has all the disasters that we want."
   ]
  }
 ],
 "metadata": {
  "kernelspec": {
   "display_name": "Python 3",
   "language": "python",
   "name": "python3"
  },
  "language_info": {
   "codemirror_mode": {
    "name": "ipython",
    "version": 3
   },
   "file_extension": ".py",
   "mimetype": "text/x-python",
   "name": "python",
   "nbconvert_exporter": "python",
   "pygments_lexer": "ipython3",
   "version": "3.5.2"
  }
 },
 "nbformat": 4,
 "nbformat_minor": 2
}
